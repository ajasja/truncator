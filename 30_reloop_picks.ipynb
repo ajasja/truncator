{
 "cells": [
  {
   "cell_type": "code",
   "execution_count": 23,
   "metadata": {},
   "outputs": [
    {
     "name": "stdout",
     "output_type": "stream",
     "text": [
      "The autoreload extension is already loaded. To reload it, use:\n",
      "  %reload_ext autoreload\n"
     ]
    },
    {
     "data": {
      "text/plain": [
       "('/home/ajasja/projects/truncator', 'dig33')"
      ]
     },
     "execution_count": 23,
     "metadata": {},
     "output_type": "execute_result"
    }
   ],
   "source": [
    "%load_ext autoreload\n",
    "%autoreload 2\n",
    "import sys, os, socket\n",
    "os.getcwd(), socket.gethostname()"
   ]
  },
  {
   "cell_type": "code",
   "execution_count": 24,
   "metadata": {},
   "outputs": [],
   "source": [
    "import numpy\n",
    "import numpy as np\n",
    "\n",
    "from glob import glob\n",
    "import os\n",
    "\n",
    "import truncator\n",
    "\n",
    "import pymol\n",
    "from pymol import cmd"
   ]
  },
  {
   "cell_type": "code",
   "execution_count": 25,
   "metadata": {},
   "outputs": [],
   "source": [
    "pdb_files = glob(\"out/R3/01_cut/*/*.pdb\");\n"
   ]
  },
  {
   "cell_type": "code",
   "execution_count": 47,
   "metadata": {},
   "outputs": [],
   "source": [
    "pick_name = \"out/R3/01_cut/4.5H/ZCON_127__numH4.5__from-20.77__to21.47_grC-ABD\"\n",
    "\n",
    "split_name = pick_name.split(\"__\")\n",
    "base_name = split_name[0]\n",
    "group_name = split_name[-1].replace('gr','')\n",
    "gsplit = group_name.split(\"-\");\n",
    "gsplit[0]=str(len(gsplit[0]))\n",
    "gsplit[1]=str(len(gsplit[1]))\n",
    "topology=gsplit[0]+gsplit[1]\n",
    "#remove gr\n",
    "struct_name=pick_name[:-9]\n",
    "base_name,group_name,topology\n",
    "\n",
    "#TODO figure out all connections acording to UP/DOWN status of helices\n",
    "{'A-BCD':\"[A,B+C+D] [A,D+C+B]\".split(), \n",
    " 'AB-CD':\"[A+B,C+D] [B+A,C+D] [A+B,D+C] [B+A,D+C] [C+D,A+B] [C+D,B+A] [D+C,A+B] [D+C,B+A]\".split(), \n",
    " 'AD-BC':\"[A+D,C+B] [D+A,C+B] [A+D,B+C] [D+A,B+C] [C+B,A+D] [C+B,D+A] [B+C,A+D] [B+C,D+A]\".split(), \n",
    " 'B-ACD':\"[B,A+C+D] [B,D+C+A]\".split(), \n",
    " 'C-ABD':\"[C,B+A+D] [C,D+A+B]\".split(), \n",
    " 'D-ABC':\"[D,A+B+C] [D,C+A+B]\".split()};\n"
   ]
  },
  {
   "cell_type": "code",
   "execution_count": 50,
   "metadata": {},
   "outputs": [
    {
     "data": {
      "text/plain": [
       "'out/R3/01_cut/4.5H/ZCON_127__numH4.5__from-20.77__to21.47.pdb'"
      ]
     },
     "execution_count": 50,
     "metadata": {},
     "output_type": "execute_result"
    }
   ],
   "source": [
    "struct_name=truncator.find_input(struct_name, pdb_files); struct_name"
   ]
  },
  {
   "cell_type": "code",
   "execution_count": 28,
   "metadata": {},
   "outputs": [
    {
     "name": "stdout",
     "output_type": "stream",
     "text": [
      "ZCON_37__numH4.5__from-21.21__to22.24__cc[A,D+C+B]__llr2,5__ar1-3,1__ar2-3,1__rms.5.sc\n",
      "CPU times: user 2min 17s, sys: 13.2 s, total: 2min 30s\n",
      "Wall time: 6min 18s\n"
     ]
    }
   ],
   "source": [
    "%%time\n",
    "reloop_result = truncator.reloop(struct_name, \"out/R3/TEST02\", \n",
    "                          script_name='truncator/xml/15_redesign_loops_tl_gen_profile_SymAnnVARS.xml', \n",
    "                          rosetta_bin=\"/home/brunette/src/Rosetta_dev/main/source/bin/rosetta_scripts.hdf5.linuxgccrelease\",\n",
    "                          extra_flags=\"-chemical:exclude_patches LowerDNA  UpperDNA Cterm_amidation VirtualBB ShoveBB VirtualDNAPhosphate VirtualNTerm CTermConnect sc_orbitals pro_hydroxylated_case1 pro_hydroxylated_case2 ser_phosphorylated thr_phosphorylated  tyr_phosphorylated tyr_sulfated lys_dimethylated lys_monomethylated  lys_trimethylated lys_acetylated glu_carboxylated cys_acetylated tyr_diiodinated N_acetylated C_methylamidated MethylatedProteinCterm\",\n",
    "                          structure_store=\"/home/brunette/DBs/hdf5/ss_grouped_vall_helix_shortLoop.h\",\n",
    "                          chain_connections='[A,D+C+B]',\n",
    "                          loopLengthRange=\"2,5\",\n",
    "                          resAdjustmentRangeSide1=\"-3,1\", \n",
    "                          resAdjustmentRangeSide2=\"-3,1\",\n",
    "                          RMSthreshold='.5',\n",
    "                          test_run=False, verbose=False, add_suffix=True)\n",
    "\n",
    "print(reloop_result.score_file)"
   ]
  },
  {
   "cell_type": "code",
   "execution_count": 35,
   "metadata": {},
   "outputs": [
    {
     "data": {
      "text/html": [
       "<table style=\"border: 2px solid white;\">\n",
       "<tr>\n",
       "<td style=\"vertical-align: top; border: 0px solid white\">\n",
       "<h3>Client</h3>\n",
       "<ul>\n",
       "  <li><b>Scheduler: </b>tcp://172.16.131.63:29303\n",
       "  <li><b>Dashboard: </b><a href='http://172.16.131.63:8787/status' target='_blank'>http://172.16.131.63:8787/status</a>\n",
       "</ul>\n",
       "</td>\n",
       "<td style=\"vertical-align: top; border: 0px solid white\">\n",
       "<h3>Cluster</h3>\n",
       "<ul>\n",
       "  <li><b>Workers: </b>2</li>\n",
       "  <li><b>Cores: </b>2</li>\n",
       "  <li><b>Memory: </b>4.00 GB</li>\n",
       "</ul>\n",
       "</td>\n",
       "</tr>\n",
       "</table>"
      ],
      "text/plain": [
       "<Client: scheduler='tcp://172.16.131.63:29303' processes=2 cores=2>"
      ]
     },
     "execution_count": 35,
     "metadata": {},
     "output_type": "execute_result"
    }
   ],
   "source": [
    "import dask, distributed\n",
    "client = distributed.Client(scheduler_file='scheduler.json'); client"
   ]
  },
  {
   "cell_type": "code",
   "execution_count": 42,
   "metadata": {},
   "outputs": [
    {
     "name": "stdout",
     "output_type": "stream",
     "text": [
      "load out/R3/02_regruped/4.5H/ZCON_37__numH4.5__from-21.21__to22.24__grAB-CD.pdb\n",
      "load out/R3/01_cut/4.5H/ZCON_37__numH4.5__from-21.21__to22.24.pdb\n",
      "\n",
      "load out/R3/02_regruped/4.5H/ZCON_37__numH4.5__from-21.21__to22.24__grA-BCD.pdb\n",
      "load out/R3/01_cut/4.5H/ZCON_37__numH4.5__from-21.21__to22.24.pdb\n",
      "\n",
      "load out/R3/02_regruped/4.5H/ZCON_15_re_loop__numH4.5__from-6.83__to32.93__grAD-BC.pdb\n",
      "load out/R3/01_cut/4.5H/ZCON_15_re_loop__numH4.5__from-6.83__to32.93.pdb\n",
      "\n",
      "load out/R3/02_regruped/4.5H/ZCON_15_re_loop__numH4.5__from-6.83__to32.93__grC-ABD.pdb\n",
      "load out/R3/01_cut/4.5H/ZCON_15_re_loop__numH4.5__from-6.83__to32.93.pdb\n",
      "\n",
      "load out/R3/02_regruped/4.5H/ZCON_127__numH4.5__from-20.77__to21.47__grAD-BC.pdb\n",
      "load out/R3/01_cut/4.5H/ZCON_127__numH4.5__from-20.77__to21.47.pdb\n",
      "\n",
      "load out/R3/02_regruped/4.5H/ZCON_127__numH4.5__from-20.77__to21.47__grC-ABD.pdb\n",
      "load out/R3/01_cut/4.5H/ZCON_127__numH4.5__from-20.77__to21.47.pdb\n",
      "\n",
      "load out/R3/02_regruped/4.5H/ZCON_13__numH4.5__from-17.52__to22.91__grAD-BC.pdb\n",
      "load out/R3/01_cut/4.5H/ZCON_13__numH4.5__from-17.52__to22.91.pdb\n",
      "\n",
      "load out/R3/02_regruped/4.5H/ZCON_13__numH4.5__from-17.52__to22.91__grA-BCD.pdb\n",
      "load out/R3/01_cut/4.5H/ZCON_13__numH4.5__from-17.52__to22.91.pdb\n",
      "\n"
     ]
    }
   ],
   "source": [
    "pdb_files = glob(\"out/R3/01_cut/*/*.pdb\");\n",
    "regrouped_files = glob(\"out/R3/02_regruped/*/*.pdb\"); \n",
    "picks = truncator.read_file_lines(\"out/R3/Reloop.picks\", skip_comments=True)\n",
    "for pick_name in picks:\n",
    "    struct_name=pick_name[:-9]\n",
    "    struct_name=truncator.find_input(struct_name, pdb_files)\n",
    "    full_pick_name=truncator.find_input(pick_name, regrouped_files)\n",
    "    print(f\"load {full_pick_name}\")\n",
    "    print(f\"load {struct_name}\")\n",
    "    print(\"\")\n",
    "        \n",
    "   \n",
    "  "
   ]
  },
  {
   "cell_type": "code",
   "execution_count": 43,
   "metadata": {},
   "outputs": [],
   "source": [
    "#TODO figure out all connections acording to UP/DOWN status of helices\n",
    "gr_map= \\\n",
    "{'A-BCD':\"[A,B+C+D] [A,D+C+B]\".split(), \n",
    " 'AB-CD':\"[A+B,C+D] [B+A,C+D] [A+B,D+C] [B+A,D+C] [C+D,A+B] [C+D,B+A] [D+C,A+B] [D+C,B+A]\".split(), \n",
    " 'AD-BC':\"[A+D,C+B] [D+A,C+B] [A+D,B+C] [D+A,B+C] [C+B,A+D] [C+B,D+A] [B+C,A+D] [B+C,D+A]\".split(), \n",
    " 'B-ACD':\"[B,A+C+D] [B,D+C+A]\".split(), \n",
    " 'C-ABD':\"[C,B+A+D] [C,D+A+B]\".split(), \n",
    " 'D-ABC':\"[D,A+B+C] [D,C+A+B]\".split()};\n"
   ]
  },
  {
   "cell_type": "code",
   "execution_count": 44,
   "metadata": {},
   "outputs": [
    {
     "data": {
      "text/plain": [
       "[-2, -1, 0]"
      ]
     },
     "execution_count": 44,
     "metadata": {},
     "output_type": "execute_result"
    }
   ],
   "source": [
    "list(range(-2,1))"
   ]
  },
  {
   "cell_type": "code",
   "execution_count": 45,
   "metadata": {},
   "outputs": [
    {
     "name": "stdout",
     "output_type": "stream",
     "text": [
      "ZCON_37 AB-CD out/R3/01_cut/4.5H/ZCON_37__numH4.5__from-21.21__to22.24.pdb ['[A+B,C+D]', '[B+A,C+D]', '[A+B,D+C]', '[B+A,D+C]', '[C+D,A+B]', '[C+D,B+A]', '[D+C,A+B]', '[D+C,B+A]']\n",
      "ZCON_37 A-BCD out/R3/01_cut/4.5H/ZCON_37__numH4.5__from-21.21__to22.24.pdb ['[A,B+C+D]', '[A,D+C+B]']\n",
      "ZCON_15_re_loop AD-BC out/R3/01_cut/4.5H/ZCON_15_re_loop__numH4.5__from-6.83__to32.93.pdb ['[A+D,C+B]', '[D+A,C+B]', '[A+D,B+C]', '[D+A,B+C]', '[C+B,A+D]', '[C+B,D+A]', '[B+C,A+D]', '[B+C,D+A]']\n",
      "ZCON_15_re_loop C-ABD out/R3/01_cut/4.5H/ZCON_15_re_loop__numH4.5__from-6.83__to32.93.pdb ['[C,B+A+D]', '[C,D+A+B]']\n",
      "ZCON_127 AD-BC out/R3/01_cut/4.5H/ZCON_127__numH4.5__from-20.77__to21.47.pdb ['[A+D,C+B]', '[D+A,C+B]', '[A+D,B+C]', '[D+A,B+C]', '[C+B,A+D]', '[C+B,D+A]', '[B+C,A+D]', '[B+C,D+A]']\n",
      "ZCON_127 C-ABD out/R3/01_cut/4.5H/ZCON_127__numH4.5__from-20.77__to21.47.pdb ['[C,B+A+D]', '[C,D+A+B]']\n",
      "ZCON_13 AD-BC out/R3/01_cut/4.5H/ZCON_13__numH4.5__from-17.52__to22.91.pdb ['[A+D,C+B]', '[D+A,C+B]', '[A+D,B+C]', '[D+A,B+C]', '[C+B,A+D]', '[C+B,D+A]', '[B+C,A+D]', '[B+C,D+A]']\n",
      "ZCON_13 A-BCD out/R3/01_cut/4.5H/ZCON_13__numH4.5__from-17.52__to22.91.pdb ['[A,B+C+D]', '[A,D+C+B]']\n",
      "720\n"
     ]
    }
   ],
   "source": [
    "n = 0\n",
    "res = []\n",
    "#pick_name = \"ZCON_37__numH4.5__from-21.21__to22.24__grAB-CD\"\n",
    "for pick_name in picks:\n",
    "    split_name = pick_name.split(\"__\")\n",
    "    base_name = split_name[0]\n",
    "    group_name = split_name[-1].replace('gr','')\n",
    "    gsplit = group_name.split(\"-\");\n",
    "    gsplit[0]=str(len(gsplit[0]))\n",
    "    gsplit[1]=str(len(gsplit[1]))\n",
    "    topology=gsplit[0]+gsplit[1]\n",
    "    #remove gr\n",
    "    struct_name=pick_name[:-9]\n",
    "    struct_name=truncator.find_input(struct_name, pdb_files)\n",
    "\n",
    "    print (base_name, group_name, struct_name, gr_map[group_name])\n",
    "    sn = 0;\n",
    "\n",
    "\n",
    "    for chain_connections in gr_map[group_name]:\n",
    "        for loopLengthRange in '4 5'.split():\n",
    "            for ar1 in range(-3,0):\n",
    "                for ar2 in range(-3,0):\n",
    "                    n+=1; sn+=1;\n",
    "                    #print(close_type, loop_length, start,end)\n",
    "                    res.append( client.submit(\n",
    "                        truncator.reloop, struct_name, \"out/R3/08_relooped/\"+base_name,\n",
    "                              script_name='truncator/xml/15_redesign_loops_tl_gen_profile_SymAnnVARS.xml',\n",
    "                              rosetta_bin=\"/home/brunette/src/Rosetta_dev/main/source/bin/rosetta_scripts.hdf5.linuxgccrelease\",\n",
    "                              structure_store=\"/home/brunette/DBs/hdf5/ss_grouped_vall_helix_shortLoop.h\",\n",
    "                              chain_connections=chain_connections,\n",
    "                              loopLengthRange=\"2,\"+loopLengthRange,\n",
    "                              resAdjustmentRangeSide1=f\"{ar1},0\",\n",
    "                              resAdjustmentRangeSide2=f\"{ar2},0\",\n",
    "                              RMSthreshold=0.5,\n",
    "                              test_run=False, verbose=True, add_suffix=True, skip_existing=False)\n",
    "                        )\n",
    "\n",
    "\n",
    "print(n)"
   ]
  },
  {
   "cell_type": "code",
   "execution_count": 46,
   "metadata": {},
   "outputs": [
    {
     "ename": "TimeoutError",
     "evalue": "Timeout",
     "output_type": "error",
     "traceback": [
      "\u001b[0;31m---------------------------------------------------------------------------\u001b[0m",
      "\u001b[0;31mTimeoutError\u001b[0m                              Traceback (most recent call last)",
      "\u001b[0;32m<ipython-input-46-735bfcaaa2a5>\u001b[0m in \u001b[0;36m<module>\u001b[0;34m()\u001b[0m\n\u001b[0;32m----> 1\u001b[0;31m \u001b[0mdistributed\u001b[0m\u001b[0;34m.\u001b[0m\u001b[0mwait\u001b[0m\u001b[0;34m(\u001b[0m\u001b[0mres\u001b[0m\u001b[0;34m,\u001b[0m \u001b[0mtimeout\u001b[0m\u001b[0;34m=\u001b[0m\u001b[0;36m5\u001b[0m\u001b[0;34m)\u001b[0m\u001b[0;34m;\u001b[0m\u001b[0;34m\u001b[0m\u001b[0m\n\u001b[0m",
      "\u001b[0;32m~/.conda/envs/pyro_scripts/lib/python3.6/site-packages/distributed/client.py\u001b[0m in \u001b[0;36mwait\u001b[0;34m(fs, timeout, return_when)\u001b[0m\n\u001b[1;32m   3648\u001b[0m     \"\"\"\n\u001b[1;32m   3649\u001b[0m     \u001b[0mclient\u001b[0m \u001b[0;34m=\u001b[0m \u001b[0mdefault_client\u001b[0m\u001b[0;34m(\u001b[0m\u001b[0;34m)\u001b[0m\u001b[0;34m\u001b[0m\u001b[0m\n\u001b[0;32m-> 3650\u001b[0;31m     \u001b[0mresult\u001b[0m \u001b[0;34m=\u001b[0m \u001b[0mclient\u001b[0m\u001b[0;34m.\u001b[0m\u001b[0msync\u001b[0m\u001b[0;34m(\u001b[0m\u001b[0m_wait\u001b[0m\u001b[0;34m,\u001b[0m \u001b[0mfs\u001b[0m\u001b[0;34m,\u001b[0m \u001b[0mtimeout\u001b[0m\u001b[0;34m=\u001b[0m\u001b[0mtimeout\u001b[0m\u001b[0;34m,\u001b[0m \u001b[0mreturn_when\u001b[0m\u001b[0;34m=\u001b[0m\u001b[0mreturn_when\u001b[0m\u001b[0;34m)\u001b[0m\u001b[0;34m\u001b[0m\u001b[0m\n\u001b[0m\u001b[1;32m   3651\u001b[0m     \u001b[0;32mreturn\u001b[0m \u001b[0mresult\u001b[0m\u001b[0;34m\u001b[0m\u001b[0m\n\u001b[1;32m   3652\u001b[0m \u001b[0;34m\u001b[0m\u001b[0m\n",
      "\u001b[0;32m~/.conda/envs/pyro_scripts/lib/python3.6/site-packages/distributed/client.py\u001b[0m in \u001b[0;36msync\u001b[0;34m(self, func, *args, **kwargs)\u001b[0m\n\u001b[1;32m    674\u001b[0m             \u001b[0;32mreturn\u001b[0m \u001b[0mfuture\u001b[0m\u001b[0;34m\u001b[0m\u001b[0m\n\u001b[1;32m    675\u001b[0m         \u001b[0;32melse\u001b[0m\u001b[0;34m:\u001b[0m\u001b[0;34m\u001b[0m\u001b[0m\n\u001b[0;32m--> 676\u001b[0;31m             \u001b[0;32mreturn\u001b[0m \u001b[0msync\u001b[0m\u001b[0;34m(\u001b[0m\u001b[0mself\u001b[0m\u001b[0;34m.\u001b[0m\u001b[0mloop\u001b[0m\u001b[0;34m,\u001b[0m \u001b[0mfunc\u001b[0m\u001b[0;34m,\u001b[0m \u001b[0;34m*\u001b[0m\u001b[0margs\u001b[0m\u001b[0;34m,\u001b[0m \u001b[0;34m**\u001b[0m\u001b[0mkwargs\u001b[0m\u001b[0;34m)\u001b[0m\u001b[0;34m\u001b[0m\u001b[0m\n\u001b[0m\u001b[1;32m    677\u001b[0m \u001b[0;34m\u001b[0m\u001b[0m\n\u001b[1;32m    678\u001b[0m     \u001b[0;32mdef\u001b[0m \u001b[0m__repr__\u001b[0m\u001b[0;34m(\u001b[0m\u001b[0mself\u001b[0m\u001b[0;34m)\u001b[0m\u001b[0;34m:\u001b[0m\u001b[0;34m\u001b[0m\u001b[0m\n",
      "\u001b[0;32m~/.conda/envs/pyro_scripts/lib/python3.6/site-packages/distributed/utils.py\u001b[0m in \u001b[0;36msync\u001b[0;34m(loop, func, *args, **kwargs)\u001b[0m\n\u001b[1;32m    275\u001b[0m             \u001b[0me\u001b[0m\u001b[0;34m.\u001b[0m\u001b[0mwait\u001b[0m\u001b[0;34m(\u001b[0m\u001b[0;36m10\u001b[0m\u001b[0;34m)\u001b[0m\u001b[0;34m\u001b[0m\u001b[0m\n\u001b[1;32m    276\u001b[0m     \u001b[0;32mif\u001b[0m \u001b[0merror\u001b[0m\u001b[0;34m[\u001b[0m\u001b[0;36m0\u001b[0m\u001b[0;34m]\u001b[0m\u001b[0;34m:\u001b[0m\u001b[0;34m\u001b[0m\u001b[0m\n\u001b[0;32m--> 277\u001b[0;31m         \u001b[0msix\u001b[0m\u001b[0;34m.\u001b[0m\u001b[0mreraise\u001b[0m\u001b[0;34m(\u001b[0m\u001b[0;34m*\u001b[0m\u001b[0merror\u001b[0m\u001b[0;34m[\u001b[0m\u001b[0;36m0\u001b[0m\u001b[0;34m]\u001b[0m\u001b[0;34m)\u001b[0m\u001b[0;34m\u001b[0m\u001b[0m\n\u001b[0m\u001b[1;32m    278\u001b[0m     \u001b[0;32melse\u001b[0m\u001b[0;34m:\u001b[0m\u001b[0;34m\u001b[0m\u001b[0m\n\u001b[1;32m    279\u001b[0m         \u001b[0;32mreturn\u001b[0m \u001b[0mresult\u001b[0m\u001b[0;34m[\u001b[0m\u001b[0;36m0\u001b[0m\u001b[0;34m]\u001b[0m\u001b[0;34m\u001b[0m\u001b[0m\n",
      "\u001b[0;32m~/.conda/envs/pyro_scripts/lib/python3.6/site-packages/six.py\u001b[0m in \u001b[0;36mreraise\u001b[0;34m(tp, value, tb)\u001b[0m\n\u001b[1;32m    691\u001b[0m             \u001b[0;32mif\u001b[0m \u001b[0mvalue\u001b[0m\u001b[0;34m.\u001b[0m\u001b[0m__traceback__\u001b[0m \u001b[0;32mis\u001b[0m \u001b[0;32mnot\u001b[0m \u001b[0mtb\u001b[0m\u001b[0;34m:\u001b[0m\u001b[0;34m\u001b[0m\u001b[0m\n\u001b[1;32m    692\u001b[0m                 \u001b[0;32mraise\u001b[0m \u001b[0mvalue\u001b[0m\u001b[0;34m.\u001b[0m\u001b[0mwith_traceback\u001b[0m\u001b[0;34m(\u001b[0m\u001b[0mtb\u001b[0m\u001b[0;34m)\u001b[0m\u001b[0;34m\u001b[0m\u001b[0m\n\u001b[0;32m--> 693\u001b[0;31m             \u001b[0;32mraise\u001b[0m \u001b[0mvalue\u001b[0m\u001b[0;34m\u001b[0m\u001b[0m\n\u001b[0m\u001b[1;32m    694\u001b[0m         \u001b[0;32mfinally\u001b[0m\u001b[0;34m:\u001b[0m\u001b[0;34m\u001b[0m\u001b[0m\n\u001b[1;32m    695\u001b[0m             \u001b[0mvalue\u001b[0m \u001b[0;34m=\u001b[0m \u001b[0;32mNone\u001b[0m\u001b[0;34m\u001b[0m\u001b[0m\n",
      "\u001b[0;32m~/.conda/envs/pyro_scripts/lib/python3.6/site-packages/distributed/utils.py\u001b[0m in \u001b[0;36mf\u001b[0;34m()\u001b[0m\n\u001b[1;32m    260\u001b[0m             \u001b[0;32mif\u001b[0m \u001b[0mtimeout\u001b[0m \u001b[0;32mis\u001b[0m \u001b[0;32mnot\u001b[0m \u001b[0;32mNone\u001b[0m\u001b[0;34m:\u001b[0m\u001b[0;34m\u001b[0m\u001b[0m\n\u001b[1;32m    261\u001b[0m                 \u001b[0mfuture\u001b[0m \u001b[0;34m=\u001b[0m \u001b[0mgen\u001b[0m\u001b[0;34m.\u001b[0m\u001b[0mwith_timeout\u001b[0m\u001b[0;34m(\u001b[0m\u001b[0mtimedelta\u001b[0m\u001b[0;34m(\u001b[0m\u001b[0mseconds\u001b[0m\u001b[0;34m=\u001b[0m\u001b[0mtimeout\u001b[0m\u001b[0;34m)\u001b[0m\u001b[0;34m,\u001b[0m \u001b[0mfuture\u001b[0m\u001b[0;34m)\u001b[0m\u001b[0;34m\u001b[0m\u001b[0m\n\u001b[0;32m--> 262\u001b[0;31m             \u001b[0mresult\u001b[0m\u001b[0;34m[\u001b[0m\u001b[0;36m0\u001b[0m\u001b[0;34m]\u001b[0m \u001b[0;34m=\u001b[0m \u001b[0;32myield\u001b[0m \u001b[0mfuture\u001b[0m\u001b[0;34m\u001b[0m\u001b[0m\n\u001b[0m\u001b[1;32m    263\u001b[0m         \u001b[0;32mexcept\u001b[0m \u001b[0mException\u001b[0m \u001b[0;32mas\u001b[0m \u001b[0mexc\u001b[0m\u001b[0;34m:\u001b[0m\u001b[0;34m\u001b[0m\u001b[0m\n\u001b[1;32m    264\u001b[0m             \u001b[0merror\u001b[0m\u001b[0;34m[\u001b[0m\u001b[0;36m0\u001b[0m\u001b[0;34m]\u001b[0m \u001b[0;34m=\u001b[0m \u001b[0msys\u001b[0m\u001b[0;34m.\u001b[0m\u001b[0mexc_info\u001b[0m\u001b[0;34m(\u001b[0m\u001b[0;34m)\u001b[0m\u001b[0;34m\u001b[0m\u001b[0m\n",
      "\u001b[0;32m~/.conda/envs/pyro_scripts/lib/python3.6/site-packages/tornado/gen.py\u001b[0m in \u001b[0;36mrun\u001b[0;34m(self)\u001b[0m\n\u001b[1;32m   1131\u001b[0m \u001b[0;34m\u001b[0m\u001b[0m\n\u001b[1;32m   1132\u001b[0m                     \u001b[0;32mtry\u001b[0m\u001b[0;34m:\u001b[0m\u001b[0;34m\u001b[0m\u001b[0m\n\u001b[0;32m-> 1133\u001b[0;31m                         \u001b[0mvalue\u001b[0m \u001b[0;34m=\u001b[0m \u001b[0mfuture\u001b[0m\u001b[0;34m.\u001b[0m\u001b[0mresult\u001b[0m\u001b[0;34m(\u001b[0m\u001b[0;34m)\u001b[0m\u001b[0;34m\u001b[0m\u001b[0m\n\u001b[0m\u001b[1;32m   1134\u001b[0m                     \u001b[0;32mexcept\u001b[0m \u001b[0mException\u001b[0m\u001b[0;34m:\u001b[0m\u001b[0;34m\u001b[0m\u001b[0m\n\u001b[1;32m   1135\u001b[0m                         \u001b[0mself\u001b[0m\u001b[0;34m.\u001b[0m\u001b[0mhad_exception\u001b[0m \u001b[0;34m=\u001b[0m \u001b[0;32mTrue\u001b[0m\u001b[0;34m\u001b[0m\u001b[0m\n",
      "\u001b[0;32m~/.conda/envs/pyro_scripts/lib/python3.6/site-packages/tornado/gen.py\u001b[0m in \u001b[0;36mrun\u001b[0;34m(self)\u001b[0m\n\u001b[1;32m   1139\u001b[0m                     \u001b[0;32mif\u001b[0m \u001b[0mexc_info\u001b[0m \u001b[0;32mis\u001b[0m \u001b[0;32mnot\u001b[0m \u001b[0;32mNone\u001b[0m\u001b[0;34m:\u001b[0m\u001b[0;34m\u001b[0m\u001b[0m\n\u001b[1;32m   1140\u001b[0m                         \u001b[0;32mtry\u001b[0m\u001b[0;34m:\u001b[0m\u001b[0;34m\u001b[0m\u001b[0m\n\u001b[0;32m-> 1141\u001b[0;31m                             \u001b[0myielded\u001b[0m \u001b[0;34m=\u001b[0m \u001b[0mself\u001b[0m\u001b[0;34m.\u001b[0m\u001b[0mgen\u001b[0m\u001b[0;34m.\u001b[0m\u001b[0mthrow\u001b[0m\u001b[0;34m(\u001b[0m\u001b[0;34m*\u001b[0m\u001b[0mexc_info\u001b[0m\u001b[0;34m)\u001b[0m\u001b[0;34m\u001b[0m\u001b[0m\n\u001b[0m\u001b[1;32m   1142\u001b[0m                         \u001b[0;32mfinally\u001b[0m\u001b[0;34m:\u001b[0m\u001b[0;34m\u001b[0m\u001b[0m\n\u001b[1;32m   1143\u001b[0m                             \u001b[0;31m# Break up a reference to itself\u001b[0m\u001b[0;34m\u001b[0m\u001b[0;34m\u001b[0m\u001b[0m\n",
      "\u001b[0;32m~/.conda/envs/pyro_scripts/lib/python3.6/site-packages/distributed/client.py\u001b[0m in \u001b[0;36m_wait\u001b[0;34m(fs, timeout, return_when)\u001b[0m\n\u001b[1;32m   3621\u001b[0m         \u001b[0;32mif\u001b[0m \u001b[0mtimeout\u001b[0m \u001b[0;32mis\u001b[0m \u001b[0;32mnot\u001b[0m \u001b[0;32mNone\u001b[0m\u001b[0;34m:\u001b[0m\u001b[0;34m\u001b[0m\u001b[0m\n\u001b[1;32m   3622\u001b[0m             \u001b[0mfuture\u001b[0m \u001b[0;34m=\u001b[0m \u001b[0mgen\u001b[0m\u001b[0;34m.\u001b[0m\u001b[0mwith_timeout\u001b[0m\u001b[0;34m(\u001b[0m\u001b[0mtimedelta\u001b[0m\u001b[0;34m(\u001b[0m\u001b[0mseconds\u001b[0m\u001b[0;34m=\u001b[0m\u001b[0mtimeout\u001b[0m\u001b[0;34m)\u001b[0m\u001b[0;34m,\u001b[0m \u001b[0mfuture\u001b[0m\u001b[0;34m)\u001b[0m\u001b[0;34m\u001b[0m\u001b[0m\n\u001b[0;32m-> 3623\u001b[0;31m         \u001b[0;32myield\u001b[0m \u001b[0mfuture\u001b[0m\u001b[0;34m\u001b[0m\u001b[0m\n\u001b[0m\u001b[1;32m   3624\u001b[0m         \u001b[0mdone\u001b[0m\u001b[0;34m,\u001b[0m \u001b[0mnot_done\u001b[0m \u001b[0;34m=\u001b[0m \u001b[0mset\u001b[0m\u001b[0;34m(\u001b[0m\u001b[0mfs\u001b[0m\u001b[0;34m)\u001b[0m\u001b[0;34m,\u001b[0m \u001b[0mset\u001b[0m\u001b[0;34m(\u001b[0m\u001b[0;34m)\u001b[0m\u001b[0;34m\u001b[0m\u001b[0m\n\u001b[1;32m   3625\u001b[0m         cancelled = [f.key for f in done\n",
      "\u001b[0;32m~/.conda/envs/pyro_scripts/lib/python3.6/site-packages/tornado/gen.py\u001b[0m in \u001b[0;36mrun\u001b[0;34m(self)\u001b[0m\n\u001b[1;32m   1131\u001b[0m \u001b[0;34m\u001b[0m\u001b[0m\n\u001b[1;32m   1132\u001b[0m                     \u001b[0;32mtry\u001b[0m\u001b[0;34m:\u001b[0m\u001b[0;34m\u001b[0m\u001b[0m\n\u001b[0;32m-> 1133\u001b[0;31m                         \u001b[0mvalue\u001b[0m \u001b[0;34m=\u001b[0m \u001b[0mfuture\u001b[0m\u001b[0;34m.\u001b[0m\u001b[0mresult\u001b[0m\u001b[0;34m(\u001b[0m\u001b[0;34m)\u001b[0m\u001b[0;34m\u001b[0m\u001b[0m\n\u001b[0m\u001b[1;32m   1134\u001b[0m                     \u001b[0;32mexcept\u001b[0m \u001b[0mException\u001b[0m\u001b[0;34m:\u001b[0m\u001b[0;34m\u001b[0m\u001b[0m\n\u001b[1;32m   1135\u001b[0m                         \u001b[0mself\u001b[0m\u001b[0;34m.\u001b[0m\u001b[0mhad_exception\u001b[0m \u001b[0;34m=\u001b[0m \u001b[0;32mTrue\u001b[0m\u001b[0;34m\u001b[0m\u001b[0m\n",
      "\u001b[0;31mTimeoutError\u001b[0m: Timeout"
     ]
    }
   ],
   "source": [
    "distributed.wait(res, timeout=5);"
   ]
  },
  {
   "cell_type": "code",
   "execution_count": 15,
   "metadata": {},
   "outputs": [],
   "source": [
    "client.cancel(res)"
   ]
  },
  {
   "cell_type": "code",
   "execution_count": 19,
   "metadata": {},
   "outputs": [
    {
     "data": {
      "text/plain": [
       "'out/R3/04_relooped/ZCON_37/ZCON_37__numH4.5__from-21.21__to22.24__cc[A+B,C+D]__llr2,4__ar1-3__ar2-3__rms0.5.log'"
      ]
     },
     "execution_count": 19,
     "metadata": {},
     "output_type": "execute_result"
    }
   ],
   "source": [
    "res[0].result()"
   ]
  },
  {
   "cell_type": "code",
   "execution_count": null,
   "metadata": {},
   "outputs": [],
   "source": []
  }
 ],
 "metadata": {
  "kernelspec": {
   "display_name": "Python [conda env:pyro_scripts]",
   "language": "python",
   "name": "conda-env-pyro_scripts-py"
  },
  "language_info": {
   "codemirror_mode": {
    "name": "ipython",
    "version": 3
   },
   "file_extension": ".py",
   "mimetype": "text/x-python",
   "name": "python",
   "nbconvert_exporter": "python",
   "pygments_lexer": "ipython3",
   "version": "3.6.6"
  }
 },
 "nbformat": 4,
 "nbformat_minor": 2
}
