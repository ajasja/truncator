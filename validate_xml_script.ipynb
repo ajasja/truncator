{
 "cells": [
  {
   "cell_type": "code",
   "execution_count": 2,
   "metadata": {},
   "outputs": [
    {
     "name": "stdout",
     "output_type": "stream",
     "text": [
      "The autoreload extension is already loaded. To reload it, use:\n",
      "  %reload_ext autoreload\n"
     ]
    },
    {
     "data": {
      "text/html": [
       "<style>.container { width:100% !important; }</style>"
      ],
      "text/plain": [
       "<IPython.core.display.HTML object>"
      ]
     },
     "metadata": {},
     "output_type": "display_data"
    }
   ],
   "source": [
    "%load_ext autoreload\n",
    "%autoreload 2\n",
    "from IPython.core.display import display, HTML\n",
    "display(HTML(\"<style>.container { width:100% !important; }</style>\"))\n",
    "import logging\n",
    "logging.basicConfig(level=logging.INFO)\n",
    "\n",
    "import pyrosetta\n",
    "import pyrosetta.distributed.io as io\n",
    "import pyrosetta.distributed.packed_pose as packed_pose\n",
    "import pyrosetta.distributed.tasks.rosetta_scripts as rosetta_scripts\n",
    "import pyrosetta.distributed.tasks.score as score\n",
    "\n",
    "import pandas as pd\n",
    "import pandas\n",
    "\n",
    "import numpy as np\n",
    "#import truncator"
   ]
  },
  {
   "cell_type": "code",
   "execution_count": 3,
   "metadata": {},
   "outputs": [],
   "source": [
    "ON_CLUSTER=False"
   ]
  },
  {
   "cell_type": "code",
   "execution_count": 4,
   "metadata": {},
   "outputs": [],
   "source": [
    "flags = \"\"\"\n",
    "-beta \\\n",
    "-in:file:fullatom \\\n",
    "-multi_cool_annealer 10 \\\n",
    "-renumber_pdb 1 \\\n",
    "-overwrite \\\n",
    "-out:pdb_gz \\\n",
    "-out::file::pdb_comments \\\n",
    "-run:preserve_header \\\n",
    "-chemical:exclude_patches LowerDNA  UpperDNA Cterm_amidation VirtualBB ShoveBB VirtualDNAPhosphate VirtualNTerm CTermConnect sc_orbitals pro_hydroxylated_case1 pro_hydroxylated_case2 ser_phosphorylated thr_phosphorylated  tyr_phosphorylated tyr_sulfated lys_dimethylated lys_monomethylated  lys_trimethylated lys_acetylated glu_carboxylated cys_acetylated tyr_diiodinated N_acetylated C_methylamidated MethylatedProteinCterm \\\n",
    "\"\"\""
   ]
  },
  {
   "cell_type": "code",
   "execution_count": 5,
   "metadata": {},
   "outputs": [
    {
     "name": "stderr",
     "output_type": "stream",
     "text": [
      "INFO:pyrosetta.rosetta:Found rosetta database at: /software/conda/envs/pyrosetta/lib/python3.7/site-packages/pyrosetta/database; using it....\n",
      "INFO:pyrosetta.rosetta:PyRosetta-4 2019 [Rosetta devel 2019.01+HEAD.dbc838b6ae620b1293476b1bd4366ffc2facc5b5 2019-01-03T10:31:13] retrieved from: ssh://git@github.com/RosettaCommons/main\n",
      "(C) Copyright Rosetta Commons Member Institutions.\n",
      "Created in JHU by Sergey Lyskov and PyRosetta Team.\n",
      "\n",
      "INFO:rosetta:core.init: Checking for fconfig files in pwd and ./rosetta/flags\n",
      "INFO:rosetta:core.init.score_function_corrections: [ WARNING ] Flag -beta_nov16 is set but -weights are also specified.  Not changing input weights file!\n",
      "INFO:rosetta:core.init: Rosetta version: 2019.01+HEAD.dbc838b6ae6 dbc838b6ae620b1293476b1bd4366ffc2facc5b5 ssh://git@github.com/RosettaCommons/main 2019-01-03T10:31:13\n",
      "INFO:rosetta:core.init: command: PyRosetta -beta -in:file:fullatom -multi_cool_annealer 10 -renumber_pdb 1 -overwrite -out:pdb_gz -out::file::pdb_comments -run:preserve_header -chemical:exclude_patches LowerDNA UpperDNA Cterm_amidation VirtualBB ShoveBB VirtualDNAPhosphate VirtualNTerm CTermConnect sc_orbitals pro_hydroxylated_case1 pro_hydroxylated_case2 ser_phosphorylated thr_phosphorylated tyr_phosphorylated tyr_sulfated lys_dimethylated lys_monomethylated lys_trimethylated lys_acetylated glu_carboxylated cys_acetylated tyr_diiodinated N_acetylated C_methylamidated MethylatedProteinCterm -database /software/conda/envs/pyrosetta/lib/python3.7/site-packages/pyrosetta/database\n",
      "INFO:rosetta:core.init: 'RNG device' seed mode, using '/dev/urandom', seed=175111237 seed_offset=0 real_seed=175111237\n",
      "INFO:rosetta:core.init.random: RandomGenerator:init: Normal mode, seed=175111237 RG_type=mt19937\n"
     ]
    }
   ],
   "source": [
    "if not ON_CLUSTER:\n",
    "    pyrosetta.init(flags)\n",
    "else:\n",
    "    cluster = truncator.init_env(flags, 10)"
   ]
  },
  {
   "cell_type": "code",
   "execution_count": 6,
   "metadata": {},
   "outputs": [],
   "source": [
    "def read_file(filename):\n",
    "    with open(filename, 'r') as myfile:\n",
    "        data = myfile.read()\n",
    "    return data        "
   ]
  },
  {
   "cell_type": "code",
   "execution_count": 12,
   "metadata": {},
   "outputs": [
    {
     "name": "stderr",
     "output_type": "stream",
     "text": [
      "INFO:rosetta:protocols.rosetta_scripts.RosettaScriptsParser: Validating input script...\n"
     ]
    },
    {
     "ename": "RuntimeError",
     "evalue": "\n\nFile: /opt/conda/conda-bld/pyrosetta_1546650963875/work/source/src/protocols/rosetta_scripts/RosettaScriptsParser.cc:1256\nInput rosetta scripts XML file \"XmlString (not real file)\" failed to validate against the rosetta scripts schema. Use the option -parser::output_schema <output filename> to output the schema to a file to see all valid options.\nYour XML has failed validation.  The error message below will tell you where in your XML file the error occurred.  Here's how to fix it:\n\n1) If the validation fails on something obvious, like an illegal attribute due to a spelling error (perhaps you used scorefnction instead of scorefunction), then you need to fix your XML file.\n2) If you haven’t run the XML rewriter script and this might be pre-2017 Rosetta XML, run the rewriter script (tools/xsd_xrw/rewrite_rosetta_script.py) on your input XML first.  The attribute values not being in quotes (scorefunction=talaris2014 instead of scorefunction=\"talaris2014\") is a good indicator that this is your problem.\n3) If you are a developer and neither 1 nor 2 worked - email the developer’s mailing list or try Slack.\n4) If you are an academic or commercial user - try the Rosetta Forums https://www.rosettacommons.org/forum\n\n\nError messages were:\nFrom line 475:\nError: Element 'BuriedUnsatHbonds2': This element is not expected.\n\n470:     <MoveBeforeFilter name=\"holes\" mover=\"chain1only\" filter=\"holes_MBF\" />\n471: \n472:     <SSPrediction name=\"mismatch_probability_MBF\" confidence=\"0\" cmd=\" /software/psipred4/runpsipred_single\" use_probability=\"1\" mismatch_probability=\"1\" use_svm=\"0\" />\n473:     <MoveBeforeFilter name=\"mismatch_probability\" mover=\"chain1only\" filter=\"mismatch_probability_MBF\" />\n474: \n475:     <BuriedUnsatHbonds2 name=\"unsat_hbond2_monomer_MBF\" confidence=\"0\" jump_number=\"0\"/>\n476:     <MoveBeforeFilter name=\"unsat_hbond2_monomer\" mover=\"chain1only\" filter=\"unsat_hbond2_monomer_MBF\" />\n477: \n478:     <SecondaryStructureHasResidue name=\"one_core_each_MBF\" secstruct_fraction_threshold=\"1.0\" res_check_task_operations=\"layer_core_SCN\" required_restypes=\"VILMFYW\" nres_required_per_secstruct=\"1\" filter_helix=\"1\" filter_sheet=\"1\" filter_loop=\"0\" min_helix_length=\"4\" min_sheet_length=\"3\" min_loop_length=\"1\" confidence=\"0\" />\n479:     <MoveBeforeFilter name=\"one_core_each\" mover=\"chain1only\" filter=\"one_core_each_MBF\" />\n480: \n------------------------------------------------------------\nWarning messages were:\n------------------------------------------------------------\n",
     "output_type": "error",
     "traceback": [
      "\u001b[0;31m---------------------------------------------------------------------------\u001b[0m",
      "\u001b[0;31mRuntimeError\u001b[0m                              Traceback (most recent call last)",
      "\u001b[0;32m<ipython-input-12-9ed96c6a0bf3>\u001b[0m in \u001b[0;36m<module>\u001b[0;34m\u001b[0m\n\u001b[1;32m      3\u001b[0m \u001b[0;31m# Syntax check via setup\u001b[0m\u001b[0;34m\u001b[0m\u001b[0;34m\u001b[0m\u001b[0;34m\u001b[0m\u001b[0m\n\u001b[1;32m      4\u001b[0m \u001b[0mlogging\u001b[0m\u001b[0;34m.\u001b[0m\u001b[0mbasicConfig\u001b[0m\u001b[0;34m(\u001b[0m\u001b[0mlevel\u001b[0m\u001b[0;34m=\u001b[0m\u001b[0mlogging\u001b[0m\u001b[0;34m.\u001b[0m\u001b[0mWARN\u001b[0m\u001b[0;34m)\u001b[0m\u001b[0;34m\u001b[0m\u001b[0;34m\u001b[0m\u001b[0m\n\u001b[0;32m----> 5\u001b[0;31m \u001b[0mtask_design\u001b[0m\u001b[0;34m.\u001b[0m\u001b[0msetup\u001b[0m\u001b[0;34m(\u001b[0m\u001b[0;34m)\u001b[0m\u001b[0;34m\u001b[0m\u001b[0;34m\u001b[0m\u001b[0m\n\u001b[0m",
      "\u001b[0;32m/software/conda/envs/pyrosetta/lib/python3.7/site-packages/pyrosetta/distributed/__init__.py\u001b[0m in \u001b[0;36mfwrap\u001b[0;34m(*args, **kwargs)\u001b[0m\n\u001b[1;32m     67\u001b[0m         \u001b[0mmaybe_init\u001b[0m\u001b[0;34m(\u001b[0m\u001b[0;34m)\u001b[0m\u001b[0;34m\u001b[0m\u001b[0;34m\u001b[0m\u001b[0m\n\u001b[1;32m     68\u001b[0m \u001b[0;34m\u001b[0m\u001b[0m\n\u001b[0;32m---> 69\u001b[0;31m         \u001b[0;32mreturn\u001b[0m \u001b[0mfunc\u001b[0m\u001b[0;34m(\u001b[0m\u001b[0;34m*\u001b[0m\u001b[0margs\u001b[0m\u001b[0;34m,\u001b[0m \u001b[0;34m**\u001b[0m\u001b[0mkwargs\u001b[0m\u001b[0;34m)\u001b[0m\u001b[0;34m\u001b[0m\u001b[0;34m\u001b[0m\u001b[0m\n\u001b[0m\u001b[1;32m     70\u001b[0m \u001b[0;34m\u001b[0m\u001b[0m\n\u001b[1;32m     71\u001b[0m     \u001b[0;32mreturn\u001b[0m \u001b[0mfwrap\u001b[0m\u001b[0;34m\u001b[0m\u001b[0;34m\u001b[0m\u001b[0m\n",
      "\u001b[0;32m/software/conda/envs/pyrosetta/lib/python3.7/site-packages/pyrosetta/distributed/__init__.py\u001b[0m in \u001b[0;36mfwrap\u001b[0;34m(*args, **kwargs)\u001b[0m\n\u001b[1;32m     28\u001b[0m         \u001b[0;32mwith\u001b[0m \u001b[0m_access_lock\u001b[0m\u001b[0;34m:\u001b[0m\u001b[0;34m\u001b[0m\u001b[0;34m\u001b[0m\u001b[0m\n\u001b[1;32m     29\u001b[0m             \u001b[0;32mtry\u001b[0m\u001b[0;34m:\u001b[0m\u001b[0;34m\u001b[0m\u001b[0;34m\u001b[0m\u001b[0m\n\u001b[0;32m---> 30\u001b[0;31m                 \u001b[0;32mreturn\u001b[0m \u001b[0mfunc\u001b[0m\u001b[0;34m(\u001b[0m\u001b[0;34m*\u001b[0m\u001b[0margs\u001b[0m\u001b[0;34m,\u001b[0m \u001b[0;34m**\u001b[0m\u001b[0mkwargs\u001b[0m\u001b[0;34m)\u001b[0m\u001b[0;34m\u001b[0m\u001b[0;34m\u001b[0m\u001b[0m\n\u001b[0m\u001b[1;32m     31\u001b[0m             \u001b[0;32mfinally\u001b[0m\u001b[0;34m:\u001b[0m\u001b[0;34m\u001b[0m\u001b[0;34m\u001b[0m\u001b[0m\n\u001b[1;32m     32\u001b[0m                 \u001b[0m_logger\u001b[0m\u001b[0;34m.\u001b[0m\u001b[0mdebug\u001b[0m\u001b[0;34m(\u001b[0m\u001b[0;34m\"with_lock finished: %s\"\u001b[0m\u001b[0;34m,\u001b[0m \u001b[0mfunc\u001b[0m\u001b[0;34m)\u001b[0m\u001b[0;34m\u001b[0m\u001b[0;34m\u001b[0m\u001b[0m\n",
      "\u001b[0;32m/software/conda/envs/pyrosetta/lib/python3.7/site-packages/pyrosetta/distributed/tasks/rosetta_scripts.py\u001b[0m in \u001b[0;36msetup\u001b[0;34m(self)\u001b[0m\n\u001b[1;32m     43\u001b[0m         \u001b[0mself\u001b[0m\u001b[0;34m.\u001b[0m\u001b[0mdefault_options\u001b[0m \u001b[0;34m=\u001b[0m \u001b[0mpyrosetta\u001b[0m\u001b[0;34m.\u001b[0m\u001b[0mrosetta\u001b[0m\u001b[0;34m.\u001b[0m\u001b[0mbasic\u001b[0m\u001b[0;34m.\u001b[0m\u001b[0moptions\u001b[0m\u001b[0;34m.\u001b[0m\u001b[0mprocess\u001b[0m\u001b[0;34m(\u001b[0m\u001b[0;34m)\u001b[0m\u001b[0;34m\u001b[0m\u001b[0;34m\u001b[0m\u001b[0m\n\u001b[1;32m     44\u001b[0m         self.tag = self.parser.create_tag_from_xml_string(\n\u001b[0;32m---> 45\u001b[0;31m                 self.protocol_xml, self.default_options)\n\u001b[0m\u001b[1;32m     46\u001b[0m \u001b[0;34m\u001b[0m\u001b[0m\n\u001b[1;32m     47\u001b[0m         \u001b[0;31m# Validate by parsing\u001b[0m\u001b[0;34m\u001b[0m\u001b[0;34m\u001b[0m\u001b[0;34m\u001b[0m\u001b[0m\n",
      "\u001b[0;31mRuntimeError\u001b[0m: \n\nFile: /opt/conda/conda-bld/pyrosetta_1546650963875/work/source/src/protocols/rosetta_scripts/RosettaScriptsParser.cc:1256\nInput rosetta scripts XML file \"XmlString (not real file)\" failed to validate against the rosetta scripts schema. Use the option -parser::output_schema <output filename> to output the schema to a file to see all valid options.\nYour XML has failed validation.  The error message below will tell you where in your XML file the error occurred.  Here's how to fix it:\n\n1) If the validation fails on something obvious, like an illegal attribute due to a spelling error (perhaps you used scorefnction instead of scorefunction), then you need to fix your XML file.\n2) If you haven’t run the XML rewriter script and this might be pre-2017 Rosetta XML, run the rewriter script (tools/xsd_xrw/rewrite_rosetta_script.py) on your input XML first.  The attribute values not being in quotes (scorefunction=talaris2014 instead of scorefunction=\"talaris2014\") is a good indicator that this is your problem.\n3) If you are a developer and neither 1 nor 2 worked - email the developer’s mailing list or try Slack.\n4) If you are an academic or commercial user - try the Rosetta Forums https://www.rosettacommons.org/forum\n\n\nError messages were:\nFrom line 475:\nError: Element 'BuriedUnsatHbonds2': This element is not expected.\n\n470:     <MoveBeforeFilter name=\"holes\" mover=\"chain1only\" filter=\"holes_MBF\" />\n471: \n472:     <SSPrediction name=\"mismatch_probability_MBF\" confidence=\"0\" cmd=\" /software/psipred4/runpsipred_single\" use_probability=\"1\" mismatch_probability=\"1\" use_svm=\"0\" />\n473:     <MoveBeforeFilter name=\"mismatch_probability\" mover=\"chain1only\" filter=\"mismatch_probability_MBF\" />\n474: \n475:     <BuriedUnsatHbonds2 name=\"unsat_hbond2_monomer_MBF\" confidence=\"0\" jump_number=\"0\"/>\n476:     <MoveBeforeFilter name=\"unsat_hbond2_monomer\" mover=\"chain1only\" filter=\"unsat_hbond2_monomer_MBF\" />\n477: \n478:     <SecondaryStructureHasResidue name=\"one_core_each_MBF\" secstruct_fraction_threshold=\"1.0\" res_check_task_operations=\"layer_core_SCN\" required_restypes=\"VILMFYW\" nres_required_per_secstruct=\"1\" filter_helix=\"1\" filter_sheet=\"1\" filter_loop=\"0\" min_helix_length=\"4\" min_sheet_length=\"3\" min_loop_length=\"1\" confidence=\"0\" />\n479:     <MoveBeforeFilter name=\"one_core_each\" mover=\"chain1only\" filter=\"one_core_each_MBF\" />\n480: \n------------------------------------------------------------\nWarning messages were:\n------------------------------------------------------------\n"
     ]
    }
   ],
   "source": [
    "redesign_protocol = read_file(\"truncator/xml/04_FD_FR_and_scoring_benchmark_v3_digs_updated_schema_BUNS3_IA_select.xml\")\n",
    "task_design = rosetta_scripts.SingleoutputRosettaScriptsTask(redesign_protocol)\n",
    "# Syntax check via setup\n",
    "logging.basicConfig(level=logging.WARN)\n",
    "task_design.setup()"
   ]
  },
  {
   "cell_type": "code",
   "execution_count": null,
   "metadata": {},
   "outputs": [],
   "source": []
  }
 ],
 "metadata": {
  "kernelspec": {
   "display_name": "Python [conda env:pyrosetta]",
   "language": "python",
   "name": "conda-env-pyrosetta-py"
  },
  "language_info": {
   "codemirror_mode": {
    "name": "ipython",
    "version": 3
   },
   "file_extension": ".py",
   "mimetype": "text/x-python",
   "name": "python",
   "nbconvert_exporter": "python",
   "pygments_lexer": "ipython3",
   "version": "3.7.1"
  }
 },
 "nbformat": 4,
 "nbformat_minor": 2
}
