{
 "cells": [
  {
   "cell_type": "code",
   "execution_count": 1,
   "metadata": {},
   "outputs": [
    {
     "data": {
      "text/plain": [
       "('/home/ajasja/projects/truncator', 'dig29')"
      ]
     },
     "execution_count": 1,
     "metadata": {},
     "output_type": "execute_result"
    }
   ],
   "source": [
    "%load_ext autoreload\n",
    "%autoreload 2\n",
    "import sys, os, socket\n",
    "os.getcwd(), socket.gethostname()"
   ]
  },
  {
   "cell_type": "code",
   "execution_count": 2,
   "metadata": {},
   "outputs": [],
   "source": [
    "import numpy\n",
    "import numpy as np\n",
    "\n",
    "from glob import glob\n",
    "import os\n",
    "\n",
    "import truncator\n",
    "\n",
    "import pymol\n",
    "from pymol import cmd"
   ]
  },
  {
   "cell_type": "code",
   "execution_count": 3,
   "metadata": {},
   "outputs": [],
   "source": [
    "def pp_flags(cmd):\n",
    "    print(cmd.replace(\" -\", \"\\\\\\n-\"))"
   ]
  },
  {
   "cell_type": "code",
   "execution_count": 4,
   "metadata": {},
   "outputs": [
    {
     "data": {
      "text/plain": [
       "'ZCON_37__numH4.5__from-21.21__to22.24'"
      ]
     },
     "execution_count": 4,
     "metadata": {},
     "output_type": "execute_result"
    }
   ],
   "source": [
    "\n",
    "struct_name = \"testing_out/ZCON_37_3+1__numH4__from-17.89__to21.81.pdb\""
   ]
  },
  {
   "cell_type": "code",
   "execution_count": 5,
   "metadata": {},
   "outputs": [
    {
     "name": "stdout",
     "output_type": "stream",
     "text": [
      "/software/rosetta/latest/bin/rosetta_scripts      -parser:protocol truncator/xml/12_redesign_loops_tl_gen_profile_SymAnn.xml -s ZCON_37__numH4.5__from-21.21__to22.24     -out:path:all testing_out/relooped/t10     -indexed_structure_store:fragment_store  /home/brunette/DBs/hdf5/ss_grouped_vall_helix_shortLoop.h     -out:file:scorefile ZCON_37__numH4.5__from-21.21__to22.sc     -beta     -in:file:fullatom     -renumber_pdb 1     -overwrite     -out:file:pdb_comments     -run:preserve_header     -out:file:scorefile_format json     -out:pdb true     -parser:script_vars chain_connections=[A+B,C+D],[B+A,C+D],[A+B,D+C],[B+A,D+C] loopLengthRange=2,5 resAdjustmentRangeSide1=-1,1 resAdjustmentRangeSide2=-1,1 allowed_loop_abegos=AGBA,ABBA,AGBBA,ABABA,ABBBA,AGABBA,ABBBBA,AGBBBA      -chemical:exclude_patches LowerDNA  UpperDNA Cterm_amidation VirtualBB ShoveBB VirtualDNAPhosphate VirtualNTerm CTermConnect sc_orbitals pro_hydroxylated_case1 pro_hydroxylated_case2 ser_phosphorylated thr_phosphorylated  tyr_phosphorylated tyr_sulfated lys_dimethylated lys_monomethylated  lys_trimethylated lys_acetylated glu_carboxylated cys_acetylated tyr_diiodinated N_acetylated C_methylamidated MethylatedProteinCterm     > testing_out/relooped/t10/ZCON_37__numH4.5__from-21.21__to22.log\n",
      "/software/rosetta/latest/bin/rosetta_scripts     \\\n",
      "-parser:protocol truncator/xml/12_redesign_loops_tl_gen_profile_SymAnn.xml\\\n",
      "-s ZCON_37__numH4.5__from-21.21__to22.24    \\\n",
      "-out:path:all testing_out/relooped/t10    \\\n",
      "-indexed_structure_store:fragment_store  /home/brunette/DBs/hdf5/ss_grouped_vall_helix_shortLoop.h    \\\n",
      "-out:file:scorefile ZCON_37__numH4.5__from-21.21__to22.sc    \\\n",
      "-beta    \\\n",
      "-in:file:fullatom    \\\n",
      "-renumber_pdb 1    \\\n",
      "-overwrite    \\\n",
      "-out:file:pdb_comments    \\\n",
      "-run:preserve_header    \\\n",
      "-out:file:scorefile_format json    \\\n",
      "-out:pdb true    \\\n",
      "-parser:script_vars chain_connections=[A+B,C+D],[B+A,C+D],[A+B,D+C],[B+A,D+C] loopLengthRange=2,5 resAdjustmentRangeSide1=-1,1 resAdjustmentRangeSide2=-1,1 allowed_loop_abegos=AGBA,ABBA,AGBBA,ABABA,ABBBA,AGABBA,ABBBBA,AGBBBA     \\\n",
      "-chemical:exclude_patches LowerDNA  UpperDNA Cterm_amidation VirtualBB ShoveBB VirtualDNAPhosphate VirtualNTerm CTermConnect sc_orbitals pro_hydroxylated_case1 pro_hydroxylated_case2 ser_phosphorylated thr_phosphorylated  tyr_phosphorylated tyr_sulfated lys_dimethylated lys_monomethylated  lys_trimethylated lys_acetylated glu_carboxylated cys_acetylated tyr_diiodinated N_acetylated C_methylamidated MethylatedProteinCterm     > testing_out/relooped/t10/ZCON_37__numH4.5__from-21.21__to22.log\n",
      "CPU times: user 0 ns, sys: 1.75 ms, total: 1.75 ms\n",
      "Wall time: 2.17 ms\n"
     ]
    }
   ],
   "source": [
    "%%time\n",
    "reloop_result = truncator.reloop(struct_name, \"testing_out/relooped/t10\", \n",
    "                          script_name='truncator/xml/12_redesign_loops_tl_gen_profile_SymAnn.xml', \n",
    "                          rosetta_bin=\"/software/rosetta/latest/bin/rosetta_scripts\",\n",
    "                          extra_flags=\"-chemical:exclude_patches LowerDNA  UpperDNA Cterm_amidation VirtualBB ShoveBB VirtualDNAPhosphate VirtualNTerm CTermConnect sc_orbitals pro_hydroxylated_case1 pro_hydroxylated_case2 ser_phosphorylated thr_phosphorylated  tyr_phosphorylated tyr_sulfated lys_dimethylated lys_monomethylated  lys_trimethylated lys_acetylated glu_carboxylated cys_acetylated tyr_diiodinated N_acetylated C_methylamidated MethylatedProteinCterm\",\n",
    "                          structure_store=\"/home/brunette/DBs/hdf5/ss_grouped_vall_helix_shortLoop.h\",\n",
    "                          chain_connections='[A+B,C+D],[B+A,C+D],[A+B,D+C],[B+A,D+C]',\n",
    "                          loopLengthRange=\"2,5\",\n",
    "                          resAdjustmentRangeSide1=\"-1,1\", \n",
    "                          resAdjustmentRangeSide2=\"-1,1\",\n",
    "                          allowed_loop_abegos=\"AGBA,ABBA,AGBBA,ABABA,ABBBA,AGABBA,ABBBBA,AGBBBA\",\n",
    "                          test_run=True)\n",
    "pp_flags(reloop_result.run_command)\n",
    "reloop_result.score_file"
   ]
  },
  {
   "cell_type": "code",
   "execution_count": 14,
   "metadata": {},
   "outputs": [
    {
     "data": {
      "text/plain": [
       "'[C+D,A+B],[C+D,B+A],[D+C,A+B],[D+C,B+A]'"
      ]
     },
     "execution_count": 14,
     "metadata": {},
     "output_type": "execute_result"
    }
   ],
   "source": [
    "\"[A+B,C+D],[B+A,C+D],[A+B,D+C],[B+A,D+C]\"[::-1].replace(\"[\",\"@\").replace(\"]\",\"[\").replace(\"@\",\"]\")"
   ]
  },
  {
   "cell_type": "code",
   "execution_count": 12,
   "metadata": {},
   "outputs": [
    {
     "name": "stdout",
     "output_type": "stream",
     "text": [
      "/home/brunette/src/Rosetta_dev/main/source/bin/rosetta_scripts.hdf5.linuxgccrelease     \\\n",
      "-parser:protocol truncator/xml/10_redesign_loops_tl_gen_profile.xml\\\n",
      "-s testing_out/ZCON_37_3+1__numH4__from-17.89__to21.81.pdb    \\\n",
      "-out:path:all testing_out/relooped/t2    \\\n",
      "-indexed_structure_store:fragment_store  /home/brunette/DBs/hdf5/ss_grouped_vall_helix_shortLoop.h    \\\n",
      "-out:file:scorefile ZCON_37_3+1__numH4__from-17.89__to21.81.sc    \\\n",
      "-beta    \\\n",
      "-in:file:fullatom    \\\n",
      "-renumber_pdb 1    \\\n",
      "-overwrite    \\\n",
      "-out:file:pdb_comments    \\\n",
      "-run:preserve_header    \\\n",
      "-out:file:scorefile_format json    \\\n",
      "-out:pdb true          | tee testing_out/relooped/t2/ZCON_37_3+1__numH4__from-17.89__to21.81.log\n"
     ]
    }
   ],
   "source": [
    "pp_flags(reloop.run_command)"
   ]
  },
  {
   "cell_type": "code",
   "execution_count": 17,
   "metadata": {},
   "outputs": [
    {
     "name": "stdout",
     "output_type": "stream",
     "text": [
      "/home/brunette/src/Rosetta_dev/main/source/bin/rosetta_scripts.hdf5.linuxgccrelease     -parser:protocol truncator/xml/10_redesign_loops_tl_gen_profile.xml -s testing_out/ZCON_37_3+1__numH4__from-17.89__to21.81.pdb     -out:file:scorefile  testing_out/relooped/ZCON_37_3+1__numH4__from-17.89__to21.81.sc     -out:file:o  testing_out/relooped/ZCON_37_3+1__numH4__from-17.89__to21.81.pdb     -print_pymol_selection 0     -beta     -in:file:fullatom     -renumber_pdb 1     -overwrite     -out:file:scorefile_format json     -holes:dalphaball truncator/scripts/DAlphaBall.gcc -use_bicubic_interpolation     | tee testing_out/relooped/ZCON_37_3+1__numH4__from-17.89__to21.81.log\n",
      "CPU times: user 0 ns, sys: 7.67 ms, total: 7.67 ms\n",
      "Wall time: 11.8 s\n"
     ]
    }
   ],
   "source": [
    "#truncator.reloop(struct_name, \"testing_out/relooped\", script_name=\"truncator/xml/11_redesign_loops_tl_consensus.xml\", tee=True)"
   ]
  },
  {
   "cell_type": "code",
   "execution_count": 5,
   "metadata": {},
   "outputs": [
    {
     "name": "stdout",
     "output_type": "stream",
     "text": [
      "/home/sboyken/rosetta_static_binaries/170911/rosetta_scripts.static.linuxgccrelease     -parser:protocol truncator/xml/11_redesign_loops_tl_consensus.xml -s testing_out/ZCON_37_3+1__numH4__from-17.89__to21.81.pdb     -out:file:scorefile  testing_out/relooped/ZCON_37_3+1__numH4__from-17.89__to21.81.sc     -out:file:o  testing_out/relooped/ZCON_37_3+1__numH4__from-17.89__to21.81.pdb     -print_pymol_selection 0     -beta     -in:file:fullatom     -renumber_pdb 1     -overwrite     -out:file:scorefile_format json     -database /home/sboyken/rosetta_static_binaries/170911/database/ -holes:dalphaball truncator/scripts/DAlphaBall.gcc -use_bicubic_interpolation -out:pdb true     | tee testing_out/relooped/ZCON_37_3+1__numH4__from-17.89__to21.81.log\n"
     ]
    },
    {
     "data": {
      "text/plain": [
       "'testing_out/relooped/ZCON_37_3+1__numH4__from-17.89__to21.81.sc'"
      ]
     },
     "execution_count": 5,
     "metadata": {},
     "output_type": "execute_result"
    }
   ],
   "source": [
    "truncator.reloop(struct_name, \"testing_out/relooped\", \n",
    "                 rosetta_bin=\"/home/sboyken/rosetta_static_binaries/170911/rosetta_scripts.static.linuxgccrelease\",\n",
    "                 script_name=\"truncator/xml/11_redesign_loops_tl_consensus.xml\",\n",
    "                 extra_flags=\"-database /home/sboyken/rosetta_static_binaries/170911/database/\", tee=True)"
   ]
  },
  {
   "cell_type": "code",
   "execution_count": null,
   "metadata": {},
   "outputs": [],
   "source": []
  }
 ],
 "metadata": {
  "kernelspec": {
   "display_name": "Python [conda env:pyro_scripts]",
   "language": "python",
   "name": "conda-env-pyro_scripts-py"
  },
  "language_info": {
   "codemirror_mode": {
    "name": "ipython",
    "version": 3
   },
   "file_extension": ".py",
   "mimetype": "text/x-python",
   "name": "python",
   "nbconvert_exporter": "python",
   "pygments_lexer": "ipython3",
   "version": "3.6.6"
  }
 },
 "nbformat": 4,
 "nbformat_minor": 2
}
