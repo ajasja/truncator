{
 "cells": [
  {
   "cell_type": "code",
   "execution_count": 1,
   "metadata": {},
   "outputs": [
    {
     "name": "stdout",
     "output_type": "stream",
     "text": [
      "/home/ajasja/projects/truncator\n",
      "dig26\n"
     ]
    }
   ],
   "source": [
    "%load_ext autoreload\n",
    "%autoreload 2\n",
    "!pwd\n",
    "!hostname"
   ]
  },
  {
   "cell_type": "code",
   "execution_count": 2,
   "metadata": {},
   "outputs": [],
   "source": [
    "#structs = truncator.read_file_lines(\"/home/ajasja/struct/ZCON/nMS.txt\", trim=True)\n",
    "#for s in structs:\n",
    "#    !cp /home/ajasja/struct/ZCON/{s}  /home/ajasja/struct/ZCON/nMS"
   ]
  },
  {
   "cell_type": "code",
   "execution_count": 3,
   "metadata": {},
   "outputs": [],
   "source": [
    "import numpy as np\n",
    "from glob import glob\n",
    "import numpy as np\n",
    "import os\n",
    "import truncator\n",
    "import pandas as pd"
   ]
  },
  {
   "cell_type": "code",
   "execution_count": 4,
   "metadata": {},
   "outputs": [],
   "source": [
    "structs = glob(\"/home/ajasja/struct/ZCON/nMS/*.pdb\")\n",
    "structs;"
   ]
  },
  {
   "cell_type": "code",
   "execution_count": 5,
   "metadata": {},
   "outputs": [],
   "source": [
    "#truncator.cut_bundles(struct_name=structs[0], out_dir='out/R1/cut/4H', num_heptads=4, )"
   ]
  },
  {
   "cell_type": "code",
   "execution_count": 6,
   "metadata": {},
   "outputs": [
    {
     "name": "stdout",
     "output_type": "stream",
     "text": [
      " PyMOL not running, entering library mode (experimental)\n"
     ]
    },
    {
     "name": "stderr",
     "output_type": "stream",
     "text": [
      "/home/ajasja/projects/truncator/truncator/cutting.py:77: RuntimeWarning: divide by zero encountered in true_divide\n",
      "  bottoms = np.arange(highest_bottom, lowest_top, step_delta_z)\n"
     ]
    },
    {
     "name": "stdout",
     "output_type": "stream",
     "text": [
      "/home/ajasja/struct/ZCON/nMS/ZCON_9_FL_CC_trim.pdb 3\n",
      "/home/ajasja/struct/ZCON/nMS/ZCON_9_FL_CC_trim.pdb 3.5\n",
      "/home/ajasja/struct/ZCON/nMS/ZCON_9_FL_CC_trim.pdb 4\n",
      "/home/ajasja/struct/ZCON/nMS/ZCON_9_FL_CC_trim.pdb 4.5\n",
      "/home/ajasja/struct/ZCON/nMS/ZCON_9_FL_CC_trim.pdb 5\n"
     ]
    }
   ],
   "source": [
    "for l in [3,3.5,4,4.5,5]:\n",
    "    for struct in structs:\n",
    "        try:\n",
    "            truncator.cut_bundles(struct_name=struct, out_dir=f'out/R3/01_cut/{l:1.1f}H', num_heptads=l)\n",
    "        except:\n",
    "            print (struct, l)"
   ]
  },
  {
   "cell_type": "code",
   "execution_count": 5,
   "metadata": {},
   "outputs": [
    {
     "name": "stdout",
     "output_type": "stream",
     "text": [
      " PyMOL not running, entering library mode (experimental)\n",
      "out/R3/01_cut/4.5H/ZCON_39__numH4.5__from-18.55__to22.19.pdb\n",
      "out/R3/01_cut/4.5H/ZCON_39__numH4.5__from-20.54__to20.20.pdb\n",
      "CPU times: user 51.3 s, sys: 992 ms, total: 52.3 s\n",
      "Wall time: 59.2 s\n"
     ]
    }
   ],
   "source": [
    "%%time\n",
    "for l in [4.5,5]:\n",
    "    all_cut = glob(f\"out/R3/01_cut/{l:1.1f}H/*.pdb\")\n",
    "    for struct in all_cut:\n",
    "        try:\n",
    "            truncator.regroup_chains(struct, f\"out/R3/02_regruped/{l:1.1f}H\",\n",
    "                            new_chain_A=\"AB\", new_chain_B=\"CD\")\n",
    "            truncator.regroup_chains(struct, f\"out/R3/02_regruped/{l:1.1f}H\",\n",
    "                            new_chain_A=\"AD\", new_chain_B=\"BC\")\n",
    "            truncator.regroup_chains(struct, f\"out/R3/02_regruped/{l:1.1f}H\",\n",
    "                            new_chain_A=\"A\", new_chain_B=\"BCD\")\n",
    "            truncator.regroup_chains(struct, f\"out/R3/02_regruped/{l:1.1f}H\",\n",
    "                            new_chain_A=\"B\", new_chain_B=\"ACD\")\n",
    "            truncator.regroup_chains(struct, f\"out/R3/02_regruped/{l:1.1f}H\",\n",
    "                            new_chain_A=\"C\", new_chain_B=\"ABD\")\n",
    "            truncator.regroup_chains(struct, f\"out/R3/02_regruped/{l:1.1f}H\",\n",
    "                            new_chain_A=\"D\", new_chain_B=\"ABC\")\n",
    "        except:\n",
    "            print (struct)"
   ]
  },
  {
   "cell_type": "code",
   "execution_count": null,
   "metadata": {},
   "outputs": [],
   "source": []
  },
  {
   "cell_type": "code",
   "execution_count": 4,
   "metadata": {},
   "outputs": [
    {
     "name": "stdout",
     "output_type": "stream",
     "text": [
      "/software/rosetta/latest/bin/rosetta_scripts     -out:file:o  /home/ajasja/projects/truncator/out/R3/03_score/4.0H/ZCON_112__numH4__from-20.48__to16.48__grA-BCD.pdb     -out:file:scorefile  /home/ajasja/projects/truncator/out/R3/03_score/4.0H/ZCON_112__numH4__from-20.48__to16.48__grA-BCD.sc       -parser:protocol truncator/xml/05_specific_interface_markers.xml -s out/R3/02_regruped/4.0H/ZCON_112__numH4__from-20.48__to16.48__grA-BCD.pdb     -print_pymol_selection 0     -beta     -in:file:fullatom     -renumber_pdb 1     -overwrite     -out:file:scorefile_format json     -holes:dalphaball truncator/scripts/DAlphaBall.gcc -out:no_nstruct_label     > /home/ajasja/projects/truncator/out/R3/03_score/4.0H/ZCON_112__numH4__from-20.48__to16.48__grA-BCD.log\n",
      "Saving to: /home/ajasja/projects/truncator/out/R3/03_score/4.0H/ZCON_112__numH4__from-20.48__to16.48__grA-BCD_IA.sc\n"
     ]
    },
    {
     "data": {
      "text/plain": [
       "'/home/ajasja/projects/truncator/out/R3/03_score/4.0H/ZCON_112__numH4__from-20.48__to16.48__grA-BCD_IA.sc'"
      ]
     },
     "execution_count": 4,
     "metadata": {},
     "output_type": "execute_result"
    }
   ],
   "source": [
    "all_cut = glob(f\"out/R3/02_regruped/4.0H/*.pdb\")            \n",
    "truncator.score_interface(all_cut[13],\n",
    "                    script_name=\"truncator/xml/05_specific_interface_markers.xml\",\n",
    "                    out_dir=\"out/R3/03_score/4.0H\", test_run=False, skip_existing=True)"
   ]
  },
  {
   "cell_type": "code",
   "execution_count": 6,
   "metadata": {},
   "outputs": [
    {
     "data": {
      "text/html": [
       "<table style=\"border: 2px solid white;\">\n",
       "<tr>\n",
       "<td style=\"vertical-align: top; border: 0px solid white\">\n",
       "<h3>Client</h3>\n",
       "<ul>\n",
       "  <li><b>Scheduler: </b>tcp://172.16.131.56:5981\n",
       "  <li><b>Dashboard: </b><a href='http://172.16.131.56:8787/status' target='_blank'>http://172.16.131.56:8787/status</a>\n",
       "</ul>\n",
       "</td>\n",
       "<td style=\"vertical-align: top; border: 0px solid white\">\n",
       "<h3>Cluster</h3>\n",
       "<ul>\n",
       "  <li><b>Workers: </b>2</li>\n",
       "  <li><b>Cores: </b>2</li>\n",
       "  <li><b>Memory: </b>4.00 GB</li>\n",
       "</ul>\n",
       "</td>\n",
       "</tr>\n",
       "</table>"
      ],
      "text/plain": [
       "<Client: scheduler='tcp://172.16.131.56:5981' processes=2 cores=2>"
      ]
     },
     "execution_count": 6,
     "metadata": {},
     "output_type": "execute_result"
    }
   ],
   "source": [
    "import dask\n",
    "from dask.distributed import Client, progress\n",
    "client = Client(scheduler_file='scheduler.json'); client"
   ]
  },
  {
   "cell_type": "code",
   "execution_count": 10,
   "metadata": {},
   "outputs": [],
   "source": [
    "\n",
    "res = []\n",
    "for l in [3,3.5,4,4.5,5]:\n",
    "    all_cut = glob(f\"out/R3/02_regruped/{l:1.1f}H/*AD-BC*.pdb\")\n",
    "    for struct in all_cut:\n",
    "        res.append(client.submit(truncator.score_interface, struct,\n",
    "                script_name=\"truncator/xml/05_specific_interface_markers.xml\",\n",
    "                out_dir=f\"out/R3/03_score/{l:1.1f}H\", test_run=False))"
   ]
  },
  {
   "cell_type": "code",
   "execution_count": 14,
   "metadata": {},
   "outputs": [
    {
     "data": {
      "text/plain": [
       "['out/R3/02_regruped/5.0H/ZCON_13_110__numH5__from-17.52__to27.29__grAD-BC.pdb',\n",
       " 'out/R3/02_regruped/5.0H/ZCON_131__numH5__from-23.68__to17.62__grAD-BC.pdb',\n",
       " 'out/R3/02_regruped/5.0H/ZCON_114__numH5__from-16.80__to28.05__grAD-BC.pdb',\n",
       " 'out/R3/02_regruped/5.0H/ZCON_94_N3C1__numH5__from-19.21__to25.88__grAD-BC.pdb',\n",
       " 'out/R3/02_regruped/5.0H/ZCON_90__numH5__from-23.85__to21.80__grAD-BC.pdb',\n",
       " 'out/R3/02_regruped/5.0H/ZCON_13_110__numH5__from-15.55__to29.26__grAD-BC.pdb',\n",
       " 'out/R3/02_regruped/5.0H/ZCON_131__numH5__from-20.06__to21.25__grAD-BC.pdb',\n",
       " 'out/R3/02_regruped/5.0H/ZCON_94__numH5__from-21.54__to26.19__grAD-BC.pdb',\n",
       " 'out/R3/02_regruped/5.0H/ZCON_103__numH5__from-20.86__to19.90__grAD-BC.pdb',\n",
       " 'out/R3/02_regruped/5.0H/ZCON_15_re_loop__numH5__from-16.52__to27.55__grAD-BC.pdb',\n",
       " 'out/R3/02_regruped/5.0H/ZCON_110__numH5__from-24.44__to22.86__grAD-BC.pdb',\n",
       " 'out/R3/02_regruped/5.0H/ZCON_114__numH5__from-22.72__to22.13__grAD-BC.pdb',\n",
       " 'out/R3/02_regruped/5.0H/ZCON_15_re_loop__numH5__from-12.65__to31.43__grAD-BC.pdb',\n",
       " 'out/R3/02_regruped/5.0H/ZCON_104__numH5__from-23.10__to19.84__grAD-BC.pdb',\n",
       " 'out/R3/02_regruped/5.0H/ZCON_126__numH5__from-26.39__to20.52__grAD-BC.pdb',\n",
       " 'out/R3/02_regruped/5.0H/ZCON_13_ABEX__numH5__from-17.52__to27.29__grAD-BC.pdb',\n",
       " 'out/R3/02_regruped/5.0H/ZCON_143__numH5__from-23.98__to22.28__grAD-BC.pdb',\n",
       " 'out/R3/02_regruped/5.0H/ZCON_112__numH5__from-24.52__to21.42__grAD-BC.pdb',\n",
       " 'out/R3/02_regruped/5.0H/ZCON_13_ABEX__numH5__from-15.55__to29.26__grAD-BC.pdb',\n",
       " 'out/R3/02_regruped/5.0H/ZCON_13__numH5__from-17.52__to27.29__grAD-BC.pdb',\n",
       " 'out/R3/02_regruped/5.0H/ZCON_126__numH5__from-24.33__to22.59__grAD-BC.pdb',\n",
       " 'out/R3/02_regruped/5.0H/ZCON_147__numH5__from-21.45__to22.03__grAD-BC.pdb',\n",
       " 'out/R3/02_regruped/5.0H/ZCON_13__numH5__from-15.55__to29.26__grAD-BC.pdb',\n",
       " 'out/R3/02_regruped/5.0H/ZCON_96__numH5__from-24.28__to21.89__grAD-BC.pdb',\n",
       " 'out/R3/02_regruped/5.0H/ZCON_131__numH5__from-21.87__to19.43__grAD-BC.pdb',\n",
       " 'out/R3/02_regruped/5.0H/ZCON_114__numH5__from-18.78__to26.08__grAD-BC.pdb',\n",
       " 'out/R3/02_regruped/5.0H/ZCON_144__numH5__from-21.64__to26.36__grAD-BC.pdb',\n",
       " 'out/R3/02_regruped/5.0H/ZCON_133__numH5__from-23.30__to20.42__grAD-BC.pdb',\n",
       " 'out/R3/02_regruped/5.0H/ZCON_131__numH5__from-25.50__to15.81__grAD-BC.pdb',\n",
       " 'out/R3/02_regruped/5.0H/ZCON_13_4__numH5__from-17.52__to27.29__grAD-BC.pdb',\n",
       " 'out/R3/02_regruped/5.0H/ZCON_15__numH5__from-13.94__to30.13__grAD-BC.pdb',\n",
       " 'out/R3/02_regruped/5.0H/ZCON_112__numH5__from-22.50__to23.44__grAD-BC.pdb',\n",
       " 'out/R3/02_regruped/5.0H/ZCON_104__numH5__from-21.21__to21.73__grAD-BC.pdb',\n",
       " 'out/R3/02_regruped/5.0H/ZCON_13_4__numH5__from-15.55__to29.26__grAD-BC.pdb',\n",
       " 'out/R3/02_regruped/5.0H/ZCON_114__numH5__from-20.75__to24.10__grAD-BC.pdb',\n",
       " 'out/R3/02_regruped/5.0H/ZCON_144__numH5__from-23.75__to24.24__grAD-BC.pdb',\n",
       " 'out/R3/02_regruped/5.0H/ZCON_104__numH5__from-19.32__to23.62__grAD-BC.pdb',\n",
       " 'out/R3/02_regruped/5.0H/ZCON_106__numH5__from-23.30__to20.93__grAD-BC.pdb',\n",
       " 'out/R3/02_regruped/5.0H/ZCON_117__numH5__from-22.94__to24.87__grAD-BC.pdb',\n",
       " 'out/R3/02_regruped/5.0H/ZCON_147__numH5__from-25.27__to18.21__grAD-BC.pdb',\n",
       " 'out/R3/02_regruped/5.0H/ZCON_101__numH5__from-21.82__to22.92__grAD-BC.pdb',\n",
       " 'out/R3/02_regruped/5.0H/ZCON_147__numH5__from-23.36__to20.12__grAD-BC.pdb',\n",
       " 'out/R3/02_regruped/5.0H/ZCON_143__numH5__from-26.01__to20.24__grAD-BC.pdb',\n",
       " 'out/R3/02_regruped/5.0H/ZCON_15_re_loop__numH5__from-14.59__to29.49__grAD-BC.pdb',\n",
       " 'out/R3/02_regruped/5.0H/ZCON_106__numH5__from-25.25__to18.98__grAD-BC.pdb',\n",
       " 'out/R3/02_regruped/5.0H/ZCON_15__numH5__from-12.00__to32.07__grAD-BC.pdb',\n",
       " 'out/R3/02_regruped/5.0H/ZCON_133__numH5__from-21.38__to22.34__grAD-BC.pdb']"
      ]
     },
     "execution_count": 14,
     "metadata": {},
     "output_type": "execute_result"
    },
    {
     "name": "stderr",
     "output_type": "stream",
     "text": [
      "distributed.utils - ERROR - can't start new thread\n",
      "Traceback (most recent call last):\n",
      "  File \"/home/ajasja/.conda/envs/pyro_scripts/lib/python3.6/site-packages/distributed/utils.py\", line 648, in log_errors\n",
      "    yield\n",
      "  File \"/home/ajasja/.conda/envs/pyro_scripts/lib/python3.6/site-packages/distributed/client.py\", line 873, in _reconnect\n",
      "    yield self._ensure_connected()\n",
      "  File \"/home/ajasja/.conda/envs/pyro_scripts/lib/python3.6/site-packages/tornado/gen.py\", line 1133, in run\n",
      "    value = future.result()\n",
      "  File \"/home/ajasja/.conda/envs/pyro_scripts/lib/python3.6/site-packages/tornado/gen.py\", line 1141, in run\n",
      "    yielded = self.gen.throw(*exc_info)\n",
      "  File \"/home/ajasja/.conda/envs/pyro_scripts/lib/python3.6/site-packages/distributed/client.py\", line 888, in _ensure_connected\n",
      "    connection_args=self.connection_args)\n",
      "  File \"/home/ajasja/.conda/envs/pyro_scripts/lib/python3.6/site-packages/tornado/gen.py\", line 1133, in run\n",
      "    value = future.result()\n",
      "  File \"/home/ajasja/.conda/envs/pyro_scripts/lib/python3.6/site-packages/tornado/gen.py\", line 1141, in run\n",
      "    yielded = self.gen.throw(*exc_info)\n",
      "  File \"/home/ajasja/.conda/envs/pyro_scripts/lib/python3.6/site-packages/distributed/comm/core.py\", line 190, in connect\n",
      "    quiet_exceptions=EnvironmentError)\n",
      "  File \"/home/ajasja/.conda/envs/pyro_scripts/lib/python3.6/site-packages/tornado/gen.py\", line 1133, in run\n",
      "    value = future.result()\n",
      "  File \"/home/ajasja/.conda/envs/pyro_scripts/lib/python3.6/site-packages/tornado/gen.py\", line 1141, in run\n",
      "    yielded = self.gen.throw(*exc_info)\n",
      "  File \"/home/ajasja/.conda/envs/pyro_scripts/lib/python3.6/site-packages/distributed/comm/tcp.py\", line 334, in connect\n",
      "    **kwargs)\n",
      "  File \"/home/ajasja/.conda/envs/pyro_scripts/lib/python3.6/site-packages/tornado/gen.py\", line 1133, in run\n",
      "    value = future.result()\n",
      "  File \"/home/ajasja/.conda/envs/pyro_scripts/lib/python3.6/site-packages/tornado/gen.py\", line 1141, in run\n",
      "    yielded = self.gen.throw(*exc_info)\n",
      "  File \"/home/ajasja/.conda/envs/pyro_scripts/lib/python3.6/site-packages/tornado/tcpclient.py\", line 226, in connect\n",
      "    addrinfo = yield self.resolver.resolve(host, port, af)\n",
      "  File \"/home/ajasja/.conda/envs/pyro_scripts/lib/python3.6/site-packages/tornado/gen.py\", line 1133, in run\n",
      "    value = future.result()\n",
      "  File \"/home/ajasja/.conda/envs/pyro_scripts/lib/python3.6/site-packages/tornado/gen.py\", line 326, in wrapper\n",
      "    yielded = next(result)\n",
      "  File \"/home/ajasja/.conda/envs/pyro_scripts/lib/python3.6/site-packages/tornado/netutil.py\", line 378, in resolve\n",
      "    None, _resolve_addr, host, port, family)\n",
      "  File \"/home/ajasja/.conda/envs/pyro_scripts/lib/python3.6/site-packages/tornado/platform/asyncio.py\", line 166, in run_in_executor\n",
      "    return self.asyncio_loop.run_in_executor(executor, func, *args)\n",
      "  File \"/home/ajasja/.conda/envs/pyro_scripts/lib/python3.6/asyncio/base_events.py\", line 639, in run_in_executor\n",
      "    return futures.wrap_future(executor.submit(func, *args), loop=self)\n",
      "  File \"/home/ajasja/.conda/envs/pyro_scripts/lib/python3.6/concurrent/futures/thread.py\", line 123, in submit\n",
      "    self._adjust_thread_count()\n",
      "  File \"/home/ajasja/.conda/envs/pyro_scripts/lib/python3.6/concurrent/futures/thread.py\", line 142, in _adjust_thread_count\n",
      "    t.start()\n",
      "  File \"/home/ajasja/.conda/envs/pyro_scripts/lib/python3.6/threading.py\", line 846, in start\n",
      "    _start_new_thread(self._bootstrap, ())\n",
      "RuntimeError: can't start new thread\n",
      "distributed.utils - ERROR - can't start new thread\n",
      "Traceback (most recent call last):\n",
      "  File \"/home/ajasja/.conda/envs/pyro_scripts/lib/python3.6/site-packages/distributed/utils.py\", line 648, in log_errors\n",
      "    yield\n",
      "  File \"/home/ajasja/.conda/envs/pyro_scripts/lib/python3.6/site-packages/distributed/client.py\", line 990, in _handle_report\n",
      "    yield self._reconnect()\n",
      "  File \"/home/ajasja/.conda/envs/pyro_scripts/lib/python3.6/site-packages/tornado/gen.py\", line 1133, in run\n",
      "    value = future.result()\n",
      "  File \"/home/ajasja/.conda/envs/pyro_scripts/lib/python3.6/site-packages/tornado/gen.py\", line 1141, in run\n",
      "    yielded = self.gen.throw(*exc_info)\n",
      "  File \"/home/ajasja/.conda/envs/pyro_scripts/lib/python3.6/site-packages/distributed/client.py\", line 873, in _reconnect\n",
      "    yield self._ensure_connected()\n",
      "  File \"/home/ajasja/.conda/envs/pyro_scripts/lib/python3.6/site-packages/tornado/gen.py\", line 1133, in run\n",
      "    value = future.result()\n",
      "  File \"/home/ajasja/.conda/envs/pyro_scripts/lib/python3.6/site-packages/tornado/gen.py\", line 1141, in run\n",
      "    yielded = self.gen.throw(*exc_info)\n",
      "  File \"/home/ajasja/.conda/envs/pyro_scripts/lib/python3.6/site-packages/distributed/client.py\", line 888, in _ensure_connected\n",
      "    connection_args=self.connection_args)\n",
      "  File \"/home/ajasja/.conda/envs/pyro_scripts/lib/python3.6/site-packages/tornado/gen.py\", line 1133, in run\n",
      "    value = future.result()\n",
      "  File \"/home/ajasja/.conda/envs/pyro_scripts/lib/python3.6/site-packages/tornado/gen.py\", line 1141, in run\n",
      "    yielded = self.gen.throw(*exc_info)\n",
      "  File \"/home/ajasja/.conda/envs/pyro_scripts/lib/python3.6/site-packages/distributed/comm/core.py\", line 190, in connect\n",
      "    quiet_exceptions=EnvironmentError)\n",
      "  File \"/home/ajasja/.conda/envs/pyro_scripts/lib/python3.6/site-packages/tornado/gen.py\", line 1133, in run\n",
      "    value = future.result()\n",
      "  File \"/home/ajasja/.conda/envs/pyro_scripts/lib/python3.6/site-packages/tornado/gen.py\", line 1141, in run\n",
      "    yielded = self.gen.throw(*exc_info)\n",
      "  File \"/home/ajasja/.conda/envs/pyro_scripts/lib/python3.6/site-packages/distributed/comm/tcp.py\", line 334, in connect\n",
      "    **kwargs)\n",
      "  File \"/home/ajasja/.conda/envs/pyro_scripts/lib/python3.6/site-packages/tornado/gen.py\", line 1133, in run\n",
      "    value = future.result()\n",
      "  File \"/home/ajasja/.conda/envs/pyro_scripts/lib/python3.6/site-packages/tornado/gen.py\", line 1141, in run\n",
      "    yielded = self.gen.throw(*exc_info)\n",
      "  File \"/home/ajasja/.conda/envs/pyro_scripts/lib/python3.6/site-packages/tornado/tcpclient.py\", line 226, in connect\n",
      "    addrinfo = yield self.resolver.resolve(host, port, af)\n",
      "  File \"/home/ajasja/.conda/envs/pyro_scripts/lib/python3.6/site-packages/tornado/gen.py\", line 1133, in run\n",
      "    value = future.result()\n",
      "  File \"/home/ajasja/.conda/envs/pyro_scripts/lib/python3.6/site-packages/tornado/gen.py\", line 326, in wrapper\n",
      "    yielded = next(result)\n",
      "  File \"/home/ajasja/.conda/envs/pyro_scripts/lib/python3.6/site-packages/tornado/netutil.py\", line 378, in resolve\n",
      "    None, _resolve_addr, host, port, family)\n",
      "  File \"/home/ajasja/.conda/envs/pyro_scripts/lib/python3.6/site-packages/tornado/platform/asyncio.py\", line 166, in run_in_executor\n",
      "    return self.asyncio_loop.run_in_executor(executor, func, *args)\n",
      "  File \"/home/ajasja/.conda/envs/pyro_scripts/lib/python3.6/asyncio/base_events.py\", line 639, in run_in_executor\n",
      "    return futures.wrap_future(executor.submit(func, *args), loop=self)\n",
      "  File \"/home/ajasja/.conda/envs/pyro_scripts/lib/python3.6/concurrent/futures/thread.py\", line 123, in submit\n",
      "    self._adjust_thread_count()\n",
      "  File \"/home/ajasja/.conda/envs/pyro_scripts/lib/python3.6/concurrent/futures/thread.py\", line 142, in _adjust_thread_count\n",
      "    t.start()\n",
      "  File \"/home/ajasja/.conda/envs/pyro_scripts/lib/python3.6/threading.py\", line 846, in start\n",
      "    _start_new_thread(self._bootstrap, ())\n",
      "RuntimeError: can't start new thread\n",
      "tornado.application - ERROR - Exception in callback functools.partial(<function wrap.<locals>.null_wrapper at 0x7fffb05bac80>, <Future finished exception=RuntimeError(\"can't start new thread\",)>)\n",
      "Traceback (most recent call last):\n",
      "  File \"/home/ajasja/.conda/envs/pyro_scripts/lib/python3.6/site-packages/tornado/ioloop.py\", line 758, in _run_callback\n",
      "    ret = callback()\n",
      "  File \"/home/ajasja/.conda/envs/pyro_scripts/lib/python3.6/site-packages/tornado/stack_context.py\", line 300, in null_wrapper\n",
      "    return fn(*args, **kwargs)\n",
      "  File \"/home/ajasja/.conda/envs/pyro_scripts/lib/python3.6/site-packages/tornado/ioloop.py\", line 779, in _discard_future_result\n",
      "    future.result()\n",
      "  File \"/home/ajasja/.conda/envs/pyro_scripts/lib/python3.6/site-packages/tornado/gen.py\", line 1141, in run\n",
      "    yielded = self.gen.throw(*exc_info)\n",
      "  File \"/home/ajasja/.conda/envs/pyro_scripts/lib/python3.6/site-packages/distributed/client.py\", line 925, in _update_scheduler_info\n",
      "    self._scheduler_identity = yield self.scheduler.identity()\n",
      "  File \"/home/ajasja/.conda/envs/pyro_scripts/lib/python3.6/site-packages/tornado/gen.py\", line 1133, in run\n",
      "    value = future.result()\n",
      "  File \"/home/ajasja/.conda/envs/pyro_scripts/lib/python3.6/site-packages/tornado/gen.py\", line 1141, in run\n",
      "    yielded = self.gen.throw(*exc_info)\n",
      "  File \"/home/ajasja/.conda/envs/pyro_scripts/lib/python3.6/site-packages/distributed/core.py\", line 579, in send_recv_from_rpc\n",
      "    comm = yield self.live_comm()\n",
      "  File \"/home/ajasja/.conda/envs/pyro_scripts/lib/python3.6/site-packages/tornado/gen.py\", line 1133, in run\n",
      "    value = future.result()\n",
      "  File \"/home/ajasja/.conda/envs/pyro_scripts/lib/python3.6/site-packages/tornado/gen.py\", line 1141, in run\n",
      "    yielded = self.gen.throw(*exc_info)\n",
      "  File \"/home/ajasja/.conda/envs/pyro_scripts/lib/python3.6/site-packages/distributed/core.py\", line 551, in live_comm\n",
      "    connection_args=self.connection_args)\n",
      "  File \"/home/ajasja/.conda/envs/pyro_scripts/lib/python3.6/site-packages/tornado/gen.py\", line 1133, in run\n",
      "    value = future.result()\n",
      "  File \"/home/ajasja/.conda/envs/pyro_scripts/lib/python3.6/site-packages/tornado/gen.py\", line 1141, in run\n",
      "    yielded = self.gen.throw(*exc_info)\n",
      "  File \"/home/ajasja/.conda/envs/pyro_scripts/lib/python3.6/site-packages/distributed/comm/core.py\", line 190, in connect\n",
      "    quiet_exceptions=EnvironmentError)\n",
      "  File \"/home/ajasja/.conda/envs/pyro_scripts/lib/python3.6/site-packages/tornado/gen.py\", line 1133, in run\n",
      "    value = future.result()\n",
      "  File \"/home/ajasja/.conda/envs/pyro_scripts/lib/python3.6/site-packages/tornado/gen.py\", line 1141, in run\n",
      "    yielded = self.gen.throw(*exc_info)\n",
      "  File \"/home/ajasja/.conda/envs/pyro_scripts/lib/python3.6/site-packages/distributed/comm/tcp.py\", line 334, in connect\n",
      "    **kwargs)\n",
      "  File \"/home/ajasja/.conda/envs/pyro_scripts/lib/python3.6/site-packages/tornado/gen.py\", line 1133, in run\n",
      "    value = future.result()\n",
      "  File \"/home/ajasja/.conda/envs/pyro_scripts/lib/python3.6/site-packages/tornado/gen.py\", line 1141, in run\n",
      "    yielded = self.gen.throw(*exc_info)\n",
      "  File \"/home/ajasja/.conda/envs/pyro_scripts/lib/python3.6/site-packages/tornado/tcpclient.py\", line 226, in connect\n",
      "    addrinfo = yield self.resolver.resolve(host, port, af)\n",
      "  File \"/home/ajasja/.conda/envs/pyro_scripts/lib/python3.6/site-packages/tornado/gen.py\", line 1133, in run\n",
      "    value = future.result()\n",
      "  File \"/home/ajasja/.conda/envs/pyro_scripts/lib/python3.6/site-packages/tornado/gen.py\", line 326, in wrapper\n",
      "    yielded = next(result)\n",
      "  File \"/home/ajasja/.conda/envs/pyro_scripts/lib/python3.6/site-packages/tornado/netutil.py\", line 378, in resolve\n",
      "    None, _resolve_addr, host, port, family)\n",
      "  File \"/home/ajasja/.conda/envs/pyro_scripts/lib/python3.6/site-packages/tornado/platform/asyncio.py\", line 166, in run_in_executor\n",
      "    return self.asyncio_loop.run_in_executor(executor, func, *args)\n",
      "  File \"/home/ajasja/.conda/envs/pyro_scripts/lib/python3.6/asyncio/base_events.py\", line 639, in run_in_executor\n",
      "    return futures.wrap_future(executor.submit(func, *args), loop=self)\n",
      "  File \"/home/ajasja/.conda/envs/pyro_scripts/lib/python3.6/concurrent/futures/thread.py\", line 123, in submit\n",
      "    self._adjust_thread_count()\n",
      "  File \"/home/ajasja/.conda/envs/pyro_scripts/lib/python3.6/concurrent/futures/thread.py\", line 142, in _adjust_thread_count\n",
      "    t.start()\n",
      "  File \"/home/ajasja/.conda/envs/pyro_scripts/lib/python3.6/threading.py\", line 846, in start\n",
      "    _start_new_thread(self._bootstrap, ())\n",
      "RuntimeError: can't start new thread\n"
     ]
    }
   ],
   "source": [
    "all_cut"
   ]
  },
  {
   "cell_type": "code",
   "execution_count": 12,
   "metadata": {},
   "outputs": [
    {
     "ename": "TimeoutError",
     "evalue": "Timeout",
     "output_type": "error",
     "traceback": [
      "\u001b[0;31m---------------------------------------------------------------------------\u001b[0m",
      "\u001b[0;31mTimeoutError\u001b[0m                              Traceback (most recent call last)",
      "\u001b[0;32m<ipython-input-12-686b45c378e9>\u001b[0m in \u001b[0;36m<module>\u001b[0;34m()\u001b[0m\n\u001b[1;32m      1\u001b[0m \u001b[0;32mimport\u001b[0m \u001b[0mdask\u001b[0m\u001b[0;34m\u001b[0m\u001b[0m\n\u001b[0;32m----> 2\u001b[0;31m \u001b[0mdask\u001b[0m\u001b[0;34m.\u001b[0m\u001b[0mdistributed\u001b[0m\u001b[0;34m.\u001b[0m\u001b[0mwait\u001b[0m\u001b[0;34m(\u001b[0m\u001b[0mres\u001b[0m\u001b[0;34m,\u001b[0m \u001b[0mtimeout\u001b[0m\u001b[0;34m=\u001b[0m\u001b[0;36m5\u001b[0m\u001b[0;34m)\u001b[0m\u001b[0;34m;\u001b[0m\u001b[0;34m\u001b[0m\u001b[0m\n\u001b[0m",
      "\u001b[0;32m~/.conda/envs/pyro_scripts/lib/python3.6/site-packages/distributed/client.py\u001b[0m in \u001b[0;36mwait\u001b[0;34m(fs, timeout, return_when)\u001b[0m\n\u001b[1;32m   3648\u001b[0m     \"\"\"\n\u001b[1;32m   3649\u001b[0m     \u001b[0mclient\u001b[0m \u001b[0;34m=\u001b[0m \u001b[0mdefault_client\u001b[0m\u001b[0;34m(\u001b[0m\u001b[0;34m)\u001b[0m\u001b[0;34m\u001b[0m\u001b[0m\n\u001b[0;32m-> 3650\u001b[0;31m     \u001b[0mresult\u001b[0m \u001b[0;34m=\u001b[0m \u001b[0mclient\u001b[0m\u001b[0;34m.\u001b[0m\u001b[0msync\u001b[0m\u001b[0;34m(\u001b[0m\u001b[0m_wait\u001b[0m\u001b[0;34m,\u001b[0m \u001b[0mfs\u001b[0m\u001b[0;34m,\u001b[0m \u001b[0mtimeout\u001b[0m\u001b[0;34m=\u001b[0m\u001b[0mtimeout\u001b[0m\u001b[0;34m,\u001b[0m \u001b[0mreturn_when\u001b[0m\u001b[0;34m=\u001b[0m\u001b[0mreturn_when\u001b[0m\u001b[0;34m)\u001b[0m\u001b[0;34m\u001b[0m\u001b[0m\n\u001b[0m\u001b[1;32m   3651\u001b[0m     \u001b[0;32mreturn\u001b[0m \u001b[0mresult\u001b[0m\u001b[0;34m\u001b[0m\u001b[0m\n\u001b[1;32m   3652\u001b[0m \u001b[0;34m\u001b[0m\u001b[0m\n",
      "\u001b[0;32m~/.conda/envs/pyro_scripts/lib/python3.6/site-packages/distributed/client.py\u001b[0m in \u001b[0;36msync\u001b[0;34m(self, func, *args, **kwargs)\u001b[0m\n\u001b[1;32m    674\u001b[0m             \u001b[0;32mreturn\u001b[0m \u001b[0mfuture\u001b[0m\u001b[0;34m\u001b[0m\u001b[0m\n\u001b[1;32m    675\u001b[0m         \u001b[0;32melse\u001b[0m\u001b[0;34m:\u001b[0m\u001b[0;34m\u001b[0m\u001b[0m\n\u001b[0;32m--> 676\u001b[0;31m             \u001b[0;32mreturn\u001b[0m \u001b[0msync\u001b[0m\u001b[0;34m(\u001b[0m\u001b[0mself\u001b[0m\u001b[0;34m.\u001b[0m\u001b[0mloop\u001b[0m\u001b[0;34m,\u001b[0m \u001b[0mfunc\u001b[0m\u001b[0;34m,\u001b[0m \u001b[0;34m*\u001b[0m\u001b[0margs\u001b[0m\u001b[0;34m,\u001b[0m \u001b[0;34m**\u001b[0m\u001b[0mkwargs\u001b[0m\u001b[0;34m)\u001b[0m\u001b[0;34m\u001b[0m\u001b[0m\n\u001b[0m\u001b[1;32m    677\u001b[0m \u001b[0;34m\u001b[0m\u001b[0m\n\u001b[1;32m    678\u001b[0m     \u001b[0;32mdef\u001b[0m \u001b[0m__repr__\u001b[0m\u001b[0;34m(\u001b[0m\u001b[0mself\u001b[0m\u001b[0;34m)\u001b[0m\u001b[0;34m:\u001b[0m\u001b[0;34m\u001b[0m\u001b[0m\n",
      "\u001b[0;32m~/.conda/envs/pyro_scripts/lib/python3.6/site-packages/distributed/utils.py\u001b[0m in \u001b[0;36msync\u001b[0;34m(loop, func, *args, **kwargs)\u001b[0m\n\u001b[1;32m    275\u001b[0m             \u001b[0me\u001b[0m\u001b[0;34m.\u001b[0m\u001b[0mwait\u001b[0m\u001b[0;34m(\u001b[0m\u001b[0;36m10\u001b[0m\u001b[0;34m)\u001b[0m\u001b[0;34m\u001b[0m\u001b[0m\n\u001b[1;32m    276\u001b[0m     \u001b[0;32mif\u001b[0m \u001b[0merror\u001b[0m\u001b[0;34m[\u001b[0m\u001b[0;36m0\u001b[0m\u001b[0;34m]\u001b[0m\u001b[0;34m:\u001b[0m\u001b[0;34m\u001b[0m\u001b[0m\n\u001b[0;32m--> 277\u001b[0;31m         \u001b[0msix\u001b[0m\u001b[0;34m.\u001b[0m\u001b[0mreraise\u001b[0m\u001b[0;34m(\u001b[0m\u001b[0;34m*\u001b[0m\u001b[0merror\u001b[0m\u001b[0;34m[\u001b[0m\u001b[0;36m0\u001b[0m\u001b[0;34m]\u001b[0m\u001b[0;34m)\u001b[0m\u001b[0;34m\u001b[0m\u001b[0m\n\u001b[0m\u001b[1;32m    278\u001b[0m     \u001b[0;32melse\u001b[0m\u001b[0;34m:\u001b[0m\u001b[0;34m\u001b[0m\u001b[0m\n\u001b[1;32m    279\u001b[0m         \u001b[0;32mreturn\u001b[0m \u001b[0mresult\u001b[0m\u001b[0;34m[\u001b[0m\u001b[0;36m0\u001b[0m\u001b[0;34m]\u001b[0m\u001b[0;34m\u001b[0m\u001b[0m\n",
      "\u001b[0;32m~/.conda/envs/pyro_scripts/lib/python3.6/site-packages/six.py\u001b[0m in \u001b[0;36mreraise\u001b[0;34m(tp, value, tb)\u001b[0m\n\u001b[1;32m    691\u001b[0m             \u001b[0;32mif\u001b[0m \u001b[0mvalue\u001b[0m\u001b[0;34m.\u001b[0m\u001b[0m__traceback__\u001b[0m \u001b[0;32mis\u001b[0m \u001b[0;32mnot\u001b[0m \u001b[0mtb\u001b[0m\u001b[0;34m:\u001b[0m\u001b[0;34m\u001b[0m\u001b[0m\n\u001b[1;32m    692\u001b[0m                 \u001b[0;32mraise\u001b[0m \u001b[0mvalue\u001b[0m\u001b[0;34m.\u001b[0m\u001b[0mwith_traceback\u001b[0m\u001b[0;34m(\u001b[0m\u001b[0mtb\u001b[0m\u001b[0;34m)\u001b[0m\u001b[0;34m\u001b[0m\u001b[0m\n\u001b[0;32m--> 693\u001b[0;31m             \u001b[0;32mraise\u001b[0m \u001b[0mvalue\u001b[0m\u001b[0;34m\u001b[0m\u001b[0m\n\u001b[0m\u001b[1;32m    694\u001b[0m         \u001b[0;32mfinally\u001b[0m\u001b[0;34m:\u001b[0m\u001b[0;34m\u001b[0m\u001b[0m\n\u001b[1;32m    695\u001b[0m             \u001b[0mvalue\u001b[0m \u001b[0;34m=\u001b[0m \u001b[0;32mNone\u001b[0m\u001b[0;34m\u001b[0m\u001b[0m\n",
      "\u001b[0;32m~/.conda/envs/pyro_scripts/lib/python3.6/site-packages/distributed/utils.py\u001b[0m in \u001b[0;36mf\u001b[0;34m()\u001b[0m\n\u001b[1;32m    260\u001b[0m             \u001b[0;32mif\u001b[0m \u001b[0mtimeout\u001b[0m \u001b[0;32mis\u001b[0m \u001b[0;32mnot\u001b[0m \u001b[0;32mNone\u001b[0m\u001b[0;34m:\u001b[0m\u001b[0;34m\u001b[0m\u001b[0m\n\u001b[1;32m    261\u001b[0m                 \u001b[0mfuture\u001b[0m \u001b[0;34m=\u001b[0m \u001b[0mgen\u001b[0m\u001b[0;34m.\u001b[0m\u001b[0mwith_timeout\u001b[0m\u001b[0;34m(\u001b[0m\u001b[0mtimedelta\u001b[0m\u001b[0;34m(\u001b[0m\u001b[0mseconds\u001b[0m\u001b[0;34m=\u001b[0m\u001b[0mtimeout\u001b[0m\u001b[0;34m)\u001b[0m\u001b[0;34m,\u001b[0m \u001b[0mfuture\u001b[0m\u001b[0;34m)\u001b[0m\u001b[0;34m\u001b[0m\u001b[0m\n\u001b[0;32m--> 262\u001b[0;31m             \u001b[0mresult\u001b[0m\u001b[0;34m[\u001b[0m\u001b[0;36m0\u001b[0m\u001b[0;34m]\u001b[0m \u001b[0;34m=\u001b[0m \u001b[0;32myield\u001b[0m \u001b[0mfuture\u001b[0m\u001b[0;34m\u001b[0m\u001b[0m\n\u001b[0m\u001b[1;32m    263\u001b[0m         \u001b[0;32mexcept\u001b[0m \u001b[0mException\u001b[0m \u001b[0;32mas\u001b[0m \u001b[0mexc\u001b[0m\u001b[0;34m:\u001b[0m\u001b[0;34m\u001b[0m\u001b[0m\n\u001b[1;32m    264\u001b[0m             \u001b[0merror\u001b[0m\u001b[0;34m[\u001b[0m\u001b[0;36m0\u001b[0m\u001b[0;34m]\u001b[0m \u001b[0;34m=\u001b[0m \u001b[0msys\u001b[0m\u001b[0;34m.\u001b[0m\u001b[0mexc_info\u001b[0m\u001b[0;34m(\u001b[0m\u001b[0;34m)\u001b[0m\u001b[0;34m\u001b[0m\u001b[0m\n",
      "\u001b[0;32m~/.conda/envs/pyro_scripts/lib/python3.6/site-packages/tornado/gen.py\u001b[0m in \u001b[0;36mrun\u001b[0;34m(self)\u001b[0m\n\u001b[1;32m   1131\u001b[0m \u001b[0;34m\u001b[0m\u001b[0m\n\u001b[1;32m   1132\u001b[0m                     \u001b[0;32mtry\u001b[0m\u001b[0;34m:\u001b[0m\u001b[0;34m\u001b[0m\u001b[0m\n\u001b[0;32m-> 1133\u001b[0;31m                         \u001b[0mvalue\u001b[0m \u001b[0;34m=\u001b[0m \u001b[0mfuture\u001b[0m\u001b[0;34m.\u001b[0m\u001b[0mresult\u001b[0m\u001b[0;34m(\u001b[0m\u001b[0;34m)\u001b[0m\u001b[0;34m\u001b[0m\u001b[0m\n\u001b[0m\u001b[1;32m   1134\u001b[0m                     \u001b[0;32mexcept\u001b[0m \u001b[0mException\u001b[0m\u001b[0;34m:\u001b[0m\u001b[0;34m\u001b[0m\u001b[0m\n\u001b[1;32m   1135\u001b[0m                         \u001b[0mself\u001b[0m\u001b[0;34m.\u001b[0m\u001b[0mhad_exception\u001b[0m \u001b[0;34m=\u001b[0m \u001b[0;32mTrue\u001b[0m\u001b[0;34m\u001b[0m\u001b[0m\n",
      "\u001b[0;32m~/.conda/envs/pyro_scripts/lib/python3.6/site-packages/tornado/gen.py\u001b[0m in \u001b[0;36mrun\u001b[0;34m(self)\u001b[0m\n\u001b[1;32m   1139\u001b[0m                     \u001b[0;32mif\u001b[0m \u001b[0mexc_info\u001b[0m \u001b[0;32mis\u001b[0m \u001b[0;32mnot\u001b[0m \u001b[0;32mNone\u001b[0m\u001b[0;34m:\u001b[0m\u001b[0;34m\u001b[0m\u001b[0m\n\u001b[1;32m   1140\u001b[0m                         \u001b[0;32mtry\u001b[0m\u001b[0;34m:\u001b[0m\u001b[0;34m\u001b[0m\u001b[0m\n\u001b[0;32m-> 1141\u001b[0;31m                             \u001b[0myielded\u001b[0m \u001b[0;34m=\u001b[0m \u001b[0mself\u001b[0m\u001b[0;34m.\u001b[0m\u001b[0mgen\u001b[0m\u001b[0;34m.\u001b[0m\u001b[0mthrow\u001b[0m\u001b[0;34m(\u001b[0m\u001b[0;34m*\u001b[0m\u001b[0mexc_info\u001b[0m\u001b[0;34m)\u001b[0m\u001b[0;34m\u001b[0m\u001b[0m\n\u001b[0m\u001b[1;32m   1142\u001b[0m                         \u001b[0;32mfinally\u001b[0m\u001b[0;34m:\u001b[0m\u001b[0;34m\u001b[0m\u001b[0m\n\u001b[1;32m   1143\u001b[0m                             \u001b[0;31m# Break up a reference to itself\u001b[0m\u001b[0;34m\u001b[0m\u001b[0;34m\u001b[0m\u001b[0m\n",
      "\u001b[0;32m~/.conda/envs/pyro_scripts/lib/python3.6/site-packages/distributed/client.py\u001b[0m in \u001b[0;36m_wait\u001b[0;34m(fs, timeout, return_when)\u001b[0m\n\u001b[1;32m   3621\u001b[0m         \u001b[0;32mif\u001b[0m \u001b[0mtimeout\u001b[0m \u001b[0;32mis\u001b[0m \u001b[0;32mnot\u001b[0m \u001b[0;32mNone\u001b[0m\u001b[0;34m:\u001b[0m\u001b[0;34m\u001b[0m\u001b[0m\n\u001b[1;32m   3622\u001b[0m             \u001b[0mfuture\u001b[0m \u001b[0;34m=\u001b[0m \u001b[0mgen\u001b[0m\u001b[0;34m.\u001b[0m\u001b[0mwith_timeout\u001b[0m\u001b[0;34m(\u001b[0m\u001b[0mtimedelta\u001b[0m\u001b[0;34m(\u001b[0m\u001b[0mseconds\u001b[0m\u001b[0;34m=\u001b[0m\u001b[0mtimeout\u001b[0m\u001b[0;34m)\u001b[0m\u001b[0;34m,\u001b[0m \u001b[0mfuture\u001b[0m\u001b[0;34m)\u001b[0m\u001b[0;34m\u001b[0m\u001b[0m\n\u001b[0;32m-> 3623\u001b[0;31m         \u001b[0;32myield\u001b[0m \u001b[0mfuture\u001b[0m\u001b[0;34m\u001b[0m\u001b[0m\n\u001b[0m\u001b[1;32m   3624\u001b[0m         \u001b[0mdone\u001b[0m\u001b[0;34m,\u001b[0m \u001b[0mnot_done\u001b[0m \u001b[0;34m=\u001b[0m \u001b[0mset\u001b[0m\u001b[0;34m(\u001b[0m\u001b[0mfs\u001b[0m\u001b[0;34m)\u001b[0m\u001b[0;34m,\u001b[0m \u001b[0mset\u001b[0m\u001b[0;34m(\u001b[0m\u001b[0;34m)\u001b[0m\u001b[0;34m\u001b[0m\u001b[0m\n\u001b[1;32m   3625\u001b[0m         cancelled = [f.key for f in done\n",
      "\u001b[0;32m~/.conda/envs/pyro_scripts/lib/python3.6/site-packages/tornado/gen.py\u001b[0m in \u001b[0;36mrun\u001b[0;34m(self)\u001b[0m\n\u001b[1;32m   1131\u001b[0m \u001b[0;34m\u001b[0m\u001b[0m\n\u001b[1;32m   1132\u001b[0m                     \u001b[0;32mtry\u001b[0m\u001b[0;34m:\u001b[0m\u001b[0;34m\u001b[0m\u001b[0m\n\u001b[0;32m-> 1133\u001b[0;31m                         \u001b[0mvalue\u001b[0m \u001b[0;34m=\u001b[0m \u001b[0mfuture\u001b[0m\u001b[0;34m.\u001b[0m\u001b[0mresult\u001b[0m\u001b[0;34m(\u001b[0m\u001b[0;34m)\u001b[0m\u001b[0;34m\u001b[0m\u001b[0m\n\u001b[0m\u001b[1;32m   1134\u001b[0m                     \u001b[0;32mexcept\u001b[0m \u001b[0mException\u001b[0m\u001b[0;34m:\u001b[0m\u001b[0;34m\u001b[0m\u001b[0m\n\u001b[1;32m   1135\u001b[0m                         \u001b[0mself\u001b[0m\u001b[0;34m.\u001b[0m\u001b[0mhad_exception\u001b[0m \u001b[0;34m=\u001b[0m \u001b[0;32mTrue\u001b[0m\u001b[0;34m\u001b[0m\u001b[0m\n",
      "\u001b[0;31mTimeoutError\u001b[0m: Timeout"
     ]
    }
   ],
   "source": [
    "import dask\n",
    "dask.distributed.wait(res, timeout=5);"
   ]
  },
  {
   "cell_type": "code",
   "execution_count": 16,
   "metadata": {},
   "outputs": [],
   "source": [
    "retry_futures = []\n",
    "for k, v in client.who_has().items():\n",
    "    future = dask.distributed.Future(key=k, client=client, inform=True, state=None)\n",
    "    if future.status == \"error\":\n",
    "        retry_futures.append(future)\n",
    "        "
   ]
  },
  {
   "cell_type": "code",
   "execution_count": 18,
   "metadata": {},
   "outputs": [],
   "source": [
    "client.retry(retry_futures)"
   ]
  },
  {
   "cell_type": "code",
   "execution_count": 20,
   "metadata": {},
   "outputs": [],
   "source": [
    "###Do reloop\n",
    "def do_reloop(struct_name):\n",
    "    reloop = truncator.reloop(struct_name, \"out/R2/relooped/random\", \n",
    "                          rosetta_bin=\"/home/brunette/src/Rosetta_dev/main/source/bin/rosetta_scripts.hdf5.linuxgccrelease\",\n",
    "                          script_name=\"truncator/xml/12_redesign_loops_tl_gen_profile_SymAnn.xml\",\n",
    "                            test_run=False, skip_existing=True)\n",
    "    return reloop"
   ]
  },
  {
   "cell_type": "code",
   "execution_count": null,
   "metadata": {},
   "outputs": [],
   "source": []
  },
  {
   "cell_type": "code",
   "execution_count": 22,
   "metadata": {},
   "outputs": [],
   "source": [
    "\n",
    "structs = glob(\"out/R2/cut/3.0H/*.pdb\"); structs\n",
    "rstructs = np.random.choice(structs, 100); \n",
    "rstructs = sorted(set(rstructs)); \n",
    "rstructs;"
   ]
  },
  {
   "cell_type": "code",
   "execution_count": 23,
   "metadata": {},
   "outputs": [],
   "source": [
    "res = client.map(do_reloop, rstructs)\n",
    "results = client.gather(res)"
   ]
  },
  {
   "cell_type": "code",
   "execution_count": 24,
   "metadata": {},
   "outputs": [],
   "source": [
    "lstructs = truncator.find_no_output_pdbs(\"out/R2/relooped/random\", ignore_unfinished=True) \n",
    "all_struct = glob(\"out/R2/cut/*/*.pdb\")\n",
    "lstructs = [truncator.find_input(os.path.basename(struct), all_struct) for struct in lstructs]"
   ]
  },
  {
   "cell_type": "code",
   "execution_count": 25,
   "metadata": {},
   "outputs": [],
   "source": [
    "import sys\n",
    "def do_reloop_longer(struct_name):\n",
    "    reloop = truncator.reloop(struct_name, \"out/R2/relooped/random_longer_loops\", \n",
    "                          rosetta_bin=\"/home/brunette/src/Rosetta_dev/main/source/bin/rosetta_scripts.hdf5.linuxgccrelease\",\n",
    "                          script_name=\"truncator/xml/13_redesign_loops_tl_gen_profile_SymAnn_longerloops.xml\",\n",
    "                            test_run=False, skip_existing=True)\n",
    "    return reloop\n",
    "    \n"
   ]
  },
  {
   "cell_type": "code",
   "execution_count": 26,
   "metadata": {},
   "outputs": [
    {
     "ename": "KilledWorker",
     "evalue": "('do_reloop_longer-a3bea14f4fc1223abd43ce9f98c8fe84', 'tcp://172.16.131.59:29787')",
     "output_type": "error",
     "traceback": [
      "\u001b[0;31m---------------------------------------------------------------------------\u001b[0m",
      "\u001b[0;31mKilledWorker\u001b[0m                              Traceback (most recent call last)",
      "\u001b[0;32m<ipython-input-26-8ac4491448fd>\u001b[0m in \u001b[0;36m<module>\u001b[0;34m()\u001b[0m\n\u001b[1;32m      1\u001b[0m \u001b[0mres\u001b[0m \u001b[0;34m=\u001b[0m \u001b[0mclient\u001b[0m\u001b[0;34m.\u001b[0m\u001b[0mmap\u001b[0m\u001b[0;34m(\u001b[0m\u001b[0mdo_reloop_longer\u001b[0m\u001b[0;34m,\u001b[0m \u001b[0mlstructs\u001b[0m\u001b[0;34m)\u001b[0m\u001b[0;34m\u001b[0m\u001b[0m\n\u001b[0;32m----> 2\u001b[0;31m \u001b[0mresults\u001b[0m \u001b[0;34m=\u001b[0m \u001b[0mclient\u001b[0m\u001b[0;34m.\u001b[0m\u001b[0mgather\u001b[0m\u001b[0;34m(\u001b[0m\u001b[0mres\u001b[0m\u001b[0;34m)\u001b[0m\u001b[0;34m\u001b[0m\u001b[0m\n\u001b[0m",
      "\u001b[0;32m~/.conda/envs/pyro_scripts/lib/python3.6/site-packages/distributed/client.py\u001b[0m in \u001b[0;36mgather\u001b[0;34m(self, futures, errors, maxsize, direct, asynchronous)\u001b[0m\n\u001b[1;32m   1660\u001b[0m             return self.sync(self._gather, futures, errors=errors,\n\u001b[1;32m   1661\u001b[0m                              \u001b[0mdirect\u001b[0m\u001b[0;34m=\u001b[0m\u001b[0mdirect\u001b[0m\u001b[0;34m,\u001b[0m \u001b[0mlocal_worker\u001b[0m\u001b[0;34m=\u001b[0m\u001b[0mlocal_worker\u001b[0m\u001b[0;34m,\u001b[0m\u001b[0;34m\u001b[0m\u001b[0m\n\u001b[0;32m-> 1662\u001b[0;31m                              asynchronous=asynchronous)\n\u001b[0m\u001b[1;32m   1663\u001b[0m \u001b[0;34m\u001b[0m\u001b[0m\n\u001b[1;32m   1664\u001b[0m     \u001b[0;34m@\u001b[0m\u001b[0mgen\u001b[0m\u001b[0;34m.\u001b[0m\u001b[0mcoroutine\u001b[0m\u001b[0;34m\u001b[0m\u001b[0m\n",
      "\u001b[0;32m~/.conda/envs/pyro_scripts/lib/python3.6/site-packages/distributed/client.py\u001b[0m in \u001b[0;36msync\u001b[0;34m(self, func, *args, **kwargs)\u001b[0m\n\u001b[1;32m    674\u001b[0m             \u001b[0;32mreturn\u001b[0m \u001b[0mfuture\u001b[0m\u001b[0;34m\u001b[0m\u001b[0m\n\u001b[1;32m    675\u001b[0m         \u001b[0;32melse\u001b[0m\u001b[0;34m:\u001b[0m\u001b[0;34m\u001b[0m\u001b[0m\n\u001b[0;32m--> 676\u001b[0;31m             \u001b[0;32mreturn\u001b[0m \u001b[0msync\u001b[0m\u001b[0;34m(\u001b[0m\u001b[0mself\u001b[0m\u001b[0;34m.\u001b[0m\u001b[0mloop\u001b[0m\u001b[0;34m,\u001b[0m \u001b[0mfunc\u001b[0m\u001b[0;34m,\u001b[0m \u001b[0;34m*\u001b[0m\u001b[0margs\u001b[0m\u001b[0;34m,\u001b[0m \u001b[0;34m**\u001b[0m\u001b[0mkwargs\u001b[0m\u001b[0;34m)\u001b[0m\u001b[0;34m\u001b[0m\u001b[0m\n\u001b[0m\u001b[1;32m    677\u001b[0m \u001b[0;34m\u001b[0m\u001b[0m\n\u001b[1;32m    678\u001b[0m     \u001b[0;32mdef\u001b[0m \u001b[0m__repr__\u001b[0m\u001b[0;34m(\u001b[0m\u001b[0mself\u001b[0m\u001b[0;34m)\u001b[0m\u001b[0;34m:\u001b[0m\u001b[0;34m\u001b[0m\u001b[0m\n",
      "\u001b[0;32m~/.conda/envs/pyro_scripts/lib/python3.6/site-packages/distributed/utils.py\u001b[0m in \u001b[0;36msync\u001b[0;34m(loop, func, *args, **kwargs)\u001b[0m\n\u001b[1;32m    275\u001b[0m             \u001b[0me\u001b[0m\u001b[0;34m.\u001b[0m\u001b[0mwait\u001b[0m\u001b[0;34m(\u001b[0m\u001b[0;36m10\u001b[0m\u001b[0;34m)\u001b[0m\u001b[0;34m\u001b[0m\u001b[0m\n\u001b[1;32m    276\u001b[0m     \u001b[0;32mif\u001b[0m \u001b[0merror\u001b[0m\u001b[0;34m[\u001b[0m\u001b[0;36m0\u001b[0m\u001b[0;34m]\u001b[0m\u001b[0;34m:\u001b[0m\u001b[0;34m\u001b[0m\u001b[0m\n\u001b[0;32m--> 277\u001b[0;31m         \u001b[0msix\u001b[0m\u001b[0;34m.\u001b[0m\u001b[0mreraise\u001b[0m\u001b[0;34m(\u001b[0m\u001b[0;34m*\u001b[0m\u001b[0merror\u001b[0m\u001b[0;34m[\u001b[0m\u001b[0;36m0\u001b[0m\u001b[0;34m]\u001b[0m\u001b[0;34m)\u001b[0m\u001b[0;34m\u001b[0m\u001b[0m\n\u001b[0m\u001b[1;32m    278\u001b[0m     \u001b[0;32melse\u001b[0m\u001b[0;34m:\u001b[0m\u001b[0;34m\u001b[0m\u001b[0m\n\u001b[1;32m    279\u001b[0m         \u001b[0;32mreturn\u001b[0m \u001b[0mresult\u001b[0m\u001b[0;34m[\u001b[0m\u001b[0;36m0\u001b[0m\u001b[0;34m]\u001b[0m\u001b[0;34m\u001b[0m\u001b[0m\n",
      "\u001b[0;32m~/.conda/envs/pyro_scripts/lib/python3.6/site-packages/six.py\u001b[0m in \u001b[0;36mreraise\u001b[0;34m(tp, value, tb)\u001b[0m\n\u001b[1;32m    691\u001b[0m             \u001b[0;32mif\u001b[0m \u001b[0mvalue\u001b[0m\u001b[0;34m.\u001b[0m\u001b[0m__traceback__\u001b[0m \u001b[0;32mis\u001b[0m \u001b[0;32mnot\u001b[0m \u001b[0mtb\u001b[0m\u001b[0;34m:\u001b[0m\u001b[0;34m\u001b[0m\u001b[0m\n\u001b[1;32m    692\u001b[0m                 \u001b[0;32mraise\u001b[0m \u001b[0mvalue\u001b[0m\u001b[0;34m.\u001b[0m\u001b[0mwith_traceback\u001b[0m\u001b[0;34m(\u001b[0m\u001b[0mtb\u001b[0m\u001b[0;34m)\u001b[0m\u001b[0;34m\u001b[0m\u001b[0m\n\u001b[0;32m--> 693\u001b[0;31m             \u001b[0;32mraise\u001b[0m \u001b[0mvalue\u001b[0m\u001b[0;34m\u001b[0m\u001b[0m\n\u001b[0m\u001b[1;32m    694\u001b[0m         \u001b[0;32mfinally\u001b[0m\u001b[0;34m:\u001b[0m\u001b[0;34m\u001b[0m\u001b[0m\n\u001b[1;32m    695\u001b[0m             \u001b[0mvalue\u001b[0m \u001b[0;34m=\u001b[0m \u001b[0;32mNone\u001b[0m\u001b[0;34m\u001b[0m\u001b[0m\n",
      "\u001b[0;32m~/.conda/envs/pyro_scripts/lib/python3.6/site-packages/distributed/utils.py\u001b[0m in \u001b[0;36mf\u001b[0;34m()\u001b[0m\n\u001b[1;32m    260\u001b[0m             \u001b[0;32mif\u001b[0m \u001b[0mtimeout\u001b[0m \u001b[0;32mis\u001b[0m \u001b[0;32mnot\u001b[0m \u001b[0;32mNone\u001b[0m\u001b[0;34m:\u001b[0m\u001b[0;34m\u001b[0m\u001b[0m\n\u001b[1;32m    261\u001b[0m                 \u001b[0mfuture\u001b[0m \u001b[0;34m=\u001b[0m \u001b[0mgen\u001b[0m\u001b[0;34m.\u001b[0m\u001b[0mwith_timeout\u001b[0m\u001b[0;34m(\u001b[0m\u001b[0mtimedelta\u001b[0m\u001b[0;34m(\u001b[0m\u001b[0mseconds\u001b[0m\u001b[0;34m=\u001b[0m\u001b[0mtimeout\u001b[0m\u001b[0;34m)\u001b[0m\u001b[0;34m,\u001b[0m \u001b[0mfuture\u001b[0m\u001b[0;34m)\u001b[0m\u001b[0;34m\u001b[0m\u001b[0m\n\u001b[0;32m--> 262\u001b[0;31m             \u001b[0mresult\u001b[0m\u001b[0;34m[\u001b[0m\u001b[0;36m0\u001b[0m\u001b[0;34m]\u001b[0m \u001b[0;34m=\u001b[0m \u001b[0;32myield\u001b[0m \u001b[0mfuture\u001b[0m\u001b[0;34m\u001b[0m\u001b[0m\n\u001b[0m\u001b[1;32m    263\u001b[0m         \u001b[0;32mexcept\u001b[0m \u001b[0mException\u001b[0m \u001b[0;32mas\u001b[0m \u001b[0mexc\u001b[0m\u001b[0;34m:\u001b[0m\u001b[0;34m\u001b[0m\u001b[0m\n\u001b[1;32m    264\u001b[0m             \u001b[0merror\u001b[0m\u001b[0;34m[\u001b[0m\u001b[0;36m0\u001b[0m\u001b[0;34m]\u001b[0m \u001b[0;34m=\u001b[0m \u001b[0msys\u001b[0m\u001b[0;34m.\u001b[0m\u001b[0mexc_info\u001b[0m\u001b[0;34m(\u001b[0m\u001b[0;34m)\u001b[0m\u001b[0;34m\u001b[0m\u001b[0m\n",
      "\u001b[0;32m~/.conda/envs/pyro_scripts/lib/python3.6/site-packages/tornado/gen.py\u001b[0m in \u001b[0;36mrun\u001b[0;34m(self)\u001b[0m\n\u001b[1;32m   1131\u001b[0m \u001b[0;34m\u001b[0m\u001b[0m\n\u001b[1;32m   1132\u001b[0m                     \u001b[0;32mtry\u001b[0m\u001b[0;34m:\u001b[0m\u001b[0;34m\u001b[0m\u001b[0m\n\u001b[0;32m-> 1133\u001b[0;31m                         \u001b[0mvalue\u001b[0m \u001b[0;34m=\u001b[0m \u001b[0mfuture\u001b[0m\u001b[0;34m.\u001b[0m\u001b[0mresult\u001b[0m\u001b[0;34m(\u001b[0m\u001b[0;34m)\u001b[0m\u001b[0;34m\u001b[0m\u001b[0m\n\u001b[0m\u001b[1;32m   1134\u001b[0m                     \u001b[0;32mexcept\u001b[0m \u001b[0mException\u001b[0m\u001b[0;34m:\u001b[0m\u001b[0;34m\u001b[0m\u001b[0m\n\u001b[1;32m   1135\u001b[0m                         \u001b[0mself\u001b[0m\u001b[0;34m.\u001b[0m\u001b[0mhad_exception\u001b[0m \u001b[0;34m=\u001b[0m \u001b[0;32mTrue\u001b[0m\u001b[0;34m\u001b[0m\u001b[0m\n",
      "\u001b[0;32m~/.conda/envs/pyro_scripts/lib/python3.6/site-packages/tornado/gen.py\u001b[0m in \u001b[0;36mrun\u001b[0;34m(self)\u001b[0m\n\u001b[1;32m   1139\u001b[0m                     \u001b[0;32mif\u001b[0m \u001b[0mexc_info\u001b[0m \u001b[0;32mis\u001b[0m \u001b[0;32mnot\u001b[0m \u001b[0;32mNone\u001b[0m\u001b[0;34m:\u001b[0m\u001b[0;34m\u001b[0m\u001b[0m\n\u001b[1;32m   1140\u001b[0m                         \u001b[0;32mtry\u001b[0m\u001b[0;34m:\u001b[0m\u001b[0;34m\u001b[0m\u001b[0m\n\u001b[0;32m-> 1141\u001b[0;31m                             \u001b[0myielded\u001b[0m \u001b[0;34m=\u001b[0m \u001b[0mself\u001b[0m\u001b[0;34m.\u001b[0m\u001b[0mgen\u001b[0m\u001b[0;34m.\u001b[0m\u001b[0mthrow\u001b[0m\u001b[0;34m(\u001b[0m\u001b[0;34m*\u001b[0m\u001b[0mexc_info\u001b[0m\u001b[0;34m)\u001b[0m\u001b[0;34m\u001b[0m\u001b[0m\n\u001b[0m\u001b[1;32m   1142\u001b[0m                         \u001b[0;32mfinally\u001b[0m\u001b[0;34m:\u001b[0m\u001b[0;34m\u001b[0m\u001b[0m\n\u001b[1;32m   1143\u001b[0m                             \u001b[0;31m# Break up a reference to itself\u001b[0m\u001b[0;34m\u001b[0m\u001b[0;34m\u001b[0m\u001b[0m\n",
      "\u001b[0;32m~/.conda/envs/pyro_scripts/lib/python3.6/site-packages/distributed/client.py\u001b[0m in \u001b[0;36m_gather\u001b[0;34m(self, futures, errors, direct, local_worker)\u001b[0m\n\u001b[1;32m   1501\u001b[0m                             six.reraise(type(exception),\n\u001b[1;32m   1502\u001b[0m                                         \u001b[0mexception\u001b[0m\u001b[0;34m,\u001b[0m\u001b[0;34m\u001b[0m\u001b[0m\n\u001b[0;32m-> 1503\u001b[0;31m                                         traceback)\n\u001b[0m\u001b[1;32m   1504\u001b[0m                     \u001b[0;32mif\u001b[0m \u001b[0merrors\u001b[0m \u001b[0;34m==\u001b[0m \u001b[0;34m'skip'\u001b[0m\u001b[0;34m:\u001b[0m\u001b[0;34m\u001b[0m\u001b[0m\n\u001b[1;32m   1505\u001b[0m                         \u001b[0mbad_keys\u001b[0m\u001b[0;34m.\u001b[0m\u001b[0madd\u001b[0m\u001b[0;34m(\u001b[0m\u001b[0mkey\u001b[0m\u001b[0;34m)\u001b[0m\u001b[0;34m\u001b[0m\u001b[0m\n",
      "\u001b[0;32m~/.conda/envs/pyro_scripts/lib/python3.6/site-packages/six.py\u001b[0m in \u001b[0;36mreraise\u001b[0;34m(tp, value, tb)\u001b[0m\n\u001b[1;32m    691\u001b[0m             \u001b[0;32mif\u001b[0m \u001b[0mvalue\u001b[0m\u001b[0;34m.\u001b[0m\u001b[0m__traceback__\u001b[0m \u001b[0;32mis\u001b[0m \u001b[0;32mnot\u001b[0m \u001b[0mtb\u001b[0m\u001b[0;34m:\u001b[0m\u001b[0;34m\u001b[0m\u001b[0m\n\u001b[1;32m    692\u001b[0m                 \u001b[0;32mraise\u001b[0m \u001b[0mvalue\u001b[0m\u001b[0;34m.\u001b[0m\u001b[0mwith_traceback\u001b[0m\u001b[0;34m(\u001b[0m\u001b[0mtb\u001b[0m\u001b[0;34m)\u001b[0m\u001b[0;34m\u001b[0m\u001b[0m\n\u001b[0;32m--> 693\u001b[0;31m             \u001b[0;32mraise\u001b[0m \u001b[0mvalue\u001b[0m\u001b[0;34m\u001b[0m\u001b[0m\n\u001b[0m\u001b[1;32m    694\u001b[0m         \u001b[0;32mfinally\u001b[0m\u001b[0;34m:\u001b[0m\u001b[0;34m\u001b[0m\u001b[0m\n\u001b[1;32m    695\u001b[0m             \u001b[0mvalue\u001b[0m \u001b[0;34m=\u001b[0m \u001b[0;32mNone\u001b[0m\u001b[0;34m\u001b[0m\u001b[0m\n",
      "\u001b[0;31mKilledWorker\u001b[0m: ('do_reloop_longer-a3bea14f4fc1223abd43ce9f98c8fe84', 'tcp://172.16.131.59:29787')"
     ]
    }
   ],
   "source": [
    "res = client.map(do_reloop_longer, lstructs)\n",
    "results = client.gather(res)"
   ]
  },
  {
   "cell_type": "code",
   "execution_count": null,
   "metadata": {},
   "outputs": [],
   "source": []
  },
  {
   "cell_type": "code",
   "execution_count": null,
   "metadata": {},
   "outputs": [],
   "source": []
  },
  {
   "cell_type": "code",
   "execution_count": null,
   "metadata": {},
   "outputs": [],
   "source": [
    "truncator.regroup_chains(\"testing_out//ZCON_37_3+1__numH4__from-22.25__to17.45.pdb\", \"testing_out/grouped\",\n",
    "                        new_chain_A=\"AB\", new_chain_B=\"CD\")"
   ]
  },
  {
   "cell_type": "code",
   "execution_count": null,
   "metadata": {},
   "outputs": [],
   "source": [
    "truncator.regroup_chains(\"testing_out//ZCON_37_3+1__numH4__from-22.25__to17.45.pdb\", \"testing_out/grouped\",\n",
    "                        new_chain_A=\"C\", new_chain_B=\"ABD\", save_segi=\"True\")"
   ]
  },
  {
   "cell_type": "code",
   "execution_count": null,
   "metadata": {},
   "outputs": [],
   "source": [
    "truncator.regroup_chains(\"testing_out//ZCON_37_3+1__numH4__from-22.25__to17.45.pdb\", \"testing_out/grouped\",\n",
    "                        new_chain_A=\"C\", new_chain_B=\"ABD\", save_segi=False,\n",
    "                        out_name=\"testing_out/grouped/ZCON_37_3+1__numH4__from-22.25__to17.45__grC-ABD.nosegi.pdb\")"
   ]
  },
  {
   "cell_type": "code",
   "execution_count": null,
   "metadata": {},
   "outputs": [],
   "source": [
    "#cmd.load(\"testing_out//ZCON_37_3+1__numH4__from-22.25__to17.45.pdb\")\n",
    "#m = cmd.get_model(\"chain A\")"
   ]
  },
  {
   "cell_type": "code",
   "execution_count": null,
   "metadata": {},
   "outputs": [],
   "source": [
    "pdb_files = glob(\"testing_out/grouped/*.pdb\")\n",
    "pdb_files"
   ]
  },
  {
   "cell_type": "code",
   "execution_count": null,
   "metadata": {},
   "outputs": [],
   "source": [
    "%%time\n",
    "sf= []\n",
    "for pdb in pdb_files:\n",
    "    sf.append(truncator.score_interface(pdb,\n",
    "                    script_name=\"truncator/xml/03_FD_FR_and_scoring_benchmark_v3_digs_updated_schema_BUNS3_IA_quick_no_holes.xml\",\n",
    "                    out_dir=\"testing_out/grouped/scoring\", test_run=False))\n",
    "sf"
   ]
  },
  {
   "cell_type": "code",
   "execution_count": null,
   "metadata": {},
   "outputs": [],
   "source": [
    "import truncator\n",
    "score_files = sorted(glob(\"testing_out/grouped/*_IA.sc\"))\n",
    "score_files"
   ]
  },
  {
   "cell_type": "code",
   "execution_count": null,
   "metadata": {},
   "outputs": [],
   "source": [
    "scores = truncator.read_score_files(score_files, skiprows=False, load_seq=False).set_index('decoy')\n",
    "with pd.option_context(\"display.max_rows\", 1000, \"display.max_colwidth\", 80, \"display.width\", 50):\n",
    "    display(scores.transpose())"
   ]
  },
  {
   "cell_type": "code",
   "execution_count": null,
   "metadata": {},
   "outputs": [],
   "source": []
  },
  {
   "cell_type": "code",
   "execution_count": null,
   "metadata": {},
   "outputs": [],
   "source": [
    "score"
   ]
  },
  {
   "cell_type": "code",
   "execution_count": null,
   "metadata": {},
   "outputs": [],
   "source": []
  },
  {
   "cell_type": "code",
   "execution_count": null,
   "metadata": {},
   "outputs": [],
   "source": [
    "files = sorted(glob(\"testing_out/grouped/*_IA*.sc\"), reverse=True)\n",
    "files"
   ]
  },
  {
   "cell_type": "code",
   "execution_count": null,
   "metadata": {},
   "outputs": [],
   "source": []
  },
  {
   "cell_type": "code",
   "execution_count": null,
   "metadata": {},
   "outputs": [],
   "source": []
  },
  {
   "cell_type": "code",
   "execution_count": null,
   "metadata": {},
   "outputs": [],
   "source": [
    "scores_sasa = [col for col in scores.columns if \"sasa\" in col.lower()]\n",
    "scores_sasa\n",
    "with pd.option_context(\"display.max_rows\", 1000, \"display.max_colwidth\", 80, \"display.width\", 50):\n",
    "    display(scores[scores_sasa].transpose())"
   ]
  },
  {
   "cell_type": "code",
   "execution_count": null,
   "metadata": {},
   "outputs": [],
   "source": [
    "scores_hbond = [col for col in scores.columns if \"loop_sc\" in col.lower()]\n",
    "scores_hbond\n",
    "with pd.option_context(\"display.max_rows\", 1000, \"display.max_colwidth\", 80, \"display.width\", 50):\n",
    "    display(scores[scores_hbond].transpose())"
   ]
  },
  {
   "cell_type": "code",
   "execution_count": null,
   "metadata": {},
   "outputs": [],
   "source": [
    "truncator.score_interface(\"data/ZCON_37_N3_C1_2.pdb\",\n",
    "                script_name=\"truncator/xml/04_FD_FR_and_scoring_benchmark_v3_digs_updated_schema_BUNS3_IA_select.xml\",\n",
    "                out_dir=\"testing_out/grouped\", tee=False, test_run=True)"
   ]
  },
  {
   "cell_type": "code",
   "execution_count": null,
   "metadata": {},
   "outputs": [],
   "source": [
    "\n",
    "scores = truncator.read_score_files(['testing_out/grouped/ZCON_37_N3_C1_2_IA.sc'], skiprows=False, load_seq=False).set_index('description')\n",
    "with pd.option_context(\"display.max_rows\", 1000, \"display.max_colwidth\", 80, \"display.width\", 50):\n",
    "    display(scores.transpose())"
   ]
  },
  {
   "cell_type": "code",
   "execution_count": null,
   "metadata": {},
   "outputs": [],
   "source": [
    "interesting_cols = \"\"\"\n",
    "interface_averageDegree_chA\n",
    "interface_averageDegree_chB\n",
    "interface_buried_sasa\n",
    "interface_contactcount\n",
    "interface_fxn_hydrophobic\n",
    "interface_hbonds\n",
    "interface_holes\n",
    "interface_hydrophobic_sasa\n",
    "interface_polar_sasa\n",
    "interface_salt_bridges\n",
    "interface_sc\n",
    "interface_sc_int_area\n",
    "interface_unsat_hbond1\n",
    "interface_unsat_hbond2\n",
    "cross_interface_energy_IA\n",
    "cross_interface_hbonds_IA\n",
    "delta_unsat_hbonds_IA\n",
    "hbond_energy_IA\n",
    "interface_delta_sasa_IA\n",
    "interface_hydrophobic_sasa_IA\n",
    "interface_polar_sasa_IA\n",
    "exposed_hydrophobics\n",
    "exposed_polars\n",
    "exposed_total\n",
    "\"\"\".split()\n",
    "#print(\"\\n\".join(list(df.columns)))\n",
    "df[interesting_cols].transpose()"
   ]
  },
  {
   "cell_type": "code",
   "execution_count": null,
   "metadata": {},
   "outputs": [],
   "source": [
    "import os\n",
    "import subprocess, sys\n",
    "os.system(\"echo TEST\")\n",
    "!ls -l"
   ]
  },
  {
   "cell_type": "code",
   "execution_count": null,
   "metadata": {},
   "outputs": [],
   "source": [
    "pd.set_option('display.max_rows', None)\n",
    "pd.options.display.max_columns=None\n",
    "df.transpose()"
   ]
  },
  {
   "cell_type": "code",
   "execution_count": null,
   "metadata": {},
   "outputs": [],
   "source": [
    "import dask\n",
    "from dask_jobqueue import SLURMCluster\n",
    "\n",
    "cluster = SLURMCluster(cores=1,\n",
    "                     memory=\"2GB\",\n",
    "                     queue='interactive',)\n",
    "cluster.scale(4)\n",
    "\n",
    "from dask.distributed import Client\n",
    "client = Client(cluster)"
   ]
  },
  {
   "cell_type": "code",
   "execution_count": null,
   "metadata": {},
   "outputs": [],
   "source": []
  }
 ],
 "metadata": {
  "kernelspec": {
   "display_name": "Python [conda env:pyro_scripts]",
   "language": "python",
   "name": "conda-env-pyro_scripts-py"
  },
  "language_info": {
   "codemirror_mode": {
    "name": "ipython",
    "version": 3
   },
   "file_extension": ".py",
   "mimetype": "text/x-python",
   "name": "python",
   "nbconvert_exporter": "python",
   "pygments_lexer": "ipython3",
   "version": "3.6.6"
  }
 },
 "nbformat": 4,
 "nbformat_minor": 2
}
