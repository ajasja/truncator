{
 "cells": [
  {
   "cell_type": "code",
   "execution_count": 1,
   "metadata": {},
   "outputs": [
    {
     "name": "stdout",
     "output_type": "stream",
     "text": [
      "/net/scratch/ajasja/projects/truncator/R4_crystal_nMS_Y2H\n",
      "dig3\n"
     ]
    }
   ],
   "source": [
    "%load_ext autoreload\n",
    "%autoreload 2\n",
    "!pwd\n",
    "!hostname"
   ]
  },
  {
   "cell_type": "code",
   "execution_count": 2,
   "metadata": {},
   "outputs": [],
   "source": [
    "import numpy as np\n",
    "from glob import glob\n",
    "import numpy as np\n",
    "import os\n",
    "import truncator\n",
    "import pandas as pd\n",
    "import truncator"
   ]
  },
  {
   "cell_type": "code",
   "execution_count": null,
   "metadata": {},
   "outputs": [],
   "source": []
  },
  {
   "cell_type": "code",
   "execution_count": 3,
   "metadata": {},
   "outputs": [],
   "source": [
    "#structs = truncator.read_file_lines(\"/home/ajasja/struct/ZCON/nMS.txt\", trim=True)\n",
    "#for s in structs:\n",
    "#    !cp /home/ajasja/struct/ZCON/{s}  /home/ajasja/struct/ZCON/nMS"
   ]
  },
  {
   "cell_type": "code",
   "execution_count": 4,
   "metadata": {},
   "outputs": [],
   "source": [
    "xtal_structs = truncator.read_file_lines(\"/home/ajasja/struct/ZCON/xtal_no_duplicate_bases.txt\", trim=True)\n",
    "for s in xtal_structs:\n",
    "    !cp /home/ajasja/struct/ZCON/{s}  data/\n",
    "    file_name = f\"/home/ajasja/struct/ZCON/{s}\"\n",
    "    if not os.path.isfile(file_name):\n",
    "        print (\"NOT FOUND: \",file_name)"
   ]
  },
  {
   "cell_type": "code",
   "execution_count": 5,
   "metadata": {},
   "outputs": [],
   "source": [
    "nMS_structs = truncator.read_file_lines(\"/home/ajasja/struct/ZCON/nMS_no_duplicate_base.txt\", trim=True)\n",
    "for s in nMS_structs:\n",
    "    !cp /home/ajasja/struct/ZCON/{s}  data/\n",
    "    file_name = f\"/home/ajasja/struct/ZCON/{s}\"\n",
    "    if not os.path.isfile(file_name):\n",
    "        print (\"NOT FOUND: \",file_name)"
   ]
  },
  {
   "cell_type": "code",
   "execution_count": 6,
   "metadata": {},
   "outputs": [],
   "source": [
    "Y2H_structs = truncator.read_file_lines(\"/home/ajasja/struct/ZCON/Y2H_no_duplicate_base.txt\", trim=True)\n",
    "for s in Y2H_structs:\n",
    "    !cp /home/ajasja/struct/ZCON/{s}  data/\n",
    "    file_name = f\"/home/ajasja/struct/ZCON/{s}\"\n",
    "    if not os.path.isfile(file_name):\n",
    "        print (\"NOT FOUND: \",file_name)"
   ]
  },
  {
   "cell_type": "code",
   "execution_count": 8,
   "metadata": {},
   "outputs": [
    {
     "data": {
      "text/plain": [
       "126"
      ]
     },
     "execution_count": 8,
     "metadata": {},
     "output_type": "execute_result"
    }
   ],
   "source": [
    "structs = glob(\"data/*.pdb\")\n",
    "len(structs)"
   ]
  },
  {
   "cell_type": "code",
   "execution_count": 8,
   "metadata": {},
   "outputs": [
    {
     "name": "stdout",
     "output_type": "stream",
     "text": [
      " PyMOL not running, entering library mode (experimental)\n"
     ]
    },
    {
     "data": {
      "text/plain": [
       "['out/test/cut/4H/ZCON_94__numH4__from-21.54__to16.85.pdb',\n",
       " 'out/test/cut/4H/ZCON_94__numH4__from-19.44__to18.95.pdb',\n",
       " 'out/test/cut/4H/ZCON_94__numH4__from-17.33__to21.05.pdb',\n",
       " 'out/test/cut/4H/ZCON_94__numH4__from-15.23__to23.16.pdb',\n",
       " 'out/test/cut/4H/ZCON_94__numH4__from-13.13__to25.26.pdb']"
      ]
     },
     "execution_count": 8,
     "metadata": {},
     "output_type": "execute_result"
    }
   ],
   "source": [
    "\n",
    "\n",
    "#truncator.cut_bundles(struct_name=structs[0], out_dir='out/R1/cut/4H', num_heptads=4, )\n",
    "truncator.cut_bundles(struct_name=structs[0], out_dir='out/test/cut/4H', num_heptads=4, )"
   ]
  },
  {
   "cell_type": "code",
   "execution_count": 12,
   "metadata": {},
   "outputs": [],
   "source": [
    "out_dir_base = \"out/R1\"\n",
    "heptades_lengths = [2.5,3,3.5,4,4.5,5]\n",
    "#!rm -rf {out_dir_base}"
   ]
  },
  {
   "cell_type": "code",
   "execution_count": 14,
   "metadata": {},
   "outputs": [
    {
     "name": "stderr",
     "output_type": "stream",
     "text": [
      "/net/scratch/ajasja/projects/truncator/R4_crystal_nMS_Y2H/truncator/cutting.py:77: RuntimeWarning: divide by zero encountered in true_divide\n",
      "  bottoms = np.arange(highest_bottom, lowest_top, step_delta_z)\n"
     ]
    },
    {
     "name": "stdout",
     "output_type": "stream",
     "text": [
      "data/ZCON_9_FL_CC_trim.pdb 2.5 Maximum allowed size exceeded\n",
      "data/ZCON_VR_4.pdb 2.5 'NoneType' object is not subscriptable\n",
      "data/ZCON_16.pdb 2.5 too many indices for array\n",
      "data/ZCON_VR_5.pdb 2.5 'NoneType' object is not subscriptable\n",
      "data/ZCON_9_FL_CC_trim.pdb 3 Maximum allowed size exceeded\n",
      "data/ZCON_VR_4.pdb 3 'NoneType' object is not subscriptable\n",
      "data/ZCON_16.pdb 3 too many indices for array\n",
      "data/ZCON_VR_5.pdb 3 'NoneType' object is not subscriptable\n",
      "data/ZCON_9_FL_CC_trim.pdb 3.5 Maximum allowed size exceeded\n",
      "data/ZCON_VR_4.pdb 3.5 'NoneType' object is not subscriptable\n",
      "data/ZCON_16.pdb 3.5 too many indices for array\n",
      "data/ZCON_VR_5.pdb 3.5 'NoneType' object is not subscriptable\n",
      "data/ZCON_9_FL_CC_trim.pdb 4 Maximum allowed size exceeded\n",
      "data/ZCON_VR_4.pdb 4 'NoneType' object is not subscriptable\n",
      "data/ZCON_16.pdb 4 too many indices for array\n",
      "data/ZCON_VR_5.pdb 4 'NoneType' object is not subscriptable\n",
      "data/ZCON_9_FL_CC_trim.pdb 4.5 Maximum allowed size exceeded\n",
      "data/ZCON_VR_4.pdb 4.5 'NoneType' object is not subscriptable\n",
      "data/ZCON_16.pdb 4.5 too many indices for array\n",
      "data/ZCON_VR_5.pdb 4.5 'NoneType' object is not subscriptable\n",
      "data/ZCON_9_FL_CC_trim.pdb 5 Maximum allowed size exceeded\n",
      "data/ZCON_VR_4.pdb 5 'NoneType' object is not subscriptable\n",
      "data/ZCON_16.pdb 5 too many indices for array\n",
      "data/ZCON_VR_5.pdb 5 'NoneType' object is not subscriptable\n"
     ]
    }
   ],
   "source": [
    "for l in heptades_lengths:\n",
    "    for struct in structs:\n",
    "        try:\n",
    "            truncator.cut_bundles(struct_name=struct, out_dir=f'{out_dir_base}/01_cut/{l:1.1f}H', num_heptads=l)\n",
    "        except Exception as e:\n",
    "            print (struct, l, e)"
   ]
  },
  {
   "cell_type": "code",
   "execution_count": 16,
   "metadata": {},
   "outputs": [],
   "source": [
    "groups = ((\"AB\", \"CD\"), (\"AD\", \"BC\"), (\"A\", \"BCD\"), (\"B\", \"ACD\"), (\"C\", \"ABD\"), (\"D\", \"ABC\"))"
   ]
  },
  {
   "cell_type": "code",
   "execution_count": 18,
   "metadata": {},
   "outputs": [
    {
     "name": "stdout",
     "output_type": "stream",
     "text": [
      "out/R1/01_cut/2.5H/ZCON_39__numH2.5__from-2.66__to20.42.pdb 2.5 Chains: {'E', 'F'} have not been specified new_chain_A and new_chain_B AB CD\n",
      "out/R1/01_cut/2.5H/ZCON_39__numH2.5__from-2.66__to20.42.pdb 2.5 Chains: {'E', 'F'} have not been specified new_chain_A and new_chain_B AD BC\n",
      "out/R1/01_cut/2.5H/ZCON_39__numH2.5__from-2.66__to20.42.pdb 2.5 Chains: {'E', 'F'} have not been specified new_chain_A and new_chain_B A BCD\n",
      "out/R1/01_cut/2.5H/ZCON_39__numH2.5__from-2.66__to20.42.pdb 2.5 Chains: {'E', 'F'} have not been specified new_chain_A and new_chain_B B ACD\n",
      "out/R1/01_cut/2.5H/ZCON_39__numH2.5__from-2.66__to20.42.pdb 2.5 Chains: {'E', 'F'} have not been specified new_chain_A and new_chain_B C ABD\n",
      "out/R1/01_cut/2.5H/ZCON_39__numH2.5__from-2.66__to20.42.pdb 2.5 Chains: {'E', 'F'} have not been specified new_chain_A and new_chain_B D ABC\n",
      "out/R1/01_cut/2.5H/ZCON_39__numH2.5__from-20.54__to02.54.pdb 2.5 Chains: {'E', 'F'} have not been specified new_chain_A and new_chain_B AB CD\n",
      "out/R1/01_cut/2.5H/ZCON_39__numH2.5__from-20.54__to02.54.pdb 2.5 Chains: {'E', 'F'} have not been specified new_chain_A and new_chain_B AD BC\n",
      "out/R1/01_cut/2.5H/ZCON_39__numH2.5__from-20.54__to02.54.pdb 2.5 Chains: {'E', 'F'} have not been specified new_chain_A and new_chain_B A BCD\n",
      "out/R1/01_cut/2.5H/ZCON_39__numH2.5__from-20.54__to02.54.pdb 2.5 Chains: {'E', 'F'} have not been specified new_chain_A and new_chain_B B ACD\n",
      "out/R1/01_cut/2.5H/ZCON_39__numH2.5__from-20.54__to02.54.pdb 2.5 Chains: {'E', 'F'} have not been specified new_chain_A and new_chain_B C ABD\n",
      "out/R1/01_cut/2.5H/ZCON_39__numH2.5__from-20.54__to02.54.pdb 2.5 Chains: {'E', 'F'} have not been specified new_chain_A and new_chain_B D ABC\n",
      "out/R1/01_cut/2.5H/ZCON_38__numH2.5__from03.28__to24.09.pdb 2.5 Chains: {'E', 'F'} have not been specified new_chain_A and new_chain_B AB CD\n",
      "out/R1/01_cut/2.5H/ZCON_38__numH2.5__from03.28__to24.09.pdb 2.5 Chains: {'E', 'F'} have not been specified new_chain_A and new_chain_B AD BC\n",
      "out/R1/01_cut/2.5H/ZCON_38__numH2.5__from03.28__to24.09.pdb 2.5 Chains: {'E', 'F'} have not been specified new_chain_A and new_chain_B A BCD\n",
      "out/R1/01_cut/2.5H/ZCON_38__numH2.5__from03.28__to24.09.pdb 2.5 Chains: {'E', 'F'} have not been specified new_chain_A and new_chain_B B ACD\n",
      "out/R1/01_cut/2.5H/ZCON_38__numH2.5__from03.28__to24.09.pdb 2.5 Chains: {'E', 'F'} have not been specified new_chain_A and new_chain_B C ABD\n",
      "out/R1/01_cut/2.5H/ZCON_38__numH2.5__from03.28__to24.09.pdb 2.5 Chains: {'E', 'F'} have not been specified new_chain_A and new_chain_B D ABC\n",
      "out/R1/01_cut/2.5H/ZCON_40__numH2.5__from-4.00__to20.73.pdb 2.5 Chains: {'E', 'F'} have not been specified new_chain_A and new_chain_B AB CD\n",
      "out/R1/01_cut/2.5H/ZCON_40__numH2.5__from-4.00__to20.73.pdb 2.5 Chains: {'E', 'F'} have not been specified new_chain_A and new_chain_B AD BC\n",
      "out/R1/01_cut/2.5H/ZCON_40__numH2.5__from-4.00__to20.73.pdb 2.5 Chains: {'E', 'F'} have not been specified new_chain_A and new_chain_B A BCD\n",
      "out/R1/01_cut/2.5H/ZCON_40__numH2.5__from-4.00__to20.73.pdb 2.5 Chains: {'E', 'F'} have not been specified new_chain_A and new_chain_B B ACD\n",
      "out/R1/01_cut/2.5H/ZCON_40__numH2.5__from-4.00__to20.73.pdb 2.5 Chains: {'E', 'F'} have not been specified new_chain_A and new_chain_B C ABD\n",
      "out/R1/01_cut/2.5H/ZCON_40__numH2.5__from-4.00__to20.73.pdb 2.5 Chains: {'E', 'F'} have not been specified new_chain_A and new_chain_B D ABC\n",
      "out/R1/01_cut/2.5H/ZCON_39__numH2.5__from-16.57__to06.51.pdb 2.5 Chains: {'E', 'F'} have not been specified new_chain_A and new_chain_B AB CD\n",
      "out/R1/01_cut/2.5H/ZCON_39__numH2.5__from-16.57__to06.51.pdb 2.5 Chains: {'E', 'F'} have not been specified new_chain_A and new_chain_B AD BC\n",
      "out/R1/01_cut/2.5H/ZCON_39__numH2.5__from-16.57__to06.51.pdb 2.5 Chains: {'E', 'F'} have not been specified new_chain_A and new_chain_B A BCD\n",
      "out/R1/01_cut/2.5H/ZCON_39__numH2.5__from-16.57__to06.51.pdb 2.5 Chains: {'E', 'F'} have not been specified new_chain_A and new_chain_B B ACD\n",
      "out/R1/01_cut/2.5H/ZCON_39__numH2.5__from-16.57__to06.51.pdb 2.5 Chains: {'E', 'F'} have not been specified new_chain_A and new_chain_B C ABD\n",
      "out/R1/01_cut/2.5H/ZCON_39__numH2.5__from-16.57__to06.51.pdb 2.5 Chains: {'E', 'F'} have not been specified new_chain_A and new_chain_B D ABC\n",
      "out/R1/01_cut/2.5H/ZCON_38__numH2.5__from-2.07__to18.74.pdb 2.5 Chains: {'E', 'F'} have not been specified new_chain_A and new_chain_B AB CD\n",
      "out/R1/01_cut/2.5H/ZCON_38__numH2.5__from-2.07__to18.74.pdb 2.5 Chains: {'E', 'F'} have not been specified new_chain_A and new_chain_B AD BC\n",
      "out/R1/01_cut/2.5H/ZCON_38__numH2.5__from-2.07__to18.74.pdb 2.5 Chains: {'E', 'F'} have not been specified new_chain_A and new_chain_B A BCD\n",
      "out/R1/01_cut/2.5H/ZCON_38__numH2.5__from-2.07__to18.74.pdb 2.5 Chains: {'E', 'F'} have not been specified new_chain_A and new_chain_B B ACD\n",
      "out/R1/01_cut/2.5H/ZCON_38__numH2.5__from-2.07__to18.74.pdb 2.5 Chains: {'E', 'F'} have not been specified new_chain_A and new_chain_B C ABD\n",
      "out/R1/01_cut/2.5H/ZCON_38__numH2.5__from-2.07__to18.74.pdb 2.5 Chains: {'E', 'F'} have not been specified new_chain_A and new_chain_B D ABC\n",
      "out/R1/01_cut/2.5H/ZCON_38__numH2.5__from-12.76__to08.04.pdb 2.5 Chains: {'E', 'F'} have not been specified new_chain_A and new_chain_B AB CD\n",
      "out/R1/01_cut/2.5H/ZCON_38__numH2.5__from-12.76__to08.04.pdb 2.5 Chains: {'E', 'F'} have not been specified new_chain_A and new_chain_B AD BC\n",
      "out/R1/01_cut/2.5H/ZCON_38__numH2.5__from-12.76__to08.04.pdb 2.5 Chains: {'E', 'F'} have not been specified new_chain_A and new_chain_B A BCD\n",
      "out/R1/01_cut/2.5H/ZCON_38__numH2.5__from-12.76__to08.04.pdb 2.5 Chains: {'E', 'F'} have not been specified new_chain_A and new_chain_B B ACD\n",
      "out/R1/01_cut/2.5H/ZCON_38__numH2.5__from-12.76__to08.04.pdb 2.5 Chains: {'E', 'F'} have not been specified new_chain_A and new_chain_B C ABD\n",
      "out/R1/01_cut/2.5H/ZCON_38__numH2.5__from-12.76__to08.04.pdb 2.5 Chains: {'E', 'F'} have not been specified new_chain_A and new_chain_B D ABC\n",
      "out/R1/01_cut/2.5H/ZCON_39__numH2.5__from-6.63__to16.45.pdb 2.5 Chains: {'E', 'F'} have not been specified new_chain_A and new_chain_B AB CD\n",
      "out/R1/01_cut/2.5H/ZCON_39__numH2.5__from-6.63__to16.45.pdb 2.5 Chains: {'E', 'F'} have not been specified new_chain_A and new_chain_B AD BC\n",
      "out/R1/01_cut/2.5H/ZCON_39__numH2.5__from-6.63__to16.45.pdb 2.5 Chains: {'E', 'F'} have not been specified new_chain_A and new_chain_B A BCD\n",
      "out/R1/01_cut/2.5H/ZCON_39__numH2.5__from-6.63__to16.45.pdb 2.5 Chains: {'E', 'F'} have not been specified new_chain_A and new_chain_B B ACD\n",
      "out/R1/01_cut/2.5H/ZCON_39__numH2.5__from-6.63__to16.45.pdb 2.5 Chains: {'E', 'F'} have not been specified new_chain_A and new_chain_B C ABD\n",
      "out/R1/01_cut/2.5H/ZCON_39__numH2.5__from-6.63__to16.45.pdb 2.5 Chains: {'E', 'F'} have not been specified new_chain_A and new_chain_B D ABC\n",
      "out/R1/01_cut/2.5H/ZCON_38__numH2.5__from-14.54__to06.26.pdb 2.5 Chains: {'E', 'F'} have not been specified new_chain_A and new_chain_B AB CD\n",
      "out/R1/01_cut/2.5H/ZCON_38__numH2.5__from-14.54__to06.26.pdb 2.5 Chains: {'E', 'F'} have not been specified new_chain_A and new_chain_B AD BC\n",
      "out/R1/01_cut/2.5H/ZCON_38__numH2.5__from-14.54__to06.26.pdb 2.5 Chains: {'E', 'F'} have not been specified new_chain_A and new_chain_B A BCD\n",
      "out/R1/01_cut/2.5H/ZCON_38__numH2.5__from-14.54__to06.26.pdb 2.5 Chains: {'E', 'F'} have not been specified new_chain_A and new_chain_B B ACD\n",
      "out/R1/01_cut/2.5H/ZCON_38__numH2.5__from-14.54__to06.26.pdb 2.5 Chains: {'E', 'F'} have not been specified new_chain_A and new_chain_B C ABD\n",
      "out/R1/01_cut/2.5H/ZCON_38__numH2.5__from-14.54__to06.26.pdb 2.5 Chains: {'E', 'F'} have not been specified new_chain_A and new_chain_B D ABC\n",
      "out/R1/01_cut/2.5H/ZCON_38__numH2.5__from-16.32__to04.48.pdb 2.5 Chains: {'E', 'F'} have not been specified new_chain_A and new_chain_B AB CD\n",
      "out/R1/01_cut/2.5H/ZCON_38__numH2.5__from-16.32__to04.48.pdb 2.5 Chains: {'E', 'F'} have not been specified new_chain_A and new_chain_B AD BC\n",
      "out/R1/01_cut/2.5H/ZCON_38__numH2.5__from-16.32__to04.48.pdb 2.5 Chains: {'E', 'F'} have not been specified new_chain_A and new_chain_B A BCD\n",
      "out/R1/01_cut/2.5H/ZCON_38__numH2.5__from-16.32__to04.48.pdb 2.5 Chains: {'E', 'F'} have not been specified new_chain_A and new_chain_B B ACD\n",
      "out/R1/01_cut/2.5H/ZCON_38__numH2.5__from-16.32__to04.48.pdb 2.5 Chains: {'E', 'F'} have not been specified new_chain_A and new_chain_B C ABD\n",
      "out/R1/01_cut/2.5H/ZCON_38__numH2.5__from-16.32__to04.48.pdb 2.5 Chains: {'E', 'F'} have not been specified new_chain_A and new_chain_B D ABC\n",
      "out/R1/01_cut/2.5H/ZCON_40__numH2.5__from-14.67__to10.05.pdb 2.5 Chains: {'E', 'F'} have not been specified new_chain_A and new_chain_B AB CD\n",
      "out/R1/01_cut/2.5H/ZCON_40__numH2.5__from-14.67__to10.05.pdb 2.5 Chains: {'E', 'F'} have not been specified new_chain_A and new_chain_B AD BC\n",
      "out/R1/01_cut/2.5H/ZCON_40__numH2.5__from-14.67__to10.05.pdb 2.5 Chains: {'E', 'F'} have not been specified new_chain_A and new_chain_B A BCD\n",
      "out/R1/01_cut/2.5H/ZCON_40__numH2.5__from-14.67__to10.05.pdb 2.5 Chains: {'E', 'F'} have not been specified new_chain_A and new_chain_B B ACD\n",
      "out/R1/01_cut/2.5H/ZCON_40__numH2.5__from-14.67__to10.05.pdb 2.5 Chains: {'E', 'F'} have not been specified new_chain_A and new_chain_B C ABD\n",
      "out/R1/01_cut/2.5H/ZCON_40__numH2.5__from-14.67__to10.05.pdb 2.5 Chains: {'E', 'F'} have not been specified new_chain_A and new_chain_B D ABC\n",
      "out/R1/01_cut/2.5H/ZCON_40__numH2.5__from-10.40__to14.32.pdb 2.5 Chains: {'E', 'F'} have not been specified new_chain_A and new_chain_B AB CD\n",
      "out/R1/01_cut/2.5H/ZCON_40__numH2.5__from-10.40__to14.32.pdb 2.5 Chains: {'E', 'F'} have not been specified new_chain_A and new_chain_B AD BC\n",
      "out/R1/01_cut/2.5H/ZCON_40__numH2.5__from-10.40__to14.32.pdb 2.5 Chains: {'E', 'F'} have not been specified new_chain_A and new_chain_B A BCD\n",
      "out/R1/01_cut/2.5H/ZCON_40__numH2.5__from-10.40__to14.32.pdb 2.5 Chains: {'E', 'F'} have not been specified new_chain_A and new_chain_B B ACD\n",
      "out/R1/01_cut/2.5H/ZCON_40__numH2.5__from-10.40__to14.32.pdb 2.5 Chains: {'E', 'F'} have not been specified new_chain_A and new_chain_B C ABD\n",
      "out/R1/01_cut/2.5H/ZCON_40__numH2.5__from-10.40__to14.32.pdb 2.5 Chains: {'E', 'F'} have not been specified new_chain_A and new_chain_B D ABC\n",
      "out/R1/01_cut/2.5H/ZCON_38__numH2.5__from-5.63__to15.17.pdb 2.5 Chains: {'E', 'F'} have not been specified new_chain_A and new_chain_B AB CD\n",
      "out/R1/01_cut/2.5H/ZCON_38__numH2.5__from-5.63__to15.17.pdb 2.5 Chains: {'E', 'F'} have not been specified new_chain_A and new_chain_B AD BC\n",
      "out/R1/01_cut/2.5H/ZCON_38__numH2.5__from-5.63__to15.17.pdb 2.5 Chains: {'E', 'F'} have not been specified new_chain_A and new_chain_B A BCD\n",
      "out/R1/01_cut/2.5H/ZCON_38__numH2.5__from-5.63__to15.17.pdb 2.5 Chains: {'E', 'F'} have not been specified new_chain_A and new_chain_B B ACD\n",
      "out/R1/01_cut/2.5H/ZCON_38__numH2.5__from-5.63__to15.17.pdb 2.5 Chains: {'E', 'F'} have not been specified new_chain_A and new_chain_B C ABD\n",
      "out/R1/01_cut/2.5H/ZCON_38__numH2.5__from-5.63__to15.17.pdb 2.5 Chains: {'E', 'F'} have not been specified new_chain_A and new_chain_B D ABC\n",
      "out/R1/01_cut/2.5H/ZCON_38__numH2.5__from-10.98__to09.83.pdb 2.5 Chains: {'E', 'F'} have not been specified new_chain_A and new_chain_B AB CD\n",
      "out/R1/01_cut/2.5H/ZCON_38__numH2.5__from-10.98__to09.83.pdb 2.5 Chains: {'E', 'F'} have not been specified new_chain_A and new_chain_B AD BC\n",
      "out/R1/01_cut/2.5H/ZCON_38__numH2.5__from-10.98__to09.83.pdb 2.5 Chains: {'E', 'F'} have not been specified new_chain_A and new_chain_B A BCD\n",
      "out/R1/01_cut/2.5H/ZCON_38__numH2.5__from-10.98__to09.83.pdb 2.5 Chains: {'E', 'F'} have not been specified new_chain_A and new_chain_B B ACD\n",
      "out/R1/01_cut/2.5H/ZCON_38__numH2.5__from-10.98__to09.83.pdb 2.5 Chains: {'E', 'F'} have not been specified new_chain_A and new_chain_B C ABD\n",
      "out/R1/01_cut/2.5H/ZCON_38__numH2.5__from-10.98__to09.83.pdb 2.5 Chains: {'E', 'F'} have not been specified new_chain_A and new_chain_B D ABC\n",
      "out/R1/01_cut/2.5H/ZCON_39__numH2.5__from-10.61__to12.47.pdb 2.5 Chains: {'E', 'F'} have not been specified new_chain_A and new_chain_B AB CD\n",
      "out/R1/01_cut/2.5H/ZCON_39__numH2.5__from-10.61__to12.47.pdb 2.5 Chains: {'E', 'F'} have not been specified new_chain_A and new_chain_B AD BC\n",
      "out/R1/01_cut/2.5H/ZCON_39__numH2.5__from-10.61__to12.47.pdb 2.5 Chains: {'E', 'F'} have not been specified new_chain_A and new_chain_B A BCD\n",
      "out/R1/01_cut/2.5H/ZCON_39__numH2.5__from-10.61__to12.47.pdb 2.5 Chains: {'E', 'F'} have not been specified new_chain_A and new_chain_B B ACD\n",
      "out/R1/01_cut/2.5H/ZCON_39__numH2.5__from-10.61__to12.47.pdb 2.5 Chains: {'E', 'F'} have not been specified new_chain_A and new_chain_B C ABD\n",
      "out/R1/01_cut/2.5H/ZCON_39__numH2.5__from-10.61__to12.47.pdb 2.5 Chains: {'E', 'F'} have not been specified new_chain_A and new_chain_B D ABC\n",
      "out/R1/01_cut/2.5H/ZCON_40__numH2.5__from-16.81__to07.92.pdb 2.5 Chains: {'E', 'F'} have not been specified new_chain_A and new_chain_B AB CD\n",
      "out/R1/01_cut/2.5H/ZCON_40__numH2.5__from-16.81__to07.92.pdb 2.5 Chains: {'E', 'F'} have not been specified new_chain_A and new_chain_B AD BC\n",
      "out/R1/01_cut/2.5H/ZCON_40__numH2.5__from-16.81__to07.92.pdb 2.5 Chains: {'E', 'F'} have not been specified new_chain_A and new_chain_B A BCD\n",
      "out/R1/01_cut/2.5H/ZCON_40__numH2.5__from-16.81__to07.92.pdb 2.5 Chains: {'E', 'F'} have not been specified new_chain_A and new_chain_B B ACD\n",
      "out/R1/01_cut/2.5H/ZCON_40__numH2.5__from-16.81__to07.92.pdb 2.5 Chains: {'E', 'F'} have not been specified new_chain_A and new_chain_B C ABD\n",
      "out/R1/01_cut/2.5H/ZCON_40__numH2.5__from-16.81__to07.92.pdb 2.5 Chains: {'E', 'F'} have not been specified new_chain_A and new_chain_B D ABC\n",
      "out/R1/01_cut/2.5H/ZCON_38__numH2.5__from-9.20__to11.61.pdb 2.5 Chains: {'E', 'F'} have not been specified new_chain_A and new_chain_B AB CD\n",
      "out/R1/01_cut/2.5H/ZCON_38__numH2.5__from-9.20__to11.61.pdb 2.5 Chains: {'E', 'F'} have not been specified new_chain_A and new_chain_B AD BC\n",
      "out/R1/01_cut/2.5H/ZCON_38__numH2.5__from-9.20__to11.61.pdb 2.5 Chains: {'E', 'F'} have not been specified new_chain_A and new_chain_B A BCD\n",
      "out/R1/01_cut/2.5H/ZCON_38__numH2.5__from-9.20__to11.61.pdb 2.5 Chains: {'E', 'F'} have not been specified new_chain_A and new_chain_B B ACD\n",
      "out/R1/01_cut/2.5H/ZCON_38__numH2.5__from-9.20__to11.61.pdb 2.5 Chains: {'E', 'F'} have not been specified new_chain_A and new_chain_B C ABD\n",
      "out/R1/01_cut/2.5H/ZCON_38__numH2.5__from-9.20__to11.61.pdb 2.5 Chains: {'E', 'F'} have not been specified new_chain_A and new_chain_B D ABC\n",
      "out/R1/01_cut/2.5H/ZCON_39__numH2.5__from-14.58__to08.50.pdb 2.5 Chains: {'E', 'F'} have not been specified new_chain_A and new_chain_B AB CD\n",
      "out/R1/01_cut/2.5H/ZCON_39__numH2.5__from-14.58__to08.50.pdb 2.5 Chains: {'E', 'F'} have not been specified new_chain_A and new_chain_B AD BC\n",
      "out/R1/01_cut/2.5H/ZCON_39__numH2.5__from-14.58__to08.50.pdb 2.5 Chains: {'E', 'F'} have not been specified new_chain_A and new_chain_B A BCD\n",
      "out/R1/01_cut/2.5H/ZCON_39__numH2.5__from-14.58__to08.50.pdb 2.5 Chains: {'E', 'F'} have not been specified new_chain_A and new_chain_B B ACD\n",
      "out/R1/01_cut/2.5H/ZCON_39__numH2.5__from-14.58__to08.50.pdb 2.5 Chains: {'E', 'F'} have not been specified new_chain_A and new_chain_B C ABD\n",
      "out/R1/01_cut/2.5H/ZCON_39__numH2.5__from-14.58__to08.50.pdb 2.5 Chains: {'E', 'F'} have not been specified new_chain_A and new_chain_B D ABC\n",
      "out/R1/01_cut/2.5H/ZCON_39__numH2.5__from-0.67__to22.41.pdb 2.5 Chains: {'E', 'F'} have not been specified new_chain_A and new_chain_B AB CD\n",
      "out/R1/01_cut/2.5H/ZCON_39__numH2.5__from-0.67__to22.41.pdb 2.5 Chains: {'E', 'F'} have not been specified new_chain_A and new_chain_B AD BC\n",
      "out/R1/01_cut/2.5H/ZCON_39__numH2.5__from-0.67__to22.41.pdb 2.5 Chains: {'E', 'F'} have not been specified new_chain_A and new_chain_B A BCD\n",
      "out/R1/01_cut/2.5H/ZCON_39__numH2.5__from-0.67__to22.41.pdb 2.5 Chains: {'E', 'F'} have not been specified new_chain_A and new_chain_B B ACD\n",
      "out/R1/01_cut/2.5H/ZCON_39__numH2.5__from-0.67__to22.41.pdb 2.5 Chains: {'E', 'F'} have not been specified new_chain_A and new_chain_B C ABD\n",
      "out/R1/01_cut/2.5H/ZCON_39__numH2.5__from-0.67__to22.41.pdb 2.5 Chains: {'E', 'F'} have not been specified new_chain_A and new_chain_B D ABC\n",
      "out/R1/01_cut/2.5H/ZCON_39__numH2.5__from-8.62__to14.46.pdb 2.5 Chains: {'E', 'F'} have not been specified new_chain_A and new_chain_B AB CD\n",
      "out/R1/01_cut/2.5H/ZCON_39__numH2.5__from-8.62__to14.46.pdb 2.5 Chains: {'E', 'F'} have not been specified new_chain_A and new_chain_B AD BC\n",
      "out/R1/01_cut/2.5H/ZCON_39__numH2.5__from-8.62__to14.46.pdb 2.5 Chains: {'E', 'F'} have not been specified new_chain_A and new_chain_B A BCD\n",
      "out/R1/01_cut/2.5H/ZCON_39__numH2.5__from-8.62__to14.46.pdb 2.5 Chains: {'E', 'F'} have not been specified new_chain_A and new_chain_B B ACD\n",
      "out/R1/01_cut/2.5H/ZCON_39__numH2.5__from-8.62__to14.46.pdb 2.5 Chains: {'E', 'F'} have not been specified new_chain_A and new_chain_B C ABD\n",
      "out/R1/01_cut/2.5H/ZCON_39__numH2.5__from-8.62__to14.46.pdb 2.5 Chains: {'E', 'F'} have not been specified new_chain_A and new_chain_B D ABC\n",
      "out/R1/01_cut/2.5H/ZCON_40__numH2.5__from-18.94__to05.78.pdb 2.5 Chains: {'E', 'F'} have not been specified new_chain_A and new_chain_B AB CD\n",
      "out/R1/01_cut/2.5H/ZCON_40__numH2.5__from-18.94__to05.78.pdb 2.5 Chains: {'E', 'F'} have not been specified new_chain_A and new_chain_B AD BC\n",
      "out/R1/01_cut/2.5H/ZCON_40__numH2.5__from-18.94__to05.78.pdb 2.5 Chains: {'E', 'F'} have not been specified new_chain_A and new_chain_B A BCD\n",
      "out/R1/01_cut/2.5H/ZCON_40__numH2.5__from-18.94__to05.78.pdb 2.5 Chains: {'E', 'F'} have not been specified new_chain_A and new_chain_B B ACD\n",
      "out/R1/01_cut/2.5H/ZCON_40__numH2.5__from-18.94__to05.78.pdb 2.5 Chains: {'E', 'F'} have not been specified new_chain_A and new_chain_B C ABD\n",
      "out/R1/01_cut/2.5H/ZCON_40__numH2.5__from-18.94__to05.78.pdb 2.5 Chains: {'E', 'F'} have not been specified new_chain_A and new_chain_B D ABC\n",
      "out/R1/01_cut/2.5H/ZCON_40__numH2.5__from-6.13__to18.59.pdb 2.5 Chains: {'E', 'F'} have not been specified new_chain_A and new_chain_B AB CD\n",
      "out/R1/01_cut/2.5H/ZCON_40__numH2.5__from-6.13__to18.59.pdb 2.5 Chains: {'E', 'F'} have not been specified new_chain_A and new_chain_B AD BC\n",
      "out/R1/01_cut/2.5H/ZCON_40__numH2.5__from-6.13__to18.59.pdb 2.5 Chains: {'E', 'F'} have not been specified new_chain_A and new_chain_B A BCD\n",
      "out/R1/01_cut/2.5H/ZCON_40__numH2.5__from-6.13__to18.59.pdb 2.5 Chains: {'E', 'F'} have not been specified new_chain_A and new_chain_B B ACD\n",
      "out/R1/01_cut/2.5H/ZCON_40__numH2.5__from-6.13__to18.59.pdb 2.5 Chains: {'E', 'F'} have not been specified new_chain_A and new_chain_B C ABD\n",
      "out/R1/01_cut/2.5H/ZCON_40__numH2.5__from-6.13__to18.59.pdb 2.5 Chains: {'E', 'F'} have not been specified new_chain_A and new_chain_B D ABC\n",
      "out/R1/01_cut/2.5H/ZCON_39__numH2.5__from-4.64__to18.43.pdb 2.5 Chains: {'E', 'F'} have not been specified new_chain_A and new_chain_B AB CD\n",
      "out/R1/01_cut/2.5H/ZCON_39__numH2.5__from-4.64__to18.43.pdb 2.5 Chains: {'E', 'F'} have not been specified new_chain_A and new_chain_B AD BC\n",
      "out/R1/01_cut/2.5H/ZCON_39__numH2.5__from-4.64__to18.43.pdb 2.5 Chains: {'E', 'F'} have not been specified new_chain_A and new_chain_B A BCD\n",
      "out/R1/01_cut/2.5H/ZCON_39__numH2.5__from-4.64__to18.43.pdb 2.5 Chains: {'E', 'F'} have not been specified new_chain_A and new_chain_B B ACD\n",
      "out/R1/01_cut/2.5H/ZCON_39__numH2.5__from-4.64__to18.43.pdb 2.5 Chains: {'E', 'F'} have not been specified new_chain_A and new_chain_B C ABD\n",
      "out/R1/01_cut/2.5H/ZCON_39__numH2.5__from-4.64__to18.43.pdb 2.5 Chains: {'E', 'F'} have not been specified new_chain_A and new_chain_B D ABC\n",
      "out/R1/01_cut/2.5H/ZCON_38__numH2.5__from01.50__to22.30.pdb 2.5 Chains: {'E', 'F'} have not been specified new_chain_A and new_chain_B AB CD\n",
      "out/R1/01_cut/2.5H/ZCON_38__numH2.5__from01.50__to22.30.pdb 2.5 Chains: {'E', 'F'} have not been specified new_chain_A and new_chain_B AD BC\n",
      "out/R1/01_cut/2.5H/ZCON_38__numH2.5__from01.50__to22.30.pdb 2.5 Chains: {'E', 'F'} have not been specified new_chain_A and new_chain_B A BCD\n",
      "out/R1/01_cut/2.5H/ZCON_38__numH2.5__from01.50__to22.30.pdb 2.5 Chains: {'E', 'F'} have not been specified new_chain_A and new_chain_B B ACD\n",
      "out/R1/01_cut/2.5H/ZCON_38__numH2.5__from01.50__to22.30.pdb 2.5 Chains: {'E', 'F'} have not been specified new_chain_A and new_chain_B C ABD\n",
      "out/R1/01_cut/2.5H/ZCON_38__numH2.5__from01.50__to22.30.pdb 2.5 Chains: {'E', 'F'} have not been specified new_chain_A and new_chain_B D ABC\n",
      "out/R1/01_cut/2.5H/ZCON_40__numH2.5__from-1.86__to22.86.pdb 2.5 Chains: {'E', 'F'} have not been specified new_chain_A and new_chain_B AB CD\n",
      "out/R1/01_cut/2.5H/ZCON_40__numH2.5__from-1.86__to22.86.pdb 2.5 Chains: {'E', 'F'} have not been specified new_chain_A and new_chain_B AD BC\n",
      "out/R1/01_cut/2.5H/ZCON_40__numH2.5__from-1.86__to22.86.pdb 2.5 Chains: {'E', 'F'} have not been specified new_chain_A and new_chain_B A BCD\n",
      "out/R1/01_cut/2.5H/ZCON_40__numH2.5__from-1.86__to22.86.pdb 2.5 Chains: {'E', 'F'} have not been specified new_chain_A and new_chain_B B ACD\n",
      "out/R1/01_cut/2.5H/ZCON_40__numH2.5__from-1.86__to22.86.pdb 2.5 Chains: {'E', 'F'} have not been specified new_chain_A and new_chain_B C ABD\n",
      "out/R1/01_cut/2.5H/ZCON_40__numH2.5__from-1.86__to22.86.pdb 2.5 Chains: {'E', 'F'} have not been specified new_chain_A and new_chain_B D ABC\n",
      "out/R1/01_cut/2.5H/ZCON_40__numH2.5__from-12.54__to12.19.pdb 2.5 Chains: {'E', 'F'} have not been specified new_chain_A and new_chain_B AB CD\n",
      "out/R1/01_cut/2.5H/ZCON_40__numH2.5__from-12.54__to12.19.pdb 2.5 Chains: {'E', 'F'} have not been specified new_chain_A and new_chain_B AD BC\n",
      "out/R1/01_cut/2.5H/ZCON_40__numH2.5__from-12.54__to12.19.pdb 2.5 Chains: {'E', 'F'} have not been specified new_chain_A and new_chain_B A BCD\n",
      "out/R1/01_cut/2.5H/ZCON_40__numH2.5__from-12.54__to12.19.pdb 2.5 Chains: {'E', 'F'} have not been specified new_chain_A and new_chain_B B ACD\n",
      "out/R1/01_cut/2.5H/ZCON_40__numH2.5__from-12.54__to12.19.pdb 2.5 Chains: {'E', 'F'} have not been specified new_chain_A and new_chain_B C ABD\n",
      "out/R1/01_cut/2.5H/ZCON_40__numH2.5__from-12.54__to12.19.pdb 2.5 Chains: {'E', 'F'} have not been specified new_chain_A and new_chain_B D ABC\n",
      "out/R1/01_cut/2.5H/ZCON_38__numH2.5__from-3.85__to16.96.pdb 2.5 Chains: {'E', 'F'} have not been specified new_chain_A and new_chain_B AB CD\n",
      "out/R1/01_cut/2.5H/ZCON_38__numH2.5__from-3.85__to16.96.pdb 2.5 Chains: {'E', 'F'} have not been specified new_chain_A and new_chain_B AD BC\n",
      "out/R1/01_cut/2.5H/ZCON_38__numH2.5__from-3.85__to16.96.pdb 2.5 Chains: {'E', 'F'} have not been specified new_chain_A and new_chain_B A BCD\n",
      "out/R1/01_cut/2.5H/ZCON_38__numH2.5__from-3.85__to16.96.pdb 2.5 Chains: {'E', 'F'} have not been specified new_chain_A and new_chain_B B ACD\n",
      "out/R1/01_cut/2.5H/ZCON_38__numH2.5__from-3.85__to16.96.pdb 2.5 Chains: {'E', 'F'} have not been specified new_chain_A and new_chain_B C ABD\n",
      "out/R1/01_cut/2.5H/ZCON_38__numH2.5__from-3.85__to16.96.pdb 2.5 Chains: {'E', 'F'} have not been specified new_chain_A and new_chain_B D ABC\n",
      "out/R1/01_cut/2.5H/ZCON_38__numH2.5__from-0.28__to20.52.pdb 2.5 Chains: {'E', 'F'} have not been specified new_chain_A and new_chain_B AB CD\n",
      "out/R1/01_cut/2.5H/ZCON_38__numH2.5__from-0.28__to20.52.pdb 2.5 Chains: {'E', 'F'} have not been specified new_chain_A and new_chain_B AD BC\n",
      "out/R1/01_cut/2.5H/ZCON_38__numH2.5__from-0.28__to20.52.pdb 2.5 Chains: {'E', 'F'} have not been specified new_chain_A and new_chain_B A BCD\n",
      "out/R1/01_cut/2.5H/ZCON_38__numH2.5__from-0.28__to20.52.pdb 2.5 Chains: {'E', 'F'} have not been specified new_chain_A and new_chain_B B ACD\n",
      "out/R1/01_cut/2.5H/ZCON_38__numH2.5__from-0.28__to20.52.pdb 2.5 Chains: {'E', 'F'} have not been specified new_chain_A and new_chain_B C ABD\n",
      "out/R1/01_cut/2.5H/ZCON_38__numH2.5__from-0.28__to20.52.pdb 2.5 Chains: {'E', 'F'} have not been specified new_chain_A and new_chain_B D ABC\n",
      "out/R1/01_cut/2.5H/ZCON_38__numH2.5__from-7.41__to13.39.pdb 2.5 Chains: {'E', 'F'} have not been specified new_chain_A and new_chain_B AB CD\n",
      "out/R1/01_cut/2.5H/ZCON_38__numH2.5__from-7.41__to13.39.pdb 2.5 Chains: {'E', 'F'} have not been specified new_chain_A and new_chain_B AD BC\n",
      "out/R1/01_cut/2.5H/ZCON_38__numH2.5__from-7.41__to13.39.pdb 2.5 Chains: {'E', 'F'} have not been specified new_chain_A and new_chain_B A BCD\n",
      "out/R1/01_cut/2.5H/ZCON_38__numH2.5__from-7.41__to13.39.pdb 2.5 Chains: {'E', 'F'} have not been specified new_chain_A and new_chain_B B ACD\n",
      "out/R1/01_cut/2.5H/ZCON_38__numH2.5__from-7.41__to13.39.pdb 2.5 Chains: {'E', 'F'} have not been specified new_chain_A and new_chain_B C ABD\n",
      "out/R1/01_cut/2.5H/ZCON_38__numH2.5__from-7.41__to13.39.pdb 2.5 Chains: {'E', 'F'} have not been specified new_chain_A and new_chain_B D ABC\n",
      "out/R1/01_cut/2.5H/ZCON_39__numH2.5__from-18.55__to04.52.pdb 2.5 Chains: {'E', 'F'} have not been specified new_chain_A and new_chain_B AB CD\n",
      "out/R1/01_cut/2.5H/ZCON_39__numH2.5__from-18.55__to04.52.pdb 2.5 Chains: {'E', 'F'} have not been specified new_chain_A and new_chain_B AD BC\n",
      "out/R1/01_cut/2.5H/ZCON_39__numH2.5__from-18.55__to04.52.pdb 2.5 Chains: {'E', 'F'} have not been specified new_chain_A and new_chain_B A BCD\n",
      "out/R1/01_cut/2.5H/ZCON_39__numH2.5__from-18.55__to04.52.pdb 2.5 Chains: {'E', 'F'} have not been specified new_chain_A and new_chain_B B ACD\n",
      "out/R1/01_cut/2.5H/ZCON_39__numH2.5__from-18.55__to04.52.pdb 2.5 Chains: {'E', 'F'} have not been specified new_chain_A and new_chain_B C ABD\n",
      "out/R1/01_cut/2.5H/ZCON_39__numH2.5__from-18.55__to04.52.pdb 2.5 Chains: {'E', 'F'} have not been specified new_chain_A and new_chain_B D ABC\n",
      "out/R1/01_cut/2.5H/ZCON_39__numH2.5__from-12.59__to10.49.pdb 2.5 Chains: {'E', 'F'} have not been specified new_chain_A and new_chain_B AB CD\n",
      "out/R1/01_cut/2.5H/ZCON_39__numH2.5__from-12.59__to10.49.pdb 2.5 Chains: {'E', 'F'} have not been specified new_chain_A and new_chain_B AD BC\n",
      "out/R1/01_cut/2.5H/ZCON_39__numH2.5__from-12.59__to10.49.pdb 2.5 Chains: {'E', 'F'} have not been specified new_chain_A and new_chain_B A BCD\n",
      "out/R1/01_cut/2.5H/ZCON_39__numH2.5__from-12.59__to10.49.pdb 2.5 Chains: {'E', 'F'} have not been specified new_chain_A and new_chain_B B ACD\n",
      "out/R1/01_cut/2.5H/ZCON_39__numH2.5__from-12.59__to10.49.pdb 2.5 Chains: {'E', 'F'} have not been specified new_chain_A and new_chain_B C ABD\n",
      "out/R1/01_cut/2.5H/ZCON_39__numH2.5__from-12.59__to10.49.pdb 2.5 Chains: {'E', 'F'} have not been specified new_chain_A and new_chain_B D ABC\n",
      "out/R1/01_cut/2.5H/ZCON_40__numH2.5__from-8.27__to16.46.pdb 2.5 Chains: {'E', 'F'} have not been specified new_chain_A and new_chain_B AB CD\n",
      "out/R1/01_cut/2.5H/ZCON_40__numH2.5__from-8.27__to16.46.pdb 2.5 Chains: {'E', 'F'} have not been specified new_chain_A and new_chain_B AD BC\n",
      "out/R1/01_cut/2.5H/ZCON_40__numH2.5__from-8.27__to16.46.pdb 2.5 Chains: {'E', 'F'} have not been specified new_chain_A and new_chain_B A BCD\n",
      "out/R1/01_cut/2.5H/ZCON_40__numH2.5__from-8.27__to16.46.pdb 2.5 Chains: {'E', 'F'} have not been specified new_chain_A and new_chain_B B ACD\n",
      "out/R1/01_cut/2.5H/ZCON_40__numH2.5__from-8.27__to16.46.pdb 2.5 Chains: {'E', 'F'} have not been specified new_chain_A and new_chain_B C ABD\n",
      "out/R1/01_cut/2.5H/ZCON_40__numH2.5__from-8.27__to16.46.pdb 2.5 Chains: {'E', 'F'} have not been specified new_chain_A and new_chain_B D ABC\n",
      "out/R1/01_cut/3.0H/ZCON_38__numH3__from-14.54__to10.22.pdb 3 Chains: {'E', 'F'} have not been specified new_chain_A and new_chain_B AB CD\n",
      "out/R1/01_cut/3.0H/ZCON_38__numH3__from-14.54__to10.22.pdb 3 Chains: {'E', 'F'} have not been specified new_chain_A and new_chain_B AD BC\n",
      "out/R1/01_cut/3.0H/ZCON_38__numH3__from-14.54__to10.22.pdb 3 Chains: {'E', 'F'} have not been specified new_chain_A and new_chain_B A BCD\n",
      "out/R1/01_cut/3.0H/ZCON_38__numH3__from-14.54__to10.22.pdb 3 Chains: {'E', 'F'} have not been specified new_chain_A and new_chain_B B ACD\n",
      "out/R1/01_cut/3.0H/ZCON_38__numH3__from-14.54__to10.22.pdb 3 Chains: {'E', 'F'} have not been specified new_chain_A and new_chain_B C ABD\n",
      "out/R1/01_cut/3.0H/ZCON_38__numH3__from-14.54__to10.22.pdb 3 Chains: {'E', 'F'} have not been specified new_chain_A and new_chain_B D ABC\n",
      "out/R1/01_cut/3.0H/ZCON_39__numH3__from-14.58__to12.91.pdb 3 Chains: {'E', 'F'} have not been specified new_chain_A and new_chain_B AB CD\n",
      "out/R1/01_cut/3.0H/ZCON_39__numH3__from-14.58__to12.91.pdb 3 Chains: {'E', 'F'} have not been specified new_chain_A and new_chain_B AD BC\n",
      "out/R1/01_cut/3.0H/ZCON_39__numH3__from-14.58__to12.91.pdb 3 Chains: {'E', 'F'} have not been specified new_chain_A and new_chain_B A BCD\n",
      "out/R1/01_cut/3.0H/ZCON_39__numH3__from-14.58__to12.91.pdb 3 Chains: {'E', 'F'} have not been specified new_chain_A and new_chain_B B ACD\n",
      "out/R1/01_cut/3.0H/ZCON_39__numH3__from-14.58__to12.91.pdb 3 Chains: {'E', 'F'} have not been specified new_chain_A and new_chain_B C ABD\n",
      "out/R1/01_cut/3.0H/ZCON_39__numH3__from-14.58__to12.91.pdb 3 Chains: {'E', 'F'} have not been specified new_chain_A and new_chain_B D ABC\n",
      "out/R1/01_cut/3.0H/ZCON_39__numH3__from-20.54__to06.95.pdb 3 Chains: {'E', 'F'} have not been specified new_chain_A and new_chain_B AB CD\n",
      "out/R1/01_cut/3.0H/ZCON_39__numH3__from-20.54__to06.95.pdb 3 Chains: {'E', 'F'} have not been specified new_chain_A and new_chain_B AD BC\n",
      "out/R1/01_cut/3.0H/ZCON_39__numH3__from-20.54__to06.95.pdb 3 Chains: {'E', 'F'} have not been specified new_chain_A and new_chain_B A BCD\n",
      "out/R1/01_cut/3.0H/ZCON_39__numH3__from-20.54__to06.95.pdb 3 Chains: {'E', 'F'} have not been specified new_chain_A and new_chain_B B ACD\n",
      "out/R1/01_cut/3.0H/ZCON_39__numH3__from-20.54__to06.95.pdb 3 Chains: {'E', 'F'} have not been specified new_chain_A and new_chain_B C ABD\n",
      "out/R1/01_cut/3.0H/ZCON_39__numH3__from-20.54__to06.95.pdb 3 Chains: {'E', 'F'} have not been specified new_chain_A and new_chain_B D ABC\n",
      "out/R1/01_cut/3.0H/ZCON_39__numH3__from-10.61__to16.89.pdb 3 Chains: {'E', 'F'} have not been specified new_chain_A and new_chain_B AB CD\n",
      "out/R1/01_cut/3.0H/ZCON_39__numH3__from-10.61__to16.89.pdb 3 Chains: {'E', 'F'} have not been specified new_chain_A and new_chain_B AD BC\n",
      "out/R1/01_cut/3.0H/ZCON_39__numH3__from-10.61__to16.89.pdb 3 Chains: {'E', 'F'} have not been specified new_chain_A and new_chain_B A BCD\n",
      "out/R1/01_cut/3.0H/ZCON_39__numH3__from-10.61__to16.89.pdb 3 Chains: {'E', 'F'} have not been specified new_chain_A and new_chain_B B ACD\n",
      "out/R1/01_cut/3.0H/ZCON_39__numH3__from-10.61__to16.89.pdb 3 Chains: {'E', 'F'} have not been specified new_chain_A and new_chain_B C ABD\n",
      "out/R1/01_cut/3.0H/ZCON_39__numH3__from-10.61__to16.89.pdb 3 Chains: {'E', 'F'} have not been specified new_chain_A and new_chain_B D ABC\n",
      "out/R1/01_cut/3.0H/ZCON_40__numH3__from-12.54__to16.93.pdb 3 Chains: {'E', 'F'} have not been specified new_chain_A and new_chain_B AB CD\n",
      "out/R1/01_cut/3.0H/ZCON_40__numH3__from-12.54__to16.93.pdb 3 Chains: {'E', 'F'} have not been specified new_chain_A and new_chain_B AD BC\n",
      "out/R1/01_cut/3.0H/ZCON_40__numH3__from-12.54__to16.93.pdb 3 Chains: {'E', 'F'} have not been specified new_chain_A and new_chain_B A BCD\n",
      "out/R1/01_cut/3.0H/ZCON_40__numH3__from-12.54__to16.93.pdb 3 Chains: {'E', 'F'} have not been specified new_chain_A and new_chain_B B ACD\n",
      "out/R1/01_cut/3.0H/ZCON_40__numH3__from-12.54__to16.93.pdb 3 Chains: {'E', 'F'} have not been specified new_chain_A and new_chain_B C ABD\n",
      "out/R1/01_cut/3.0H/ZCON_40__numH3__from-12.54__to16.93.pdb 3 Chains: {'E', 'F'} have not been specified new_chain_A and new_chain_B D ABC\n",
      "out/R1/01_cut/3.0H/ZCON_40__numH3__from-10.40__to19.07.pdb 3 Chains: {'E', 'F'} have not been specified new_chain_A and new_chain_B AB CD\n",
      "out/R1/01_cut/3.0H/ZCON_40__numH3__from-10.40__to19.07.pdb 3 Chains: {'E', 'F'} have not been specified new_chain_A and new_chain_B AD BC\n",
      "out/R1/01_cut/3.0H/ZCON_40__numH3__from-10.40__to19.07.pdb 3 Chains: {'E', 'F'} have not been specified new_chain_A and new_chain_B A BCD\n",
      "out/R1/01_cut/3.0H/ZCON_40__numH3__from-10.40__to19.07.pdb 3 Chains: {'E', 'F'} have not been specified new_chain_A and new_chain_B B ACD\n",
      "out/R1/01_cut/3.0H/ZCON_40__numH3__from-10.40__to19.07.pdb 3 Chains: {'E', 'F'} have not been specified new_chain_A and new_chain_B C ABD\n",
      "out/R1/01_cut/3.0H/ZCON_40__numH3__from-10.40__to19.07.pdb 3 Chains: {'E', 'F'} have not been specified new_chain_A and new_chain_B D ABC\n",
      "out/R1/01_cut/3.0H/ZCON_40__numH3__from-6.13__to23.34.pdb 3 Chains: {'E', 'F'} have not been specified new_chain_A and new_chain_B AB CD\n",
      "out/R1/01_cut/3.0H/ZCON_40__numH3__from-6.13__to23.34.pdb 3 Chains: {'E', 'F'} have not been specified new_chain_A and new_chain_B AD BC\n",
      "out/R1/01_cut/3.0H/ZCON_40__numH3__from-6.13__to23.34.pdb 3 Chains: {'E', 'F'} have not been specified new_chain_A and new_chain_B A BCD\n",
      "out/R1/01_cut/3.0H/ZCON_40__numH3__from-6.13__to23.34.pdb 3 Chains: {'E', 'F'} have not been specified new_chain_A and new_chain_B B ACD\n",
      "out/R1/01_cut/3.0H/ZCON_40__numH3__from-6.13__to23.34.pdb 3 Chains: {'E', 'F'} have not been specified new_chain_A and new_chain_B C ABD\n",
      "out/R1/01_cut/3.0H/ZCON_40__numH3__from-6.13__to23.34.pdb 3 Chains: {'E', 'F'} have not been specified new_chain_A and new_chain_B D ABC\n",
      "out/R1/01_cut/3.0H/ZCON_40__numH3__from-8.27__to21.20.pdb 3 Chains: {'E', 'F'} have not been specified new_chain_A and new_chain_B AB CD\n",
      "out/R1/01_cut/3.0H/ZCON_40__numH3__from-8.27__to21.20.pdb 3 Chains: {'E', 'F'} have not been specified new_chain_A and new_chain_B AD BC\n",
      "out/R1/01_cut/3.0H/ZCON_40__numH3__from-8.27__to21.20.pdb 3 Chains: {'E', 'F'} have not been specified new_chain_A and new_chain_B A BCD\n",
      "out/R1/01_cut/3.0H/ZCON_40__numH3__from-8.27__to21.20.pdb 3 Chains: {'E', 'F'} have not been specified new_chain_A and new_chain_B B ACD\n",
      "out/R1/01_cut/3.0H/ZCON_40__numH3__from-8.27__to21.20.pdb 3 Chains: {'E', 'F'} have not been specified new_chain_A and new_chain_B C ABD\n",
      "out/R1/01_cut/3.0H/ZCON_40__numH3__from-8.27__to21.20.pdb 3 Chains: {'E', 'F'} have not been specified new_chain_A and new_chain_B D ABC\n",
      "out/R1/01_cut/3.0H/ZCON_38__numH3__from-2.07__to22.70.pdb 3 Chains: {'E', 'F'} have not been specified new_chain_A and new_chain_B AB CD\n",
      "out/R1/01_cut/3.0H/ZCON_38__numH3__from-2.07__to22.70.pdb 3 Chains: {'E', 'F'} have not been specified new_chain_A and new_chain_B AD BC\n",
      "out/R1/01_cut/3.0H/ZCON_38__numH3__from-2.07__to22.70.pdb 3 Chains: {'E', 'F'} have not been specified new_chain_A and new_chain_B A BCD\n",
      "out/R1/01_cut/3.0H/ZCON_38__numH3__from-2.07__to22.70.pdb 3 Chains: {'E', 'F'} have not been specified new_chain_A and new_chain_B B ACD\n",
      "out/R1/01_cut/3.0H/ZCON_38__numH3__from-2.07__to22.70.pdb 3 Chains: {'E', 'F'} have not been specified new_chain_A and new_chain_B C ABD\n",
      "out/R1/01_cut/3.0H/ZCON_38__numH3__from-2.07__to22.70.pdb 3 Chains: {'E', 'F'} have not been specified new_chain_A and new_chain_B D ABC\n",
      "out/R1/01_cut/3.0H/ZCON_38__numH3__from-9.20__to15.57.pdb 3 Chains: {'E', 'F'} have not been specified new_chain_A and new_chain_B AB CD\n",
      "out/R1/01_cut/3.0H/ZCON_38__numH3__from-9.20__to15.57.pdb 3 Chains: {'E', 'F'} have not been specified new_chain_A and new_chain_B AD BC\n",
      "out/R1/01_cut/3.0H/ZCON_38__numH3__from-9.20__to15.57.pdb 3 Chains: {'E', 'F'} have not been specified new_chain_A and new_chain_B A BCD\n",
      "out/R1/01_cut/3.0H/ZCON_38__numH3__from-9.20__to15.57.pdb 3 Chains: {'E', 'F'} have not been specified new_chain_A and new_chain_B B ACD\n",
      "out/R1/01_cut/3.0H/ZCON_38__numH3__from-9.20__to15.57.pdb 3 Chains: {'E', 'F'} have not been specified new_chain_A and new_chain_B C ABD\n",
      "out/R1/01_cut/3.0H/ZCON_38__numH3__from-9.20__to15.57.pdb 3 Chains: {'E', 'F'} have not been specified new_chain_A and new_chain_B D ABC\n",
      "out/R1/01_cut/3.0H/ZCON_38__numH3__from-10.98__to13.79.pdb 3 Chains: {'E', 'F'} have not been specified new_chain_A and new_chain_B AB CD\n",
      "out/R1/01_cut/3.0H/ZCON_38__numH3__from-10.98__to13.79.pdb 3 Chains: {'E', 'F'} have not been specified new_chain_A and new_chain_B AD BC\n",
      "out/R1/01_cut/3.0H/ZCON_38__numH3__from-10.98__to13.79.pdb 3 Chains: {'E', 'F'} have not been specified new_chain_A and new_chain_B A BCD\n",
      "out/R1/01_cut/3.0H/ZCON_38__numH3__from-10.98__to13.79.pdb 3 Chains: {'E', 'F'} have not been specified new_chain_A and new_chain_B B ACD\n",
      "out/R1/01_cut/3.0H/ZCON_38__numH3__from-10.98__to13.79.pdb 3 Chains: {'E', 'F'} have not been specified new_chain_A and new_chain_B C ABD\n",
      "out/R1/01_cut/3.0H/ZCON_38__numH3__from-10.98__to13.79.pdb 3 Chains: {'E', 'F'} have not been specified new_chain_A and new_chain_B D ABC\n",
      "out/R1/01_cut/3.0H/ZCON_38__numH3__from-3.85__to20.92.pdb 3 Chains: {'E', 'F'} have not been specified new_chain_A and new_chain_B AB CD\n",
      "out/R1/01_cut/3.0H/ZCON_38__numH3__from-3.85__to20.92.pdb 3 Chains: {'E', 'F'} have not been specified new_chain_A and new_chain_B AD BC\n",
      "out/R1/01_cut/3.0H/ZCON_38__numH3__from-3.85__to20.92.pdb 3 Chains: {'E', 'F'} have not been specified new_chain_A and new_chain_B A BCD\n",
      "out/R1/01_cut/3.0H/ZCON_38__numH3__from-3.85__to20.92.pdb 3 Chains: {'E', 'F'} have not been specified new_chain_A and new_chain_B B ACD\n",
      "out/R1/01_cut/3.0H/ZCON_38__numH3__from-3.85__to20.92.pdb 3 Chains: {'E', 'F'} have not been specified new_chain_A and new_chain_B C ABD\n",
      "out/R1/01_cut/3.0H/ZCON_38__numH3__from-3.85__to20.92.pdb 3 Chains: {'E', 'F'} have not been specified new_chain_A and new_chain_B D ABC\n",
      "out/R1/01_cut/3.0H/ZCON_40__numH3__from-18.94__to10.53.pdb 3 Chains: {'E', 'F'} have not been specified new_chain_A and new_chain_B AB CD\n",
      "out/R1/01_cut/3.0H/ZCON_40__numH3__from-18.94__to10.53.pdb 3 Chains: {'E', 'F'} have not been specified new_chain_A and new_chain_B AD BC\n",
      "out/R1/01_cut/3.0H/ZCON_40__numH3__from-18.94__to10.53.pdb 3 Chains: {'E', 'F'} have not been specified new_chain_A and new_chain_B A BCD\n",
      "out/R1/01_cut/3.0H/ZCON_40__numH3__from-18.94__to10.53.pdb 3 Chains: {'E', 'F'} have not been specified new_chain_A and new_chain_B B ACD\n",
      "out/R1/01_cut/3.0H/ZCON_40__numH3__from-18.94__to10.53.pdb 3 Chains: {'E', 'F'} have not been specified new_chain_A and new_chain_B C ABD\n",
      "out/R1/01_cut/3.0H/ZCON_40__numH3__from-18.94__to10.53.pdb 3 Chains: {'E', 'F'} have not been specified new_chain_A and new_chain_B D ABC\n",
      "out/R1/01_cut/3.0H/ZCON_39__numH3__from-18.55__to08.94.pdb 3 Chains: {'E', 'F'} have not been specified new_chain_A and new_chain_B AB CD\n",
      "out/R1/01_cut/3.0H/ZCON_39__numH3__from-18.55__to08.94.pdb 3 Chains: {'E', 'F'} have not been specified new_chain_A and new_chain_B AD BC\n",
      "out/R1/01_cut/3.0H/ZCON_39__numH3__from-18.55__to08.94.pdb 3 Chains: {'E', 'F'} have not been specified new_chain_A and new_chain_B A BCD\n",
      "out/R1/01_cut/3.0H/ZCON_39__numH3__from-18.55__to08.94.pdb 3 Chains: {'E', 'F'} have not been specified new_chain_A and new_chain_B B ACD\n",
      "out/R1/01_cut/3.0H/ZCON_39__numH3__from-18.55__to08.94.pdb 3 Chains: {'E', 'F'} have not been specified new_chain_A and new_chain_B C ABD\n",
      "out/R1/01_cut/3.0H/ZCON_39__numH3__from-18.55__to08.94.pdb 3 Chains: {'E', 'F'} have not been specified new_chain_A and new_chain_B D ABC\n",
      "out/R1/01_cut/3.0H/ZCON_39__numH3__from-8.62__to18.87.pdb 3 Chains: {'E', 'F'} have not been specified new_chain_A and new_chain_B AB CD\n",
      "out/R1/01_cut/3.0H/ZCON_39__numH3__from-8.62__to18.87.pdb 3 Chains: {'E', 'F'} have not been specified new_chain_A and new_chain_B AD BC\n",
      "out/R1/01_cut/3.0H/ZCON_39__numH3__from-8.62__to18.87.pdb 3 Chains: {'E', 'F'} have not been specified new_chain_A and new_chain_B A BCD\n",
      "out/R1/01_cut/3.0H/ZCON_39__numH3__from-8.62__to18.87.pdb 3 Chains: {'E', 'F'} have not been specified new_chain_A and new_chain_B B ACD\n",
      "out/R1/01_cut/3.0H/ZCON_39__numH3__from-8.62__to18.87.pdb 3 Chains: {'E', 'F'} have not been specified new_chain_A and new_chain_B C ABD\n",
      "out/R1/01_cut/3.0H/ZCON_39__numH3__from-8.62__to18.87.pdb 3 Chains: {'E', 'F'} have not been specified new_chain_A and new_chain_B D ABC\n",
      "out/R1/01_cut/3.0H/ZCON_38__numH3__from-12.76__to12.01.pdb 3 Chains: {'E', 'F'} have not been specified new_chain_A and new_chain_B AB CD\n",
      "out/R1/01_cut/3.0H/ZCON_38__numH3__from-12.76__to12.01.pdb 3 Chains: {'E', 'F'} have not been specified new_chain_A and new_chain_B AD BC\n",
      "out/R1/01_cut/3.0H/ZCON_38__numH3__from-12.76__to12.01.pdb 3 Chains: {'E', 'F'} have not been specified new_chain_A and new_chain_B A BCD\n",
      "out/R1/01_cut/3.0H/ZCON_38__numH3__from-12.76__to12.01.pdb 3 Chains: {'E', 'F'} have not been specified new_chain_A and new_chain_B B ACD\n",
      "out/R1/01_cut/3.0H/ZCON_38__numH3__from-12.76__to12.01.pdb 3 Chains: {'E', 'F'} have not been specified new_chain_A and new_chain_B C ABD\n",
      "out/R1/01_cut/3.0H/ZCON_38__numH3__from-12.76__to12.01.pdb 3 Chains: {'E', 'F'} have not been specified new_chain_A and new_chain_B D ABC\n",
      "out/R1/01_cut/3.0H/ZCON_39__numH3__from-16.57__to10.93.pdb 3 Chains: {'E', 'F'} have not been specified new_chain_A and new_chain_B AB CD\n",
      "out/R1/01_cut/3.0H/ZCON_39__numH3__from-16.57__to10.93.pdb 3 Chains: {'E', 'F'} have not been specified new_chain_A and new_chain_B AD BC\n",
      "out/R1/01_cut/3.0H/ZCON_39__numH3__from-16.57__to10.93.pdb 3 Chains: {'E', 'F'} have not been specified new_chain_A and new_chain_B A BCD\n",
      "out/R1/01_cut/3.0H/ZCON_39__numH3__from-16.57__to10.93.pdb 3 Chains: {'E', 'F'} have not been specified new_chain_A and new_chain_B B ACD\n",
      "out/R1/01_cut/3.0H/ZCON_39__numH3__from-16.57__to10.93.pdb 3 Chains: {'E', 'F'} have not been specified new_chain_A and new_chain_B C ABD\n",
      "out/R1/01_cut/3.0H/ZCON_39__numH3__from-16.57__to10.93.pdb 3 Chains: {'E', 'F'} have not been specified new_chain_A and new_chain_B D ABC\n",
      "out/R1/01_cut/3.0H/ZCON_40__numH3__from-16.81__to12.66.pdb 3 Chains: {'E', 'F'} have not been specified new_chain_A and new_chain_B AB CD\n",
      "out/R1/01_cut/3.0H/ZCON_40__numH3__from-16.81__to12.66.pdb 3 Chains: {'E', 'F'} have not been specified new_chain_A and new_chain_B AD BC\n",
      "out/R1/01_cut/3.0H/ZCON_40__numH3__from-16.81__to12.66.pdb 3 Chains: {'E', 'F'} have not been specified new_chain_A and new_chain_B A BCD\n",
      "out/R1/01_cut/3.0H/ZCON_40__numH3__from-16.81__to12.66.pdb 3 Chains: {'E', 'F'} have not been specified new_chain_A and new_chain_B B ACD\n",
      "out/R1/01_cut/3.0H/ZCON_40__numH3__from-16.81__to12.66.pdb 3 Chains: {'E', 'F'} have not been specified new_chain_A and new_chain_B C ABD\n",
      "out/R1/01_cut/3.0H/ZCON_40__numH3__from-16.81__to12.66.pdb 3 Chains: {'E', 'F'} have not been specified new_chain_A and new_chain_B D ABC\n",
      "out/R1/01_cut/3.0H/ZCON_38__numH3__from-16.32__to08.44.pdb 3 Chains: {'E', 'F'} have not been specified new_chain_A and new_chain_B AB CD\n",
      "out/R1/01_cut/3.0H/ZCON_38__numH3__from-16.32__to08.44.pdb 3 Chains: {'E', 'F'} have not been specified new_chain_A and new_chain_B AD BC\n",
      "out/R1/01_cut/3.0H/ZCON_38__numH3__from-16.32__to08.44.pdb 3 Chains: {'E', 'F'} have not been specified new_chain_A and new_chain_B A BCD\n",
      "out/R1/01_cut/3.0H/ZCON_38__numH3__from-16.32__to08.44.pdb 3 Chains: {'E', 'F'} have not been specified new_chain_A and new_chain_B B ACD\n",
      "out/R1/01_cut/3.0H/ZCON_38__numH3__from-16.32__to08.44.pdb 3 Chains: {'E', 'F'} have not been specified new_chain_A and new_chain_B C ABD\n",
      "out/R1/01_cut/3.0H/ZCON_38__numH3__from-16.32__to08.44.pdb 3 Chains: {'E', 'F'} have not been specified new_chain_A and new_chain_B D ABC\n",
      "out/R1/01_cut/3.0H/ZCON_38__numH3__from-0.28__to24.48.pdb 3 Chains: {'E', 'F'} have not been specified new_chain_A and new_chain_B AB CD\n",
      "out/R1/01_cut/3.0H/ZCON_38__numH3__from-0.28__to24.48.pdb 3 Chains: {'E', 'F'} have not been specified new_chain_A and new_chain_B AD BC\n",
      "out/R1/01_cut/3.0H/ZCON_38__numH3__from-0.28__to24.48.pdb 3 Chains: {'E', 'F'} have not been specified new_chain_A and new_chain_B A BCD\n",
      "out/R1/01_cut/3.0H/ZCON_38__numH3__from-0.28__to24.48.pdb 3 Chains: {'E', 'F'} have not been specified new_chain_A and new_chain_B B ACD\n",
      "out/R1/01_cut/3.0H/ZCON_38__numH3__from-0.28__to24.48.pdb 3 Chains: {'E', 'F'} have not been specified new_chain_A and new_chain_B C ABD\n",
      "out/R1/01_cut/3.0H/ZCON_38__numH3__from-0.28__to24.48.pdb 3 Chains: {'E', 'F'} have not been specified new_chain_A and new_chain_B D ABC\n",
      "out/R1/01_cut/3.0H/ZCON_38__numH3__from-7.41__to17.35.pdb 3 Chains: {'E', 'F'} have not been specified new_chain_A and new_chain_B AB CD\n",
      "out/R1/01_cut/3.0H/ZCON_38__numH3__from-7.41__to17.35.pdb 3 Chains: {'E', 'F'} have not been specified new_chain_A and new_chain_B AD BC\n",
      "out/R1/01_cut/3.0H/ZCON_38__numH3__from-7.41__to17.35.pdb 3 Chains: {'E', 'F'} have not been specified new_chain_A and new_chain_B A BCD\n",
      "out/R1/01_cut/3.0H/ZCON_38__numH3__from-7.41__to17.35.pdb 3 Chains: {'E', 'F'} have not been specified new_chain_A and new_chain_B B ACD\n",
      "out/R1/01_cut/3.0H/ZCON_38__numH3__from-7.41__to17.35.pdb 3 Chains: {'E', 'F'} have not been specified new_chain_A and new_chain_B C ABD\n",
      "out/R1/01_cut/3.0H/ZCON_38__numH3__from-7.41__to17.35.pdb 3 Chains: {'E', 'F'} have not been specified new_chain_A and new_chain_B D ABC\n",
      "out/R1/01_cut/3.0H/ZCON_39__numH3__from-12.59__to14.90.pdb 3 Chains: {'E', 'F'} have not been specified new_chain_A and new_chain_B AB CD\n",
      "out/R1/01_cut/3.0H/ZCON_39__numH3__from-12.59__to14.90.pdb 3 Chains: {'E', 'F'} have not been specified new_chain_A and new_chain_B AD BC\n",
      "out/R1/01_cut/3.0H/ZCON_39__numH3__from-12.59__to14.90.pdb 3 Chains: {'E', 'F'} have not been specified new_chain_A and new_chain_B A BCD\n",
      "out/R1/01_cut/3.0H/ZCON_39__numH3__from-12.59__to14.90.pdb 3 Chains: {'E', 'F'} have not been specified new_chain_A and new_chain_B B ACD\n",
      "out/R1/01_cut/3.0H/ZCON_39__numH3__from-12.59__to14.90.pdb 3 Chains: {'E', 'F'} have not been specified new_chain_A and new_chain_B C ABD\n",
      "out/R1/01_cut/3.0H/ZCON_39__numH3__from-12.59__to14.90.pdb 3 Chains: {'E', 'F'} have not been specified new_chain_A and new_chain_B D ABC\n",
      "out/R1/01_cut/3.0H/ZCON_39__numH3__from-6.63__to20.86.pdb 3 Chains: {'E', 'F'} have not been specified new_chain_A and new_chain_B AB CD\n",
      "out/R1/01_cut/3.0H/ZCON_39__numH3__from-6.63__to20.86.pdb 3 Chains: {'E', 'F'} have not been specified new_chain_A and new_chain_B AD BC\n",
      "out/R1/01_cut/3.0H/ZCON_39__numH3__from-6.63__to20.86.pdb 3 Chains: {'E', 'F'} have not been specified new_chain_A and new_chain_B A BCD\n",
      "out/R1/01_cut/3.0H/ZCON_39__numH3__from-6.63__to20.86.pdb 3 Chains: {'E', 'F'} have not been specified new_chain_A and new_chain_B B ACD\n",
      "out/R1/01_cut/3.0H/ZCON_39__numH3__from-6.63__to20.86.pdb 3 Chains: {'E', 'F'} have not been specified new_chain_A and new_chain_B C ABD\n",
      "out/R1/01_cut/3.0H/ZCON_39__numH3__from-6.63__to20.86.pdb 3 Chains: {'E', 'F'} have not been specified new_chain_A and new_chain_B D ABC\n",
      "out/R1/01_cut/3.0H/ZCON_40__numH3__from-14.67__to14.80.pdb 3 Chains: {'E', 'F'} have not been specified new_chain_A and new_chain_B AB CD\n",
      "out/R1/01_cut/3.0H/ZCON_40__numH3__from-14.67__to14.80.pdb 3 Chains: {'E', 'F'} have not been specified new_chain_A and new_chain_B AD BC\n",
      "out/R1/01_cut/3.0H/ZCON_40__numH3__from-14.67__to14.80.pdb 3 Chains: {'E', 'F'} have not been specified new_chain_A and new_chain_B A BCD\n",
      "out/R1/01_cut/3.0H/ZCON_40__numH3__from-14.67__to14.80.pdb 3 Chains: {'E', 'F'} have not been specified new_chain_A and new_chain_B B ACD\n",
      "out/R1/01_cut/3.0H/ZCON_40__numH3__from-14.67__to14.80.pdb 3 Chains: {'E', 'F'} have not been specified new_chain_A and new_chain_B C ABD\n",
      "out/R1/01_cut/3.0H/ZCON_40__numH3__from-14.67__to14.80.pdb 3 Chains: {'E', 'F'} have not been specified new_chain_A and new_chain_B D ABC\n",
      "out/R1/01_cut/3.0H/ZCON_38__numH3__from-5.63__to19.14.pdb 3 Chains: {'E', 'F'} have not been specified new_chain_A and new_chain_B AB CD\n",
      "out/R1/01_cut/3.0H/ZCON_38__numH3__from-5.63__to19.14.pdb 3 Chains: {'E', 'F'} have not been specified new_chain_A and new_chain_B AD BC\n",
      "out/R1/01_cut/3.0H/ZCON_38__numH3__from-5.63__to19.14.pdb 3 Chains: {'E', 'F'} have not been specified new_chain_A and new_chain_B A BCD\n",
      "out/R1/01_cut/3.0H/ZCON_38__numH3__from-5.63__to19.14.pdb 3 Chains: {'E', 'F'} have not been specified new_chain_A and new_chain_B B ACD\n",
      "out/R1/01_cut/3.0H/ZCON_38__numH3__from-5.63__to19.14.pdb 3 Chains: {'E', 'F'} have not been specified new_chain_A and new_chain_B C ABD\n",
      "out/R1/01_cut/3.0H/ZCON_38__numH3__from-5.63__to19.14.pdb 3 Chains: {'E', 'F'} have not been specified new_chain_A and new_chain_B D ABC\n",
      "out/R1/01_cut/3.5H/ZCON_38__numH3.5__from-10.98__to17.75.pdb 3.5 Chains: {'E', 'F'} have not been specified new_chain_A and new_chain_B AB CD\n",
      "out/R1/01_cut/3.5H/ZCON_38__numH3.5__from-10.98__to17.75.pdb 3.5 Chains: {'E', 'F'} have not been specified new_chain_A and new_chain_B AD BC\n",
      "out/R1/01_cut/3.5H/ZCON_38__numH3.5__from-10.98__to17.75.pdb 3.5 Chains: {'E', 'F'} have not been specified new_chain_A and new_chain_B A BCD\n",
      "out/R1/01_cut/3.5H/ZCON_38__numH3.5__from-10.98__to17.75.pdb 3.5 Chains: {'E', 'F'} have not been specified new_chain_A and new_chain_B B ACD\n",
      "out/R1/01_cut/3.5H/ZCON_38__numH3.5__from-10.98__to17.75.pdb 3.5 Chains: {'E', 'F'} have not been specified new_chain_A and new_chain_B C ABD\n",
      "out/R1/01_cut/3.5H/ZCON_38__numH3.5__from-10.98__to17.75.pdb 3.5 Chains: {'E', 'F'} have not been specified new_chain_A and new_chain_B D ABC\n",
      "out/R1/01_cut/3.5H/ZCON_40__numH3.5__from-12.54__to21.67.pdb 3.5 Chains: {'E', 'F'} have not been specified new_chain_A and new_chain_B AB CD\n",
      "out/R1/01_cut/3.5H/ZCON_40__numH3.5__from-12.54__to21.67.pdb 3.5 Chains: {'E', 'F'} have not been specified new_chain_A and new_chain_B AD BC\n",
      "out/R1/01_cut/3.5H/ZCON_40__numH3.5__from-12.54__to21.67.pdb 3.5 Chains: {'E', 'F'} have not been specified new_chain_A and new_chain_B A BCD\n",
      "out/R1/01_cut/3.5H/ZCON_40__numH3.5__from-12.54__to21.67.pdb 3.5 Chains: {'E', 'F'} have not been specified new_chain_A and new_chain_B B ACD\n",
      "out/R1/01_cut/3.5H/ZCON_40__numH3.5__from-12.54__to21.67.pdb 3.5 Chains: {'E', 'F'} have not been specified new_chain_A and new_chain_B C ABD\n",
      "out/R1/01_cut/3.5H/ZCON_40__numH3.5__from-12.54__to21.67.pdb 3.5 Chains: {'E', 'F'} have not been specified new_chain_A and new_chain_B D ABC\n",
      "out/R1/01_cut/3.5H/ZCON_40__numH3.5__from-14.67__to19.54.pdb 3.5 Chains: {'E', 'F'} have not been specified new_chain_A and new_chain_B AB CD\n",
      "out/R1/01_cut/3.5H/ZCON_40__numH3.5__from-14.67__to19.54.pdb 3.5 Chains: {'E', 'F'} have not been specified new_chain_A and new_chain_B AD BC\n",
      "out/R1/01_cut/3.5H/ZCON_40__numH3.5__from-14.67__to19.54.pdb 3.5 Chains: {'E', 'F'} have not been specified new_chain_A and new_chain_B A BCD\n",
      "out/R1/01_cut/3.5H/ZCON_40__numH3.5__from-14.67__to19.54.pdb 3.5 Chains: {'E', 'F'} have not been specified new_chain_A and new_chain_B B ACD\n",
      "out/R1/01_cut/3.5H/ZCON_40__numH3.5__from-14.67__to19.54.pdb 3.5 Chains: {'E', 'F'} have not been specified new_chain_A and new_chain_B C ABD\n",
      "out/R1/01_cut/3.5H/ZCON_40__numH3.5__from-14.67__to19.54.pdb 3.5 Chains: {'E', 'F'} have not been specified new_chain_A and new_chain_B D ABC\n",
      "out/R1/01_cut/3.5H/ZCON_38__numH3.5__from-7.41__to21.31.pdb 3.5 Chains: {'E', 'F'} have not been specified new_chain_A and new_chain_B AB CD\n",
      "out/R1/01_cut/3.5H/ZCON_38__numH3.5__from-7.41__to21.31.pdb 3.5 Chains: {'E', 'F'} have not been specified new_chain_A and new_chain_B AD BC\n",
      "out/R1/01_cut/3.5H/ZCON_38__numH3.5__from-7.41__to21.31.pdb 3.5 Chains: {'E', 'F'} have not been specified new_chain_A and new_chain_B A BCD\n",
      "out/R1/01_cut/3.5H/ZCON_38__numH3.5__from-7.41__to21.31.pdb 3.5 Chains: {'E', 'F'} have not been specified new_chain_A and new_chain_B B ACD\n",
      "out/R1/01_cut/3.5H/ZCON_38__numH3.5__from-7.41__to21.31.pdb 3.5 Chains: {'E', 'F'} have not been specified new_chain_A and new_chain_B C ABD\n",
      "out/R1/01_cut/3.5H/ZCON_38__numH3.5__from-7.41__to21.31.pdb 3.5 Chains: {'E', 'F'} have not been specified new_chain_A and new_chain_B D ABC\n",
      "out/R1/01_cut/3.5H/ZCON_39__numH3.5__from-18.55__to13.36.pdb 3.5 Chains: {'E', 'F'} have not been specified new_chain_A and new_chain_B AB CD\n",
      "out/R1/01_cut/3.5H/ZCON_39__numH3.5__from-18.55__to13.36.pdb 3.5 Chains: {'E', 'F'} have not been specified new_chain_A and new_chain_B AD BC\n",
      "out/R1/01_cut/3.5H/ZCON_39__numH3.5__from-18.55__to13.36.pdb 3.5 Chains: {'E', 'F'} have not been specified new_chain_A and new_chain_B A BCD\n",
      "out/R1/01_cut/3.5H/ZCON_39__numH3.5__from-18.55__to13.36.pdb 3.5 Chains: {'E', 'F'} have not been specified new_chain_A and new_chain_B B ACD\n",
      "out/R1/01_cut/3.5H/ZCON_39__numH3.5__from-18.55__to13.36.pdb 3.5 Chains: {'E', 'F'} have not been specified new_chain_A and new_chain_B C ABD\n",
      "out/R1/01_cut/3.5H/ZCON_39__numH3.5__from-18.55__to13.36.pdb 3.5 Chains: {'E', 'F'} have not been specified new_chain_A and new_chain_B D ABC\n",
      "out/R1/01_cut/3.5H/ZCON_38__numH3.5__from-16.32__to12.40.pdb 3.5 Chains: {'E', 'F'} have not been specified new_chain_A and new_chain_B AB CD\n",
      "out/R1/01_cut/3.5H/ZCON_38__numH3.5__from-16.32__to12.40.pdb 3.5 Chains: {'E', 'F'} have not been specified new_chain_A and new_chain_B AD BC\n",
      "out/R1/01_cut/3.5H/ZCON_38__numH3.5__from-16.32__to12.40.pdb 3.5 Chains: {'E', 'F'} have not been specified new_chain_A and new_chain_B A BCD\n",
      "out/R1/01_cut/3.5H/ZCON_38__numH3.5__from-16.32__to12.40.pdb 3.5 Chains: {'E', 'F'} have not been specified new_chain_A and new_chain_B B ACD\n",
      "out/R1/01_cut/3.5H/ZCON_38__numH3.5__from-16.32__to12.40.pdb 3.5 Chains: {'E', 'F'} have not been specified new_chain_A and new_chain_B C ABD\n",
      "out/R1/01_cut/3.5H/ZCON_38__numH3.5__from-16.32__to12.40.pdb 3.5 Chains: {'E', 'F'} have not been specified new_chain_A and new_chain_B D ABC\n",
      "out/R1/01_cut/3.5H/ZCON_40__numH3.5__from-16.81__to17.40.pdb 3.5 Chains: {'E', 'F'} have not been specified new_chain_A and new_chain_B AB CD\n",
      "out/R1/01_cut/3.5H/ZCON_40__numH3.5__from-16.81__to17.40.pdb 3.5 Chains: {'E', 'F'} have not been specified new_chain_A and new_chain_B AD BC\n",
      "out/R1/01_cut/3.5H/ZCON_40__numH3.5__from-16.81__to17.40.pdb 3.5 Chains: {'E', 'F'} have not been specified new_chain_A and new_chain_B A BCD\n",
      "out/R1/01_cut/3.5H/ZCON_40__numH3.5__from-16.81__to17.40.pdb 3.5 Chains: {'E', 'F'} have not been specified new_chain_A and new_chain_B B ACD\n",
      "out/R1/01_cut/3.5H/ZCON_40__numH3.5__from-16.81__to17.40.pdb 3.5 Chains: {'E', 'F'} have not been specified new_chain_A and new_chain_B C ABD\n",
      "out/R1/01_cut/3.5H/ZCON_40__numH3.5__from-16.81__to17.40.pdb 3.5 Chains: {'E', 'F'} have not been specified new_chain_A and new_chain_B D ABC\n",
      "out/R1/01_cut/3.5H/ZCON_38__numH3.5__from-9.20__to19.53.pdb 3.5 Chains: {'E', 'F'} have not been specified new_chain_A and new_chain_B AB CD\n",
      "out/R1/01_cut/3.5H/ZCON_38__numH3.5__from-9.20__to19.53.pdb 3.5 Chains: {'E', 'F'} have not been specified new_chain_A and new_chain_B AD BC\n",
      "out/R1/01_cut/3.5H/ZCON_38__numH3.5__from-9.20__to19.53.pdb 3.5 Chains: {'E', 'F'} have not been specified new_chain_A and new_chain_B A BCD\n",
      "out/R1/01_cut/3.5H/ZCON_38__numH3.5__from-9.20__to19.53.pdb 3.5 Chains: {'E', 'F'} have not been specified new_chain_A and new_chain_B B ACD\n",
      "out/R1/01_cut/3.5H/ZCON_38__numH3.5__from-9.20__to19.53.pdb 3.5 Chains: {'E', 'F'} have not been specified new_chain_A and new_chain_B C ABD\n",
      "out/R1/01_cut/3.5H/ZCON_38__numH3.5__from-9.20__to19.53.pdb 3.5 Chains: {'E', 'F'} have not been specified new_chain_A and new_chain_B D ABC\n",
      "out/R1/01_cut/3.5H/ZCON_39__numH3.5__from-14.58__to17.33.pdb 3.5 Chains: {'E', 'F'} have not been specified new_chain_A and new_chain_B AB CD\n",
      "out/R1/01_cut/3.5H/ZCON_39__numH3.5__from-14.58__to17.33.pdb 3.5 Chains: {'E', 'F'} have not been specified new_chain_A and new_chain_B AD BC\n",
      "out/R1/01_cut/3.5H/ZCON_39__numH3.5__from-14.58__to17.33.pdb 3.5 Chains: {'E', 'F'} have not been specified new_chain_A and new_chain_B A BCD\n",
      "out/R1/01_cut/3.5H/ZCON_39__numH3.5__from-14.58__to17.33.pdb 3.5 Chains: {'E', 'F'} have not been specified new_chain_A and new_chain_B B ACD\n",
      "out/R1/01_cut/3.5H/ZCON_39__numH3.5__from-14.58__to17.33.pdb 3.5 Chains: {'E', 'F'} have not been specified new_chain_A and new_chain_B C ABD\n",
      "out/R1/01_cut/3.5H/ZCON_39__numH3.5__from-14.58__to17.33.pdb 3.5 Chains: {'E', 'F'} have not been specified new_chain_A and new_chain_B D ABC\n",
      "out/R1/01_cut/3.5H/ZCON_40__numH3.5__from-18.94__to15.27.pdb 3.5 Chains: {'E', 'F'} have not been specified new_chain_A and new_chain_B AB CD\n",
      "out/R1/01_cut/3.5H/ZCON_40__numH3.5__from-18.94__to15.27.pdb 3.5 Chains: {'E', 'F'} have not been specified new_chain_A and new_chain_B AD BC\n",
      "out/R1/01_cut/3.5H/ZCON_40__numH3.5__from-18.94__to15.27.pdb 3.5 Chains: {'E', 'F'} have not been specified new_chain_A and new_chain_B A BCD\n",
      "out/R1/01_cut/3.5H/ZCON_40__numH3.5__from-18.94__to15.27.pdb 3.5 Chains: {'E', 'F'} have not been specified new_chain_A and new_chain_B B ACD\n",
      "out/R1/01_cut/3.5H/ZCON_40__numH3.5__from-18.94__to15.27.pdb 3.5 Chains: {'E', 'F'} have not been specified new_chain_A and new_chain_B C ABD\n",
      "out/R1/01_cut/3.5H/ZCON_40__numH3.5__from-18.94__to15.27.pdb 3.5 Chains: {'E', 'F'} have not been specified new_chain_A and new_chain_B D ABC\n",
      "out/R1/01_cut/3.5H/ZCON_39__numH3.5__from-16.57__to15.34.pdb 3.5 Chains: {'E', 'F'} have not been specified new_chain_A and new_chain_B AB CD\n",
      "out/R1/01_cut/3.5H/ZCON_39__numH3.5__from-16.57__to15.34.pdb 3.5 Chains: {'E', 'F'} have not been specified new_chain_A and new_chain_B AD BC\n",
      "out/R1/01_cut/3.5H/ZCON_39__numH3.5__from-16.57__to15.34.pdb 3.5 Chains: {'E', 'F'} have not been specified new_chain_A and new_chain_B A BCD\n",
      "out/R1/01_cut/3.5H/ZCON_39__numH3.5__from-16.57__to15.34.pdb 3.5 Chains: {'E', 'F'} have not been specified new_chain_A and new_chain_B B ACD\n",
      "out/R1/01_cut/3.5H/ZCON_39__numH3.5__from-16.57__to15.34.pdb 3.5 Chains: {'E', 'F'} have not been specified new_chain_A and new_chain_B C ABD\n",
      "out/R1/01_cut/3.5H/ZCON_39__numH3.5__from-16.57__to15.34.pdb 3.5 Chains: {'E', 'F'} have not been specified new_chain_A and new_chain_B D ABC\n",
      "out/R1/01_cut/3.5H/ZCON_39__numH3.5__from-12.59__to19.32.pdb 3.5 Chains: {'E', 'F'} have not been specified new_chain_A and new_chain_B AB CD\n",
      "out/R1/01_cut/3.5H/ZCON_39__numH3.5__from-12.59__to19.32.pdb 3.5 Chains: {'E', 'F'} have not been specified new_chain_A and new_chain_B AD BC\n",
      "out/R1/01_cut/3.5H/ZCON_39__numH3.5__from-12.59__to19.32.pdb 3.5 Chains: {'E', 'F'} have not been specified new_chain_A and new_chain_B A BCD\n",
      "out/R1/01_cut/3.5H/ZCON_39__numH3.5__from-12.59__to19.32.pdb 3.5 Chains: {'E', 'F'} have not been specified new_chain_A and new_chain_B B ACD\n",
      "out/R1/01_cut/3.5H/ZCON_39__numH3.5__from-12.59__to19.32.pdb 3.5 Chains: {'E', 'F'} have not been specified new_chain_A and new_chain_B C ABD\n",
      "out/R1/01_cut/3.5H/ZCON_39__numH3.5__from-12.59__to19.32.pdb 3.5 Chains: {'E', 'F'} have not been specified new_chain_A and new_chain_B D ABC\n",
      "out/R1/01_cut/3.5H/ZCON_38__numH3.5__from-5.63__to23.10.pdb 3.5 Chains: {'E', 'F'} have not been specified new_chain_A and new_chain_B AB CD\n",
      "out/R1/01_cut/3.5H/ZCON_38__numH3.5__from-5.63__to23.10.pdb 3.5 Chains: {'E', 'F'} have not been specified new_chain_A and new_chain_B AD BC\n",
      "out/R1/01_cut/3.5H/ZCON_38__numH3.5__from-5.63__to23.10.pdb 3.5 Chains: {'E', 'F'} have not been specified new_chain_A and new_chain_B A BCD\n",
      "out/R1/01_cut/3.5H/ZCON_38__numH3.5__from-5.63__to23.10.pdb 3.5 Chains: {'E', 'F'} have not been specified new_chain_A and new_chain_B B ACD\n",
      "out/R1/01_cut/3.5H/ZCON_38__numH3.5__from-5.63__to23.10.pdb 3.5 Chains: {'E', 'F'} have not been specified new_chain_A and new_chain_B C ABD\n",
      "out/R1/01_cut/3.5H/ZCON_38__numH3.5__from-5.63__to23.10.pdb 3.5 Chains: {'E', 'F'} have not been specified new_chain_A and new_chain_B D ABC\n",
      "out/R1/01_cut/3.5H/ZCON_38__numH3.5__from-14.54__to14.18.pdb 3.5 Chains: {'E', 'F'} have not been specified new_chain_A and new_chain_B AB CD\n",
      "out/R1/01_cut/3.5H/ZCON_38__numH3.5__from-14.54__to14.18.pdb 3.5 Chains: {'E', 'F'} have not been specified new_chain_A and new_chain_B AD BC\n",
      "out/R1/01_cut/3.5H/ZCON_38__numH3.5__from-14.54__to14.18.pdb 3.5 Chains: {'E', 'F'} have not been specified new_chain_A and new_chain_B A BCD\n",
      "out/R1/01_cut/3.5H/ZCON_38__numH3.5__from-14.54__to14.18.pdb 3.5 Chains: {'E', 'F'} have not been specified new_chain_A and new_chain_B B ACD\n",
      "out/R1/01_cut/3.5H/ZCON_38__numH3.5__from-14.54__to14.18.pdb 3.5 Chains: {'E', 'F'} have not been specified new_chain_A and new_chain_B C ABD\n",
      "out/R1/01_cut/3.5H/ZCON_38__numH3.5__from-14.54__to14.18.pdb 3.5 Chains: {'E', 'F'} have not been specified new_chain_A and new_chain_B D ABC\n",
      "out/R1/01_cut/3.5H/ZCON_39__numH3.5__from-20.54__to11.37.pdb 3.5 Chains: {'E', 'F'} have not been specified new_chain_A and new_chain_B AB CD\n",
      "out/R1/01_cut/3.5H/ZCON_39__numH3.5__from-20.54__to11.37.pdb 3.5 Chains: {'E', 'F'} have not been specified new_chain_A and new_chain_B AD BC\n",
      "out/R1/01_cut/3.5H/ZCON_39__numH3.5__from-20.54__to11.37.pdb 3.5 Chains: {'E', 'F'} have not been specified new_chain_A and new_chain_B A BCD\n",
      "out/R1/01_cut/3.5H/ZCON_39__numH3.5__from-20.54__to11.37.pdb 3.5 Chains: {'E', 'F'} have not been specified new_chain_A and new_chain_B B ACD\n",
      "out/R1/01_cut/3.5H/ZCON_39__numH3.5__from-20.54__to11.37.pdb 3.5 Chains: {'E', 'F'} have not been specified new_chain_A and new_chain_B C ABD\n",
      "out/R1/01_cut/3.5H/ZCON_39__numH3.5__from-20.54__to11.37.pdb 3.5 Chains: {'E', 'F'} have not been specified new_chain_A and new_chain_B D ABC\n",
      "out/R1/01_cut/3.5H/ZCON_38__numH3.5__from-12.76__to15.97.pdb 3.5 Chains: {'E', 'F'} have not been specified new_chain_A and new_chain_B AB CD\n",
      "out/R1/01_cut/3.5H/ZCON_38__numH3.5__from-12.76__to15.97.pdb 3.5 Chains: {'E', 'F'} have not been specified new_chain_A and new_chain_B AD BC\n",
      "out/R1/01_cut/3.5H/ZCON_38__numH3.5__from-12.76__to15.97.pdb 3.5 Chains: {'E', 'F'} have not been specified new_chain_A and new_chain_B A BCD\n",
      "out/R1/01_cut/3.5H/ZCON_38__numH3.5__from-12.76__to15.97.pdb 3.5 Chains: {'E', 'F'} have not been specified new_chain_A and new_chain_B B ACD\n",
      "out/R1/01_cut/3.5H/ZCON_38__numH3.5__from-12.76__to15.97.pdb 3.5 Chains: {'E', 'F'} have not been specified new_chain_A and new_chain_B C ABD\n",
      "out/R1/01_cut/3.5H/ZCON_38__numH3.5__from-12.76__to15.97.pdb 3.5 Chains: {'E', 'F'} have not been specified new_chain_A and new_chain_B D ABC\n",
      "out/R1/01_cut/3.5H/ZCON_39__numH3.5__from-10.61__to21.30.pdb 3.5 Chains: {'E', 'F'} have not been specified new_chain_A and new_chain_B AB CD\n",
      "out/R1/01_cut/3.5H/ZCON_39__numH3.5__from-10.61__to21.30.pdb 3.5 Chains: {'E', 'F'} have not been specified new_chain_A and new_chain_B AD BC\n",
      "out/R1/01_cut/3.5H/ZCON_39__numH3.5__from-10.61__to21.30.pdb 3.5 Chains: {'E', 'F'} have not been specified new_chain_A and new_chain_B A BCD\n",
      "out/R1/01_cut/3.5H/ZCON_39__numH3.5__from-10.61__to21.30.pdb 3.5 Chains: {'E', 'F'} have not been specified new_chain_A and new_chain_B B ACD\n",
      "out/R1/01_cut/3.5H/ZCON_39__numH3.5__from-10.61__to21.30.pdb 3.5 Chains: {'E', 'F'} have not been specified new_chain_A and new_chain_B C ABD\n",
      "out/R1/01_cut/3.5H/ZCON_39__numH3.5__from-10.61__to21.30.pdb 3.5 Chains: {'E', 'F'} have not been specified new_chain_A and new_chain_B D ABC\n",
      "out/R1/01_cut/4.0H/ZCON_39__numH4__from-14.58__to21.74.pdb 4 Chains: {'E', 'F'} have not been specified new_chain_A and new_chain_B AB CD\n",
      "out/R1/01_cut/4.0H/ZCON_39__numH4__from-14.58__to21.74.pdb 4 Chains: {'E', 'F'} have not been specified new_chain_A and new_chain_B AD BC\n",
      "out/R1/01_cut/4.0H/ZCON_39__numH4__from-14.58__to21.74.pdb 4 Chains: {'E', 'F'} have not been specified new_chain_A and new_chain_B A BCD\n",
      "out/R1/01_cut/4.0H/ZCON_39__numH4__from-14.58__to21.74.pdb 4 Chains: {'E', 'F'} have not been specified new_chain_A and new_chain_B B ACD\n",
      "out/R1/01_cut/4.0H/ZCON_39__numH4__from-14.58__to21.74.pdb 4 Chains: {'E', 'F'} have not been specified new_chain_A and new_chain_B C ABD\n",
      "out/R1/01_cut/4.0H/ZCON_39__numH4__from-14.58__to21.74.pdb 4 Chains: {'E', 'F'} have not been specified new_chain_A and new_chain_B D ABC\n",
      "out/R1/01_cut/4.0H/ZCON_38__numH4__from-12.76__to19.93.pdb 4 Chains: {'E', 'F'} have not been specified new_chain_A and new_chain_B AB CD\n",
      "out/R1/01_cut/4.0H/ZCON_38__numH4__from-12.76__to19.93.pdb 4 Chains: {'E', 'F'} have not been specified new_chain_A and new_chain_B AD BC\n",
      "out/R1/01_cut/4.0H/ZCON_38__numH4__from-12.76__to19.93.pdb 4 Chains: {'E', 'F'} have not been specified new_chain_A and new_chain_B A BCD\n",
      "out/R1/01_cut/4.0H/ZCON_38__numH4__from-12.76__to19.93.pdb 4 Chains: {'E', 'F'} have not been specified new_chain_A and new_chain_B B ACD\n",
      "out/R1/01_cut/4.0H/ZCON_38__numH4__from-12.76__to19.93.pdb 4 Chains: {'E', 'F'} have not been specified new_chain_A and new_chain_B C ABD\n",
      "out/R1/01_cut/4.0H/ZCON_38__numH4__from-12.76__to19.93.pdb 4 Chains: {'E', 'F'} have not been specified new_chain_A and new_chain_B D ABC\n",
      "out/R1/01_cut/4.0H/ZCON_40__numH4__from-18.94__to20.01.pdb 4 Chains: {'E', 'F'} have not been specified new_chain_A and new_chain_B AB CD\n",
      "out/R1/01_cut/4.0H/ZCON_40__numH4__from-18.94__to20.01.pdb 4 Chains: {'E', 'F'} have not been specified new_chain_A and new_chain_B AD BC\n",
      "out/R1/01_cut/4.0H/ZCON_40__numH4__from-18.94__to20.01.pdb 4 Chains: {'E', 'F'} have not been specified new_chain_A and new_chain_B A BCD\n",
      "out/R1/01_cut/4.0H/ZCON_40__numH4__from-18.94__to20.01.pdb 4 Chains: {'E', 'F'} have not been specified new_chain_A and new_chain_B B ACD\n",
      "out/R1/01_cut/4.0H/ZCON_40__numH4__from-18.94__to20.01.pdb 4 Chains: {'E', 'F'} have not been specified new_chain_A and new_chain_B C ABD\n",
      "out/R1/01_cut/4.0H/ZCON_40__numH4__from-18.94__to20.01.pdb 4 Chains: {'E', 'F'} have not been specified new_chain_A and new_chain_B D ABC\n",
      "out/R1/01_cut/4.0H/ZCON_38__numH4__from-16.32__to16.36.pdb 4 Chains: {'E', 'F'} have not been specified new_chain_A and new_chain_B AB CD\n",
      "out/R1/01_cut/4.0H/ZCON_38__numH4__from-16.32__to16.36.pdb 4 Chains: {'E', 'F'} have not been specified new_chain_A and new_chain_B AD BC\n",
      "out/R1/01_cut/4.0H/ZCON_38__numH4__from-16.32__to16.36.pdb 4 Chains: {'E', 'F'} have not been specified new_chain_A and new_chain_B A BCD\n",
      "out/R1/01_cut/4.0H/ZCON_38__numH4__from-16.32__to16.36.pdb 4 Chains: {'E', 'F'} have not been specified new_chain_A and new_chain_B B ACD\n",
      "out/R1/01_cut/4.0H/ZCON_38__numH4__from-16.32__to16.36.pdb 4 Chains: {'E', 'F'} have not been specified new_chain_A and new_chain_B C ABD\n",
      "out/R1/01_cut/4.0H/ZCON_38__numH4__from-16.32__to16.36.pdb 4 Chains: {'E', 'F'} have not been specified new_chain_A and new_chain_B D ABC\n",
      "out/R1/01_cut/4.0H/ZCON_38__numH4__from-14.54__to18.15.pdb 4 Chains: {'E', 'F'} have not been specified new_chain_A and new_chain_B AB CD\n",
      "out/R1/01_cut/4.0H/ZCON_38__numH4__from-14.54__to18.15.pdb 4 Chains: {'E', 'F'} have not been specified new_chain_A and new_chain_B AD BC\n",
      "out/R1/01_cut/4.0H/ZCON_38__numH4__from-14.54__to18.15.pdb 4 Chains: {'E', 'F'} have not been specified new_chain_A and new_chain_B A BCD\n",
      "out/R1/01_cut/4.0H/ZCON_38__numH4__from-14.54__to18.15.pdb 4 Chains: {'E', 'F'} have not been specified new_chain_A and new_chain_B B ACD\n",
      "out/R1/01_cut/4.0H/ZCON_38__numH4__from-14.54__to18.15.pdb 4 Chains: {'E', 'F'} have not been specified new_chain_A and new_chain_B C ABD\n",
      "out/R1/01_cut/4.0H/ZCON_38__numH4__from-14.54__to18.15.pdb 4 Chains: {'E', 'F'} have not been specified new_chain_A and new_chain_B D ABC\n",
      "out/R1/01_cut/4.0H/ZCON_39__numH4__from-18.55__to17.77.pdb 4 Chains: {'E', 'F'} have not been specified new_chain_A and new_chain_B AB CD\n",
      "out/R1/01_cut/4.0H/ZCON_39__numH4__from-18.55__to17.77.pdb 4 Chains: {'E', 'F'} have not been specified new_chain_A and new_chain_B AD BC\n",
      "out/R1/01_cut/4.0H/ZCON_39__numH4__from-18.55__to17.77.pdb 4 Chains: {'E', 'F'} have not been specified new_chain_A and new_chain_B A BCD\n",
      "out/R1/01_cut/4.0H/ZCON_39__numH4__from-18.55__to17.77.pdb 4 Chains: {'E', 'F'} have not been specified new_chain_A and new_chain_B B ACD\n",
      "out/R1/01_cut/4.0H/ZCON_39__numH4__from-18.55__to17.77.pdb 4 Chains: {'E', 'F'} have not been specified new_chain_A and new_chain_B C ABD\n",
      "out/R1/01_cut/4.0H/ZCON_39__numH4__from-18.55__to17.77.pdb 4 Chains: {'E', 'F'} have not been specified new_chain_A and new_chain_B D ABC\n",
      "out/R1/01_cut/4.0H/ZCON_40__numH4__from-16.81__to22.15.pdb 4 Chains: {'E', 'F'} have not been specified new_chain_A and new_chain_B AB CD\n",
      "out/R1/01_cut/4.0H/ZCON_40__numH4__from-16.81__to22.15.pdb 4 Chains: {'E', 'F'} have not been specified new_chain_A and new_chain_B AD BC\n",
      "out/R1/01_cut/4.0H/ZCON_40__numH4__from-16.81__to22.15.pdb 4 Chains: {'E', 'F'} have not been specified new_chain_A and new_chain_B A BCD\n",
      "out/R1/01_cut/4.0H/ZCON_40__numH4__from-16.81__to22.15.pdb 4 Chains: {'E', 'F'} have not been specified new_chain_A and new_chain_B B ACD\n",
      "out/R1/01_cut/4.0H/ZCON_40__numH4__from-16.81__to22.15.pdb 4 Chains: {'E', 'F'} have not been specified new_chain_A and new_chain_B C ABD\n",
      "out/R1/01_cut/4.0H/ZCON_40__numH4__from-16.81__to22.15.pdb 4 Chains: {'E', 'F'} have not been specified new_chain_A and new_chain_B D ABC\n",
      "out/R1/01_cut/4.0H/ZCON_39__numH4__from-20.54__to15.78.pdb 4 Chains: {'E', 'F'} have not been specified new_chain_A and new_chain_B AB CD\n",
      "out/R1/01_cut/4.0H/ZCON_39__numH4__from-20.54__to15.78.pdb 4 Chains: {'E', 'F'} have not been specified new_chain_A and new_chain_B AD BC\n",
      "out/R1/01_cut/4.0H/ZCON_39__numH4__from-20.54__to15.78.pdb 4 Chains: {'E', 'F'} have not been specified new_chain_A and new_chain_B A BCD\n",
      "out/R1/01_cut/4.0H/ZCON_39__numH4__from-20.54__to15.78.pdb 4 Chains: {'E', 'F'} have not been specified new_chain_A and new_chain_B B ACD\n",
      "out/R1/01_cut/4.0H/ZCON_39__numH4__from-20.54__to15.78.pdb 4 Chains: {'E', 'F'} have not been specified new_chain_A and new_chain_B C ABD\n",
      "out/R1/01_cut/4.0H/ZCON_39__numH4__from-20.54__to15.78.pdb 4 Chains: {'E', 'F'} have not been specified new_chain_A and new_chain_B D ABC\n",
      "out/R1/01_cut/4.0H/ZCON_38__numH4__from-9.20__to23.49.pdb 4 Chains: {'E', 'F'} have not been specified new_chain_A and new_chain_B AB CD\n",
      "out/R1/01_cut/4.0H/ZCON_38__numH4__from-9.20__to23.49.pdb 4 Chains: {'E', 'F'} have not been specified new_chain_A and new_chain_B AD BC\n",
      "out/R1/01_cut/4.0H/ZCON_38__numH4__from-9.20__to23.49.pdb 4 Chains: {'E', 'F'} have not been specified new_chain_A and new_chain_B A BCD\n",
      "out/R1/01_cut/4.0H/ZCON_38__numH4__from-9.20__to23.49.pdb 4 Chains: {'E', 'F'} have not been specified new_chain_A and new_chain_B B ACD\n",
      "out/R1/01_cut/4.0H/ZCON_38__numH4__from-9.20__to23.49.pdb 4 Chains: {'E', 'F'} have not been specified new_chain_A and new_chain_B C ABD\n",
      "out/R1/01_cut/4.0H/ZCON_38__numH4__from-9.20__to23.49.pdb 4 Chains: {'E', 'F'} have not been specified new_chain_A and new_chain_B D ABC\n",
      "out/R1/01_cut/4.0H/ZCON_39__numH4__from-16.57__to19.76.pdb 4 Chains: {'E', 'F'} have not been specified new_chain_A and new_chain_B AB CD\n",
      "out/R1/01_cut/4.0H/ZCON_39__numH4__from-16.57__to19.76.pdb 4 Chains: {'E', 'F'} have not been specified new_chain_A and new_chain_B AD BC\n",
      "out/R1/01_cut/4.0H/ZCON_39__numH4__from-16.57__to19.76.pdb 4 Chains: {'E', 'F'} have not been specified new_chain_A and new_chain_B A BCD\n",
      "out/R1/01_cut/4.0H/ZCON_39__numH4__from-16.57__to19.76.pdb 4 Chains: {'E', 'F'} have not been specified new_chain_A and new_chain_B B ACD\n",
      "out/R1/01_cut/4.0H/ZCON_39__numH4__from-16.57__to19.76.pdb 4 Chains: {'E', 'F'} have not been specified new_chain_A and new_chain_B C ABD\n",
      "out/R1/01_cut/4.0H/ZCON_39__numH4__from-16.57__to19.76.pdb 4 Chains: {'E', 'F'} have not been specified new_chain_A and new_chain_B D ABC\n",
      "out/R1/01_cut/4.0H/ZCON_38__numH4__from-10.98__to21.71.pdb 4 Chains: {'E', 'F'} have not been specified new_chain_A and new_chain_B AB CD\n",
      "out/R1/01_cut/4.0H/ZCON_38__numH4__from-10.98__to21.71.pdb 4 Chains: {'E', 'F'} have not been specified new_chain_A and new_chain_B AD BC\n",
      "out/R1/01_cut/4.0H/ZCON_38__numH4__from-10.98__to21.71.pdb 4 Chains: {'E', 'F'} have not been specified new_chain_A and new_chain_B A BCD\n",
      "out/R1/01_cut/4.0H/ZCON_38__numH4__from-10.98__to21.71.pdb 4 Chains: {'E', 'F'} have not been specified new_chain_A and new_chain_B B ACD\n",
      "out/R1/01_cut/4.0H/ZCON_38__numH4__from-10.98__to21.71.pdb 4 Chains: {'E', 'F'} have not been specified new_chain_A and new_chain_B C ABD\n",
      "out/R1/01_cut/4.0H/ZCON_38__numH4__from-10.98__to21.71.pdb 4 Chains: {'E', 'F'} have not been specified new_chain_A and new_chain_B D ABC\n",
      "out/R1/01_cut/4.5H/ZCON_39__numH4.5__from-18.55__to22.19.pdb 4.5 Chains: {'E', 'F'} have not been specified new_chain_A and new_chain_B AB CD\n",
      "out/R1/01_cut/4.5H/ZCON_39__numH4.5__from-18.55__to22.19.pdb 4.5 Chains: {'E', 'F'} have not been specified new_chain_A and new_chain_B AD BC\n",
      "out/R1/01_cut/4.5H/ZCON_39__numH4.5__from-18.55__to22.19.pdb 4.5 Chains: {'E', 'F'} have not been specified new_chain_A and new_chain_B A BCD\n",
      "out/R1/01_cut/4.5H/ZCON_39__numH4.5__from-18.55__to22.19.pdb 4.5 Chains: {'E', 'F'} have not been specified new_chain_A and new_chain_B B ACD\n",
      "out/R1/01_cut/4.5H/ZCON_39__numH4.5__from-18.55__to22.19.pdb 4.5 Chains: {'E', 'F'} have not been specified new_chain_A and new_chain_B C ABD\n",
      "out/R1/01_cut/4.5H/ZCON_39__numH4.5__from-18.55__to22.19.pdb 4.5 Chains: {'E', 'F'} have not been specified new_chain_A and new_chain_B D ABC\n",
      "out/R1/01_cut/4.5H/ZCON_38__numH4.5__from-16.32__to20.32.pdb 4.5 Chains: {'E', 'F'} have not been specified new_chain_A and new_chain_B AB CD\n",
      "out/R1/01_cut/4.5H/ZCON_38__numH4.5__from-16.32__to20.32.pdb 4.5 Chains: {'E', 'F'} have not been specified new_chain_A and new_chain_B AD BC\n",
      "out/R1/01_cut/4.5H/ZCON_38__numH4.5__from-16.32__to20.32.pdb 4.5 Chains: {'E', 'F'} have not been specified new_chain_A and new_chain_B A BCD\n",
      "out/R1/01_cut/4.5H/ZCON_38__numH4.5__from-16.32__to20.32.pdb 4.5 Chains: {'E', 'F'} have not been specified new_chain_A and new_chain_B B ACD\n",
      "out/R1/01_cut/4.5H/ZCON_38__numH4.5__from-16.32__to20.32.pdb 4.5 Chains: {'E', 'F'} have not been specified new_chain_A and new_chain_B C ABD\n",
      "out/R1/01_cut/4.5H/ZCON_38__numH4.5__from-16.32__to20.32.pdb 4.5 Chains: {'E', 'F'} have not been specified new_chain_A and new_chain_B D ABC\n",
      "out/R1/01_cut/4.5H/ZCON_39__numH4.5__from-20.54__to20.20.pdb 4.5 Chains: {'E', 'F'} have not been specified new_chain_A and new_chain_B AB CD\n",
      "out/R1/01_cut/4.5H/ZCON_39__numH4.5__from-20.54__to20.20.pdb 4.5 Chains: {'E', 'F'} have not been specified new_chain_A and new_chain_B AD BC\n",
      "out/R1/01_cut/4.5H/ZCON_39__numH4.5__from-20.54__to20.20.pdb 4.5 Chains: {'E', 'F'} have not been specified new_chain_A and new_chain_B A BCD\n",
      "out/R1/01_cut/4.5H/ZCON_39__numH4.5__from-20.54__to20.20.pdb 4.5 Chains: {'E', 'F'} have not been specified new_chain_A and new_chain_B B ACD\n",
      "out/R1/01_cut/4.5H/ZCON_39__numH4.5__from-20.54__to20.20.pdb 4.5 Chains: {'E', 'F'} have not been specified new_chain_A and new_chain_B C ABD\n",
      "out/R1/01_cut/4.5H/ZCON_39__numH4.5__from-20.54__to20.20.pdb 4.5 Chains: {'E', 'F'} have not been specified new_chain_A and new_chain_B D ABC\n",
      "out/R1/01_cut/4.5H/ZCON_38__numH4.5__from-14.54__to22.11.pdb 4.5 Chains: {'E', 'F'} have not been specified new_chain_A and new_chain_B AB CD\n",
      "out/R1/01_cut/4.5H/ZCON_38__numH4.5__from-14.54__to22.11.pdb 4.5 Chains: {'E', 'F'} have not been specified new_chain_A and new_chain_B AD BC\n",
      "out/R1/01_cut/4.5H/ZCON_38__numH4.5__from-14.54__to22.11.pdb 4.5 Chains: {'E', 'F'} have not been specified new_chain_A and new_chain_B A BCD\n",
      "out/R1/01_cut/4.5H/ZCON_38__numH4.5__from-14.54__to22.11.pdb 4.5 Chains: {'E', 'F'} have not been specified new_chain_A and new_chain_B B ACD\n",
      "out/R1/01_cut/4.5H/ZCON_38__numH4.5__from-14.54__to22.11.pdb 4.5 Chains: {'E', 'F'} have not been specified new_chain_A and new_chain_B C ABD\n",
      "out/R1/01_cut/4.5H/ZCON_38__numH4.5__from-14.54__to22.11.pdb 4.5 Chains: {'E', 'F'} have not been specified new_chain_A and new_chain_B D ABC\n",
      "out/R1/01_cut/4.5H/ZCON_38__numH4.5__from-12.76__to23.89.pdb 4.5 Chains: {'E', 'F'} have not been specified new_chain_A and new_chain_B AB CD\n",
      "out/R1/01_cut/4.5H/ZCON_38__numH4.5__from-12.76__to23.89.pdb 4.5 Chains: {'E', 'F'} have not been specified new_chain_A and new_chain_B AD BC\n",
      "out/R1/01_cut/4.5H/ZCON_38__numH4.5__from-12.76__to23.89.pdb 4.5 Chains: {'E', 'F'} have not been specified new_chain_A and new_chain_B A BCD\n",
      "out/R1/01_cut/4.5H/ZCON_38__numH4.5__from-12.76__to23.89.pdb 4.5 Chains: {'E', 'F'} have not been specified new_chain_A and new_chain_B B ACD\n",
      "out/R1/01_cut/4.5H/ZCON_38__numH4.5__from-12.76__to23.89.pdb 4.5 Chains: {'E', 'F'} have not been specified new_chain_A and new_chain_B C ABD\n",
      "out/R1/01_cut/4.5H/ZCON_38__numH4.5__from-12.76__to23.89.pdb 4.5 Chains: {'E', 'F'} have not been specified new_chain_A and new_chain_B D ABC\n",
      "out/R1/01_cut/5.0H/ZCON_38__numH5__from-16.32__to24.28.pdb 5 Chains: {'E', 'F'} have not been specified new_chain_A and new_chain_B AB CD\n",
      "out/R1/01_cut/5.0H/ZCON_38__numH5__from-16.32__to24.28.pdb 5 Chains: {'E', 'F'} have not been specified new_chain_A and new_chain_B AD BC\n",
      "out/R1/01_cut/5.0H/ZCON_38__numH5__from-16.32__to24.28.pdb 5 Chains: {'E', 'F'} have not been specified new_chain_A and new_chain_B A BCD\n",
      "out/R1/01_cut/5.0H/ZCON_38__numH5__from-16.32__to24.28.pdb 5 Chains: {'E', 'F'} have not been specified new_chain_A and new_chain_B B ACD\n",
      "out/R1/01_cut/5.0H/ZCON_38__numH5__from-16.32__to24.28.pdb 5 Chains: {'E', 'F'} have not been specified new_chain_A and new_chain_B C ABD\n",
      "out/R1/01_cut/5.0H/ZCON_38__numH5__from-16.32__to24.28.pdb 5 Chains: {'E', 'F'} have not been specified new_chain_A and new_chain_B D ABC\n",
      "CPU times: user 18min 40s, sys: 25.6 s, total: 19min 6s\n",
      "Wall time: 21min 10s\n"
     ]
    }
   ],
   "source": [
    "%%time\n",
    "for l in heptades_lengths:\n",
    "    all_cut = glob(f\"{out_dir_base}/01_cut/{l:1.1f}H/*.pdb\")\n",
    "    for struct in all_cut:\n",
    "        for group_a, group_b in groups:\n",
    "            try:\n",
    "                truncator.regroup_chains(struct, f\"{out_dir_base}/02_regruped/{l:1.1f}H\",\n",
    "                                new_chain_A=group_a, new_chain_B=group_b)\n",
    "            except Exception as e:\n",
    "                print (struct, l, e, group_a, group_b)"
   ]
  },
  {
   "cell_type": "code",
   "execution_count": 7,
   "metadata": {},
   "outputs": [
    {
     "name": "stdout",
     "output_type": "stream",
     "text": [
      "/net/scratch/ajasja/projects/truncator/R4_crystal_nMS_Y2H\n"
     ]
    }
   ],
   "source": [
    "!pwd"
   ]
  },
  {
   "cell_type": "code",
   "execution_count": 17,
   "metadata": {},
   "outputs": [
    {
     "name": "stdout",
     "output_type": "stream",
     "text": [
      "/software/rosetta/latest/bin/rosetta_scripts     -out:path:all out/test/03_score_new     -out:file:o  ZCON_70__numH4.5__from-20.46__to18.79__grAB-CD.pdb     -out:file:scorefile  ZCON_70__numH4.5__from-20.46__to18.79__grAB-CD.sc       -parser:protocol truncator/xml/05_specific_interface_markers.xml -s out/R1/02_regruped/4.5H/ZCON_70__numH4.5__from-20.46__to18.79__grAB-CD.pdb     -print_pymol_selection 0     -beta     -in:file:fullatom     -renumber_pdb 1     -overwrite     -out:file:scorefile_format json     -holes:dalphaball truncator/scripts/DAlphaBall.gcc -out:no_nstruct_label     > out/test/03_score_new/ZCON_70__numH4.5__from-20.46__to18.79__grAB-CD.log\n",
      "Saving to: /net/scratch/ajasja/projects/truncator/R4_crystal_nMS_Y2H/out/test/03_score_new/ZCON_70__numH4.5__from-20.46__to18.79__grAB-CD_IA.sc\n",
      "CPU times: user 146 ms, sys: 12.8 ms, total: 159 ms\n",
      "Wall time: 35 s\n"
     ]
    }
   ],
   "source": [
    "%%time\n",
    "all_regrouped = glob(f\"{out_dir_base}/02_regruped/4.5H/*.pdb\")            \n",
    "truncator.score_interface(all_regrouped[0],\n",
    "                    script_name=\"truncator/xml/05_specific_interface_markers.xml\",\n",
    "                    out_dir=\"out/test/03_score_new\")"
   ]
  },
  {
   "cell_type": "code",
   "execution_count": 10,
   "metadata": {},
   "outputs": [
    {
     "data": {
      "text/html": [
       "<table style=\"border: 2px solid white;\">\n",
       "<tr>\n",
       "<td style=\"vertical-align: top; border: 0px solid white\">\n",
       "<h3>Client</h3>\n",
       "<ul>\n",
       "  <li><b>Scheduler: </b>tcp://172.16.131.33:13037\n",
       "  <li><b>Dashboard: </b><a href='http://172.16.131.33:8787/status' target='_blank'>http://172.16.131.33:8787/status</a>\n",
       "</ul>\n",
       "</td>\n",
       "<td style=\"vertical-align: top; border: 0px solid white\">\n",
       "<h3>Cluster</h3>\n",
       "<ul>\n",
       "  <li><b>Workers: </b>20</li>\n",
       "  <li><b>Cores: </b>20</li>\n",
       "  <li><b>Memory: </b>40.00 GB</li>\n",
       "</ul>\n",
       "</td>\n",
       "</tr>\n",
       "</table>"
      ],
      "text/plain": [
       "<Client: scheduler='tcp://172.16.131.33:13037' processes=20 cores=20>"
      ]
     },
     "execution_count": 10,
     "metadata": {},
     "output_type": "execute_result"
    }
   ],
   "source": [
    "import dask\n",
    "from dask.distributed import Client, progress\n",
    "client = Client(scheduler_file='scheduler.json'); client"
   ]
  },
  {
   "cell_type": "code",
   "execution_count": 13,
   "metadata": {},
   "outputs": [
    {
     "data": {
      "text/plain": [
       "27336"
      ]
     },
     "execution_count": 13,
     "metadata": {},
     "output_type": "execute_result"
    }
   ],
   "source": [
    "all_cut = glob(f\"{out_dir_base}/02_regruped/*H/*.pdb\")\n",
    "len(all_cut)"
   ]
  },
  {
   "cell_type": "code",
   "execution_count": 14,
   "metadata": {},
   "outputs": [],
   "source": [
    "res = []\n",
    "for l in heptades_lengths:\n",
    "    all_cut = glob(f\"{out_dir_base}/02_regruped/{l:1.1f}H/*.pdb\")\n",
    "    for struct in all_cut:\n",
    "        res.append(client.submit(truncator.score_interface, struct,\n",
    "                script_name=\"truncator/xml/05_specific_interface_markers.xml\",\n",
    "                out_dir=f\"{out_dir_base}/03_score_SASA_SEQ/{l:1.1f}H\", test_run=False, skip_existing=True))"
   ]
  },
  {
   "cell_type": "code",
   "execution_count": 15,
   "metadata": {},
   "outputs": [],
   "source": [
    "#run only to cancel\n",
    "#for r in res:\n",
    "#    r.cancel()"
   ]
  },
  {
   "cell_type": "code",
   "execution_count": 14,
   "metadata": {},
   "outputs": [],
   "source": [
    "#res[0].cancel()"
   ]
  },
  {
   "cell_type": "code",
   "execution_count": 14,
   "metadata": {},
   "outputs": [
    {
     "name": "stdout",
     "output_type": "stream",
     "text": [
      "27336\n"
     ]
    },
    {
     "ename": "TimeoutError",
     "evalue": "Timeout",
     "output_type": "error",
     "traceback": [
      "\u001b[0;31m---------------------------------------------------------------------------\u001b[0m",
      "\u001b[0;31mTimeoutError\u001b[0m                              Traceback (most recent call last)",
      "\u001b[0;32m<ipython-input-14-7b2841352915>\u001b[0m in \u001b[0;36m<module>\u001b[0;34m()\u001b[0m\n\u001b[1;32m      1\u001b[0m \u001b[0mprint\u001b[0m\u001b[0;34m(\u001b[0m\u001b[0mlen\u001b[0m\u001b[0;34m(\u001b[0m\u001b[0mres\u001b[0m\u001b[0;34m)\u001b[0m\u001b[0;34m)\u001b[0m\u001b[0;34m\u001b[0m\u001b[0m\n\u001b[1;32m      2\u001b[0m \u001b[0;32mimport\u001b[0m \u001b[0mdask\u001b[0m\u001b[0;34m\u001b[0m\u001b[0m\n\u001b[0;32m----> 3\u001b[0;31m \u001b[0mdask\u001b[0m\u001b[0;34m.\u001b[0m\u001b[0mdistributed\u001b[0m\u001b[0;34m.\u001b[0m\u001b[0mwait\u001b[0m\u001b[0;34m(\u001b[0m\u001b[0mres\u001b[0m\u001b[0;34m,\u001b[0m \u001b[0mtimeout\u001b[0m\u001b[0;34m=\u001b[0m\u001b[0;36m5\u001b[0m\u001b[0;34m)\u001b[0m\u001b[0;34m;\u001b[0m\u001b[0;34m\u001b[0m\u001b[0m\n\u001b[0m",
      "\u001b[0;32m~/.conda/envs/pyro_scripts/lib/python3.6/site-packages/distributed/client.py\u001b[0m in \u001b[0;36mwait\u001b[0;34m(fs, timeout, return_when)\u001b[0m\n\u001b[1;32m   3648\u001b[0m     \"\"\"\n\u001b[1;32m   3649\u001b[0m     \u001b[0mclient\u001b[0m \u001b[0;34m=\u001b[0m \u001b[0mdefault_client\u001b[0m\u001b[0;34m(\u001b[0m\u001b[0;34m)\u001b[0m\u001b[0;34m\u001b[0m\u001b[0m\n\u001b[0;32m-> 3650\u001b[0;31m     \u001b[0mresult\u001b[0m \u001b[0;34m=\u001b[0m \u001b[0mclient\u001b[0m\u001b[0;34m.\u001b[0m\u001b[0msync\u001b[0m\u001b[0;34m(\u001b[0m\u001b[0m_wait\u001b[0m\u001b[0;34m,\u001b[0m \u001b[0mfs\u001b[0m\u001b[0;34m,\u001b[0m \u001b[0mtimeout\u001b[0m\u001b[0;34m=\u001b[0m\u001b[0mtimeout\u001b[0m\u001b[0;34m,\u001b[0m \u001b[0mreturn_when\u001b[0m\u001b[0;34m=\u001b[0m\u001b[0mreturn_when\u001b[0m\u001b[0;34m)\u001b[0m\u001b[0;34m\u001b[0m\u001b[0m\n\u001b[0m\u001b[1;32m   3651\u001b[0m     \u001b[0;32mreturn\u001b[0m \u001b[0mresult\u001b[0m\u001b[0;34m\u001b[0m\u001b[0m\n\u001b[1;32m   3652\u001b[0m \u001b[0;34m\u001b[0m\u001b[0m\n",
      "\u001b[0;32m~/.conda/envs/pyro_scripts/lib/python3.6/site-packages/distributed/client.py\u001b[0m in \u001b[0;36msync\u001b[0;34m(self, func, *args, **kwargs)\u001b[0m\n\u001b[1;32m    674\u001b[0m             \u001b[0;32mreturn\u001b[0m \u001b[0mfuture\u001b[0m\u001b[0;34m\u001b[0m\u001b[0m\n\u001b[1;32m    675\u001b[0m         \u001b[0;32melse\u001b[0m\u001b[0;34m:\u001b[0m\u001b[0;34m\u001b[0m\u001b[0m\n\u001b[0;32m--> 676\u001b[0;31m             \u001b[0;32mreturn\u001b[0m \u001b[0msync\u001b[0m\u001b[0;34m(\u001b[0m\u001b[0mself\u001b[0m\u001b[0;34m.\u001b[0m\u001b[0mloop\u001b[0m\u001b[0;34m,\u001b[0m \u001b[0mfunc\u001b[0m\u001b[0;34m,\u001b[0m \u001b[0;34m*\u001b[0m\u001b[0margs\u001b[0m\u001b[0;34m,\u001b[0m \u001b[0;34m**\u001b[0m\u001b[0mkwargs\u001b[0m\u001b[0;34m)\u001b[0m\u001b[0;34m\u001b[0m\u001b[0m\n\u001b[0m\u001b[1;32m    677\u001b[0m \u001b[0;34m\u001b[0m\u001b[0m\n\u001b[1;32m    678\u001b[0m     \u001b[0;32mdef\u001b[0m \u001b[0m__repr__\u001b[0m\u001b[0;34m(\u001b[0m\u001b[0mself\u001b[0m\u001b[0;34m)\u001b[0m\u001b[0;34m:\u001b[0m\u001b[0;34m\u001b[0m\u001b[0m\n",
      "\u001b[0;32m~/.conda/envs/pyro_scripts/lib/python3.6/site-packages/distributed/utils.py\u001b[0m in \u001b[0;36msync\u001b[0;34m(loop, func, *args, **kwargs)\u001b[0m\n\u001b[1;32m    275\u001b[0m             \u001b[0me\u001b[0m\u001b[0;34m.\u001b[0m\u001b[0mwait\u001b[0m\u001b[0;34m(\u001b[0m\u001b[0;36m10\u001b[0m\u001b[0;34m)\u001b[0m\u001b[0;34m\u001b[0m\u001b[0m\n\u001b[1;32m    276\u001b[0m     \u001b[0;32mif\u001b[0m \u001b[0merror\u001b[0m\u001b[0;34m[\u001b[0m\u001b[0;36m0\u001b[0m\u001b[0;34m]\u001b[0m\u001b[0;34m:\u001b[0m\u001b[0;34m\u001b[0m\u001b[0m\n\u001b[0;32m--> 277\u001b[0;31m         \u001b[0msix\u001b[0m\u001b[0;34m.\u001b[0m\u001b[0mreraise\u001b[0m\u001b[0;34m(\u001b[0m\u001b[0;34m*\u001b[0m\u001b[0merror\u001b[0m\u001b[0;34m[\u001b[0m\u001b[0;36m0\u001b[0m\u001b[0;34m]\u001b[0m\u001b[0;34m)\u001b[0m\u001b[0;34m\u001b[0m\u001b[0m\n\u001b[0m\u001b[1;32m    278\u001b[0m     \u001b[0;32melse\u001b[0m\u001b[0;34m:\u001b[0m\u001b[0;34m\u001b[0m\u001b[0m\n\u001b[1;32m    279\u001b[0m         \u001b[0;32mreturn\u001b[0m \u001b[0mresult\u001b[0m\u001b[0;34m[\u001b[0m\u001b[0;36m0\u001b[0m\u001b[0;34m]\u001b[0m\u001b[0;34m\u001b[0m\u001b[0m\n",
      "\u001b[0;32m~/.conda/envs/pyro_scripts/lib/python3.6/site-packages/six.py\u001b[0m in \u001b[0;36mreraise\u001b[0;34m(tp, value, tb)\u001b[0m\n\u001b[1;32m    691\u001b[0m             \u001b[0;32mif\u001b[0m \u001b[0mvalue\u001b[0m\u001b[0;34m.\u001b[0m\u001b[0m__traceback__\u001b[0m \u001b[0;32mis\u001b[0m \u001b[0;32mnot\u001b[0m \u001b[0mtb\u001b[0m\u001b[0;34m:\u001b[0m\u001b[0;34m\u001b[0m\u001b[0m\n\u001b[1;32m    692\u001b[0m                 \u001b[0;32mraise\u001b[0m \u001b[0mvalue\u001b[0m\u001b[0;34m.\u001b[0m\u001b[0mwith_traceback\u001b[0m\u001b[0;34m(\u001b[0m\u001b[0mtb\u001b[0m\u001b[0;34m)\u001b[0m\u001b[0;34m\u001b[0m\u001b[0m\n\u001b[0;32m--> 693\u001b[0;31m             \u001b[0;32mraise\u001b[0m \u001b[0mvalue\u001b[0m\u001b[0;34m\u001b[0m\u001b[0m\n\u001b[0m\u001b[1;32m    694\u001b[0m         \u001b[0;32mfinally\u001b[0m\u001b[0;34m:\u001b[0m\u001b[0;34m\u001b[0m\u001b[0m\n\u001b[1;32m    695\u001b[0m             \u001b[0mvalue\u001b[0m \u001b[0;34m=\u001b[0m \u001b[0;32mNone\u001b[0m\u001b[0;34m\u001b[0m\u001b[0m\n",
      "\u001b[0;32m~/.conda/envs/pyro_scripts/lib/python3.6/site-packages/distributed/utils.py\u001b[0m in \u001b[0;36mf\u001b[0;34m()\u001b[0m\n\u001b[1;32m    260\u001b[0m             \u001b[0;32mif\u001b[0m \u001b[0mtimeout\u001b[0m \u001b[0;32mis\u001b[0m \u001b[0;32mnot\u001b[0m \u001b[0;32mNone\u001b[0m\u001b[0;34m:\u001b[0m\u001b[0;34m\u001b[0m\u001b[0m\n\u001b[1;32m    261\u001b[0m                 \u001b[0mfuture\u001b[0m \u001b[0;34m=\u001b[0m \u001b[0mgen\u001b[0m\u001b[0;34m.\u001b[0m\u001b[0mwith_timeout\u001b[0m\u001b[0;34m(\u001b[0m\u001b[0mtimedelta\u001b[0m\u001b[0;34m(\u001b[0m\u001b[0mseconds\u001b[0m\u001b[0;34m=\u001b[0m\u001b[0mtimeout\u001b[0m\u001b[0;34m)\u001b[0m\u001b[0;34m,\u001b[0m \u001b[0mfuture\u001b[0m\u001b[0;34m)\u001b[0m\u001b[0;34m\u001b[0m\u001b[0m\n\u001b[0;32m--> 262\u001b[0;31m             \u001b[0mresult\u001b[0m\u001b[0;34m[\u001b[0m\u001b[0;36m0\u001b[0m\u001b[0;34m]\u001b[0m \u001b[0;34m=\u001b[0m \u001b[0;32myield\u001b[0m \u001b[0mfuture\u001b[0m\u001b[0;34m\u001b[0m\u001b[0m\n\u001b[0m\u001b[1;32m    263\u001b[0m         \u001b[0;32mexcept\u001b[0m \u001b[0mException\u001b[0m \u001b[0;32mas\u001b[0m \u001b[0mexc\u001b[0m\u001b[0;34m:\u001b[0m\u001b[0;34m\u001b[0m\u001b[0m\n\u001b[1;32m    264\u001b[0m             \u001b[0merror\u001b[0m\u001b[0;34m[\u001b[0m\u001b[0;36m0\u001b[0m\u001b[0;34m]\u001b[0m \u001b[0;34m=\u001b[0m \u001b[0msys\u001b[0m\u001b[0;34m.\u001b[0m\u001b[0mexc_info\u001b[0m\u001b[0;34m(\u001b[0m\u001b[0;34m)\u001b[0m\u001b[0;34m\u001b[0m\u001b[0m\n",
      "\u001b[0;32m~/.conda/envs/pyro_scripts/lib/python3.6/site-packages/tornado/gen.py\u001b[0m in \u001b[0;36mrun\u001b[0;34m(self)\u001b[0m\n\u001b[1;32m   1131\u001b[0m \u001b[0;34m\u001b[0m\u001b[0m\n\u001b[1;32m   1132\u001b[0m                     \u001b[0;32mtry\u001b[0m\u001b[0;34m:\u001b[0m\u001b[0;34m\u001b[0m\u001b[0m\n\u001b[0;32m-> 1133\u001b[0;31m                         \u001b[0mvalue\u001b[0m \u001b[0;34m=\u001b[0m \u001b[0mfuture\u001b[0m\u001b[0;34m.\u001b[0m\u001b[0mresult\u001b[0m\u001b[0;34m(\u001b[0m\u001b[0;34m)\u001b[0m\u001b[0;34m\u001b[0m\u001b[0m\n\u001b[0m\u001b[1;32m   1134\u001b[0m                     \u001b[0;32mexcept\u001b[0m \u001b[0mException\u001b[0m\u001b[0;34m:\u001b[0m\u001b[0;34m\u001b[0m\u001b[0m\n\u001b[1;32m   1135\u001b[0m                         \u001b[0mself\u001b[0m\u001b[0;34m.\u001b[0m\u001b[0mhad_exception\u001b[0m \u001b[0;34m=\u001b[0m \u001b[0;32mTrue\u001b[0m\u001b[0;34m\u001b[0m\u001b[0m\n",
      "\u001b[0;32m~/.conda/envs/pyro_scripts/lib/python3.6/site-packages/tornado/gen.py\u001b[0m in \u001b[0;36mrun\u001b[0;34m(self)\u001b[0m\n\u001b[1;32m   1139\u001b[0m                     \u001b[0;32mif\u001b[0m \u001b[0mexc_info\u001b[0m \u001b[0;32mis\u001b[0m \u001b[0;32mnot\u001b[0m \u001b[0;32mNone\u001b[0m\u001b[0;34m:\u001b[0m\u001b[0;34m\u001b[0m\u001b[0m\n\u001b[1;32m   1140\u001b[0m                         \u001b[0;32mtry\u001b[0m\u001b[0;34m:\u001b[0m\u001b[0;34m\u001b[0m\u001b[0m\n\u001b[0;32m-> 1141\u001b[0;31m                             \u001b[0myielded\u001b[0m \u001b[0;34m=\u001b[0m \u001b[0mself\u001b[0m\u001b[0;34m.\u001b[0m\u001b[0mgen\u001b[0m\u001b[0;34m.\u001b[0m\u001b[0mthrow\u001b[0m\u001b[0;34m(\u001b[0m\u001b[0;34m*\u001b[0m\u001b[0mexc_info\u001b[0m\u001b[0;34m)\u001b[0m\u001b[0;34m\u001b[0m\u001b[0m\n\u001b[0m\u001b[1;32m   1142\u001b[0m                         \u001b[0;32mfinally\u001b[0m\u001b[0;34m:\u001b[0m\u001b[0;34m\u001b[0m\u001b[0m\n\u001b[1;32m   1143\u001b[0m                             \u001b[0;31m# Break up a reference to itself\u001b[0m\u001b[0;34m\u001b[0m\u001b[0;34m\u001b[0m\u001b[0m\n",
      "\u001b[0;32m~/.conda/envs/pyro_scripts/lib/python3.6/site-packages/distributed/client.py\u001b[0m in \u001b[0;36m_wait\u001b[0;34m(fs, timeout, return_when)\u001b[0m\n\u001b[1;32m   3621\u001b[0m         \u001b[0;32mif\u001b[0m \u001b[0mtimeout\u001b[0m \u001b[0;32mis\u001b[0m \u001b[0;32mnot\u001b[0m \u001b[0;32mNone\u001b[0m\u001b[0;34m:\u001b[0m\u001b[0;34m\u001b[0m\u001b[0m\n\u001b[1;32m   3622\u001b[0m             \u001b[0mfuture\u001b[0m \u001b[0;34m=\u001b[0m \u001b[0mgen\u001b[0m\u001b[0;34m.\u001b[0m\u001b[0mwith_timeout\u001b[0m\u001b[0;34m(\u001b[0m\u001b[0mtimedelta\u001b[0m\u001b[0;34m(\u001b[0m\u001b[0mseconds\u001b[0m\u001b[0;34m=\u001b[0m\u001b[0mtimeout\u001b[0m\u001b[0;34m)\u001b[0m\u001b[0;34m,\u001b[0m \u001b[0mfuture\u001b[0m\u001b[0;34m)\u001b[0m\u001b[0;34m\u001b[0m\u001b[0m\n\u001b[0;32m-> 3623\u001b[0;31m         \u001b[0;32myield\u001b[0m \u001b[0mfuture\u001b[0m\u001b[0;34m\u001b[0m\u001b[0m\n\u001b[0m\u001b[1;32m   3624\u001b[0m         \u001b[0mdone\u001b[0m\u001b[0;34m,\u001b[0m \u001b[0mnot_done\u001b[0m \u001b[0;34m=\u001b[0m \u001b[0mset\u001b[0m\u001b[0;34m(\u001b[0m\u001b[0mfs\u001b[0m\u001b[0;34m)\u001b[0m\u001b[0;34m,\u001b[0m \u001b[0mset\u001b[0m\u001b[0;34m(\u001b[0m\u001b[0;34m)\u001b[0m\u001b[0;34m\u001b[0m\u001b[0m\n\u001b[1;32m   3625\u001b[0m         cancelled = [f.key for f in done\n",
      "\u001b[0;32m~/.conda/envs/pyro_scripts/lib/python3.6/site-packages/tornado/gen.py\u001b[0m in \u001b[0;36mrun\u001b[0;34m(self)\u001b[0m\n\u001b[1;32m   1131\u001b[0m \u001b[0;34m\u001b[0m\u001b[0m\n\u001b[1;32m   1132\u001b[0m                     \u001b[0;32mtry\u001b[0m\u001b[0;34m:\u001b[0m\u001b[0;34m\u001b[0m\u001b[0m\n\u001b[0;32m-> 1133\u001b[0;31m                         \u001b[0mvalue\u001b[0m \u001b[0;34m=\u001b[0m \u001b[0mfuture\u001b[0m\u001b[0;34m.\u001b[0m\u001b[0mresult\u001b[0m\u001b[0;34m(\u001b[0m\u001b[0;34m)\u001b[0m\u001b[0;34m\u001b[0m\u001b[0m\n\u001b[0m\u001b[1;32m   1134\u001b[0m                     \u001b[0;32mexcept\u001b[0m \u001b[0mException\u001b[0m\u001b[0;34m:\u001b[0m\u001b[0;34m\u001b[0m\u001b[0m\n\u001b[1;32m   1135\u001b[0m                         \u001b[0mself\u001b[0m\u001b[0;34m.\u001b[0m\u001b[0mhad_exception\u001b[0m \u001b[0;34m=\u001b[0m \u001b[0;32mTrue\u001b[0m\u001b[0;34m\u001b[0m\u001b[0m\n",
      "\u001b[0;31mTimeoutError\u001b[0m: Timeout"
     ]
    }
   ],
   "source": [
    "print(len(res))\n",
    "import dask\n",
    "dask.distributed.wait(res, timeout=5);"
   ]
  },
  {
   "cell_type": "code",
   "execution_count": 16,
   "metadata": {},
   "outputs": [],
   "source": [
    "retry_futures = []\n",
    "for k, v in client.who_has().items():\n",
    "    future = dask.distributed.Future(key=k, client=client, inform=True, state=None)\n",
    "    if future.status == \"error\":\n",
    "        retry_futures.append(future)\n",
    "        "
   ]
  },
  {
   "cell_type": "code",
   "execution_count": 18,
   "metadata": {},
   "outputs": [],
   "source": [
    "client.retry(retry_futures)"
   ]
  },
  {
   "cell_type": "code",
   "execution_count": 20,
   "metadata": {},
   "outputs": [],
   "source": [
    "###Do reloop\n",
    "def do_reloop(struct_name):\n",
    "    reloop = truncator.reloop(struct_name, \"out/R2/relooped/random\", \n",
    "                          rosetta_bin=\"/home/brunette/src/Rosetta_dev/main/source/bin/rosetta_scripts.hdf5.linuxgccrelease\",\n",
    "                          script_name=\"truncator/xml/12_redesign_loops_tl_gen_profile_SymAnn.xml\",\n",
    "                            test_run=False, skip_existing=True)\n",
    "    return reloop"
   ]
  },
  {
   "cell_type": "code",
   "execution_count": null,
   "metadata": {},
   "outputs": [],
   "source": []
  },
  {
   "cell_type": "code",
   "execution_count": 22,
   "metadata": {},
   "outputs": [],
   "source": [
    "\n",
    "structs = glob(\"out/R2/cut/3.0H/*.pdb\"); structs\n",
    "rstructs = np.random.choice(structs, 100); \n",
    "rstructs = sorted(set(rstructs)); \n",
    "rstructs;"
   ]
  },
  {
   "cell_type": "code",
   "execution_count": 23,
   "metadata": {},
   "outputs": [],
   "source": [
    "res = client.map(do_reloop, rstructs)\n",
    "results = client.gather(res)"
   ]
  },
  {
   "cell_type": "code",
   "execution_count": 24,
   "metadata": {},
   "outputs": [],
   "source": [
    "lstructs = truncator.find_no_output_pdbs(\"out/R2/relooped/random\", ignore_unfinished=True) \n",
    "all_struct = glob(\"out/R2/cut/*/*.pdb\")\n",
    "lstructs = [truncator.find_input(os.path.basename(struct), all_struct) for struct in lstructs]"
   ]
  },
  {
   "cell_type": "code",
   "execution_count": 25,
   "metadata": {},
   "outputs": [],
   "source": [
    "import sys\n",
    "def do_reloop_longer(struct_name):\n",
    "    reloop = truncator.reloop(struct_name, \"out/R2/relooped/random_longer_loops\", \n",
    "                          rosetta_bin=\"/home/brunette/src/Rosetta_dev/main/source/bin/rosetta_scripts.hdf5.linuxgccrelease\",\n",
    "                          script_name=\"truncator/xml/13_redesign_loops_tl_gen_profile_SymAnn_longerloops.xml\",\n",
    "                            test_run=False, skip_existing=True)\n",
    "    return reloop\n",
    "    \n"
   ]
  },
  {
   "cell_type": "code",
   "execution_count": 26,
   "metadata": {},
   "outputs": [
    {
     "ename": "KilledWorker",
     "evalue": "('do_reloop_longer-a3bea14f4fc1223abd43ce9f98c8fe84', 'tcp://172.16.131.59:29787')",
     "output_type": "error",
     "traceback": [
      "\u001b[0;31m---------------------------------------------------------------------------\u001b[0m",
      "\u001b[0;31mKilledWorker\u001b[0m                              Traceback (most recent call last)",
      "\u001b[0;32m<ipython-input-26-8ac4491448fd>\u001b[0m in \u001b[0;36m<module>\u001b[0;34m()\u001b[0m\n\u001b[1;32m      1\u001b[0m \u001b[0mres\u001b[0m \u001b[0;34m=\u001b[0m \u001b[0mclient\u001b[0m\u001b[0;34m.\u001b[0m\u001b[0mmap\u001b[0m\u001b[0;34m(\u001b[0m\u001b[0mdo_reloop_longer\u001b[0m\u001b[0;34m,\u001b[0m \u001b[0mlstructs\u001b[0m\u001b[0;34m)\u001b[0m\u001b[0;34m\u001b[0m\u001b[0m\n\u001b[0;32m----> 2\u001b[0;31m \u001b[0mresults\u001b[0m \u001b[0;34m=\u001b[0m \u001b[0mclient\u001b[0m\u001b[0;34m.\u001b[0m\u001b[0mgather\u001b[0m\u001b[0;34m(\u001b[0m\u001b[0mres\u001b[0m\u001b[0;34m)\u001b[0m\u001b[0;34m\u001b[0m\u001b[0m\n\u001b[0m",
      "\u001b[0;32m~/.conda/envs/pyro_scripts/lib/python3.6/site-packages/distributed/client.py\u001b[0m in \u001b[0;36mgather\u001b[0;34m(self, futures, errors, maxsize, direct, asynchronous)\u001b[0m\n\u001b[1;32m   1660\u001b[0m             return self.sync(self._gather, futures, errors=errors,\n\u001b[1;32m   1661\u001b[0m                              \u001b[0mdirect\u001b[0m\u001b[0;34m=\u001b[0m\u001b[0mdirect\u001b[0m\u001b[0;34m,\u001b[0m \u001b[0mlocal_worker\u001b[0m\u001b[0;34m=\u001b[0m\u001b[0mlocal_worker\u001b[0m\u001b[0;34m,\u001b[0m\u001b[0;34m\u001b[0m\u001b[0m\n\u001b[0;32m-> 1662\u001b[0;31m                              asynchronous=asynchronous)\n\u001b[0m\u001b[1;32m   1663\u001b[0m \u001b[0;34m\u001b[0m\u001b[0m\n\u001b[1;32m   1664\u001b[0m     \u001b[0;34m@\u001b[0m\u001b[0mgen\u001b[0m\u001b[0;34m.\u001b[0m\u001b[0mcoroutine\u001b[0m\u001b[0;34m\u001b[0m\u001b[0m\n",
      "\u001b[0;32m~/.conda/envs/pyro_scripts/lib/python3.6/site-packages/distributed/client.py\u001b[0m in \u001b[0;36msync\u001b[0;34m(self, func, *args, **kwargs)\u001b[0m\n\u001b[1;32m    674\u001b[0m             \u001b[0;32mreturn\u001b[0m \u001b[0mfuture\u001b[0m\u001b[0;34m\u001b[0m\u001b[0m\n\u001b[1;32m    675\u001b[0m         \u001b[0;32melse\u001b[0m\u001b[0;34m:\u001b[0m\u001b[0;34m\u001b[0m\u001b[0m\n\u001b[0;32m--> 676\u001b[0;31m             \u001b[0;32mreturn\u001b[0m \u001b[0msync\u001b[0m\u001b[0;34m(\u001b[0m\u001b[0mself\u001b[0m\u001b[0;34m.\u001b[0m\u001b[0mloop\u001b[0m\u001b[0;34m,\u001b[0m \u001b[0mfunc\u001b[0m\u001b[0;34m,\u001b[0m \u001b[0;34m*\u001b[0m\u001b[0margs\u001b[0m\u001b[0;34m,\u001b[0m \u001b[0;34m**\u001b[0m\u001b[0mkwargs\u001b[0m\u001b[0;34m)\u001b[0m\u001b[0;34m\u001b[0m\u001b[0m\n\u001b[0m\u001b[1;32m    677\u001b[0m \u001b[0;34m\u001b[0m\u001b[0m\n\u001b[1;32m    678\u001b[0m     \u001b[0;32mdef\u001b[0m \u001b[0m__repr__\u001b[0m\u001b[0;34m(\u001b[0m\u001b[0mself\u001b[0m\u001b[0;34m)\u001b[0m\u001b[0;34m:\u001b[0m\u001b[0;34m\u001b[0m\u001b[0m\n",
      "\u001b[0;32m~/.conda/envs/pyro_scripts/lib/python3.6/site-packages/distributed/utils.py\u001b[0m in \u001b[0;36msync\u001b[0;34m(loop, func, *args, **kwargs)\u001b[0m\n\u001b[1;32m    275\u001b[0m             \u001b[0me\u001b[0m\u001b[0;34m.\u001b[0m\u001b[0mwait\u001b[0m\u001b[0;34m(\u001b[0m\u001b[0;36m10\u001b[0m\u001b[0;34m)\u001b[0m\u001b[0;34m\u001b[0m\u001b[0m\n\u001b[1;32m    276\u001b[0m     \u001b[0;32mif\u001b[0m \u001b[0merror\u001b[0m\u001b[0;34m[\u001b[0m\u001b[0;36m0\u001b[0m\u001b[0;34m]\u001b[0m\u001b[0;34m:\u001b[0m\u001b[0;34m\u001b[0m\u001b[0m\n\u001b[0;32m--> 277\u001b[0;31m         \u001b[0msix\u001b[0m\u001b[0;34m.\u001b[0m\u001b[0mreraise\u001b[0m\u001b[0;34m(\u001b[0m\u001b[0;34m*\u001b[0m\u001b[0merror\u001b[0m\u001b[0;34m[\u001b[0m\u001b[0;36m0\u001b[0m\u001b[0;34m]\u001b[0m\u001b[0;34m)\u001b[0m\u001b[0;34m\u001b[0m\u001b[0m\n\u001b[0m\u001b[1;32m    278\u001b[0m     \u001b[0;32melse\u001b[0m\u001b[0;34m:\u001b[0m\u001b[0;34m\u001b[0m\u001b[0m\n\u001b[1;32m    279\u001b[0m         \u001b[0;32mreturn\u001b[0m \u001b[0mresult\u001b[0m\u001b[0;34m[\u001b[0m\u001b[0;36m0\u001b[0m\u001b[0;34m]\u001b[0m\u001b[0;34m\u001b[0m\u001b[0m\n",
      "\u001b[0;32m~/.conda/envs/pyro_scripts/lib/python3.6/site-packages/six.py\u001b[0m in \u001b[0;36mreraise\u001b[0;34m(tp, value, tb)\u001b[0m\n\u001b[1;32m    691\u001b[0m             \u001b[0;32mif\u001b[0m \u001b[0mvalue\u001b[0m\u001b[0;34m.\u001b[0m\u001b[0m__traceback__\u001b[0m \u001b[0;32mis\u001b[0m \u001b[0;32mnot\u001b[0m \u001b[0mtb\u001b[0m\u001b[0;34m:\u001b[0m\u001b[0;34m\u001b[0m\u001b[0m\n\u001b[1;32m    692\u001b[0m                 \u001b[0;32mraise\u001b[0m \u001b[0mvalue\u001b[0m\u001b[0;34m.\u001b[0m\u001b[0mwith_traceback\u001b[0m\u001b[0;34m(\u001b[0m\u001b[0mtb\u001b[0m\u001b[0;34m)\u001b[0m\u001b[0;34m\u001b[0m\u001b[0m\n\u001b[0;32m--> 693\u001b[0;31m             \u001b[0;32mraise\u001b[0m \u001b[0mvalue\u001b[0m\u001b[0;34m\u001b[0m\u001b[0m\n\u001b[0m\u001b[1;32m    694\u001b[0m         \u001b[0;32mfinally\u001b[0m\u001b[0;34m:\u001b[0m\u001b[0;34m\u001b[0m\u001b[0m\n\u001b[1;32m    695\u001b[0m             \u001b[0mvalue\u001b[0m \u001b[0;34m=\u001b[0m \u001b[0;32mNone\u001b[0m\u001b[0;34m\u001b[0m\u001b[0m\n",
      "\u001b[0;32m~/.conda/envs/pyro_scripts/lib/python3.6/site-packages/distributed/utils.py\u001b[0m in \u001b[0;36mf\u001b[0;34m()\u001b[0m\n\u001b[1;32m    260\u001b[0m             \u001b[0;32mif\u001b[0m \u001b[0mtimeout\u001b[0m \u001b[0;32mis\u001b[0m \u001b[0;32mnot\u001b[0m \u001b[0;32mNone\u001b[0m\u001b[0;34m:\u001b[0m\u001b[0;34m\u001b[0m\u001b[0m\n\u001b[1;32m    261\u001b[0m                 \u001b[0mfuture\u001b[0m \u001b[0;34m=\u001b[0m \u001b[0mgen\u001b[0m\u001b[0;34m.\u001b[0m\u001b[0mwith_timeout\u001b[0m\u001b[0;34m(\u001b[0m\u001b[0mtimedelta\u001b[0m\u001b[0;34m(\u001b[0m\u001b[0mseconds\u001b[0m\u001b[0;34m=\u001b[0m\u001b[0mtimeout\u001b[0m\u001b[0;34m)\u001b[0m\u001b[0;34m,\u001b[0m \u001b[0mfuture\u001b[0m\u001b[0;34m)\u001b[0m\u001b[0;34m\u001b[0m\u001b[0m\n\u001b[0;32m--> 262\u001b[0;31m             \u001b[0mresult\u001b[0m\u001b[0;34m[\u001b[0m\u001b[0;36m0\u001b[0m\u001b[0;34m]\u001b[0m \u001b[0;34m=\u001b[0m \u001b[0;32myield\u001b[0m \u001b[0mfuture\u001b[0m\u001b[0;34m\u001b[0m\u001b[0m\n\u001b[0m\u001b[1;32m    263\u001b[0m         \u001b[0;32mexcept\u001b[0m \u001b[0mException\u001b[0m \u001b[0;32mas\u001b[0m \u001b[0mexc\u001b[0m\u001b[0;34m:\u001b[0m\u001b[0;34m\u001b[0m\u001b[0m\n\u001b[1;32m    264\u001b[0m             \u001b[0merror\u001b[0m\u001b[0;34m[\u001b[0m\u001b[0;36m0\u001b[0m\u001b[0;34m]\u001b[0m \u001b[0;34m=\u001b[0m \u001b[0msys\u001b[0m\u001b[0;34m.\u001b[0m\u001b[0mexc_info\u001b[0m\u001b[0;34m(\u001b[0m\u001b[0;34m)\u001b[0m\u001b[0;34m\u001b[0m\u001b[0m\n",
      "\u001b[0;32m~/.conda/envs/pyro_scripts/lib/python3.6/site-packages/tornado/gen.py\u001b[0m in \u001b[0;36mrun\u001b[0;34m(self)\u001b[0m\n\u001b[1;32m   1131\u001b[0m \u001b[0;34m\u001b[0m\u001b[0m\n\u001b[1;32m   1132\u001b[0m                     \u001b[0;32mtry\u001b[0m\u001b[0;34m:\u001b[0m\u001b[0;34m\u001b[0m\u001b[0m\n\u001b[0;32m-> 1133\u001b[0;31m                         \u001b[0mvalue\u001b[0m \u001b[0;34m=\u001b[0m \u001b[0mfuture\u001b[0m\u001b[0;34m.\u001b[0m\u001b[0mresult\u001b[0m\u001b[0;34m(\u001b[0m\u001b[0;34m)\u001b[0m\u001b[0;34m\u001b[0m\u001b[0m\n\u001b[0m\u001b[1;32m   1134\u001b[0m                     \u001b[0;32mexcept\u001b[0m \u001b[0mException\u001b[0m\u001b[0;34m:\u001b[0m\u001b[0;34m\u001b[0m\u001b[0m\n\u001b[1;32m   1135\u001b[0m                         \u001b[0mself\u001b[0m\u001b[0;34m.\u001b[0m\u001b[0mhad_exception\u001b[0m \u001b[0;34m=\u001b[0m \u001b[0;32mTrue\u001b[0m\u001b[0;34m\u001b[0m\u001b[0m\n",
      "\u001b[0;32m~/.conda/envs/pyro_scripts/lib/python3.6/site-packages/tornado/gen.py\u001b[0m in \u001b[0;36mrun\u001b[0;34m(self)\u001b[0m\n\u001b[1;32m   1139\u001b[0m                     \u001b[0;32mif\u001b[0m \u001b[0mexc_info\u001b[0m \u001b[0;32mis\u001b[0m \u001b[0;32mnot\u001b[0m \u001b[0;32mNone\u001b[0m\u001b[0;34m:\u001b[0m\u001b[0;34m\u001b[0m\u001b[0m\n\u001b[1;32m   1140\u001b[0m                         \u001b[0;32mtry\u001b[0m\u001b[0;34m:\u001b[0m\u001b[0;34m\u001b[0m\u001b[0m\n\u001b[0;32m-> 1141\u001b[0;31m                             \u001b[0myielded\u001b[0m \u001b[0;34m=\u001b[0m \u001b[0mself\u001b[0m\u001b[0;34m.\u001b[0m\u001b[0mgen\u001b[0m\u001b[0;34m.\u001b[0m\u001b[0mthrow\u001b[0m\u001b[0;34m(\u001b[0m\u001b[0;34m*\u001b[0m\u001b[0mexc_info\u001b[0m\u001b[0;34m)\u001b[0m\u001b[0;34m\u001b[0m\u001b[0m\n\u001b[0m\u001b[1;32m   1142\u001b[0m                         \u001b[0;32mfinally\u001b[0m\u001b[0;34m:\u001b[0m\u001b[0;34m\u001b[0m\u001b[0m\n\u001b[1;32m   1143\u001b[0m                             \u001b[0;31m# Break up a reference to itself\u001b[0m\u001b[0;34m\u001b[0m\u001b[0;34m\u001b[0m\u001b[0m\n",
      "\u001b[0;32m~/.conda/envs/pyro_scripts/lib/python3.6/site-packages/distributed/client.py\u001b[0m in \u001b[0;36m_gather\u001b[0;34m(self, futures, errors, direct, local_worker)\u001b[0m\n\u001b[1;32m   1501\u001b[0m                             six.reraise(type(exception),\n\u001b[1;32m   1502\u001b[0m                                         \u001b[0mexception\u001b[0m\u001b[0;34m,\u001b[0m\u001b[0;34m\u001b[0m\u001b[0m\n\u001b[0;32m-> 1503\u001b[0;31m                                         traceback)\n\u001b[0m\u001b[1;32m   1504\u001b[0m                     \u001b[0;32mif\u001b[0m \u001b[0merrors\u001b[0m \u001b[0;34m==\u001b[0m \u001b[0;34m'skip'\u001b[0m\u001b[0;34m:\u001b[0m\u001b[0;34m\u001b[0m\u001b[0m\n\u001b[1;32m   1505\u001b[0m                         \u001b[0mbad_keys\u001b[0m\u001b[0;34m.\u001b[0m\u001b[0madd\u001b[0m\u001b[0;34m(\u001b[0m\u001b[0mkey\u001b[0m\u001b[0;34m)\u001b[0m\u001b[0;34m\u001b[0m\u001b[0m\n",
      "\u001b[0;32m~/.conda/envs/pyro_scripts/lib/python3.6/site-packages/six.py\u001b[0m in \u001b[0;36mreraise\u001b[0;34m(tp, value, tb)\u001b[0m\n\u001b[1;32m    691\u001b[0m             \u001b[0;32mif\u001b[0m \u001b[0mvalue\u001b[0m\u001b[0;34m.\u001b[0m\u001b[0m__traceback__\u001b[0m \u001b[0;32mis\u001b[0m \u001b[0;32mnot\u001b[0m \u001b[0mtb\u001b[0m\u001b[0;34m:\u001b[0m\u001b[0;34m\u001b[0m\u001b[0m\n\u001b[1;32m    692\u001b[0m                 \u001b[0;32mraise\u001b[0m \u001b[0mvalue\u001b[0m\u001b[0;34m.\u001b[0m\u001b[0mwith_traceback\u001b[0m\u001b[0;34m(\u001b[0m\u001b[0mtb\u001b[0m\u001b[0;34m)\u001b[0m\u001b[0;34m\u001b[0m\u001b[0m\n\u001b[0;32m--> 693\u001b[0;31m             \u001b[0;32mraise\u001b[0m \u001b[0mvalue\u001b[0m\u001b[0;34m\u001b[0m\u001b[0m\n\u001b[0m\u001b[1;32m    694\u001b[0m         \u001b[0;32mfinally\u001b[0m\u001b[0;34m:\u001b[0m\u001b[0;34m\u001b[0m\u001b[0m\n\u001b[1;32m    695\u001b[0m             \u001b[0mvalue\u001b[0m \u001b[0;34m=\u001b[0m \u001b[0;32mNone\u001b[0m\u001b[0;34m\u001b[0m\u001b[0m\n",
      "\u001b[0;31mKilledWorker\u001b[0m: ('do_reloop_longer-a3bea14f4fc1223abd43ce9f98c8fe84', 'tcp://172.16.131.59:29787')"
     ]
    }
   ],
   "source": [
    "res = client.map(do_reloop_longer, lstructs)\n",
    "results = client.gather(res)"
   ]
  },
  {
   "cell_type": "code",
   "execution_count": null,
   "metadata": {},
   "outputs": [],
   "source": []
  },
  {
   "cell_type": "code",
   "execution_count": null,
   "metadata": {},
   "outputs": [],
   "source": []
  },
  {
   "cell_type": "code",
   "execution_count": null,
   "metadata": {},
   "outputs": [],
   "source": [
    "truncator.regroup_chains(\"testing_out//ZCON_37_3+1__numH4__from-22.25__to17.45.pdb\", \"testing_out/grouped\",\n",
    "                        new_chain_A=\"AB\", new_chain_B=\"CD\")"
   ]
  },
  {
   "cell_type": "code",
   "execution_count": null,
   "metadata": {},
   "outputs": [],
   "source": [
    "truncator.regroup_chains(\"testing_out//ZCON_37_3+1__numH4__from-22.25__to17.45.pdb\", \"testing_out/grouped\",\n",
    "                        new_chain_A=\"C\", new_chain_B=\"ABD\", save_segi=\"True\")"
   ]
  },
  {
   "cell_type": "code",
   "execution_count": null,
   "metadata": {},
   "outputs": [],
   "source": [
    "truncator.regroup_chains(\"testing_out//ZCON_37_3+1__numH4__from-22.25__to17.45.pdb\", \"testing_out/grouped\",\n",
    "                        new_chain_A=\"C\", new_chain_B=\"ABD\", save_segi=False,\n",
    "                        out_name=\"testing_out/grouped/ZCON_37_3+1__numH4__from-22.25__to17.45__grC-ABD.nosegi.pdb\")"
   ]
  },
  {
   "cell_type": "code",
   "execution_count": null,
   "metadata": {},
   "outputs": [],
   "source": [
    "#cmd.load(\"testing_out//ZCON_37_3+1__numH4__from-22.25__to17.45.pdb\")\n",
    "#m = cmd.get_model(\"chain A\")"
   ]
  },
  {
   "cell_type": "code",
   "execution_count": null,
   "metadata": {},
   "outputs": [],
   "source": [
    "pdb_files = glob(\"testing_out/grouped/*.pdb\")\n",
    "pdb_files"
   ]
  },
  {
   "cell_type": "code",
   "execution_count": null,
   "metadata": {},
   "outputs": [],
   "source": [
    "%%time\n",
    "sf= []\n",
    "for pdb in pdb_files:\n",
    "    sf.append(truncator.score_interface(pdb,\n",
    "                    script_name=\"truncator/xml/03_FD_FR_and_scoring_benchmark_v3_digs_updated_schema_BUNS3_IA_quick_no_holes.xml\",\n",
    "                    out_dir=\"testing_out/grouped/scoring\", test_run=False))\n",
    "sf"
   ]
  },
  {
   "cell_type": "code",
   "execution_count": null,
   "metadata": {},
   "outputs": [],
   "source": [
    "import truncator\n",
    "score_files = sorted(glob(\"testing_out/grouped/*_IA.sc\"))\n",
    "score_files"
   ]
  },
  {
   "cell_type": "code",
   "execution_count": null,
   "metadata": {},
   "outputs": [],
   "source": [
    "scores = truncator.read_score_files(score_files, skiprows=False, load_seq=False).set_index('decoy')\n",
    "with pd.option_context(\"display.max_rows\", 1000, \"display.max_colwidth\", 80, \"display.width\", 50):\n",
    "    display(scores.transpose())"
   ]
  },
  {
   "cell_type": "code",
   "execution_count": null,
   "metadata": {},
   "outputs": [],
   "source": []
  },
  {
   "cell_type": "code",
   "execution_count": null,
   "metadata": {},
   "outputs": [],
   "source": [
    "score"
   ]
  },
  {
   "cell_type": "code",
   "execution_count": null,
   "metadata": {},
   "outputs": [],
   "source": []
  },
  {
   "cell_type": "code",
   "execution_count": null,
   "metadata": {},
   "outputs": [],
   "source": [
    "files = sorted(glob(\"testing_out/grouped/*_IA*.sc\"), reverse=True)\n",
    "files"
   ]
  },
  {
   "cell_type": "code",
   "execution_count": null,
   "metadata": {},
   "outputs": [],
   "source": []
  },
  {
   "cell_type": "code",
   "execution_count": null,
   "metadata": {},
   "outputs": [],
   "source": []
  },
  {
   "cell_type": "code",
   "execution_count": null,
   "metadata": {},
   "outputs": [],
   "source": [
    "scores_sasa = [col for col in scores.columns if \"sasa\" in col.lower()]\n",
    "scores_sasa\n",
    "with pd.option_context(\"display.max_rows\", 1000, \"display.max_colwidth\", 80, \"display.width\", 50):\n",
    "    display(scores[scores_sasa].transpose())"
   ]
  },
  {
   "cell_type": "code",
   "execution_count": null,
   "metadata": {},
   "outputs": [],
   "source": [
    "scores_hbond = [col for col in scores.columns if \"loop_sc\" in col.lower()]\n",
    "scores_hbond\n",
    "with pd.option_context(\"display.max_rows\", 1000, \"display.max_colwidth\", 80, \"display.width\", 50):\n",
    "    display(scores[scores_hbond].transpose())"
   ]
  },
  {
   "cell_type": "code",
   "execution_count": null,
   "metadata": {},
   "outputs": [],
   "source": [
    "truncator.score_interface(\"data/ZCON_37_N3_C1_2.pdb\",\n",
    "                script_name=\"truncator/xml/04_FD_FR_and_scoring_benchmark_v3_digs_updated_schema_BUNS3_IA_select.xml\",\n",
    "                out_dir=\"testing_out/grouped\", tee=False, test_run=True)"
   ]
  },
  {
   "cell_type": "code",
   "execution_count": null,
   "metadata": {},
   "outputs": [],
   "source": [
    "\n",
    "scores = truncator.read_score_files(['testing_out/grouped/ZCON_37_N3_C1_2_IA.sc'], skiprows=False, load_seq=False).set_index('description')\n",
    "with pd.option_context(\"display.max_rows\", 1000, \"display.max_colwidth\", 80, \"display.width\", 50):\n",
    "    display(scores.transpose())"
   ]
  },
  {
   "cell_type": "code",
   "execution_count": null,
   "metadata": {},
   "outputs": [],
   "source": [
    "interesting_cols = \"\"\"\n",
    "interface_averageDegree_chA\n",
    "interface_averageDegree_chB\n",
    "interface_buried_sasa\n",
    "interface_contactcount\n",
    "interface_fxn_hydrophobic\n",
    "interface_hbonds\n",
    "interface_holes\n",
    "interface_hydrophobic_sasa\n",
    "interface_polar_sasa\n",
    "interface_salt_bridges\n",
    "interface_sc\n",
    "interface_sc_int_area\n",
    "interface_unsat_hbond1\n",
    "interface_unsat_hbond2\n",
    "cross_interface_energy_IA\n",
    "cross_interface_hbonds_IA\n",
    "delta_unsat_hbonds_IA\n",
    "hbond_energy_IA\n",
    "interface_delta_sasa_IA\n",
    "interface_hydrophobic_sasa_IA\n",
    "interface_polar_sasa_IA\n",
    "exposed_hydrophobics\n",
    "exposed_polars\n",
    "exposed_total\n",
    "\"\"\".split()\n",
    "#print(\"\\n\".join(list(df.columns)))\n",
    "df[interesting_cols].transpose()"
   ]
  },
  {
   "cell_type": "code",
   "execution_count": null,
   "metadata": {},
   "outputs": [],
   "source": [
    "import os\n",
    "import subprocess, sys\n",
    "os.system(\"echo TEST\")\n",
    "!ls -l"
   ]
  },
  {
   "cell_type": "code",
   "execution_count": null,
   "metadata": {},
   "outputs": [],
   "source": [
    "pd.set_option('display.max_rows', None)\n",
    "pd.options.display.max_columns=None\n",
    "df.transpose()"
   ]
  },
  {
   "cell_type": "code",
   "execution_count": null,
   "metadata": {},
   "outputs": [],
   "source": [
    "import dask\n",
    "from dask_jobqueue import SLURMCluster\n",
    "\n",
    "cluster = SLURMCluster(cores=1,\n",
    "                     memory=\"2GB\",\n",
    "                     queue='interactive',)\n",
    "cluster.scale(4)\n",
    "\n",
    "from dask.distributed import Client\n",
    "client = Client(cluster)"
   ]
  },
  {
   "cell_type": "code",
   "execution_count": null,
   "metadata": {},
   "outputs": [],
   "source": []
  }
 ],
 "metadata": {
  "kernelspec": {
   "display_name": "Python 3",
   "language": "python",
   "name": "python3"
  },
  "language_info": {
   "codemirror_mode": {
    "name": "ipython",
    "version": 3
   },
   "file_extension": ".py",
   "mimetype": "text/x-python",
   "name": "python",
   "nbconvert_exporter": "python",
   "pygments_lexer": "ipython3",
   "version": "3.6.8"
  }
 },
 "nbformat": 4,
 "nbformat_minor": 2
}
