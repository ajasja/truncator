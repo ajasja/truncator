{
 "cells": [
  {
   "cell_type": "code",
   "execution_count": 1,
   "metadata": {},
   "outputs": [
    {
     "name": "stdout",
     "output_type": "stream",
     "text": [
      "/home/ajasja/projects/truncator\n",
      "dig59\n"
     ]
    }
   ],
   "source": [
    "%matplotlib inline\n",
    "%load_ext autoreload\n",
    "%autoreload 2\n",
    "%matplotlib inline\n",
    "import os; print(os.getcwd())\n",
    "import socket; print(socket.gethostname())\n",
    "from glob import glob"
   ]
  },
  {
   "cell_type": "code",
   "execution_count": 7,
   "metadata": {},
   "outputs": [],
   "source": [
    "import pandas as pd\n",
    "import numpy as np\n",
    "import seaborn as sns\n",
    "import matplotlib.pyplot as plt\n",
    "import scipy\n",
    "\n",
    "from glob import glob\n",
    "import truncator\n",
    "\n"
   ]
  },
  {
   "cell_type": "code",
   "execution_count": 8,
   "metadata": {},
   "outputs": [],
   "source": [
    "#import sys; sys.path.insert(0, \"/home/ajasja/projects/Stable_Heterodimers\")\n",
    "#import utils as u"
   ]
  },
  {
   "cell_type": "code",
   "execution_count": 9,
   "metadata": {},
   "outputs": [],
   "source": [
    "picks = glob(\"out/R3/30_fixed_loops/*.pdb\")\n",
    "if False:\n",
    "    for pick_name in picks:\n",
    "        print('delete all')\n",
    "        print(f\"load '{pick_name}'\")\n",
    "        print('select loops, ss l')\n",
    "        print('color red, loops')\n",
    "        print(\"\")"
   ]
  },
  {
   "cell_type": "code",
   "execution_count": 10,
   "metadata": {},
   "outputs": [
    {
     "data": {
      "text/plain": [
       "('truncator/xml/-5.charge', 'truncator/xml/-5.charge')"
      ]
     },
     "execution_count": 10,
     "metadata": {},
     "output_type": "execute_result"
    }
   ],
   "source": [
    "def get_topology_from_name(name):\n",
    "    name = truncator.basename_noext(name)\n",
    "    #fifth field, skip first two cc chars\n",
    "    gsplit=name.split('__')[4][2:]\n",
    "    gsplit=gsplit.split('-')\n",
    "    topology=str(len(gsplit[0]))+str(len(gsplit[1]))\n",
    "    return topology\n",
    "get_topology_from_name('out/R3/30_fixed_loops/ZCON_37__numH4.5__from-21.21__to22.24__ccAB-CD__llr2,5__ar1-3,0__ar2-2,0__rms0.5__ch-5__manloop.pdb')=='22'\n",
    "\n",
    "def get_charges_from_name(name):\n",
    "    topology = get_topology_from_name(name)\n",
    "    if topology=='22':\n",
    "        return 'truncator/xml/-5.charge','truncator/xml/-5.charge'\n",
    "    if topology=='13':\n",
    "        return 'truncator/xml/-3.charge','truncator/xml/-7.charge'\n",
    "    if topology=='31':\n",
    "        return 'truncator/xml/-7.charge','truncator/xml/-3.charge'\n",
    "    return None\n",
    "get_charges_from_name('out/R3/30_fixed_loops/ZCON_37__numH4.5__from-21.21__to22.24__ccAB-CD__llr2,5__ar1-3,0__ar2-2,0__rms0.5__ch-5__manloop.pdb')"
   ]
  },
  {
   "cell_type": "code",
   "execution_count": 11,
   "metadata": {},
   "outputs": [
    {
     "name": "stdout",
     "output_type": "stream",
     "text": [
      "cd out/R3/test_charge_genprrof/ZCON_13__numH4.5__from-17.52__to22.91__ccA-BCD__llr2,5__ar1-1,0__ar2-1,0__rms0.5__ch-5__ch-5; /home/brunette/src/Rosetta_dev/main/source/bin/rosetta_scripts.hdf5.linuxgccrelease  \\\n",
      "-parser:protocol /home/ajasja/projects/truncator/truncator/xml/32_fix_surf_and_loops_struct_profile.xml \\\n",
      "-s /home/ajasja/projects/truncator/out/R3/30_fixed_loops/ZCON_13__numH4.5__from-17.52__to22.91__ccA-BCD__llr2,5__ar1-1,0__ar2-1,0__rms0.5__ch-5.pdb \\\n",
      "-out:suffix __ch-5 \\\n",
      "-out:file:scorefile  ZCON_13__numH4.5__from-17.52__to22.91__ccA-BCD__llr2,5__ar1-1,0__ar2-1,0__rms0.5__ch-5__ch-5.sc \\\n",
      "-beta \\\n",
      "-in:file:fullatom \\\n",
      "-renumber_pdb 1 \\\n",
      "-out:file:pdb_comments true \\\n",
      "-run:preserve_header true \\\n",
      "-out:file:scorefile_format json \\\n",
      "-out:pdb \\\n",
      "-out:no_nstruct_label \\\n",
      "-parser:script_vars charge_constraints_chA=\"/home/ajasja/projects/truncator/truncator/xml/-3.charge\" charge_constraints_chB=\"/home/ajasja/projects/truncator/truncator/xml/-7.charge\"  \\\n",
      "-indexed_structure_store:fragment_store /home/brunette/DBs/hdf5/ss_grouped_vall_helix_shortLoop.h > ZCON_13__numH4.5__from-17.52__to22.91__ccA-BCD__llr2,5__ar1-1,0__ar2-1,0__rms0.5__ch-5__ch-5.log\n",
      "ZCON_13__numH4.5__from-17.52__to22.91__ccA-BCD__llr2,5__ar1-1,0__ar2-1,0__rms0.5__ch-5__ch-5.sc\n",
      "CPU times: user 9.7 ms, sys: 12.8 ms, total: 22.5 ms\n",
      "Wall time: 4min 35s\n"
     ]
    }
   ],
   "source": [
    "%%time\n",
    "struct_name = picks[5]\n",
    "\n",
    "chargeA, chargeB = get_charges_from_name(struct_name)\n",
    "result=truncator.fix_surface(struct_name, out_dir='out/R3/test_charge_genprrof', script_name='truncator/xml/32_fix_surf_and_loops_struct_profile.xml', \n",
    "                                                  rosetta_bin=\"/home/brunette/src/Rosetta_dev/main/source/bin/rosetta_scripts.hdf5.linuxgccrelease\",\n",
    "                                                  charge_constraints_chA=chargeA,\n",
    "                                                  charge_constraints_chB=chargeB,\n",
    "                             extra_flags=\"-indexed_structure_store:fragment_store /home/brunette/DBs/hdf5/ss_grouped_vall_helix_shortLoop.h\"\n",
    "                             \n",
    "                            );\n",
    "\n",
    "print(result.score_file)\n"
   ]
  },
  {
   "cell_type": "code",
   "execution_count": 14,
   "metadata": {},
   "outputs": [
    {
     "data": {
      "text/html": [
       "<table style=\"border: 2px solid white;\">\n",
       "<tr>\n",
       "<td style=\"vertical-align: top; border: 0px solid white\">\n",
       "<h3>Client</h3>\n",
       "<ul>\n",
       "  <li><b>Scheduler: </b>tcp://172.16.131.31:1179\n",
       "  <li><b>Dashboard: </b><a href='http://172.16.131.31:8787/status' target='_blank'>http://172.16.131.31:8787/status</a>\n",
       "</ul>\n",
       "</td>\n",
       "<td style=\"vertical-align: top; border: 0px solid white\">\n",
       "<h3>Cluster</h3>\n",
       "<ul>\n",
       "  <li><b>Workers: </b>16</li>\n",
       "  <li><b>Cores: </b>16</li>\n",
       "  <li><b>Memory: </b>32.00 GB</li>\n",
       "</ul>\n",
       "</td>\n",
       "</tr>\n",
       "</table>"
      ],
      "text/plain": [
       "<Client: scheduler='tcp://172.16.131.31:1179' processes=16 cores=16>"
      ]
     },
     "execution_count": 14,
     "metadata": {},
     "output_type": "execute_result"
    }
   ],
   "source": [
    "import dask, distributed\n",
    "client = distributed.Client(scheduler_file='scheduler.json'); client"
   ]
  },
  {
   "cell_type": "code",
   "execution_count": null,
   "metadata": {},
   "outputs": [],
   "source": []
  },
  {
   "cell_type": "code",
   "execution_count": 20,
   "metadata": {},
   "outputs": [],
   "source": [
    "res = []\n",
    "for struct_name in picks:\n",
    "    chargeA, chargeB = get_charges_from_name(struct_name)\n",
    "    res.append(client.submit(\n",
    "        truncator.fix_surface, struct_name, out_dir='out/R3/41_fix_surf_and_loops_gen_profile_30x', script_name='truncator/xml/32_fix_surf_and_loops_struct_profile.xml', \n",
    "                                                  rosetta_bin=\"/home/brunette/src/Rosetta_dev/main/source/bin/rosetta_scripts.hdf5.linuxgccrelease\",\n",
    "                                                  charge_constraints_chA=chargeA,\n",
    "                                                  charge_constraints_chB=chargeB,\n",
    "                                                  extra_flags=\"-indexed_structure_store:fragment_store /home/brunette/DBs/hdf5/ss_grouped_vall_helix_shortLoop.h\",\n",
    "        pure=False)\n",
    "                 );"
   ]
  },
  {
   "cell_type": "code",
   "execution_count": 21,
   "metadata": {},
   "outputs": [
    {
     "name": "stdout",
     "output_type": "stream",
     "text": [
      "Not Yet Finished\n"
     ]
    }
   ],
   "source": [
    "try:\n",
    "    distributed.wait(res, timeout=1);\n",
    "    print(\"FINISHED!\")\n",
    "except:\n",
    "    print(\"Not Yet Finished\")"
   ]
  },
  {
   "cell_type": "code",
   "execution_count": 17,
   "metadata": {},
   "outputs": [
    {
     "name": "stdout",
     "output_type": "stream",
     "text": [
      "Not Yet Finished\n"
     ]
    }
   ],
   "source": [
    "try:\n",
    "    distributed.wait(res, timeout=1);\n",
    "except:\n",
    "    print(\"Not Yet Finished\")"
   ]
  },
  {
   "cell_type": "code",
   "execution_count": 8,
   "metadata": {},
   "outputs": [],
   "source": [
    "#print(\"\\n\".join(list(df.columns)));\n",
    "cols = truncator.read_file_lines('col_order.list', skip_comments=True)\n",
    "df = df[cols]\n"
   ]
  },
  {
   "cell_type": "code",
   "execution_count": 9,
   "metadata": {},
   "outputs": [
    {
     "data": {
      "text/plain": [
       "6129"
      ]
     },
     "execution_count": 9,
     "metadata": {},
     "output_type": "execute_result"
    }
   ],
   "source": [
    "len(df)"
   ]
  },
  {
   "cell_type": "code",
   "execution_count": null,
   "metadata": {},
   "outputs": [],
   "source": []
  }
 ],
 "metadata": {
  "kernelspec": {
   "display_name": "Python [conda env:pyro_scripts]",
   "language": "python",
   "name": "conda-env-pyro_scripts-py"
  },
  "language_info": {
   "codemirror_mode": {
    "name": "ipython",
    "version": 3
   },
   "file_extension": ".py",
   "mimetype": "text/x-python",
   "name": "python",
   "nbconvert_exporter": "python",
   "pygments_lexer": "ipython3",
   "version": "3.6.8"
  }
 },
 "nbformat": 4,
 "nbformat_minor": 2
}
