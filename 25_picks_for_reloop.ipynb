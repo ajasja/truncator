{
 "cells": [
  {
   "cell_type": "code",
   "execution_count": 1,
   "metadata": {},
   "outputs": [
    {
     "name": "stdout",
     "output_type": "stream",
     "text": [
      "/mnt/net/scratch/ajasja/projects/truncator/R4_crystal_nMS_Y2H\n",
      "dig3\n"
     ]
    }
   ],
   "source": [
    "import os; print(os.getcwd())\n",
    "import socket; print(socket.gethostname())"
   ]
  },
  {
   "cell_type": "code",
   "execution_count": 2,
   "metadata": {},
   "outputs": [],
   "source": [
    "import pandas as pd\n",
    "import numpy as np\n",
    "import seaborn as sns\n",
    "import matplotlib.pyplot as plt\n",
    "import scipy\n",
    "\n",
    "from glob import glob\n",
    "#import sys; sys.path.insert(0, \"/home/ajasja/projects/truncator/\")\n",
    "import truncator\n",
    "\n"
   ]
  },
  {
   "cell_type": "code",
   "execution_count": 3,
   "metadata": {},
   "outputs": [],
   "source": [
    "out_dir_base = \"out/R1\"\n",
    "pdb_files = glob(f\"{out_dir_base}/03_score_SASA_SEQ/*/*.pdb\");\n",
    "\n",
    "def print_sele(row, name, color=None, remove_chains=False):\n",
    "    try:\n",
    "        sele = row[name+\"_pymol_selection\"]\n",
    "        sele=sele.replace(\"rosetta_sele\", name)\n",
    "        if remove_chains:\n",
    "            sele=sele.replace(\"chain A and\", \"\").replace(\"chain B and\", \"\")\n",
    "        print(sele)\n",
    "        if not color is None:\n",
    "            print(f\"color {color}, {name}\")\n",
    "    except:\n",
    "        pass\n",
    "\n",
    "def print_layers(row, selections=\"core bdry surf\".split(), colors=\"red orange yellow\".split()):\n",
    "    for sele, col  in zip(selections, colors):\n",
    "        print_sele(row, sele, col)\n",
    "\n",
    "def print_selection(row, selection):\n",
    "    full_name = row.full_name\n",
    "    \n",
    "    print(\"delete all\")\n",
    "    print(f\"load {full_name}\") \n",
    "    if truncator.is_str(selection):\n",
    "        selection = [selection]\n",
    "    for sele in selection:\n",
    "        print_sele(row, sele, None)\n",
    "    print_layers(row)\n",
    "    \n",
    "\n",
    "    print(\"orient\")   \n",
    "    \n"
   ]
  },
  {
   "cell_type": "code",
   "execution_count": 4,
   "metadata": {},
   "outputs": [
    {
     "name": "stdout",
     "output_type": "stream",
     "text": [
      "26802\n",
      "CPU times: user 3.24 s, sys: 329 ms, total: 3.57 s\n",
      "Wall time: 5.5 s\n"
     ]
    }
   ],
   "source": [
    "%%time\n",
    "score_files = sorted(glob(f\"{out_dir_base}/03_score_SASA_SEQ/*/*_IA.sc\")); print(len(score_files))\n",
    "sc = truncator.read_score_files_with_cache(score_files,f\"{out_dir_base}/03_score_SASA_SEQ/IA_scores.csv.gzip\", load_full_pdb_path=False)\n",
    "sc = sc.drop_duplicates(keep='last', subset=['decoy']).set_index('decoy', drop=False)\n",
    "sc['kind']='trunc'"
   ]
  },
  {
   "cell_type": "code",
   "execution_count": 5,
   "metadata": {},
   "outputs": [
    {
     "data": {
      "text/plain": [
       "['bndr_chA_sequence',\n",
       " 'bndr_chB_sequence',\n",
       " 'chA_sequence',\n",
       " 'chB_sequence',\n",
       " 'core_chA_sequence',\n",
       " 'core_chB_sequence',\n",
       " 'surf_chA_sequence',\n",
       " 'surf_chB_sequence',\n",
       " 'seq']"
      ]
     },
     "execution_count": 5,
     "metadata": {},
     "output_type": "execute_result"
    }
   ],
   "source": [
    "[col for col in sc.columns if 'seq' in col]"
   ]
  },
  {
   "cell_type": "code",
   "execution_count": 6,
   "metadata": {},
   "outputs": [],
   "source": [
    "sc['seq'] = sc.chA_sequence +  sc.chB_sequence\n",
    "sc['seq_core'] = sc.core_chA_sequence +  sc.core_chB_sequence"
   ]
  },
  {
   "cell_type": "code",
   "execution_count": 7,
   "metadata": {},
   "outputs": [],
   "source": [
    "sc['nres'] = sc.seq.str.len()\n",
    "sc['ala_count'] = sc.seq_core.str.count('A')\n",
    "sc['met_count'] = sc.seq_core.str.count('M')\n",
    "sc['phe_count'] = sc.seq_core.str.count('F')\n",
    "sc['tyr_count'] = sc.seq_core.str.count('Y')\n",
    "sc['trp_count'] = sc.seq_core.str.count('W')\n",
    "sc['his_count'] = sc.seq_core.str.count('H')\n",
    "sc['score_per_res'] = sc.total_score/sc.nres\n",
    "sc['hbnet_res_count'] = sc.seq.str.count('(N|Q|T|W|Y|S|H)')"
   ]
  },
  {
   "cell_type": "code",
   "execution_count": 8,
   "metadata": {},
   "outputs": [],
   "source": [
    "sc['core_polars_pymol_sel'] = sc.core_polars_pymol_selection.str.count(r'\\d+')\n",
    "sc['core_polars']  = sc.seq_core.str.count('(N|Q|T|W|Y|S|H|D|E|R|K)')"
   ]
  },
  {
   "cell_type": "code",
   "execution_count": 9,
   "metadata": {},
   "outputs": [],
   "source": [
    "sc['frx_total_exposed_hydrophobics']=sc['total_exposed_hydrophobics']/sc['total_SASA']\n",
    "sc['chA_frx_total_exposed_hydrophobics']=sc['chA_exposed_hydrophobics']/sc['chA_SASA']\n",
    "sc['chB_frx_total_exposed_hydrophobics']=sc['chB_exposed_hydrophobics']/sc['chB_SASA']\n",
    "sc['interface_hpatch']=-sc['total_hpatch_score']+sc['chA_hpatch_score']+sc['chB_hpatch_score']\n",
    "sc['interface_exposed_hydrophobics']=-sc['total_exposed_hydrophobics']+sc['chA_exposed_hydrophobics']+sc['chB_exposed_hydrophobics']\n",
    "sc['interface_hydrophobic_SASA']=-sc['total_hydrophobic_SASA']+sc['chA_hydrophobic_SASA']+sc['chB_hydrophobic_SASA']\n",
    "sc['interface_SASA']=-sc['total_SASA']+sc['chA_SASA']+sc['chB_SASA']\n",
    "sc['interface_polar_SASA']=-sc['total_polar_SASA']+sc['chA_polar_SASA']+sc['chB_polar_SASA']\n",
    "\n",
    "sc['frx_interface_polar_SASA']=sc['interface_polar_SASA']/sc['interface_SASA']\n",
    "sc['num_core_hbnet_residues_total']=sc['num_core_hbnet_residues_chA']+sc['num_core_hbnet_residues_chB']\n",
    "sc['num_core_total']=sc['num_core_chA']+sc['num_core_chB']"
   ]
  },
  {
   "cell_type": "code",
   "execution_count": 10,
   "metadata": {},
   "outputs": [],
   "source": [
    "list(sc.columns)\n",
    "name_split=sc.decoy.str.split(\"__\", expand=True)\n"
   ]
  },
  {
   "cell_type": "code",
   "execution_count": 11,
   "metadata": {},
   "outputs": [],
   "source": [
    "sc['base']=name_split[0]\n",
    "sc['numH']=name_split[1].str.replace('numH','').astype(float)\n",
    "sc['from']=name_split[2].str.replace('from','').astype(float)\n",
    "sc['to']=name_split[3].str.replace('to','').astype(float)\n",
    "sc['gr']=name_split[4].str.replace('gr','')\n"
   ]
  },
  {
   "cell_type": "code",
   "execution_count": 12,
   "metadata": {},
   "outputs": [],
   "source": [
    "CRYSTAL_STRUCTS = ['ZCON_13', 'ZCON_15', 'ZCON_37', 'ZCON_127', 'ZCON_131']\n",
    "sc['crystal']=0\n",
    "sc['base'].str.contains(CRYSTAL_STRUCTS[0])\n",
    "for name in CRYSTAL_STRUCTS:\n",
    "    sc['crystal'] = sc['crystal'] + (sc['base']==name)\n",
    "    sc['crystal'] = sc['crystal'] + sc['base'].str.contains(name+'_')\n",
    "sc['crystal']= sc['crystal'] > 0"
   ]
  },
  {
   "cell_type": "code",
   "execution_count": 13,
   "metadata": {},
   "outputs": [],
   "source": [
    "#get the topology\n",
    "gsplit = sc['gr'].str.split(\"-\", expand=True);\n",
    "gsplit[0]=gsplit[0].str.len().astype(str)\n",
    "gsplit[1]=gsplit[1].str.len().astype(str)\n",
    "sc['topology']=gsplit[0]+gsplit[1]\n"
   ]
  },
  {
   "cell_type": "code",
   "execution_count": 14,
   "metadata": {},
   "outputs": [],
   "source": [
    "sns.set_style(\"whitegrid\")\n",
    "sns.set_context(\"talk\")\n",
    "def plot_hist(field_name, sc=sc):\n",
    "    g = sns.FacetGrid(sc,  hue=\"kind\", height=6, palette='bright')\n",
    "    g = (g.map(sns.distplot, field_name, kde=False, norm_hist=False))\n",
    "    g.add_legend()\n",
    "    return g"
   ]
  },
  {
   "cell_type": "code",
   "execution_count": 15,
   "metadata": {},
   "outputs": [
    {
     "data": {
      "text/plain": [
       "<matplotlib.axes._subplots.AxesSubplot at 0x7fffb5a06ef0>"
      ]
     },
     "execution_count": 15,
     "metadata": {},
     "output_type": "execute_result"
    },
    {
     "data": {
      "image/png": "[encoded data removed]",
      "text/plain": [
       "<Figure size 432x288 with 1 Axes>"
      ]
     },
     "metadata": {},
     "output_type": "display_data"
    }
   ],
   "source": [
    "sc.plot.scatter('num_core_hbnet_residues_total', 'core_polars_pymol_sel')"
   ]
  },
  {
   "cell_type": "code",
   "execution_count": 16,
   "metadata": {},
   "outputs": [
    {
     "name": "stdout",
     "output_type": "stream",
     "text": [
      "1710\n"
     ]
    }
   ],
   "source": [
    "#q = sc.query(\"base=='ZCON_37' and gr=='D-ABC' and crystal==1 and numH==4.5 and dSASA_polar>300\").sort_values(by=\"interface_hbonds\", ascending=False).groupby('base').head(5)\n",
    "q = sc.query(\"numH==3.5 and sc_value>0.6 and core_buns_bb<3 and core_buns_sc==0 and frx_interface_polar_SASA>0.10\")\\\n",
    ".sort_values(by=\"frx_interface_polar_SASA interface_hbonds  num_core_hbnet_residues_total\".split(), ascending=[False, False, False])\\\n",
    ".groupby('base gr'.split()).head(3)\n",
    "\n",
    "print(len(q))\n",
    "q[\"base from to sc_value num_core_hbnet_residues_total core_polars_pymol_sel interface_hbonds  frx_interface_polar_SASA interface_polar_SASA interface_hydrophobic_SASA delta_unsatHbonds core_buns_bb core_buns_sc  interface_hpatch  interface_exposed_hydrophobics\".split()\n",
    " ];\n",
    "\n"
   ]
  },
  {
   "cell_type": "code",
   "execution_count": 17,
   "metadata": {},
   "outputs": [
    {
     "data": {
      "text/plain": [
       "0.12186294150142923"
      ]
     },
     "execution_count": 17,
     "metadata": {},
     "output_type": "execute_result"
    }
   ],
   "source": [
    "h_lenghts=sc.numH.unique()\n",
    "\n",
    "sc.frx_interface_polar_SASA.quantile(0.05)"
   ]
  },
  {
   "cell_type": "code",
   "execution_count": 18,
   "metadata": {},
   "outputs": [
    {
     "ename": "NameError",
     "evalue": "name 'top_n' is not defined",
     "output_type": "error",
     "traceback": [
      "\u001b[0;31m---------------------------------------------------------------------------\u001b[0m",
      "\u001b[0;31mNameError\u001b[0m                                 Traceback (most recent call last)",
      "\u001b[0;32m<ipython-input-18-7bf04cba2a03>\u001b[0m in \u001b[0;36m<module>\u001b[0;34m\u001b[0m\n\u001b[1;32m      3\u001b[0m     \u001b[0;32mreturn\u001b[0m \u001b[0mlist\u001b[0m\u001b[0;34m(\u001b[0m\u001b[0msorted_series\u001b[0m\u001b[0;34m.\u001b[0m\u001b[0miloc\u001b[0m\u001b[0;34m[\u001b[0m\u001b[0;34m:\u001b[0m\u001b[0mtop_n\u001b[0m\u001b[0;34m]\u001b[0m\u001b[0;34m.\u001b[0m\u001b[0mindex\u001b[0m\u001b[0;34m)\u001b[0m\u001b[0;34m\u001b[0m\u001b[0m\n\u001b[1;32m      4\u001b[0m \u001b[0;34m\u001b[0m\u001b[0m\n\u001b[0;32m----> 5\u001b[0;31m \u001b[0mreturn_closest_ids\u001b[0m\u001b[0;34m(\u001b[0m\u001b[0msc\u001b[0m\u001b[0;34m,\u001b[0m \u001b[0;34m'frx_interface_polar_SASA'\u001b[0m\u001b[0;34m,\u001b[0m \u001b[0;36m0.44\u001b[0m\u001b[0;34m,\u001b[0m \u001b[0mtop_n\u001b[0m\u001b[0;34m=\u001b[0m\u001b[0mtop_n\u001b[0m\u001b[0;34m)\u001b[0m\u001b[0;34m\u001b[0m\u001b[0m\n\u001b[0m",
      "\u001b[0;31mNameError\u001b[0m: name 'top_n' is not defined"
     ]
    }
   ],
   "source": [
    "def return_closest_ids(df, col, val, top_n=2):\n",
    "    sorted_series = abs(df[col]-val).sort_values()\n",
    "    return list(sorted_series.iloc[:top_n].index)\n",
    "\n",
    "return_closest_ids(sc, 'frx_interface_polar_SASA', 0.44, top_n=top_n)"
   ]
  },
  {
   "cell_type": "code",
   "execution_count": null,
   "metadata": {},
   "outputs": [],
   "source": []
  },
  {
   "cell_type": "code",
   "execution_count": 47,
   "metadata": {},
   "outputs": [
    {
     "name": "stdout",
     "output_type": "stream",
     "text": [
      "[0.5, 0.4, 0.3]\n"
     ]
    },
    {
     "data": {
      "text/plain": [
       "['ZCON_66__numH3.5__from-23.45__to07.42__grC-ABD',\n",
       " 'ZCON_2_CC__numH3.5__from-13.73__to20.29__grB-ACD',\n",
       " 'ZCON_2_CC__numH3.5__from-17.98__to16.05__grB-ACD',\n",
       " 'ZCON_2_CC__numH3.5__from-13.73__to20.29__grA-BCD',\n",
       " 'ZCON_101__numH3.5__from-19.85__to11.76__grAB-CD',\n",
       " 'ZCON_13_AAAA__numH3.5__from-7.50__to24.91__grAB-CD']"
      ]
     },
     "execution_count": 47,
     "metadata": {},
     "output_type": "execute_result"
    }
   ],
   "source": [
    "def get_values_ids(df, col, vals, top_n=2):\n",
    "    res=[]\n",
    "    for val in vals:\n",
    "        #print(df[col].quantile(quant))\n",
    "        res.extend(return_closest_ids(df, col, val, top_n=top_n))\n",
    "    return res\n",
    "\n",
    "\n",
    "frx_polars = list(sc.frx_interface_polar_SASA.quantile([1, 0.75, 0.5]))\n",
    "frx_polars = [0.5, 0.4, 0.3]\n",
    "print(frx_polars)\n",
    "get_values_ids(q, 'frx_interface_polar_SASA', frx_polars, top_n=2)"
   ]
  },
  {
   "cell_type": "code",
   "execution_count": 57,
   "metadata": {},
   "outputs": [
    {
     "name": "stdout",
     "output_type": "stream",
     "text": [
      "[0.4136666360726621, 0.2682937433369382, 0.15701790515431205]\n",
      "[0.39061577922143415, 0.26605609717065015, 0.15789611528621433]\n",
      "[0.383504622356955, 0.2605361811156608, 0.16225326606335466]\n",
      "[0.3796441961667241, 0.25750152941181786, 0.16743997816789852]\n",
      "[0.35870823916810796, 0.25450527767786424, 0.16889948875295074]\n",
      "[0.38381355296463476, 0.24772481154446413, 0.15803174440147594]\n"
     ]
    }
   ],
   "source": [
    "ids = {}\n",
    "for h_len in h_lenghts:\n",
    "    qt = sc.query(f\"numH=={h_len} and gr=='AB-CD' and sc_value>0.6 and core_buns_bb<3 and core_buns_sc==0 and frx_interface_polar_SASA>0.10\")\n",
    "    frx_polars = list(qt.frx_interface_polar_SASA.quantile([1, 0.75, 0.1]))\n",
    "    print(frx_polars)\n",
    "    ids[h_len] = get_values_ids(qt, 'frx_interface_polar_SASA', frx_polars, top_n=2)"
   ]
  },
  {
   "cell_type": "code",
   "execution_count": 63,
   "metadata": {},
   "outputs": [],
   "source": [
    "truncator.make_dirs(\"for_basile/03_more_polar\")\n",
    "truncator.write_json(\"for_basile/03_more_polar/ids.json\", ids)"
   ]
  },
  {
   "cell_type": "code",
   "execution_count": 59,
   "metadata": {},
   "outputs": [
    {
     "data": {
      "text/plain": [
       "{2.5: ['ZCON_66__numH2.5__from-6.17__to16.16__grAB-CD',\n",
       "  'ZCON_154__numH2.5__from-15.70__to07.50__grAB-CD',\n",
       "  'ZCON_157__numH2.5__from-19.21__to05.26__grAB-CD',\n",
       "  'ZCON_142__numH2.5__from-24.03__to00.56__grAB-CD',\n",
       "  'ZCON_43_AXA__numH2.5__from-3.73__to20.74__grAB-CD',\n",
       "  'ZCON_29__numH2.5__from-3.66__to19.04__grAB-CD'],\n",
       " 3.0: ['ZCON_67__numH3__from-18.41__to08.08__grAB-CD',\n",
       "  'ZCON_150__numH3__from-8.64__to21.98__grAB-CD',\n",
       "  'ZCON_88__numH3__from-11.49__to15.71__grAB-CD',\n",
       "  'ZCON_161__numH3__from-15.47__to12.44__grAB-CD',\n",
       "  'ZCON_120__numH3__from-21.59__to06.02__grAB-CD',\n",
       "  'ZCON_21__numH3__from-4.09__to20.37__grAB-CD'],\n",
       " 3.5: ['ZCON_67__numH3.5__from-5.02__to25.72__grAB-CD',\n",
       "  'ZCON_67__numH3.5__from-6.94__to23.80__grAB-CD',\n",
       "  'ZCON_121__numH3.5__from-19.99__to12.85__grAB-CD',\n",
       "  'ZCON_127__numH3.5__from-14.59__to18.49__grAB-CD',\n",
       "  'ZCON_96__numH3.5__from-24.28__to08.34__grAB-CD',\n",
       "  'ZCON_124__numH3.5__from-16.05__to16.83__grAB-CD'],\n",
       " 4.0: ['ZCON_67__numH4__from-18.41__to16.58__grAB-CD',\n",
       "  'ZCON_162__numH4__from-20.14__to16.88__grAB-CD',\n",
       "  'ZCON_69__numH4__from-23.63__to15.71__grAB-CD',\n",
       "  'ZCON_161__numH4__from-23.55__to13.33__grAB-CD',\n",
       "  'ZCON_30__numH4__from-21.58__to16.72__grAB-CD',\n",
       "  'ZCON_114__numH4__from-8.91__to27.17__grAB-CD'],\n",
       " 4.5: ['ZCON_8__numH4.5__from-14.52__to23.17__grAB-CD',\n",
       "  'ZCON_8__numH4.5__from-12.68__to25.01__grAB-CD',\n",
       "  'ZCON_115__numH4.5__from-24.43__to18.28__grAB-CD',\n",
       "  'ZCON_37__numH4.5__from-21.21__to22.24__grAB-CD',\n",
       "  'ZCON_34_XAXXA__numH4.5__from-23.54__to21.92__grAB-CD',\n",
       "  'ZCON_120__numH4.5__from-21.59__to19.32__grAB-CD'],\n",
       " 5.0: ['ZCON_67__numH5__from-18.41__to25.08__grAB-CD',\n",
       "  'ZCON_8__numH5__from-14.52__to27.25__grAB-CD',\n",
       "  'ZCON_104__numH5__from-23.10__to19.84__grAB-CD',\n",
       "  'ZCON_126__numH5__from-24.33__to22.59__grAB-CD',\n",
       "  'ZCON_VR_6__numH5__from-2.18__to39.36__grAB-CD',\n",
       "  'ZCON_VR_6__numH5__from-0.36__to41.18__grAB-CD']}"
      ]
     },
     "execution_count": 59,
     "metadata": {},
     "output_type": "execute_result"
    }
   ],
   "source": [
    "ids\n",
    "#sc.to_json(\"for_basile/all_parameter_info.json.gz\", compression='gzip')"
   ]
  },
  {
   "cell_type": "code",
   "execution_count": 66,
   "metadata": {},
   "outputs": [],
   "source": [
    "cut_pdb_files = glob(f\"{out_dir_base}/01_cut/*/*.pdb\");"
   ]
  },
  {
   "cell_type": "code",
   "execution_count": 69,
   "metadata": {},
   "outputs": [
    {
     "name": "stdout",
     "output_type": "stream",
     "text": [
      "ZCON_66__numH2.5__from-6.17__to16.16\n",
      "out/R1/01_cut/2.5H/ZCON_66__numH2.5__from-6.17__to16.16.pdb\n",
      "ZCON_154__numH2.5__from-15.70__to07.50\n",
      "out/R1/01_cut/2.5H/ZCON_154__numH2.5__from-15.70__to07.50.pdb\n",
      "ZCON_157__numH2.5__from-19.21__to05.26\n",
      "out/R1/01_cut/2.5H/ZCON_157__numH2.5__from-19.21__to05.26.pdb\n",
      "ZCON_142__numH2.5__from-24.03__to00.56\n",
      "out/R1/01_cut/2.5H/ZCON_142__numH2.5__from-24.03__to00.56.pdb\n",
      "ZCON_43_AXA__numH2.5__from-3.73__to20.74\n",
      "out/R1/01_cut/2.5H/ZCON_43_AXA__numH2.5__from-3.73__to20.74.pdb\n",
      "ZCON_29__numH2.5__from-3.66__to19.04\n",
      "out/R1/01_cut/2.5H/ZCON_29__numH2.5__from-3.66__to19.04.pdb\n",
      "ZCON_67__numH3__from-18.41__to08.08\n",
      "out/R1/01_cut/3.0H/ZCON_67__numH3__from-18.41__to08.08.pdb\n",
      "ZCON_150__numH3__from-8.64__to21.98\n",
      "out/R1/01_cut/3.0H/ZCON_150__numH3__from-8.64__to21.98.pdb\n",
      "ZCON_88__numH3__from-11.49__to15.71\n",
      "out/R1/01_cut/3.0H/ZCON_88__numH3__from-11.49__to15.71.pdb\n",
      "ZCON_161__numH3__from-15.47__to12.44\n",
      "out/R1/01_cut/3.0H/ZCON_161__numH3__from-15.47__to12.44.pdb\n",
      "ZCON_120__numH3__from-21.59__to06.02\n",
      "out/R1/01_cut/3.0H/ZCON_120__numH3__from-21.59__to06.02.pdb\n",
      "ZCON_21__numH3__from-4.09__to20.37\n",
      "out/R1/01_cut/3.0H/ZCON_21__numH3__from-4.09__to20.37.pdb\n",
      "ZCON_67__numH3.5__from-5.02__to25.72\n",
      "out/R1/01_cut/3.5H/ZCON_67__numH3.5__from-5.02__to25.72.pdb\n",
      "ZCON_67__numH3.5__from-6.94__to23.80\n",
      "out/R1/01_cut/3.5H/ZCON_67__numH3.5__from-6.94__to23.80.pdb\n",
      "ZCON_121__numH3.5__from-19.99__to12.85\n",
      "out/R1/01_cut/3.5H/ZCON_121__numH3.5__from-19.99__to12.85.pdb\n",
      "ZCON_127__numH3.5__from-14.59__to18.49\n",
      "out/R1/01_cut/3.5H/ZCON_127__numH3.5__from-14.59__to18.49.pdb\n",
      "ZCON_96__numH3.5__from-24.28__to08.34\n",
      "out/R1/01_cut/3.5H/ZCON_96__numH3.5__from-24.28__to08.34.pdb\n",
      "ZCON_124__numH3.5__from-16.05__to16.83\n",
      "out/R1/01_cut/3.5H/ZCON_124__numH3.5__from-16.05__to16.83.pdb\n",
      "ZCON_67__numH4__from-18.41__to16.58\n",
      "out/R1/01_cut/4.0H/ZCON_67__numH4__from-18.41__to16.58.pdb\n",
      "ZCON_162__numH4__from-20.14__to16.88\n",
      "out/R1/01_cut/4.0H/ZCON_162__numH4__from-20.14__to16.88.pdb\n",
      "ZCON_69__numH4__from-23.63__to15.71\n",
      "out/R1/01_cut/4.0H/ZCON_69__numH4__from-23.63__to15.71.pdb\n",
      "ZCON_161__numH4__from-23.55__to13.33\n",
      "out/R1/01_cut/4.0H/ZCON_161__numH4__from-23.55__to13.33.pdb\n",
      "ZCON_30__numH4__from-21.58__to16.72\n",
      "out/R1/01_cut/4.0H/ZCON_30__numH4__from-21.58__to16.72.pdb\n",
      "ZCON_114__numH4__from-8.91__to27.17\n",
      "out/R1/01_cut/4.0H/ZCON_114__numH4__from-8.91__to27.17.pdb\n",
      "ZCON_8__numH4.5__from-14.52__to23.17\n",
      "out/R1/01_cut/4.5H/ZCON_8__numH4.5__from-14.52__to23.17.pdb\n",
      "ZCON_8__numH4.5__from-12.68__to25.01\n",
      "out/R1/01_cut/4.5H/ZCON_8__numH4.5__from-12.68__to25.01.pdb\n",
      "ZCON_115__numH4.5__from-24.43__to18.28\n",
      "out/R1/01_cut/4.5H/ZCON_115__numH4.5__from-24.43__to18.28.pdb\n",
      "ZCON_37__numH4.5__from-21.21__to22.24\n",
      "out/R1/01_cut/4.5H/ZCON_37__numH4.5__from-21.21__to22.24.pdb\n",
      "ZCON_34_XAXXA__numH4.5__from-23.54__to21.92\n",
      "out/R1/01_cut/4.5H/ZCON_34_XAXXA__numH4.5__from-23.54__to21.92.pdb\n",
      "ZCON_120__numH4.5__from-21.59__to19.32\n",
      "out/R1/01_cut/4.5H/ZCON_120__numH4.5__from-21.59__to19.32.pdb\n",
      "ZCON_67__numH5__from-18.41__to25.08\n",
      "out/R1/01_cut/5.0H/ZCON_67__numH5__from-18.41__to25.08.pdb\n",
      "ZCON_8__numH5__from-14.52__to27.25\n",
      "out/R1/01_cut/5.0H/ZCON_8__numH5__from-14.52__to27.25.pdb\n",
      "ZCON_104__numH5__from-23.10__to19.84\n",
      "out/R1/01_cut/5.0H/ZCON_104__numH5__from-23.10__to19.84.pdb\n",
      "ZCON_126__numH5__from-24.33__to22.59\n",
      "out/R1/01_cut/5.0H/ZCON_126__numH5__from-24.33__to22.59.pdb\n",
      "ZCON_VR_6__numH5__from-2.18__to39.36\n",
      "out/R1/01_cut/5.0H/ZCON_VR_6__numH5__from-2.18__to39.36.pdb\n",
      "ZCON_VR_6__numH5__from-0.36__to41.18\n",
      "out/R1/01_cut/5.0H/ZCON_VR_6__numH5__from-0.36__to41.18.pdb\n"
     ]
    }
   ],
   "source": [
    "for lenH in ids.keys():\n",
    "    truncator.make_dirs(f\"for_basile/03_more_polar/numH{lenH}\")\n",
    "    for decoy in ids[lenH]:\n",
    "        decoy=decoy[:-9]\n",
    "        print(decoy)\n",
    "        full_name = truncator.find_input(decoy, cut_pdb_files)\n",
    "        print(full_name)\n",
    "        !cp {full_name} for_basile/03_more_polar/numH{lenH}"
   ]
  },
  {
   "cell_type": "code",
   "execution_count": 46,
   "metadata": {},
   "outputs": [],
   "source": [
    "def print_load_script(row, iloc=None, prefix=\"S:\\projects/truncator/R4_crystal_nMS_Y2H\" ):\n",
    "    if not iloc is None:\n",
    "        row = row.ix[iloc]\n",
    "    full_name = truncator.find_input(row.decoy, pdb_files)\n",
    "    #print('delete all')\n",
    "    print(f'load  {prefix}/{full_name} ')\n",
    "    print(row.core_polars_pymol_selection)\n",
    "    #print_layers(row, selections=\"core bndr surf\".split())\n",
    "    print('hbnet')"
   ]
  },
  {
   "cell_type": "code",
   "execution_count": 36,
   "metadata": {},
   "outputs": [
    {
     "name": "stdout",
     "output_type": "stream",
     "text": [
      "/mnt/net/scratch/ajasja/projects/truncator/R4_crystal_nMS_Y2H\n"
     ]
    }
   ],
   "source": [
    "!pwd"
   ]
  },
  {
   "cell_type": "code",
   "execution_count": 47,
   "metadata": {},
   "outputs": [
    {
     "name": "stderr",
     "output_type": "stream",
     "text": [
      "/software/conda/envs/jupyterhub/lib/python3.6/site-packages/ipykernel_launcher.py:3: DeprecationWarning: \n",
      ".ix is deprecated. Please use\n",
      ".loc for label based indexing or\n",
      ".iloc for positional indexing\n",
      "\n",
      "See the documentation here:\n",
      "http://pandas.pydata.org/pandas-docs/stable/indexing.html#ix-indexer-is-deprecated\n",
      "  This is separate from the ipykernel package so we can avoid doing imports until\n"
     ]
    },
    {
     "ename": "AttributeError",
     "evalue": "'Series' object has no attribute 'decoy'",
     "output_type": "error",
     "traceback": [
      "\u001b[0;31m---------------------------------------------------------------------------\u001b[0m",
      "\u001b[0;31mAttributeError\u001b[0m                            Traceback (most recent call last)",
      "\u001b[0;32m<ipython-input-47-398decdef761>\u001b[0m in \u001b[0;36m<module>\u001b[0;34m\u001b[0m\n\u001b[0;32m----> 1\u001b[0;31m \u001b[0mprint_load_script\u001b[0m\u001b[0;34m(\u001b[0m\u001b[0mq\u001b[0m\u001b[0;34m,\u001b[0m \u001b[0;36m1\u001b[0m\u001b[0;34m)\u001b[0m\u001b[0;34m\u001b[0m\u001b[0m\n\u001b[0m",
      "\u001b[0;32m<ipython-input-46-a6600ae945ac>\u001b[0m in \u001b[0;36mprint_load_script\u001b[0;34m(row, iloc, prefix)\u001b[0m\n\u001b[1;32m      2\u001b[0m     \u001b[0;32mif\u001b[0m \u001b[0;32mnot\u001b[0m \u001b[0miloc\u001b[0m \u001b[0;32mis\u001b[0m \u001b[0;32mNone\u001b[0m\u001b[0;34m:\u001b[0m\u001b[0;34m\u001b[0m\u001b[0m\n\u001b[1;32m      3\u001b[0m         \u001b[0mrow\u001b[0m \u001b[0;34m=\u001b[0m \u001b[0mrow\u001b[0m\u001b[0;34m.\u001b[0m\u001b[0mix\u001b[0m\u001b[0;34m[\u001b[0m\u001b[0miloc\u001b[0m\u001b[0;34m]\u001b[0m\u001b[0;34m\u001b[0m\u001b[0m\n\u001b[0;32m----> 4\u001b[0;31m     \u001b[0mfull_name\u001b[0m \u001b[0;34m=\u001b[0m \u001b[0mtruncator\u001b[0m\u001b[0;34m.\u001b[0m\u001b[0mfind_input\u001b[0m\u001b[0;34m(\u001b[0m\u001b[0mrow\u001b[0m\u001b[0;34m.\u001b[0m\u001b[0mdecoy\u001b[0m\u001b[0;34m,\u001b[0m \u001b[0mpdb_files\u001b[0m\u001b[0;34m)\u001b[0m\u001b[0;34m\u001b[0m\u001b[0m\n\u001b[0m\u001b[1;32m      5\u001b[0m     \u001b[0;31m#print('delete all')\u001b[0m\u001b[0;34m\u001b[0m\u001b[0;34m\u001b[0m\u001b[0m\n\u001b[1;32m      6\u001b[0m     \u001b[0mprint\u001b[0m\u001b[0;34m(\u001b[0m\u001b[0;34mf'load  {prefix}/{full_name} '\u001b[0m\u001b[0;34m)\u001b[0m\u001b[0;34m\u001b[0m\u001b[0m\n",
      "\u001b[0;32m/software/conda/envs/jupyterhub/lib/python3.6/site-packages/pandas/core/generic.py\u001b[0m in \u001b[0;36m__getattr__\u001b[0;34m(self, name)\u001b[0m\n\u001b[1;32m   4374\u001b[0m             \u001b[0;32mif\u001b[0m \u001b[0mself\u001b[0m\u001b[0;34m.\u001b[0m\u001b[0m_info_axis\u001b[0m\u001b[0;34m.\u001b[0m\u001b[0m_can_hold_identifiers_and_holds_name\u001b[0m\u001b[0;34m(\u001b[0m\u001b[0mname\u001b[0m\u001b[0;34m)\u001b[0m\u001b[0;34m:\u001b[0m\u001b[0;34m\u001b[0m\u001b[0m\n\u001b[1;32m   4375\u001b[0m                 \u001b[0;32mreturn\u001b[0m \u001b[0mself\u001b[0m\u001b[0;34m[\u001b[0m\u001b[0mname\u001b[0m\u001b[0;34m]\u001b[0m\u001b[0;34m\u001b[0m\u001b[0m\n\u001b[0;32m-> 4376\u001b[0;31m             \u001b[0;32mreturn\u001b[0m \u001b[0mobject\u001b[0m\u001b[0;34m.\u001b[0m\u001b[0m__getattribute__\u001b[0m\u001b[0;34m(\u001b[0m\u001b[0mself\u001b[0m\u001b[0;34m,\u001b[0m \u001b[0mname\u001b[0m\u001b[0;34m)\u001b[0m\u001b[0;34m\u001b[0m\u001b[0m\n\u001b[0m\u001b[1;32m   4377\u001b[0m \u001b[0;34m\u001b[0m\u001b[0m\n\u001b[1;32m   4378\u001b[0m     \u001b[0;32mdef\u001b[0m \u001b[0m__setattr__\u001b[0m\u001b[0;34m(\u001b[0m\u001b[0mself\u001b[0m\u001b[0;34m,\u001b[0m \u001b[0mname\u001b[0m\u001b[0;34m,\u001b[0m \u001b[0mvalue\u001b[0m\u001b[0;34m)\u001b[0m\u001b[0;34m:\u001b[0m\u001b[0;34m\u001b[0m\u001b[0m\n",
      "\u001b[0;31mAttributeError\u001b[0m: 'Series' object has no attribute 'decoy'"
     ]
    }
   ],
   "source": [
    "print_load_script(q, 1)"
   ]
  },
  {
   "cell_type": "code",
   "execution_count": 18,
   "metadata": {},
   "outputs": [
    {
     "name": "stdout",
     "output_type": "stream",
     "text": [
      "load  S:\\projects/truncator/R4_crystal_nMS_Y2H/out/R1/02_regruped/3.0H/ZCON_155__numH3__from-13.96__to16.63__grAB-CD.pdb \n",
      "hbnet\n",
      "load  S:\\projects/truncator/R4_crystal_nMS_Y2H/out/R1/02_regruped/3.0H/ZCON_152__numH3__from-12.50__to17.12__grAB-CD.pdb \n",
      "hbnet\n",
      "load  S:\\projects/truncator/R4_crystal_nMS_Y2H/out/R1/02_regruped/3.0H/ZCON_144__numH3__from-19.52__to09.67__grAB-CD.pdb \n",
      "hbnet\n",
      "load  S:\\projects/truncator/R4_crystal_nMS_Y2H/out/R1/02_regruped/3.0H/ZCON_151__numH3__from-16.61__to13.87__grAB-CD.pdb \n",
      "hbnet\n",
      "load  S:\\projects/truncator/R4_crystal_nMS_Y2H/out/R1/02_regruped/3.0H/ZCON_156__numH3__from-14.48__to15.38__grAB-CD.pdb \n",
      "hbnet\n",
      "load  S:\\projects/truncator/R4_crystal_nMS_Y2H/out/R1/02_regruped/3.0H/ZCON_15_re_loop__numH3__from04.80__to31.64__grAB-CD.pdb \n",
      "hbnet\n",
      "load  S:\\projects/truncator/R4_crystal_nMS_Y2H/out/R1/02_regruped/3.0H/ZCON_20__numH3__from04.66__to32.30__grAB-CD.pdb \n",
      "hbnet\n",
      "load  S:\\projects/truncator/R4_crystal_nMS_Y2H/out/R1/02_regruped/3.0H/ZCON_17__numH3__from05.02__to32.31__grAB-CD.pdb \n",
      "hbnet\n",
      "load  S:\\projects/truncator/R4_crystal_nMS_Y2H/out/R1/02_regruped/3.0H/ZCON_161__numH3__from-23.55__to04.36__grAB-CD.pdb \n",
      "hbnet\n",
      "load  S:\\projects/truncator/R4_crystal_nMS_Y2H/out/R1/02_regruped/3.0H/ZCON_31__numH3__from-16.78__to10.87__grAB-CD.pdb \n",
      "hbnet\n"
     ]
    },
    {
     "name": "stderr",
     "output_type": "stream",
     "text": [
      "/software/conda/envs/jupyterhub/lib/python3.6/site-packages/ipykernel_launcher.py:3: DeprecationWarning: \n",
      ".ix is deprecated. Please use\n",
      ".loc for label based indexing or\n",
      ".iloc for positional indexing\n",
      "\n",
      "See the documentation here:\n",
      "http://pandas.pydata.org/pandas-docs/stable/indexing.html#ix-indexer-is-deprecated\n",
      "  This is separate from the ipykernel package so we can avoid doing imports until\n"
     ]
    }
   ],
   "source": [
    "for i in range(10):\n",
    "    print_load_script(q, i)\n"
   ]
  },
  {
   "cell_type": "code",
   "execution_count": null,
   "metadata": {},
   "outputs": [],
   "source": []
  },
  {
   "cell_type": "code",
   "execution_count": 40,
   "metadata": {},
   "outputs": [
    {
     "data": {
      "text/html": [
       "<div>\n",
       "<style scoped>\n",
       "    .dataframe tbody tr th:only-of-type {\n",
       "        vertical-align: middle;\n",
       "    }\n",
       "\n",
       "    .dataframe tbody tr th {\n",
       "        vertical-align: top;\n",
       "    }\n",
       "\n",
       "    .dataframe thead th {\n",
       "        text-align: right;\n",
       "    }\n",
       "</style>\n",
       "<table border=\"1\" class=\"dataframe\">\n",
       "  <thead>\n",
       "    <tr style=\"text-align: right;\">\n",
       "      <th></th>\n",
       "      <th>interface_hbonds</th>\n",
       "      <th>dSASA_polar</th>\n",
       "      <th>delta_unsatHbonds</th>\n",
       "      <th>core_buns_bb</th>\n",
       "      <th>interface_hpatch</th>\n",
       "    </tr>\n",
       "    <tr>\n",
       "      <th>decoy</th>\n",
       "      <th></th>\n",
       "      <th></th>\n",
       "      <th></th>\n",
       "      <th></th>\n",
       "      <th></th>\n",
       "    </tr>\n",
       "  </thead>\n",
       "  <tbody>\n",
       "    <tr>\n",
       "      <th>ZCON_37__numH4.5__from-21.21__to22.24__grD-ABC</th>\n",
       "      <td>8</td>\n",
       "      <td>409.616394</td>\n",
       "      <td>2</td>\n",
       "      <td>0</td>\n",
       "      <td>94.239998</td>\n",
       "    </tr>\n",
       "    <tr>\n",
       "      <th>ZCON_37__numH4.5__from-23.34__to20.12__grD-ABC</th>\n",
       "      <td>7</td>\n",
       "      <td>391.057983</td>\n",
       "      <td>2</td>\n",
       "      <td>1</td>\n",
       "      <td>98.559998</td>\n",
       "    </tr>\n",
       "  </tbody>\n",
       "</table>\n",
       "</div>"
      ],
      "text/plain": [
       "                                                interface_hbonds  dSASA_polar  \\\n",
       "decoy                                                                           \n",
       "ZCON_37__numH4.5__from-21.21__to22.24__grD-ABC                 8   409.616394   \n",
       "ZCON_37__numH4.5__from-23.34__to20.12__grD-ABC                 7   391.057983   \n",
       "\n",
       "                                                delta_unsatHbonds  \\\n",
       "decoy                                                               \n",
       "ZCON_37__numH4.5__from-21.21__to22.24__grD-ABC                  2   \n",
       "ZCON_37__numH4.5__from-23.34__to20.12__grD-ABC                  2   \n",
       "\n",
       "                                                core_buns_bb  interface_hpatch  \n",
       "decoy                                                                           \n",
       "ZCON_37__numH4.5__from-21.21__to22.24__grD-ABC             0         94.239998  \n",
       "ZCON_37__numH4.5__from-23.34__to20.12__grD-ABC             1         98.559998  "
      ]
     },
     "execution_count": 40,
     "metadata": {},
     "output_type": "execute_result"
    }
   ],
   "source": [
    "q = sc.query(\"base=='ZCON_37' and gr=='D-ABC' and numH==4.5\").sort_values(by=\"interface_hbonds\", ascending=False).head(50)\n",
    "\n",
    "#plot_hist('interface_hbonds', q)"
   ]
  },
  {
   "cell_type": "code",
   "execution_count": 95,
   "metadata": {},
   "outputs": [
    {
     "name": "stdout",
     "output_type": "stream",
     "text": [
      "load out/R3/02_regruped/4.5H/ZCON_37__numH4.5__from-21.21__to22.24__grAB-CD.pdb \n"
     ]
    },
    {
     "name": "stderr",
     "output_type": "stream",
     "text": [
      "/software/conda/envs/jupyterhub/lib/python3.6/site-packages/ipykernel_launcher.py:4: DeprecationWarning: \n",
      ".ix is deprecated. Please use\n",
      ".loc for label based indexing or\n",
      ".iloc for positional indexing\n",
      "\n",
      "See the documentation here:\n",
      "http://pandas.pydata.org/pandas-docs/stable/indexing.html#ix-indexer-is-deprecated\n",
      "  after removing the cwd from sys.path.\n"
     ]
    }
   ],
   "source": []
  },
  {
   "cell_type": "code",
   "execution_count": 56,
   "metadata": {},
   "outputs": [
    {
     "name": "stdout",
     "output_type": "stream",
     "text": [
      "load out/R3/02_regruped/3.5H/ZCON_37__numH3.5__from-10.60__to23.42__grA-BCD.pdb \n"
     ]
    }
   ],
   "source": [
    "\n",
    "print_load_script(q.iloc[0])"
   ]
  },
  {
   "cell_type": "code",
   "execution_count": 106,
   "metadata": {},
   "outputs": [
    {
     "data": {
      "text/plain": [
       "<seaborn.axisgrid.FacetGrid at 0x7fffb50eae48>"
      ]
     },
     "execution_count": 106,
     "metadata": {},
     "output_type": "execute_result"
    },
    {
     "data": {
      "image/png": "[encoded data removed]",
      "text/plain": [
       "<Figure size 542.9x432 with 1 Axes>"
      ]
     },
     "metadata": {},
     "output_type": "display_data"
    }
   ],
   "source": [
    "plot_hist('interface_exposed_hydrophobics')\n",
    "#plt.xlim([-200, 200])"
   ]
  },
  {
   "cell_type": "code",
   "execution_count": null,
   "metadata": {},
   "outputs": [],
   "source": []
  },
  {
   "cell_type": "code",
   "execution_count": 8,
   "metadata": {},
   "outputs": [],
   "source": [
    "#print(\"\\n\".join(list(df.columns)));\n",
    "cols = truncator.read_file_lines('col_order.list', skip_comments=True)\n",
    "df = df[cols]\n"
   ]
  },
  {
   "cell_type": "code",
   "execution_count": 9,
   "metadata": {},
   "outputs": [
    {
     "data": {
      "text/plain": [
       "6129"
      ]
     },
     "execution_count": 9,
     "metadata": {},
     "output_type": "execute_result"
    }
   ],
   "source": [
    "len(df)"
   ]
  },
  {
   "cell_type": "code",
   "execution_count": 12,
   "metadata": {},
   "outputs": [],
   "source": []
  },
  {
   "cell_type": "code",
   "execution_count": 16,
   "metadata": {},
   "outputs": [
    {
     "data": {
      "text/plain": [
       "<matplotlib.axes._subplots.AxesSubplot at 0x7fffb87530f0>"
      ]
     },
     "execution_count": 16,
     "metadata": {},
     "output_type": "execute_result"
    },
    {
     "data": {
      "image/png": "[encoded data removed]",
      "text/plain": [
       "<Figure size 432x288 with 1 Axes>"
      ]
     },
     "metadata": {},
     "output_type": "display_data"
    }
   ],
   "source": [
    "\n",
    "sns.distplot(df['num_core_hbnet_residues_total'].dropna(), kde=False)\n"
   ]
  },
  {
   "cell_type": "code",
   "execution_count": 7,
   "metadata": {},
   "outputs": [],
   "source": [
    "logs = sorted(glob(\"out/01_fuse_to_3chain_14o_7r//*/*/*.sc\"))\n",
    "logs;"
   ]
  },
  {
   "cell_type": "code",
   "execution_count": 8,
   "metadata": {},
   "outputs": [
    {
     "name": "stdout",
     "output_type": "stream",
     "text": [
      "CPU times: user 1.78 s, sys: 56.4 ms, total: 1.83 s\n",
      "Wall time: 2.09 s\n"
     ]
    }
   ],
   "source": [
    "%%time\n",
    "scores = u.load_score_files(logs, load_seq=True)"
   ]
  },
  {
   "cell_type": "code",
   "execution_count": 36,
   "metadata": {},
   "outputs": [],
   "source": [
    "scores.set_index('description', inplace=True, drop=False)"
   ]
  },
  {
   "cell_type": "code",
   "execution_count": 9,
   "metadata": {},
   "outputs": [
    {
     "ename": "KeyError",
     "evalue": "'seq'",
     "output_type": "error",
     "traceback": [
      "\u001b[0;31m---------------------------------------------------------------------------\u001b[0m",
      "\u001b[0;31mKeyError\u001b[0m                                  Traceback (most recent call last)",
      "\u001b[0;32m~/.conda/envs/pyro_scripts/lib/python3.6/site-packages/pandas/core/indexes/base.py\u001b[0m in \u001b[0;36mget_loc\u001b[0;34m(self, key, method, tolerance)\u001b[0m\n\u001b[1;32m   3077\u001b[0m             \u001b[0;32mtry\u001b[0m\u001b[0;34m:\u001b[0m\u001b[0;34m\u001b[0m\u001b[0m\n\u001b[0;32m-> 3078\u001b[0;31m                 \u001b[0;32mreturn\u001b[0m \u001b[0mself\u001b[0m\u001b[0;34m.\u001b[0m\u001b[0m_engine\u001b[0m\u001b[0;34m.\u001b[0m\u001b[0mget_loc\u001b[0m\u001b[0;34m(\u001b[0m\u001b[0mkey\u001b[0m\u001b[0;34m)\u001b[0m\u001b[0;34m\u001b[0m\u001b[0m\n\u001b[0m\u001b[1;32m   3079\u001b[0m             \u001b[0;32mexcept\u001b[0m \u001b[0mKeyError\u001b[0m\u001b[0;34m:\u001b[0m\u001b[0;34m\u001b[0m\u001b[0m\n",
      "\u001b[0;32mpandas/_libs/index.pyx\u001b[0m in \u001b[0;36mpandas._libs.index.IndexEngine.get_loc\u001b[0;34m()\u001b[0m\n",
      "\u001b[0;32mpandas/_libs/index.pyx\u001b[0m in \u001b[0;36mpandas._libs.index.IndexEngine.get_loc\u001b[0;34m()\u001b[0m\n",
      "\u001b[0;32mpandas/_libs/hashtable_class_helper.pxi\u001b[0m in \u001b[0;36mpandas._libs.hashtable.PyObjectHashTable.get_item\u001b[0;34m()\u001b[0m\n",
      "\u001b[0;32mpandas/_libs/hashtable_class_helper.pxi\u001b[0m in \u001b[0;36mpandas._libs.hashtable.PyObjectHashTable.get_item\u001b[0;34m()\u001b[0m\n",
      "\u001b[0;31mKeyError\u001b[0m: 'seq'",
      "\nDuring handling of the above exception, another exception occurred:\n",
      "\u001b[0;31mKeyError\u001b[0m                                  Traceback (most recent call last)",
      "\u001b[0;32m<ipython-input-9-854600e40bc0>\u001b[0m in \u001b[0;36m<module>\u001b[0;34m()\u001b[0m\n\u001b[0;32m----> 1\u001b[0;31m \u001b[0mscores\u001b[0m\u001b[0;34m[\u001b[0m\u001b[0;34m\"n_aa\"\u001b[0m\u001b[0;34m]\u001b[0m \u001b[0;34m=\u001b[0m \u001b[0mscores\u001b[0m\u001b[0;34m[\u001b[0m\u001b[0;34m\"seq\"\u001b[0m\u001b[0;34m]\u001b[0m\u001b[0;34m.\u001b[0m\u001b[0mstr\u001b[0m\u001b[0;34m.\u001b[0m\u001b[0mlen\u001b[0m\u001b[0;34m(\u001b[0m\u001b[0;34m)\u001b[0m\u001b[0;34m\u001b[0m\u001b[0m\n\u001b[0m",
      "\u001b[0;32m~/.conda/envs/pyro_scripts/lib/python3.6/site-packages/pandas/core/frame.py\u001b[0m in \u001b[0;36m__getitem__\u001b[0;34m(self, key)\u001b[0m\n\u001b[1;32m   2686\u001b[0m             \u001b[0;32mreturn\u001b[0m \u001b[0mself\u001b[0m\u001b[0;34m.\u001b[0m\u001b[0m_getitem_multilevel\u001b[0m\u001b[0;34m(\u001b[0m\u001b[0mkey\u001b[0m\u001b[0;34m)\u001b[0m\u001b[0;34m\u001b[0m\u001b[0m\n\u001b[1;32m   2687\u001b[0m         \u001b[0;32melse\u001b[0m\u001b[0;34m:\u001b[0m\u001b[0;34m\u001b[0m\u001b[0m\n\u001b[0;32m-> 2688\u001b[0;31m             \u001b[0;32mreturn\u001b[0m \u001b[0mself\u001b[0m\u001b[0;34m.\u001b[0m\u001b[0m_getitem_column\u001b[0m\u001b[0;34m(\u001b[0m\u001b[0mkey\u001b[0m\u001b[0;34m)\u001b[0m\u001b[0;34m\u001b[0m\u001b[0m\n\u001b[0m\u001b[1;32m   2689\u001b[0m \u001b[0;34m\u001b[0m\u001b[0m\n\u001b[1;32m   2690\u001b[0m     \u001b[0;32mdef\u001b[0m \u001b[0m_getitem_column\u001b[0m\u001b[0;34m(\u001b[0m\u001b[0mself\u001b[0m\u001b[0;34m,\u001b[0m \u001b[0mkey\u001b[0m\u001b[0;34m)\u001b[0m\u001b[0;34m:\u001b[0m\u001b[0;34m\u001b[0m\u001b[0m\n",
      "\u001b[0;32m~/.conda/envs/pyro_scripts/lib/python3.6/site-packages/pandas/core/frame.py\u001b[0m in \u001b[0;36m_getitem_column\u001b[0;34m(self, key)\u001b[0m\n\u001b[1;32m   2693\u001b[0m         \u001b[0;31m# get column\u001b[0m\u001b[0;34m\u001b[0m\u001b[0;34m\u001b[0m\u001b[0m\n\u001b[1;32m   2694\u001b[0m         \u001b[0;32mif\u001b[0m \u001b[0mself\u001b[0m\u001b[0;34m.\u001b[0m\u001b[0mcolumns\u001b[0m\u001b[0;34m.\u001b[0m\u001b[0mis_unique\u001b[0m\u001b[0;34m:\u001b[0m\u001b[0;34m\u001b[0m\u001b[0m\n\u001b[0;32m-> 2695\u001b[0;31m             \u001b[0;32mreturn\u001b[0m \u001b[0mself\u001b[0m\u001b[0;34m.\u001b[0m\u001b[0m_get_item_cache\u001b[0m\u001b[0;34m(\u001b[0m\u001b[0mkey\u001b[0m\u001b[0;34m)\u001b[0m\u001b[0;34m\u001b[0m\u001b[0m\n\u001b[0m\u001b[1;32m   2696\u001b[0m \u001b[0;34m\u001b[0m\u001b[0m\n\u001b[1;32m   2697\u001b[0m         \u001b[0;31m# duplicate columns & possible reduce dimensionality\u001b[0m\u001b[0;34m\u001b[0m\u001b[0;34m\u001b[0m\u001b[0m\n",
      "\u001b[0;32m~/.conda/envs/pyro_scripts/lib/python3.6/site-packages/pandas/core/generic.py\u001b[0m in \u001b[0;36m_get_item_cache\u001b[0;34m(self, item)\u001b[0m\n\u001b[1;32m   2487\u001b[0m         \u001b[0mres\u001b[0m \u001b[0;34m=\u001b[0m \u001b[0mcache\u001b[0m\u001b[0;34m.\u001b[0m\u001b[0mget\u001b[0m\u001b[0;34m(\u001b[0m\u001b[0mitem\u001b[0m\u001b[0;34m)\u001b[0m\u001b[0;34m\u001b[0m\u001b[0m\n\u001b[1;32m   2488\u001b[0m         \u001b[0;32mif\u001b[0m \u001b[0mres\u001b[0m \u001b[0;32mis\u001b[0m \u001b[0;32mNone\u001b[0m\u001b[0;34m:\u001b[0m\u001b[0;34m\u001b[0m\u001b[0m\n\u001b[0;32m-> 2489\u001b[0;31m             \u001b[0mvalues\u001b[0m \u001b[0;34m=\u001b[0m \u001b[0mself\u001b[0m\u001b[0;34m.\u001b[0m\u001b[0m_data\u001b[0m\u001b[0;34m.\u001b[0m\u001b[0mget\u001b[0m\u001b[0;34m(\u001b[0m\u001b[0mitem\u001b[0m\u001b[0;34m)\u001b[0m\u001b[0;34m\u001b[0m\u001b[0m\n\u001b[0m\u001b[1;32m   2490\u001b[0m             \u001b[0mres\u001b[0m \u001b[0;34m=\u001b[0m \u001b[0mself\u001b[0m\u001b[0;34m.\u001b[0m\u001b[0m_box_item_values\u001b[0m\u001b[0;34m(\u001b[0m\u001b[0mitem\u001b[0m\u001b[0;34m,\u001b[0m \u001b[0mvalues\u001b[0m\u001b[0;34m)\u001b[0m\u001b[0;34m\u001b[0m\u001b[0m\n\u001b[1;32m   2491\u001b[0m             \u001b[0mcache\u001b[0m\u001b[0;34m[\u001b[0m\u001b[0mitem\u001b[0m\u001b[0;34m]\u001b[0m \u001b[0;34m=\u001b[0m \u001b[0mres\u001b[0m\u001b[0;34m\u001b[0m\u001b[0m\n",
      "\u001b[0;32m~/.conda/envs/pyro_scripts/lib/python3.6/site-packages/pandas/core/internals.py\u001b[0m in \u001b[0;36mget\u001b[0;34m(self, item, fastpath)\u001b[0m\n\u001b[1;32m   4113\u001b[0m \u001b[0;34m\u001b[0m\u001b[0m\n\u001b[1;32m   4114\u001b[0m             \u001b[0;32mif\u001b[0m \u001b[0;32mnot\u001b[0m \u001b[0misna\u001b[0m\u001b[0;34m(\u001b[0m\u001b[0mitem\u001b[0m\u001b[0;34m)\u001b[0m\u001b[0;34m:\u001b[0m\u001b[0;34m\u001b[0m\u001b[0m\n\u001b[0;32m-> 4115\u001b[0;31m                 \u001b[0mloc\u001b[0m \u001b[0;34m=\u001b[0m \u001b[0mself\u001b[0m\u001b[0;34m.\u001b[0m\u001b[0mitems\u001b[0m\u001b[0;34m.\u001b[0m\u001b[0mget_loc\u001b[0m\u001b[0;34m(\u001b[0m\u001b[0mitem\u001b[0m\u001b[0;34m)\u001b[0m\u001b[0;34m\u001b[0m\u001b[0m\n\u001b[0m\u001b[1;32m   4116\u001b[0m             \u001b[0;32melse\u001b[0m\u001b[0;34m:\u001b[0m\u001b[0;34m\u001b[0m\u001b[0m\n\u001b[1;32m   4117\u001b[0m                 \u001b[0mindexer\u001b[0m \u001b[0;34m=\u001b[0m \u001b[0mnp\u001b[0m\u001b[0;34m.\u001b[0m\u001b[0marange\u001b[0m\u001b[0;34m(\u001b[0m\u001b[0mlen\u001b[0m\u001b[0;34m(\u001b[0m\u001b[0mself\u001b[0m\u001b[0;34m.\u001b[0m\u001b[0mitems\u001b[0m\u001b[0;34m)\u001b[0m\u001b[0;34m)\u001b[0m\u001b[0;34m[\u001b[0m\u001b[0misna\u001b[0m\u001b[0;34m(\u001b[0m\u001b[0mself\u001b[0m\u001b[0;34m.\u001b[0m\u001b[0mitems\u001b[0m\u001b[0;34m)\u001b[0m\u001b[0;34m]\u001b[0m\u001b[0;34m\u001b[0m\u001b[0m\n",
      "\u001b[0;32m~/.conda/envs/pyro_scripts/lib/python3.6/site-packages/pandas/core/indexes/base.py\u001b[0m in \u001b[0;36mget_loc\u001b[0;34m(self, key, method, tolerance)\u001b[0m\n\u001b[1;32m   3078\u001b[0m                 \u001b[0;32mreturn\u001b[0m \u001b[0mself\u001b[0m\u001b[0;34m.\u001b[0m\u001b[0m_engine\u001b[0m\u001b[0;34m.\u001b[0m\u001b[0mget_loc\u001b[0m\u001b[0;34m(\u001b[0m\u001b[0mkey\u001b[0m\u001b[0;34m)\u001b[0m\u001b[0;34m\u001b[0m\u001b[0m\n\u001b[1;32m   3079\u001b[0m             \u001b[0;32mexcept\u001b[0m \u001b[0mKeyError\u001b[0m\u001b[0;34m:\u001b[0m\u001b[0;34m\u001b[0m\u001b[0m\n\u001b[0;32m-> 3080\u001b[0;31m                 \u001b[0;32mreturn\u001b[0m \u001b[0mself\u001b[0m\u001b[0;34m.\u001b[0m\u001b[0m_engine\u001b[0m\u001b[0;34m.\u001b[0m\u001b[0mget_loc\u001b[0m\u001b[0;34m(\u001b[0m\u001b[0mself\u001b[0m\u001b[0;34m.\u001b[0m\u001b[0m_maybe_cast_indexer\u001b[0m\u001b[0;34m(\u001b[0m\u001b[0mkey\u001b[0m\u001b[0;34m)\u001b[0m\u001b[0;34m)\u001b[0m\u001b[0;34m\u001b[0m\u001b[0m\n\u001b[0m\u001b[1;32m   3081\u001b[0m \u001b[0;34m\u001b[0m\u001b[0m\n\u001b[1;32m   3082\u001b[0m         \u001b[0mindexer\u001b[0m \u001b[0;34m=\u001b[0m \u001b[0mself\u001b[0m\u001b[0;34m.\u001b[0m\u001b[0mget_indexer\u001b[0m\u001b[0;34m(\u001b[0m\u001b[0;34m[\u001b[0m\u001b[0mkey\u001b[0m\u001b[0;34m]\u001b[0m\u001b[0;34m,\u001b[0m \u001b[0mmethod\u001b[0m\u001b[0;34m=\u001b[0m\u001b[0mmethod\u001b[0m\u001b[0;34m,\u001b[0m \u001b[0mtolerance\u001b[0m\u001b[0;34m=\u001b[0m\u001b[0mtolerance\u001b[0m\u001b[0;34m)\u001b[0m\u001b[0;34m\u001b[0m\u001b[0m\n",
      "\u001b[0;32mpandas/_libs/index.pyx\u001b[0m in \u001b[0;36mpandas._libs.index.IndexEngine.get_loc\u001b[0;34m()\u001b[0m\n",
      "\u001b[0;32mpandas/_libs/index.pyx\u001b[0m in \u001b[0;36mpandas._libs.index.IndexEngine.get_loc\u001b[0;34m()\u001b[0m\n",
      "\u001b[0;32mpandas/_libs/hashtable_class_helper.pxi\u001b[0m in \u001b[0;36mpandas._libs.hashtable.PyObjectHashTable.get_item\u001b[0;34m()\u001b[0m\n",
      "\u001b[0;32mpandas/_libs/hashtable_class_helper.pxi\u001b[0m in \u001b[0;36mpandas._libs.hashtable.PyObjectHashTable.get_item\u001b[0;34m()\u001b[0m\n",
      "\u001b[0;31mKeyError\u001b[0m: 'seq'"
     ]
    }
   ],
   "source": [
    "scores[\"n_aa\"] = scores[\"seq\"].str.len()"
   ]
  },
  {
   "cell_type": "code",
   "execution_count": 14,
   "metadata": {},
   "outputs": [],
   "source": [
    "scores[\"fa_rep_per_aa\"] = scores[\"fa_rep\"]/scores[\"n_aa\"]"
   ]
  },
  {
   "cell_type": "code",
   "execution_count": 39,
   "metadata": {},
   "outputs": [],
   "source": [
    "scores.to_csv(\"out/01_fuse_to_3chain_14o_7r.scores\")"
   ]
  },
  {
   "cell_type": "code",
   "execution_count": 75,
   "metadata": {},
   "outputs": [
    {
     "name": "stdout",
     "output_type": "stream",
     "text": [
      "43\n"
     ]
    }
   ],
   "source": [
    "pd.set_option('display.max_colwidth', -1)\n",
    "q =scores.sort_values(by='fa_rep').query('fa_rep<400 and sc2>0.5')\n",
    "print(len(q))\n",
    "chosen = q\n",
    "q['total_score fa_rep fa_rep_per_aa clash_check_soft clash_check_hard longest_hpc uhb sc1 sc2 sc1_int_area sc2_int_area full_name'.split()][:10"
   ]
  },
  {
   "cell_type": "code",
   "execution_count": 76,
   "metadata": {},
   "outputs": [
    {
     "data": {
      "text/plain": [
       "Index(['total_score', 'ala_count', 'clash_check_hard', 'clash_check_soft',\n",
       "       'dslf_fa13', 'fa_atr', 'fa_dun_dev', 'fa_dun_rot', 'fa_dun_semi',\n",
       "       'fa_elec', 'fa_intra_atr_xover4', 'fa_intra_elec',\n",
       "       'fa_intra_rep_xover4', 'fa_intra_sol_xover4', 'fa_rep', 'fa_rep_fitler',\n",
       "       'fa_sol', 'gen_bonded', 'hbond_bb_sc', 'hbond_lr_bb', 'hbond_sc',\n",
       "       'hbond_sr_bb', 'hxl_tors', 'lk_ball', 'lk_ball_bridge',\n",
       "       'lk_ball_bridge_uncpl', 'lk_ball_iso', 'longest_hpc', 'omega',\n",
       "       'p_aa_pp', 'pro_close', 'rama_prepro', 'ref', 'sc1', 'sc1_int_area',\n",
       "       'sc2', 'sc2_int_area', 'ss_count', 'uhb', 'full_name', 'seq', 'n_aa',\n",
       "       'fa_rep_per_aa', 'description'],\n",
       "      dtype='object')"
      ]
     },
     "execution_count": 76,
     "metadata": {},
     "output_type": "execute_result"
    }
   ],
   "source": [
    "chosen.columns"
   ]
  },
  {
   "cell_type": "code",
   "execution_count": 77,
   "metadata": {},
   "outputs": [],
   "source": [
    "import os\n",
    "def row_to_worms_dict(row):\n",
    "    d = {}\n",
    "    d['file'] = os.path.abspath(row.full_name)\n",
    "    d['name'] = row.description\n",
    "    d['class'] = [\"Het\"]\n",
    "    d['type'] = [\"AL_het_C2_N_C\"]\n",
    "    d['base'] = \"ZCON37\" \n",
    "    d['components'] = [\"ZCON37\", \"DHR1\", \"DHR2\"]\n",
    "    d['validated'] = False\n",
    "    d['protocol'] =  \"Made by Ajasja with H-fuse\"\n",
    "    d['connections'] = [\n",
    "        {\"chain\": 1, \"direction\": \"N\", \"residues\":[\"1:50\"]},\n",
    "        {\"chain\": 2, \"direction\": \"C\", \"residues\":[\"-50:\"]}\n",
    "    ]\n",
    "    return d\n"
   ]
  },
  {
   "cell_type": "code",
   "execution_count": 84,
   "metadata": {},
   "outputs": [],
   "source": [
    "def dataframe_to_worms_database(df, out_file=None):\n",
    "    res = []\n",
    "    for row in df.itertuples():\n",
    "        res.append(row_to_worms_dict(row))\n",
    "    import json\n",
    "    if out_file is None:\n",
    "        return json.dumps(res, indent=4)\n",
    "    with open(out_file, \"w\") as write_file:\n",
    "        json.dump(res, write_file, indent=2)\n",
    "        \n",
    "dataframe_to_worms_database(chosen, \"ALSD01_2018-11-07.database\")      "
   ]
  },
  {
   "cell_type": "code",
   "execution_count": 45,
   "metadata": {},
   "outputs": [
    {
     "name": "stdout",
     "output_type": "stream",
     "text": [
      "188 ms ± 397 µs per loop (mean ± std. dev. of 7 runs, 10 loops each)\n",
      "2.98 ms ± 1.92 µs per loop (mean ± std. dev. of 7 runs, 100 loops each)\n"
     ]
    }
   ],
   "source": [
    "\n",
    "df = pd.DataFrame({'a': np.random.randn(1000), 'b': np.random.randn(1000),'N': np.random.randint(100, 1000, (1000)), 'x': 'x'})\n",
    "\n",
    "%timeit [row.a * 2 for idx, row in df.iterrows()]\n",
    "# => 10 loops, best of 3: 50.3 ms per loop\n",
    "\n",
    "%timeit [row.a * 2 for row in df.itertuples()]\n",
    "# => 1000 loops, best of 3: 541 µs per loop"
   ]
  },
  {
   "cell_type": "code",
   "execution_count": 46,
   "metadata": {},
   "outputs": [
    {
     "data": {
      "text/plain": [
       "63.08724832214765"
      ]
     },
     "execution_count": 46,
     "metadata": {},
     "output_type": "execute_result"
    }
   ],
   "source": [
    "188/2.98"
   ]
  },
  {
   "cell_type": "code",
   "execution_count": null,
   "metadata": {},
   "outputs": [],
   "source": []
  }
 ],
 "metadata": {
  "kernelspec": {
   "display_name": "Python 3",
   "language": "python",
   "name": "python3"
  },
  "language_info": {
   "codemirror_mode": {
    "name": "ipython",
    "version": 3
   },
   "file_extension": ".py",
   "mimetype": "text/x-python",
   "name": "python",
   "nbconvert_exporter": "python",
   "pygments_lexer": "ipython3",
   "version": "3.6.8"
  }
 },
 "nbformat": 4,
 "nbformat_minor": 2
}
