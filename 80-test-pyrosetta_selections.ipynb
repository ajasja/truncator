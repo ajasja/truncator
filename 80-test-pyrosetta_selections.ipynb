{
 "cells": [
  {
   "cell_type": "code",
   "execution_count": 1,
   "metadata": {},
   "outputs": [
    {
     "data": {
      "text/html": [
       "<style>.container { width:100% !important; }</style>"
      ],
      "text/plain": [
       "<IPython.core.display.HTML object>"
      ]
     },
     "metadata": {},
     "output_type": "display_data"
    }
   ],
   "source": [
    "%load_ext autoreload\n",
    "%autoreload 2\n",
    "from IPython.core.display import display, HTML\n",
    "display(HTML(\"<style>.container { width:100% !important; }</style>\"))\n",
    "import logging\n",
    "logging.basicConfig(level=logging.INFO)\n",
    "\n",
    "import pyrosetta\n",
    "import pyrosetta.distributed.io as io\n",
    "import pyrosetta.distributed.packed_pose as packed_pose\n",
    "import pyrosetta.distributed.tasks.rosetta_scripts as rosetta_scripts\n",
    "import pyrosetta.distributed.tasks.score as score\n",
    "\n",
    "import pandas as pd\n",
    "import pandas\n",
    "\n",
    "import numpy as np"
   ]
  },
  {
   "cell_type": "code",
   "execution_count": 2,
   "metadata": {},
   "outputs": [
    {
     "name": "stdout",
     "output_type": "stream",
     "text": [
      "PyRosetta-4 2017 [Rosetta devel 2018.28.post.dev+1147.v2018.34dev60360.14e0a7acf8e14e0a7acf8eca980ba28bb1767f41fb5b7f52343 2018-08-21T11:28:04] retrieved from: ssh://git@github.com/RosettaCommons/main\n",
      "(C) Copyright Rosetta Commons Member Institutions.\n",
      "Created in JHU by Sergey Lyskov and PyRosetta Team.\n",
      "\n"
     ]
    }
   ],
   "source": [
    "print(pyrosetta.version())"
   ]
  },
  {
   "cell_type": "code",
   "execution_count": 3,
   "metadata": {},
   "outputs": [],
   "source": [
    "import sys; sys.path.insert(0, \"/home/ajasja/projects/Stable_Heterodimers\")\n",
    "import utils as u"
   ]
  },
  {
   "cell_type": "code",
   "execution_count": 4,
   "metadata": {},
   "outputs": [],
   "source": [
    "ON_CLUSTER=False"
   ]
  },
  {
   "cell_type": "code",
   "execution_count": 5,
   "metadata": {},
   "outputs": [],
   "source": [
    "flags = \"\"\"\n",
    "-beta \\\n",
    "-in:file:fullatom \\\n",
    "-multi_cool_annealer 10 \\\n",
    "-renumber_pdb 1 \\\n",
    "-overwrite 1 \\\n",
    "-out:pdb \\\n",
    "-out::file::pdb_comments \\\n",
    "-run:preserve_header \\\n",
    "\"\"\""
   ]
  },
  {
   "cell_type": "code",
   "execution_count": 6,
   "metadata": {},
   "outputs": [
    {
     "name": "stderr",
     "output_type": "stream",
     "text": [
      "INFO:rosetta:Found rosetta database at: /home/ajasja/.conda/envs/pyro_scripts/lib/python3.6/site-packages/pyrosetta/database; using it....\n",
      "INFO:rosetta:PyRosetta-4 2017 [Rosetta devel 2018.28.post.dev+1147.v2018.34dev60360.14e0a7acf8e14e0a7acf8eca980ba28bb1767f41fb5b7f52343 2018-08-21T11:28:04] retrieved from: ssh://git@github.com/RosettaCommons/main\n",
      "(C) Copyright Rosetta Commons Member Institutions.\n",
      "Created in JHU by Sergey Lyskov and PyRosetta Team.\n",
      "\n",
      "INFO:rosetta:core.init: Checking for fconfig files in pwd and ./rosetta/flags\n",
      "INFO:rosetta:core.init.score_function_corrections: [ WARNING ] Flag -beta_nov16 is set but -weights are also specified.  Not changing input weights file!\n",
      "INFO:rosetta:core.init: Rosetta version: 2018.28.post.dev+1147.v2018.34dev60360.14e0a7acf8e 14e0a7acf8eca980ba28bb1767f41fb5b7f52343 ssh://git@github.com/RosettaCommons/main 2018-08-21T11:28:04\n",
      "INFO:rosetta:core.init: command: PyRosetta -beta -in:file:fullatom -multi_cool_annealer 10 -renumber_pdb 1 -overwrite 1 -out:pdb -out::file::pdb_comments -run:preserve_header -database /home/ajasja/.conda/envs/pyro_scripts/lib/python3.6/site-packages/pyrosetta/database\n",
      "INFO:rosetta:core.init: 'RNG device' seed mode, using '/dev/urandom', seed=1410563173 seed_offset=0 real_seed=1410563173\n",
      "INFO:rosetta:core.init.random: RandomGenerator:init: Normal mode, seed=1410563173 RG_type=mt19937\n"
     ]
    }
   ],
   "source": [
    "if not ON_CLUSTER:\n",
    "    pyrosetta.init(flags)\n",
    "else:\n",
    "    cluster = u.init_env(flags, 10)"
   ]
  },
  {
   "cell_type": "code",
   "execution_count": 7,
   "metadata": {},
   "outputs": [],
   "source": [
    "def lines_grep(pattern, lines):\n",
    "    import re\n",
    "    reg = re.compile(pattern)\n",
    "    return [l for l in lines if reg.match(l)]\n",
    "\n",
    "def print_sele(scores, name, color=None, remove_chains=False):\n",
    "    sele = scores[name+\"_pymol_selection\"]\n",
    "    sele=sele.replace(\"rosetta_sele\", name)\n",
    "    if remove_chains:\n",
    "        sele=sele.replace(\"chain A and\", \"\").replace(\"chain B and\", \"\")\n",
    "    print(sele)\n",
    "    if not color is None:\n",
    "        print(f\"color {color}, {name}\")\n",
    "    "
   ]
  },
  {
   "cell_type": "code",
   "execution_count": 8,
   "metadata": {},
   "outputs": [
    {
     "name": "stderr",
     "output_type": "stream",
     "text": [
      "INFO:rosetta:protocols.rosetta_scripts.RosettaScriptsParser: Generating XML Schema for rosetta_scripts...\n"
     ]
    },
    {
     "name": "stdout",
     "output_type": "stream",
     "text": [
      "['    <Neighborhood name=\"interface_chA\" selector=\"chainB\" distance=\"8.0\"/>', '    <Neighborhood name=\"interface_chB\" selector=\"chainA\" distance=\"8.0\"/>']\n"
     ]
    },
    {
     "name": "stderr",
     "output_type": "stream",
     "text": [
      "INFO:rosetta:protocols.rosetta_scripts.RosettaScriptsParser: ...done\n",
      "INFO:rosetta:protocols.rosetta_scripts.RosettaScriptsParser: Initializing schema validator...\n",
      "INFO:rosetta:protocols.rosetta_scripts.RosettaScriptsParser: ...done\n",
      "INFO:rosetta:protocols.rosetta_scripts.RosettaScriptsParser: Validating input script...\n",
      "INFO:rosetta:protocols.rosetta_scripts.RosettaScriptsParser: ...done\n",
      "INFO:rosetta:protocols.rosetta_scripts.RosettaScriptsParser: Parsed script:\n",
      "<ROSETTASCRIPTS>\n",
      "\t<SCOREFXNS>\n",
      "\t\t<ScoreFunction name=\"NOV15\" weights=\"beta\">\n",
      "\t\t\t<Reweight scoretype=\"coordinate_constraint\" weight=\"1\"/>\n",
      "\t\t</ScoreFunction>\n",
      "\t\t<ScoreFunction name=\"VDW\" weights=\"empty\">\n",
      "\t\t\t<Reweight scoretype=\"fa_atr\" weight=\"1.0\"/>\n",
      "\t\t</ScoreFunction>\n",
      "\t\t<ScoreFunction name=\"TotalHydrophobic\" weights=\"/home/fseeger/PPI_Benchmark/Design_Scripts/total_hydrophobic_weights.wts\"/>\n",
      "\t</SCOREFXNS>\n",
      "\t<RESIDUE_SELECTORS>\n",
      "\t\t<Layer core_cutoff=\"3.6\" name=\"core\" select_core=\"true\" surface_cutoff=\"2.0\" use_sidechain_neighbors=\"true\"/>\n",
      "\t\t<Layer core_cutoff=\"3.6\" name=\"bndr\" select_boundary=\"true\" surface_cutoff=\"2.0\" use_sidechain_neighbors=\"true\"/>\n",
      "\t\t<Layer core_cutoff=\"3.6\" name=\"surf\" select_surface=\"true\" surface_cutoff=\"2.0\" use_sidechain_neighbors=\"true\"/>\n",
      "\t\t<Layer core_cutoff=\"35\" name=\"core_SASA\" select_core=\"true\" surface_cutoff=\"45\" use_sidechain_neighbors=\"false\"/>\n",
      "\t\t<Layer core_cutoff=\"35\" name=\"bndr_SASA\" select_boundary=\"true\" surface_cutoff=\"45\" use_sidechain_neighbors=\"false\"/>\n",
      "\t\t<Layer core_cutoff=\"35\" name=\"surf_SASA\" select_surface=\"true\" surface_cutoff=\"45\" use_sidechain_neighbors=\"false\"/>\n",
      "\t\t<Chain chains=\"A\" name=\"chainA\"/>\n",
      "\t\t<Chain chains=\"B\" name=\"chainB\"/>\n",
      "\t\t<Neighborhood distance=\"8.0\" name=\"interface_chA\" selector=\"chainB\"/>\n",
      "\t\t<Neighborhood distance=\"8.0\" name=\"interface_chB\" selector=\"chainA\"/>\n",
      "\t\t<And name=\"AB_interface\" selectors=\"interface_chA,interface_chB\"/>\n",
      "\t\t<Not name=\"Not_interface\" selector=\"AB_interface\"/>\n",
      "\t\t<And name=\"core_and_interface\" selectors=\"core,AB_interface\"/>\n",
      "\t\t<InterfaceByVector grp1_selector=\"chainA\" grp2_selector=\"chainB\" name=\"interface_by_vec\"/>\n",
      "\t\t<And name=\"core_and_interface_by_vec\" selectors=\"interface_by_vec,core\"/>\n",
      "\t</RESIDUE_SELECTORS>\n",
      "\t<SIMPLE_METRICS>\n",
      "\t\t<SelectedResiduesPyMOLMetric custom_type=\"AB_interface\" name=\"AB_interface\" residue_selector=\"AB_interface\"/>\n",
      "\t\t<SelectedResiduesPyMOLMetric custom_type=\"core_and_interface\" name=\"core_and_interface\" residue_selector=\"core_and_interface\"/>\n",
      "\t\t<SelectedResiduesPyMOLMetric custom_type=\"interface_by_vec\" name=\"interface_by_vec\" residue_selector=\"interface_by_vec\"/>\n",
      "\t\t<SelectedResiduesPyMOLMetric custom_type=\"core_and_interface_by_vec\" name=\"core_and_interface_by_vec\" residue_selector=\"core_and_interface_by_vec\"/>\n",
      "\t\t<SelectedResiduesPyMOLMetric custom_type=\"chainA\" name=\"chainA\" residue_selector=\"chainA\"/>\n",
      "\t\t<SelectedResiduesPyMOLMetric custom_type=\"chainB\" name=\"chainB\" residue_selector=\"chainB\"/>\n",
      "\t\t<SelectedResiduesPyMOLMetric custom_type=\"core\" name=\"core\" residue_selector=\"core\"/>\n",
      "\t\t<SelectedResiduesPyMOLMetric custom_type=\"bndr\" name=\"bndr\" residue_selector=\"bndr\"/>\n",
      "\t\t<SelectedResiduesPyMOLMetric custom_type=\"surf\" name=\"surf\" residue_selector=\"surf\"/>\n",
      "\t\t<SelectedResiduesPyMOLMetric custom_type=\"core_SASA\" name=\"core_SASA\" residue_selector=\"core_SASA\"/>\n",
      "\t\t<SelectedResiduesPyMOLMetric custom_type=\"bndr_SASA\" name=\"bndr_SASA\" residue_selector=\"bndr_SASA\"/>\n",
      "\t\t<SelectedResiduesPyMOLMetric custom_type=\"surf_SASA\" name=\"surf_SASA\" residue_selector=\"surf_SASA\"/>\n",
      "\t</SIMPLE_METRICS>\n",
      "\t<TASKOPERATIONS/>\n",
      "\t<FILTERS/>\n",
      "\t<MOVERS>\n",
      "\t\t<SwitchChainOrder chain_order=\"12\" name=\"set_chain_order\"/>\n",
      "\t\t<RunSimpleMetrics metrics=\"AB_interface,core_and_interface,interface_by_vec,core_and_interface_by_vec,chainA,chainB,core,bndr,surf,core_SASA,bndr_SASA,surf_SASA\" name=\"run_metrics_selection\" prefix=\"\"/>\n",
      "\t</MOVERS>\n",
      "\t<PROTOCOLS>\n",
      "\t\t<Add mover=\"set_chain_order\"/>\n",
      "\t\t<Add mover=\"run_metrics_selection\"/>\n",
      "\t</PROTOCOLS>\n",
      "\t<OUTPUT/>\n",
      "</ROSETTASCRIPTS>\n",
      "INFO:rosetta:core.scoring.ScoreFunctionFactory: SCOREFUNCTION: beta_genpot.wts\n",
      "INFO:rosetta:core.scoring.etable: Starting energy table calculation\n",
      "INFO:rosetta:core.scoring.etable: smooth_etable: changing atr/rep split to bottom of energy well\n",
      "INFO:rosetta:core.scoring.etable: smooth_etable: spline smoothing lj etables (maxdis = 6)\n",
      "INFO:rosetta:core.scoring.etable: smooth_etable: spline smoothing solvation etables (max_dis = 6)\n",
      "INFO:rosetta:core.scoring.etable: Finished calculating energy tables.\n",
      "INFO:rosetta:basic.io.database: Database file opened: scoring/score_functions/hbonds/ref2015_params/HBPoly1D.csv\n",
      "INFO:rosetta:basic.io.database: Database file opened: scoring/score_functions/hbonds/ref2015_params/HBFadeIntervals.csv\n",
      "INFO:rosetta:basic.io.database: Database file opened: scoring/score_functions/hbonds/ref2015_params/HBEval.csv\n",
      "INFO:rosetta:basic.io.database: Database file opened: scoring/score_functions/hbonds/ref2015_params/DonStrength.csv\n",
      "INFO:rosetta:basic.io.database: Database file opened: scoring/score_functions/hbonds/ref2015_params/AccStrength.csv\n",
      "INFO:rosetta:core.chemical.GlobalResidueTypeSet: Finished initializing fa_standard residue type set.  Created 617 residue types\n",
      "INFO:rosetta:core.chemical.GlobalResidueTypeSet: Total time to initialize 0.916099 seconds.\n",
      "INFO:rosetta:basic.io.database: Database file opened: scoring/score_functions/rama/fd_beta_nov2016/all.ramaProb\n",
      "INFO:rosetta:basic.io.database: Database file opened: scoring/score_functions/rama/fd_beta_nov2016/prepro.ramaProb\n",
      "INFO:rosetta:basic.io.database: Database file opened: scoring/score_functions/omega/omega_ppdep.all.txt\n",
      "INFO:rosetta:basic.io.database: Database file opened: scoring/score_functions/omega/omega_ppdep.gly.txt\n",
      "INFO:rosetta:basic.io.database: Database file opened: scoring/score_functions/omega/omega_ppdep.pro.txt\n",
      "INFO:rosetta:basic.io.database: Database file opened: scoring/score_functions/omega/omega_ppdep.valile.txt\n",
      "INFO:rosetta:basic.io.database: Database file opened: scoring/score_functions/P_AA_pp/P_AA\n",
      "INFO:rosetta:basic.io.database: Database file opened: scoring/score_functions/P_AA_pp/P_AA_n\n",
      "INFO:rosetta:core.scoring.P_AA: shapovalov_lib::shap_p_aa_pp_smooth_level of 1( aka low_smooth ) got activated.\n",
      "INFO:rosetta:basic.io.database: Database file opened: scoring/score_functions/P_AA_pp/shapovalov/10deg/kappa131/a20.prop\n",
      "INFO:rosetta:basic.io.database: Database file opened: scoring/score_functions/bondlength_bondangle/hydroxyl_torsion_preference.txt\n",
      "INFO:rosetta:basic.io.database: Database file opened: scoring/score_functions/generic_potential/generic_bonded.round6p.txt\n",
      "INFO:rosetta:core.scoring.GenericBondedPotential: Added total 0 bond parameters corresponding to 0 unique bonds.\n",
      "INFO:rosetta:core.scoring.GenericBondedPotential: Added total 0 angle parameters corresponding to 0 unique angles.\n",
      "INFO:rosetta:core.scoring.GenericBondedPotential: Added total 228 torsion parameters corresponding to 131380 unique torsions.\n",
      "INFO:rosetta:core.scoring.GenericBondedPotential: Added total 49 improper parameters corresponding to 65 unique impropers.\n",
      "INFO:rosetta:core.scoring.GenericBondedPotential: Added total 3 special-torsion parameters corresponding to 4 unique torsions.\n",
      "INFO:rosetta:core.scoring.etable: Starting energy table calculation\n",
      "INFO:rosetta:core.scoring.etable: smooth_etable: changing atr/rep split to bottom of energy well\n",
      "INFO:rosetta:core.scoring.etable: smooth_etable: spline smoothing lj etables (maxdis = 6)\n",
      "INFO:rosetta:core.scoring.etable: smooth_etable: spline smoothing solvation etables (max_dis = 6)\n",
      "INFO:rosetta:core.scoring.etable: Finished calculating energy tables.\n",
      "INFO:rosetta:basic.io.database: Database file opened: scoring/score_functions/PairEPotential/pdb_pair_stats_fine\n",
      "INFO:rosetta:basic.io.database: Database file opened: scoring/score_functions/InterchainPotential/interchain_env_log.txt\n",
      "INFO:rosetta:basic.io.database: Database file opened: scoring/score_functions/InterchainPotential/interchain_pair_log.txt\n",
      "INFO:rosetta:basic.io.database: Database file opened: scoring/score_functions/EnvPairPotential/env_log.txt\n",
      "INFO:rosetta:basic.io.database: Database file opened: scoring/score_functions/EnvPairPotential/cbeta_den.txt\n",
      "INFO:rosetta:basic.io.database: Database file opened: scoring/score_functions/EnvPairPotential/pair_log.txt\n",
      "INFO:rosetta:basic.io.database: Database file opened: scoring/score_functions/EnvPairPotential/cenpack_log.txt\n",
      "INFO:rosetta:core.scoring.ramachandran: shapovalov_lib::shap_rama_smooth_level of 4( aka highest_smooth ) got activated.\n",
      "INFO:rosetta:basic.io.database: Database file opened: scoring/score_functions/rama/shapovalov/kappa25/all.ramaProb\n",
      "INFO:rosetta:basic.io.database: Database file opened: scoring/score_functions/rama/flat/avg_L_rama.dat\n",
      "INFO:rosetta:core.scoring.ramachandran: Reading custom Ramachandran table from scoring/score_functions/rama/flat/avg_L_rama.dat.\n",
      "INFO:rosetta:basic.io.database: Database file opened: scoring/score_functions/rama/flat/sym_all_rama.dat\n",
      "INFO:rosetta:core.scoring.ramachandran: Reading custom Ramachandran table from scoring/score_functions/rama/flat/sym_all_rama.dat.\n",
      "INFO:rosetta:basic.io.database: Database file opened: scoring/score_functions/rama/flat/sym_G_rama.dat\n",
      "INFO:rosetta:core.scoring.ramachandran: Reading custom Ramachandran table from scoring/score_functions/rama/flat/sym_G_rama.dat.\n",
      "INFO:rosetta:basic.io.database: Database file opened: scoring/score_functions/rama/flat/sym_P_rama.dat\n",
      "INFO:rosetta:core.scoring.ramachandran: Reading custom Ramachandran table from scoring/score_functions/rama/flat/sym_P_rama.dat.\n",
      "INFO:rosetta:basic.io.database: Database file opened: scoring/score_functions/rama/flat/avg_L_rama_str.dat\n",
      "INFO:rosetta:core.scoring.ramachandran: Reading custom Ramachandran table from scoring/score_functions/rama/flat/avg_L_rama_str.dat.\n",
      "INFO:rosetta:basic.io.database: Database file opened: scoring/score_functions/rama/flat/sym_all_rama_str.dat\n",
      "INFO:rosetta:core.scoring.ramachandran: Reading custom Ramachandran table from scoring/score_functions/rama/flat/sym_all_rama_str.dat.\n",
      "INFO:rosetta:basic.io.database: Database file opened: scoring/score_functions/rama/flat/sym_G_rama_str.dat\n",
      "INFO:rosetta:core.scoring.ramachandran: Reading custom Ramachandran table from scoring/score_functions/rama/flat/sym_G_rama_str.dat.\n",
      "INFO:rosetta:basic.io.database: Database file opened: scoring/score_functions/rama/flat/sym_P_rama_str.dat\n",
      "INFO:rosetta:core.scoring.ramachandran: Reading custom Ramachandran table from scoring/score_functions/rama/flat/sym_P_rama_str.dat.\n",
      "INFO:rosetta:protocols.jd2.parser.ScoreFunctionLoader: defined score function \"NOV15\" with weights \"beta\"\n",
      "INFO:rosetta:protocols.jd2.parser.ScoreFunctionLoader:  setting NOV15 weight coordinate_constraint to 1\n",
      "INFO:rosetta:protocols.jd2.parser.ScoreFunctionLoader: defined score function \"VDW\" with weights \"empty\"\n",
      "INFO:rosetta:protocols.jd2.parser.ScoreFunctionLoader:  setting VDW weight fa_atr to 1\n",
      "INFO:rosetta:protocols.jd2.parser.ScoreFunctionLoader: defined score function \"TotalHydrophobic\" with weights \"/home/fseeger/PPI_Benchmark/Design_Scripts/total_hydrophobic_weights.wts\"\n",
      "INFO:rosetta:core.select.residue_selector.LayerSelector: Setting LayerSelector to use sidechain neighbors to determine burial.\n",
      "INFO:rosetta:core.select.residue_selector.LayerSelector: Set cutoffs for core and surface to 5.2 and 2, respectively, in LayerSelector.\n",
      "INFO:rosetta:core.select.residue_selector.LayerSelector: Setting core=true boundary=false surface=false in LayerSelector.\n",
      "INFO:rosetta:core.select.residue_selector.LayerSelector: Setting LayerSelector to use sidechain neighbors to determine burial.\n",
      "INFO:rosetta:core.select.residue_selector.LayerSelector: Set cutoffs for core and surface to 3.6 and 2, respectively, in LayerSelector.\n",
      "INFO:rosetta:core.select.residue_selector.LayerSelector: Setting LayerSelector to use sidechain neighbors to determine burial.\n",
      "INFO:rosetta:core.select.residue_selector.LayerSelector: Set cutoffs for core and surface to 5.2 and 2, respectively, in LayerSelector.\n",
      "INFO:rosetta:core.select.residue_selector.LayerSelector: Setting core=false boundary=true surface=false in LayerSelector.\n",
      "INFO:rosetta:core.select.residue_selector.LayerSelector: Setting LayerSelector to use sidechain neighbors to determine burial.\n",
      "INFO:rosetta:core.select.residue_selector.LayerSelector: Set cutoffs for core and surface to 3.6 and 2, respectively, in LayerSelector.\n",
      "INFO:rosetta:core.select.residue_selector.LayerSelector: Setting LayerSelector to use sidechain neighbors to determine burial.\n",
      "INFO:rosetta:core.select.residue_selector.LayerSelector: Set cutoffs for core and surface to 5.2 and 2, respectively, in LayerSelector.\n",
      "INFO:rosetta:core.select.residue_selector.LayerSelector: Setting core=false boundary=false surface=true in LayerSelector.\n",
      "INFO:rosetta:core.select.residue_selector.LayerSelector: Setting LayerSelector to use sidechain neighbors to determine burial.\n",
      "INFO:rosetta:core.select.residue_selector.LayerSelector: Set cutoffs for core and surface to 3.6 and 2, respectively, in LayerSelector.\n",
      "INFO:rosetta:core.select.residue_selector.LayerSelector: Setting LayerSelector to use sidechain neighbors to determine burial.\n",
      "INFO:rosetta:core.select.residue_selector.LayerSelector: Set cutoffs for core and surface to 5.2 and 2, respectively, in LayerSelector.\n",
      "INFO:rosetta:core.select.residue_selector.LayerSelector: Setting core=true boundary=false surface=false in LayerSelector.\n",
      "INFO:rosetta:core.select.residue_selector.LayerSelector: Setting LayerSelector to use rolling ball-based occlusion to determine burial.\n",
      "INFO:rosetta:core.select.residue_selector.LayerSelector: Set cutoffs for core and surface to 35 and 45, respectively, in LayerSelector.\n",
      "INFO:rosetta:core.select.residue_selector.LayerSelector: Setting LayerSelector to use sidechain neighbors to determine burial.\n",
      "INFO:rosetta:core.select.residue_selector.LayerSelector: Set cutoffs for core and surface to 5.2 and 2, respectively, in LayerSelector.\n",
      "INFO:rosetta:core.select.residue_selector.LayerSelector: Setting core=false boundary=true surface=false in LayerSelector.\n",
      "INFO:rosetta:core.select.residue_selector.LayerSelector: Setting LayerSelector to use rolling ball-based occlusion to determine burial.\n",
      "INFO:rosetta:core.select.residue_selector.LayerSelector: Set cutoffs for core and surface to 35 and 45, respectively, in LayerSelector.\n",
      "INFO:rosetta:core.select.residue_selector.LayerSelector: Setting LayerSelector to use sidechain neighbors to determine burial.\n",
      "INFO:rosetta:core.select.residue_selector.LayerSelector: Set cutoffs for core and surface to 5.2 and 2, respectively, in LayerSelector.\n",
      "INFO:rosetta:core.select.residue_selector.LayerSelector: Setting core=false boundary=false surface=true in LayerSelector.\n",
      "INFO:rosetta:core.select.residue_selector.LayerSelector: Setting LayerSelector to use rolling ball-based occlusion to determine burial.\n",
      "INFO:rosetta:core.select.residue_selector.LayerSelector: Set cutoffs for core and surface to 35 and 45, respectively, in LayerSelector.\n",
      "INFO:rosetta:core.select.residue_selector.util: Found residue selector AB_interface\n",
      "INFO:rosetta:core.select.residue_selector.util: Found residue selector core_and_interface\n",
      "INFO:rosetta:core.select.residue_selector.util: Found residue selector interface_by_vec\n",
      "INFO:rosetta:core.select.residue_selector.util: Found residue selector core_and_interface_by_vec\n",
      "INFO:rosetta:core.select.residue_selector.util: Found residue selector chainA\n",
      "INFO:rosetta:core.select.residue_selector.util: Found residue selector chainB\n",
      "INFO:rosetta:core.select.residue_selector.util: Found residue selector core\n",
      "INFO:rosetta:core.select.residue_selector.util: Found residue selector bndr\n",
      "INFO:rosetta:core.select.residue_selector.util: Found residue selector surf\n",
      "INFO:rosetta:core.select.residue_selector.util: Found residue selector core_SASA\n",
      "INFO:rosetta:core.select.residue_selector.util: Found residue selector bndr_SASA\n",
      "INFO:rosetta:core.select.residue_selector.util: Found residue selector surf_SASA\n",
      "INFO:rosetta:core.scoring.ScoreFunctionFactory: SCOREFUNCTION: beta_genpot.wts\n",
      "INFO:rosetta:protocols.rosetta_scripts.RosettaScriptsParser: Defined mover named \"set_chain_order\" of type SwitchChainOrder\n",
      "INFO:rosetta:core.simple_metrics.util: Added simple metric SelectedResiduesPyMOLMetric.\n",
      "INFO:rosetta:core.simple_metrics.util: Added simple metric SelectedResiduesPyMOLMetric.\n",
      "INFO:rosetta:core.simple_metrics.util: Added simple metric SelectedResiduesPyMOLMetric.\n",
      "INFO:rosetta:core.simple_metrics.util: Added simple metric SelectedResiduesPyMOLMetric.\n",
      "INFO:rosetta:core.simple_metrics.util: Added simple metric SelectedResiduesPyMOLMetric.\n",
      "INFO:rosetta:core.simple_metrics.util: Added simple metric SelectedResiduesPyMOLMetric.\n",
      "INFO:rosetta:core.simple_metrics.util: Added simple metric SelectedResiduesPyMOLMetric.\n",
      "INFO:rosetta:core.simple_metrics.util: Added simple metric SelectedResiduesPyMOLMetric.\n",
      "INFO:rosetta:core.simple_metrics.util: Added simple metric SelectedResiduesPyMOLMetric.\n",
      "INFO:rosetta:core.simple_metrics.util: Added simple metric SelectedResiduesPyMOLMetric.\n",
      "INFO:rosetta:core.simple_metrics.util: Added simple metric SelectedResiduesPyMOLMetric.\n",
      "INFO:rosetta:core.simple_metrics.util: Added simple metric SelectedResiduesPyMOLMetric.\n",
      "INFO:rosetta:protocols.rosetta_scripts.RosettaScriptsParser: Defined mover named \"run_metrics_selection\" of type RunSimpleMetrics\n",
      "INFO:rosetta:protocols.rosetta_scripts.ParsedProtocol: ParsedProtocol mover with the following movers and filters\n",
      "INFO:rosetta:protocols.rosetta_scripts.ParsedProtocol: added mover \"set_chain_order\" with filter \"true_filter\"\n",
      "INFO:rosetta:protocols.rosetta_scripts.ParsedProtocol: added mover \"run_metrics_selection\" with filter \"true_filter\"\n",
      "INFO:rosetta:core.import_pose.import_pose: File 'data/ZCON_37_N3_C1_2.pdb' automatically determined to be of type PDB\n",
      "INFO:rosetta:core.io.pdb.pdb_reader: Parsing 0 .pdb records with unknown format to search for Rosetta-specific comments.\n",
      "INFO:rosetta:protocols.rosetta_scripts.RosettaScriptsParser: Validating input script...\n",
      "INFO:rosetta:protocols.rosetta_scripts.RosettaScriptsParser: ...done\n",
      "INFO:rosetta:protocols.rosetta_scripts.RosettaScriptsParser: Parsed script:\n",
      "<ROSETTASCRIPTS>\n",
      "\t<SCOREFXNS>\n",
      "\t\t<ScoreFunction name=\"NOV15\" weights=\"beta\">\n",
      "\t\t\t<Reweight scoretype=\"coordinate_constraint\" weight=\"1\"/>\n",
      "\t\t</ScoreFunction>\n",
      "\t\t<ScoreFunction name=\"VDW\" weights=\"empty\">\n",
      "\t\t\t<Reweight scoretype=\"fa_atr\" weight=\"1.0\"/>\n",
      "\t\t</ScoreFunction>\n",
      "\t\t<ScoreFunction name=\"TotalHydrophobic\" weights=\"/home/fseeger/PPI_Benchmark/Design_Scripts/total_hydrophobic_weights.wts\"/>\n",
      "\t</SCOREFXNS>\n",
      "\t<RESIDUE_SELECTORS>\n",
      "\t\t<Layer core_cutoff=\"3.6\" name=\"core\" select_core=\"true\" surface_cutoff=\"2.0\" use_sidechain_neighbors=\"true\"/>\n",
      "\t\t<Layer core_cutoff=\"3.6\" name=\"bndr\" select_boundary=\"true\" surface_cutoff=\"2.0\" use_sidechain_neighbors=\"true\"/>\n",
      "\t\t<Layer core_cutoff=\"3.6\" name=\"surf\" select_surface=\"true\" surface_cutoff=\"2.0\" use_sidechain_neighbors=\"true\"/>\n",
      "\t\t<Layer core_cutoff=\"35\" name=\"core_SASA\" select_core=\"true\" surface_cutoff=\"45\" use_sidechain_neighbors=\"false\"/>\n",
      "\t\t<Layer core_cutoff=\"35\" name=\"bndr_SASA\" select_boundary=\"true\" surface_cutoff=\"45\" use_sidechain_neighbors=\"false\"/>\n",
      "\t\t<Layer core_cutoff=\"35\" name=\"surf_SASA\" select_surface=\"true\" surface_cutoff=\"45\" use_sidechain_neighbors=\"false\"/>\n",
      "\t\t<Chain chains=\"A\" name=\"chainA\"/>\n",
      "\t\t<Chain chains=\"B\" name=\"chainB\"/>\n",
      "\t\t<Neighborhood distance=\"8.0\" name=\"interface_chA\" selector=\"chainB\"/>\n",
      "\t\t<Neighborhood distance=\"8.0\" name=\"interface_chB\" selector=\"chainA\"/>\n",
      "\t\t<And name=\"AB_interface\" selectors=\"interface_chA,interface_chB\"/>\n",
      "\t\t<Not name=\"Not_interface\" selector=\"AB_interface\"/>\n",
      "\t\t<And name=\"core_and_interface\" selectors=\"core,AB_interface\"/>\n",
      "\t\t<InterfaceByVector grp1_selector=\"chainA\" grp2_selector=\"chainB\" name=\"interface_by_vec\"/>\n",
      "\t\t<And name=\"core_and_interface_by_vec\" selectors=\"interface_by_vec,core\"/>\n",
      "\t</RESIDUE_SELECTORS>\n",
      "\t<SIMPLE_METRICS>\n",
      "\t\t<SelectedResiduesPyMOLMetric custom_type=\"AB_interface\" name=\"AB_interface\" residue_selector=\"AB_interface\"/>\n",
      "\t\t<SelectedResiduesPyMOLMetric custom_type=\"core_and_interface\" name=\"core_and_interface\" residue_selector=\"core_and_interface\"/>\n",
      "\t\t<SelectedResiduesPyMOLMetric custom_type=\"interface_by_vec\" name=\"interface_by_vec\" residue_selector=\"interface_by_vec\"/>\n",
      "\t\t<SelectedResiduesPyMOLMetric custom_type=\"core_and_interface_by_vec\" name=\"core_and_interface_by_vec\" residue_selector=\"core_and_interface_by_vec\"/>\n",
      "\t\t<SelectedResiduesPyMOLMetric custom_type=\"chainA\" name=\"chainA\" residue_selector=\"chainA\"/>\n",
      "\t\t<SelectedResiduesPyMOLMetric custom_type=\"chainB\" name=\"chainB\" residue_selector=\"chainB\"/>\n",
      "\t\t<SelectedResiduesPyMOLMetric custom_type=\"core\" name=\"core\" residue_selector=\"core\"/>\n",
      "\t\t<SelectedResiduesPyMOLMetric custom_type=\"bndr\" name=\"bndr\" residue_selector=\"bndr\"/>\n",
      "\t\t<SelectedResiduesPyMOLMetric custom_type=\"surf\" name=\"surf\" residue_selector=\"surf\"/>\n",
      "\t\t<SelectedResiduesPyMOLMetric custom_type=\"core_SASA\" name=\"core_SASA\" residue_selector=\"core_SASA\"/>\n",
      "\t\t<SelectedResiduesPyMOLMetric custom_type=\"bndr_SASA\" name=\"bndr_SASA\" residue_selector=\"bndr_SASA\"/>\n",
      "\t\t<SelectedResiduesPyMOLMetric custom_type=\"surf_SASA\" name=\"surf_SASA\" residue_selector=\"surf_SASA\"/>\n",
      "\t</SIMPLE_METRICS>\n",
      "\t<TASKOPERATIONS/>\n",
      "\t<FILTERS/>\n",
      "\t<MOVERS>\n",
      "\t\t<SwitchChainOrder chain_order=\"12\" name=\"set_chain_order\"/>\n",
      "\t\t<RunSimpleMetrics metrics=\"AB_interface,core_and_interface,interface_by_vec,core_and_interface_by_vec,chainA,chainB,core,bndr,surf,core_SASA,bndr_SASA,surf_SASA\" name=\"run_metrics_selection\" prefix=\"\"/>\n",
      "\t</MOVERS>\n",
      "\t<PROTOCOLS>\n",
      "\t\t<Add mover=\"set_chain_order\"/>\n",
      "\t\t<Add mover=\"run_metrics_selection\"/>\n",
      "\t</PROTOCOLS>\n",
      "\t<OUTPUT/>\n",
      "</ROSETTASCRIPTS>\n",
      "INFO:rosetta:core.scoring.ScoreFunctionFactory: SCOREFUNCTION: beta_genpot.wts\n",
      "INFO:rosetta:protocols.jd2.parser.ScoreFunctionLoader: defined score function \"NOV15\" with weights \"beta\"\n",
      "INFO:rosetta:protocols.jd2.parser.ScoreFunctionLoader:  setting NOV15 weight coordinate_constraint to 1\n",
      "INFO:rosetta:protocols.jd2.parser.ScoreFunctionLoader: defined score function \"VDW\" with weights \"empty\"\n",
      "INFO:rosetta:protocols.jd2.parser.ScoreFunctionLoader:  setting VDW weight fa_atr to 1\n",
      "INFO:rosetta:protocols.jd2.parser.ScoreFunctionLoader: defined score function \"TotalHydrophobic\" with weights \"/home/fseeger/PPI_Benchmark/Design_Scripts/total_hydrophobic_weights.wts\"\n",
      "INFO:rosetta:core.select.residue_selector.LayerSelector: Setting LayerSelector to use sidechain neighbors to determine burial.\n",
      "INFO:rosetta:core.select.residue_selector.LayerSelector: Set cutoffs for core and surface to 5.2 and 2, respectively, in LayerSelector.\n",
      "INFO:rosetta:core.select.residue_selector.LayerSelector: Setting core=true boundary=false surface=false in LayerSelector.\n",
      "INFO:rosetta:core.select.residue_selector.LayerSelector: Setting LayerSelector to use sidechain neighbors to determine burial.\n",
      "INFO:rosetta:core.select.residue_selector.LayerSelector: Set cutoffs for core and surface to 3.6 and 2, respectively, in LayerSelector.\n",
      "INFO:rosetta:core.select.residue_selector.LayerSelector: Setting LayerSelector to use sidechain neighbors to determine burial.\n",
      "INFO:rosetta:core.select.residue_selector.LayerSelector: Set cutoffs for core and surface to 5.2 and 2, respectively, in LayerSelector.\n",
      "INFO:rosetta:core.select.residue_selector.LayerSelector: Setting core=false boundary=true surface=false in LayerSelector.\n",
      "INFO:rosetta:core.select.residue_selector.LayerSelector: Setting LayerSelector to use sidechain neighbors to determine burial.\n",
      "INFO:rosetta:core.select.residue_selector.LayerSelector: Set cutoffs for core and surface to 3.6 and 2, respectively, in LayerSelector.\n",
      "INFO:rosetta:core.select.residue_selector.LayerSelector: Setting LayerSelector to use sidechain neighbors to determine burial.\n",
      "INFO:rosetta:core.select.residue_selector.LayerSelector: Set cutoffs for core and surface to 5.2 and 2, respectively, in LayerSelector.\n",
      "INFO:rosetta:core.select.residue_selector.LayerSelector: Setting core=false boundary=false surface=true in LayerSelector.\n",
      "INFO:rosetta:core.select.residue_selector.LayerSelector: Setting LayerSelector to use sidechain neighbors to determine burial.\n",
      "INFO:rosetta:core.select.residue_selector.LayerSelector: Set cutoffs for core and surface to 3.6 and 2, respectively, in LayerSelector.\n",
      "INFO:rosetta:core.select.residue_selector.LayerSelector: Setting LayerSelector to use sidechain neighbors to determine burial.\n",
      "INFO:rosetta:core.select.residue_selector.LayerSelector: Set cutoffs for core and surface to 5.2 and 2, respectively, in LayerSelector.\n",
      "INFO:rosetta:core.select.residue_selector.LayerSelector: Setting core=true boundary=false surface=false in LayerSelector.\n",
      "INFO:rosetta:core.select.residue_selector.LayerSelector: Setting LayerSelector to use rolling ball-based occlusion to determine burial.\n",
      "INFO:rosetta:core.select.residue_selector.LayerSelector: Set cutoffs for core and surface to 35 and 45, respectively, in LayerSelector.\n",
      "INFO:rosetta:core.select.residue_selector.LayerSelector: Setting LayerSelector to use sidechain neighbors to determine burial.\n",
      "INFO:rosetta:core.select.residue_selector.LayerSelector: Set cutoffs for core and surface to 5.2 and 2, respectively, in LayerSelector.\n",
      "INFO:rosetta:core.select.residue_selector.LayerSelector: Setting core=false boundary=true surface=false in LayerSelector.\n",
      "INFO:rosetta:core.select.residue_selector.LayerSelector: Setting LayerSelector to use rolling ball-based occlusion to determine burial.\n",
      "INFO:rosetta:core.select.residue_selector.LayerSelector: Set cutoffs for core and surface to 35 and 45, respectively, in LayerSelector.\n",
      "INFO:rosetta:core.select.residue_selector.LayerSelector: Setting LayerSelector to use sidechain neighbors to determine burial.\n",
      "INFO:rosetta:core.select.residue_selector.LayerSelector: Set cutoffs for core and surface to 5.2 and 2, respectively, in LayerSelector.\n",
      "INFO:rosetta:core.select.residue_selector.LayerSelector: Setting core=false boundary=false surface=true in LayerSelector.\n",
      "INFO:rosetta:core.select.residue_selector.LayerSelector: Setting LayerSelector to use rolling ball-based occlusion to determine burial.\n",
      "INFO:rosetta:core.select.residue_selector.LayerSelector: Set cutoffs for core and surface to 35 and 45, respectively, in LayerSelector.\n",
      "INFO:rosetta:core.select.residue_selector.util: Found residue selector AB_interface\n",
      "INFO:rosetta:core.select.residue_selector.util: Found residue selector core_and_interface\n",
      "INFO:rosetta:core.select.residue_selector.util: Found residue selector interface_by_vec\n",
      "INFO:rosetta:core.select.residue_selector.util: Found residue selector core_and_interface_by_vec\n",
      "INFO:rosetta:core.select.residue_selector.util: Found residue selector chainA\n",
      "INFO:rosetta:core.select.residue_selector.util: Found residue selector chainB\n",
      "INFO:rosetta:core.select.residue_selector.util: Found residue selector core\n",
      "INFO:rosetta:core.select.residue_selector.util: Found residue selector bndr\n",
      "INFO:rosetta:core.select.residue_selector.util: Found residue selector surf\n",
      "INFO:rosetta:core.select.residue_selector.util: Found residue selector core_SASA\n",
      "INFO:rosetta:core.select.residue_selector.util: Found residue selector bndr_SASA\n",
      "INFO:rosetta:core.select.residue_selector.util: Found residue selector surf_SASA\n",
      "INFO:rosetta:core.scoring.ScoreFunctionFactory: SCOREFUNCTION: beta_genpot.wts\n",
      "INFO:rosetta:protocols.rosetta_scripts.RosettaScriptsParser: Defined mover named \"set_chain_order\" of type SwitchChainOrder\n",
      "INFO:rosetta:core.simple_metrics.util: Added simple metric SelectedResiduesPyMOLMetric.\n",
      "INFO:rosetta:core.simple_metrics.util: Added simple metric SelectedResiduesPyMOLMetric.\n",
      "INFO:rosetta:core.simple_metrics.util: Added simple metric SelectedResiduesPyMOLMetric.\n",
      "INFO:rosetta:core.simple_metrics.util: Added simple metric SelectedResiduesPyMOLMetric.\n",
      "INFO:rosetta:core.simple_metrics.util: Added simple metric SelectedResiduesPyMOLMetric.\n",
      "INFO:rosetta:core.simple_metrics.util: Added simple metric SelectedResiduesPyMOLMetric.\n",
      "INFO:rosetta:core.simple_metrics.util: Added simple metric SelectedResiduesPyMOLMetric.\n",
      "INFO:rosetta:core.simple_metrics.util: Added simple metric SelectedResiduesPyMOLMetric.\n",
      "INFO:rosetta:core.simple_metrics.util: Added simple metric SelectedResiduesPyMOLMetric.\n",
      "INFO:rosetta:core.simple_metrics.util: Added simple metric SelectedResiduesPyMOLMetric.\n",
      "INFO:rosetta:core.simple_metrics.util: Added simple metric SelectedResiduesPyMOLMetric.\n",
      "INFO:rosetta:core.simple_metrics.util: Added simple metric SelectedResiduesPyMOLMetric.\n",
      "INFO:rosetta:protocols.rosetta_scripts.RosettaScriptsParser: Defined mover named \"run_metrics_selection\" of type RunSimpleMetrics\n",
      "INFO:rosetta:protocols.rosetta_scripts.ParsedProtocol: ParsedProtocol mover with the following movers and filters\n",
      "INFO:rosetta:protocols.rosetta_scripts.ParsedProtocol: added mover \"set_chain_order\" with filter \"true_filter\"\n",
      "INFO:rosetta:protocols.rosetta_scripts.ParsedProtocol: added mover \"run_metrics_selection\" with filter \"true_filter\"\n",
      "INFO:rosetta:core.scoring.ScoreFunctionFactory: SCOREFUNCTION: beta_genpot.wts\n",
      "INFO:rosetta:protocols.jd2.parser.ScoreFunctionLoader: defined score function \"NOV15\" with weights \"beta\"\n",
      "INFO:rosetta:protocols.jd2.parser.ScoreFunctionLoader:  setting NOV15 weight coordinate_constraint to 1\n",
      "INFO:rosetta:protocols.jd2.parser.ScoreFunctionLoader: defined score function \"VDW\" with weights \"empty\"\n",
      "INFO:rosetta:protocols.jd2.parser.ScoreFunctionLoader:  setting VDW weight fa_atr to 1\n",
      "INFO:rosetta:protocols.jd2.parser.ScoreFunctionLoader: defined score function \"TotalHydrophobic\" with weights \"/home/fseeger/PPI_Benchmark/Design_Scripts/total_hydrophobic_weights.wts\"\n",
      "INFO:rosetta:core.select.residue_selector.LayerSelector: Setting LayerSelector to use sidechain neighbors to determine burial.\n",
      "INFO:rosetta:core.select.residue_selector.LayerSelector: Set cutoffs for core and surface to 5.2 and 2, respectively, in LayerSelector.\n",
      "INFO:rosetta:core.select.residue_selector.LayerSelector: Setting core=true boundary=false surface=false in LayerSelector.\n",
      "INFO:rosetta:core.select.residue_selector.LayerSelector: Setting LayerSelector to use sidechain neighbors to determine burial.\n",
      "INFO:rosetta:core.select.residue_selector.LayerSelector: Set cutoffs for core and surface to 3.6 and 2, respectively, in LayerSelector.\n",
      "INFO:rosetta:core.select.residue_selector.LayerSelector: Setting LayerSelector to use sidechain neighbors to determine burial.\n",
      "INFO:rosetta:core.select.residue_selector.LayerSelector: Set cutoffs for core and surface to 5.2 and 2, respectively, in LayerSelector.\n",
      "INFO:rosetta:core.select.residue_selector.LayerSelector: Setting core=false boundary=true surface=false in LayerSelector.\n",
      "INFO:rosetta:core.select.residue_selector.LayerSelector: Setting LayerSelector to use sidechain neighbors to determine burial.\n",
      "INFO:rosetta:core.select.residue_selector.LayerSelector: Set cutoffs for core and surface to 3.6 and 2, respectively, in LayerSelector.\n",
      "INFO:rosetta:core.select.residue_selector.LayerSelector: Setting LayerSelector to use sidechain neighbors to determine burial.\n",
      "INFO:rosetta:core.select.residue_selector.LayerSelector: Set cutoffs for core and surface to 5.2 and 2, respectively, in LayerSelector.\n",
      "INFO:rosetta:core.select.residue_selector.LayerSelector: Setting core=false boundary=false surface=true in LayerSelector.\n",
      "INFO:rosetta:core.select.residue_selector.LayerSelector: Setting LayerSelector to use sidechain neighbors to determine burial.\n",
      "INFO:rosetta:core.select.residue_selector.LayerSelector: Set cutoffs for core and surface to 3.6 and 2, respectively, in LayerSelector.\n",
      "INFO:rosetta:core.select.residue_selector.LayerSelector: Setting LayerSelector to use sidechain neighbors to determine burial.\n",
      "INFO:rosetta:core.select.residue_selector.LayerSelector: Set cutoffs for core and surface to 5.2 and 2, respectively, in LayerSelector.\n",
      "INFO:rosetta:core.select.residue_selector.LayerSelector: Setting core=true boundary=false surface=false in LayerSelector.\n",
      "INFO:rosetta:core.select.residue_selector.LayerSelector: Setting LayerSelector to use rolling ball-based occlusion to determine burial.\n",
      "INFO:rosetta:core.select.residue_selector.LayerSelector: Set cutoffs for core and surface to 35 and 45, respectively, in LayerSelector.\n",
      "INFO:rosetta:core.select.residue_selector.LayerSelector: Setting LayerSelector to use sidechain neighbors to determine burial.\n",
      "INFO:rosetta:core.select.residue_selector.LayerSelector: Set cutoffs for core and surface to 5.2 and 2, respectively, in LayerSelector.\n",
      "INFO:rosetta:core.select.residue_selector.LayerSelector: Setting core=false boundary=true surface=false in LayerSelector.\n",
      "INFO:rosetta:core.select.residue_selector.LayerSelector: Setting LayerSelector to use rolling ball-based occlusion to determine burial.\n",
      "INFO:rosetta:core.select.residue_selector.LayerSelector: Set cutoffs for core and surface to 35 and 45, respectively, in LayerSelector.\n",
      "INFO:rosetta:core.select.residue_selector.LayerSelector: Setting LayerSelector to use sidechain neighbors to determine burial.\n",
      "INFO:rosetta:core.select.residue_selector.LayerSelector: Set cutoffs for core and surface to 5.2 and 2, respectively, in LayerSelector.\n",
      "INFO:rosetta:core.select.residue_selector.LayerSelector: Setting core=false boundary=false surface=true in LayerSelector.\n",
      "INFO:rosetta:core.select.residue_selector.LayerSelector: Setting LayerSelector to use rolling ball-based occlusion to determine burial.\n",
      "INFO:rosetta:core.select.residue_selector.LayerSelector: Set cutoffs for core and surface to 35 and 45, respectively, in LayerSelector.\n",
      "INFO:rosetta:core.select.residue_selector.util: Found residue selector AB_interface\n",
      "INFO:rosetta:core.select.residue_selector.util: Found residue selector core_and_interface\n",
      "INFO:rosetta:core.select.residue_selector.util: Found residue selector interface_by_vec\n",
      "INFO:rosetta:core.select.residue_selector.util: Found residue selector core_and_interface_by_vec\n",
      "INFO:rosetta:core.select.residue_selector.util: Found residue selector chainA\n",
      "INFO:rosetta:core.select.residue_selector.util: Found residue selector chainB\n",
      "INFO:rosetta:core.select.residue_selector.util: Found residue selector core\n",
      "INFO:rosetta:core.select.residue_selector.util: Found residue selector bndr\n",
      "INFO:rosetta:core.select.residue_selector.util: Found residue selector surf\n",
      "INFO:rosetta:core.select.residue_selector.util: Found residue selector core_SASA\n",
      "INFO:rosetta:core.select.residue_selector.util: Found residue selector bndr_SASA\n",
      "INFO:rosetta:core.select.residue_selector.util: Found residue selector surf_SASA\n",
      "INFO:rosetta:core.scoring.ScoreFunctionFactory: SCOREFUNCTION: beta_genpot.wts\n",
      "INFO:rosetta:protocols.rosetta_scripts.RosettaScriptsParser: Defined mover named \"set_chain_order\" of type SwitchChainOrder\n",
      "INFO:rosetta:core.simple_metrics.util: Added simple metric SelectedResiduesPyMOLMetric.\n",
      "INFO:rosetta:core.simple_metrics.util: Added simple metric SelectedResiduesPyMOLMetric.\n",
      "INFO:rosetta:core.simple_metrics.util: Added simple metric SelectedResiduesPyMOLMetric.\n",
      "INFO:rosetta:core.simple_metrics.util: Added simple metric SelectedResiduesPyMOLMetric.\n",
      "INFO:rosetta:core.simple_metrics.util: Added simple metric SelectedResiduesPyMOLMetric.\n",
      "INFO:rosetta:core.simple_metrics.util: Added simple metric SelectedResiduesPyMOLMetric.\n",
      "INFO:rosetta:core.simple_metrics.util: Added simple metric SelectedResiduesPyMOLMetric.\n",
      "INFO:rosetta:core.simple_metrics.util: Added simple metric SelectedResiduesPyMOLMetric.\n",
      "INFO:rosetta:core.simple_metrics.util: Added simple metric SelectedResiduesPyMOLMetric.\n",
      "INFO:rosetta:core.simple_metrics.util: Added simple metric SelectedResiduesPyMOLMetric.\n",
      "INFO:rosetta:core.simple_metrics.util: Added simple metric SelectedResiduesPyMOLMetric.\n",
      "INFO:rosetta:core.simple_metrics.util: Added simple metric SelectedResiduesPyMOLMetric.\n",
      "INFO:rosetta:protocols.rosetta_scripts.RosettaScriptsParser: Defined mover named \"run_metrics_selection\" of type RunSimpleMetrics\n",
      "INFO:rosetta:protocols.rosetta_scripts.ParsedProtocol: ParsedProtocol mover with the following movers and filters\n",
      "INFO:rosetta:protocols.rosetta_scripts.ParsedProtocol: added mover \"set_chain_order\" with filter \"true_filter\"\n",
      "INFO:rosetta:protocols.rosetta_scripts.ParsedProtocol: added mover \"run_metrics_selection\" with filter \"true_filter\"\n",
      "INFO:rosetta:protocols.rosetta_scripts.ParsedProtocol: =======================BEGIN MOVER SwitchChainOrder - set_chain_order=======================\n",
      "INFO:rosetta:protocols.simple_moves.SwitchChainOrderMover: Number of chains in pose: 2\n",
      "INFO:rosetta:protocols.simple_moves.SwitchChainOrderMover: Now at chain: 1\n",
      "INFO:rosetta:protocols.simple_moves.SwitchChainOrderMover: Now at chain: 2\n",
      "INFO:rosetta:core.scoring.GenericBondedEnergy: Creating new peptide-bonded energy container (119)\n",
      "INFO:rosetta:basic.io.database: Database file opened: scoring/score_functions/elec_cp_reps.dat\n",
      "INFO:rosetta:core.scoring.elec.util: Read 40 countpair representative atoms\n",
      "INFO:rosetta:core.pack.dunbrack.RotamerLibrary: shapovalov_lib_fixes_enable option is true.\n",
      "INFO:rosetta:core.pack.dunbrack.RotamerLibrary: Binary rotamer library selected: /home/ajasja/.conda/envs/pyro_scripts/lib/python3.6/site-packages/pyrosetta/database/rotamer/beta_nov2016/Dunbrack10.lib.bin\n",
      "INFO:rosetta:core.pack.dunbrack.RotamerLibrary: Using Dunbrack library binary file '/home/ajasja/.conda/envs/pyro_scripts/lib/python3.6/site-packages/pyrosetta/database/rotamer/beta_nov2016/Dunbrack10.lib.bin'.\n",
      "INFO:rosetta:core.pack.dunbrack.RotamerLibrary: Dunbrack 2010 library took 0.248671 seconds to load from binary\n",
      "INFO:rosetta:protocols.simple_moves.SwitchChainOrderMover: New pose's foldtree FOLD_TREE  EDGE 1 28 -1  EDGE 1 29 1  EDGE 29 119 -1\n",
      "INFO:rosetta:protocols.rosetta_scripts.ParsedProtocol: =======================BEGIN MOVER RunSimpleMetrics - run_metrics_selection=======================\n",
      "INFO:rosetta:protocols.analysis.simple_metrics.RunSimpleMetricsMover: Running: SelectedResiduesPyMOLMetric - calculating pymol_selection\n",
      "INFO:rosetta:protocols.analysis.simple_metrics.RunSimpleMetricsMover: Running: SelectedResiduesPyMOLMetric - calculating pymol_selection\n",
      "INFO:rosetta:protocols.analysis.simple_metrics.RunSimpleMetricsMover: Running: SelectedResiduesPyMOLMetric - calculating pymol_selection\n",
      "INFO:rosetta:protocols.analysis.simple_metrics.RunSimpleMetricsMover: Running: SelectedResiduesPyMOLMetric - calculating pymol_selection\n",
      "INFO:rosetta:protocols.analysis.simple_metrics.RunSimpleMetricsMover: Running: SelectedResiduesPyMOLMetric - calculating pymol_selection\n",
      "INFO:rosetta:protocols.analysis.simple_metrics.RunSimpleMetricsMover: Running: SelectedResiduesPyMOLMetric - calculating pymol_selection\n",
      "INFO:rosetta:protocols.analysis.simple_metrics.RunSimpleMetricsMover: Running: SelectedResiduesPyMOLMetric - calculating pymol_selection\n",
      "INFO:rosetta:protocols.analysis.simple_metrics.RunSimpleMetricsMover: Running: SelectedResiduesPyMOLMetric - calculating pymol_selection\n",
      "INFO:rosetta:protocols.analysis.simple_metrics.RunSimpleMetricsMover: Running: SelectedResiduesPyMOLMetric - calculating pymol_selection\n",
      "INFO:rosetta:protocols.analysis.simple_metrics.RunSimpleMetricsMover: Running: SelectedResiduesPyMOLMetric - calculating pymol_selection\n",
      "INFO:rosetta:protocols.analysis.simple_metrics.RunSimpleMetricsMover: Running: SelectedResiduesPyMOLMetric - calculating pymol_selection\n",
      "INFO:rosetta:protocols.analysis.simple_metrics.RunSimpleMetricsMover: Running: SelectedResiduesPyMOLMetric - calculating pymol_selection\n",
      "INFO:rosetta:protocols.rosetta_scripts.ParsedProtocol: setting status to success\n"
     ]
    }
   ],
   "source": [
    "#Pyrosetta unsupported BuriedUnsatHbonds2 InterfaceHoles CavityVolume\n",
    "pack_protocol = u.read_file(\"truncator/xml/80_test_selectors.xml\")\n",
    "print(lines_grep(\".*Neighborhood.*\", pack_protocol.split(\"\\n\")))\n",
    "task_design = rosetta_scripts.SingleoutputRosettaScriptsTask(pack_protocol)\n",
    "# Syntax check via setup\n",
    "logging.basicConfig(level=logging.WARN)\n",
    "task_design.setup()\n",
    "raw_input_pose = io.pose_from_file(filename=\"data/ZCON_37_N3_C1_2.pdb\")\n",
    "output_pose = task_design(raw_input_pose)\n",
    "output_pose.scores;"
   ]
  },
  {
   "cell_type": "code",
   "execution_count": 16,
   "metadata": {},
   "outputs": [
    {
     "name": "stdout",
     "output_type": "stream",
     "text": [
      "color deeppurple, all\n",
      "select surf, (chain A and resid 2,3,4,7,8,10,11,14,15,18,21,25,28) or (chain B and resid 29,30,33,36,37,40,43,44,47,50,51,54,55,57,59,62,63,66,69,70,73,76,77,80,83,84,86,87,89,90,91,94,95,97,98,101,102,104,105,108,109,111,112,115,116,119)\n",
      "color yellow, surf\n",
      "select bndr, (chain A and resid 1,17,22,24) or (chain B and resid 32,34,39,41,46,48,53,56,58,65,72,79,92,93,118)\n",
      "color orange, bndr\n",
      "select core, (chain A and resid 5,6,9,12,13,16,19,20,23,26,27) or (chain B and resid 31,35,38,42,45,49,52,60,61,64,67,68,71,74,75,78,81,82,85,88,96,99,100,103,106,107,110,113,114,117)\n",
      "color red, core\n"
     ]
    }
   ],
   "source": [
    "print(\"color deeppurple, all\")\n",
    "print_sele(output_pose.scores, \"surf\", \"yellow\")\n",
    "print_sele(output_pose.scores, \"bndr\", \"orange\")\n",
    "print_sele(output_pose.scores, \"core\", \"red\")\n"
   ]
  },
  {
   "cell_type": "code",
   "execution_count": 17,
   "metadata": {},
   "outputs": [
    {
     "name": "stdout",
     "output_type": "stream",
     "text": [
      "color deeppurple, all\n",
      "select surf_SASA, (chain A and resid 1,2,3,4,7,8,11,14,15,18,21,22,25,28) or (chain B and resid 29,30,33,34,36,37,40,43,44,47,48,50,51,54,55,56,57,59,62,63,66,69,70,73,76,77,80,83,84,85,87,88,89,90,91,92,94,95,97,98,101,102,104,105,108,109,111,112,115,116,118,119)\n",
      "color yellow, surf_SASA\n",
      "select bndr_SASA, (chain A and resid 10,24,26) or (chain B and resid 32,39,41,58,67,74,81,117)\n",
      "color orange, bndr_SASA\n",
      "select core_SASA, (chain A and resid 5,6,9,12,13,16,17,19,20,23,27) or (chain B and resid 31,35,38,42,45,46,49,52,53,60,61,64,65,68,71,72,75,78,79,82,86,93,96,99,100,103,106,107,110,113,114)\n",
      "color red, core_SASA\n"
     ]
    }
   ],
   "source": [
    "print(\"color deeppurple, all\")\n",
    "print_sele(output_pose.scores, \"surf_SASA\", \"yellow\")\n",
    "print_sele(output_pose.scores, \"bndr_SASA\", \"orange\")\n",
    "print_sele(output_pose.scores, \"core_SASA\", \"red\")"
   ]
  },
  {
   "cell_type": "code",
   "execution_count": 18,
   "metadata": {},
   "outputs": [
    {
     "name": "stdout",
     "output_type": "stream",
     "text": [
      "color deeppurple, all\n",
      "select interface_by_vec, (chain A and resid 1,2,3,5,6,7,8,9,10,12,13,15,16,17,19,20,21,22,23,24,26,27,28) or (chain B and resid 31,35,38,42,45,49,56,58,60,61,63,64,67,68,70,71,74,75,77,78,81,82,85,88,92,95,96,99,100,102,103,106,107,109,110,113,114,116,117)\n",
      "color orange, interface_by_vec\n",
      "select core_and_interface_by_vec, (chain A and resid 5,6,9,12,13,16,19,20,23,26,27) or (chain B and resid 31,35,38,42,45,49,60,61,64,67,68,71,74,75,78,81,82,85,88,96,99,100,103,106,107,110,113,114,117)\n",
      "color red, core_and_interface_by_vec\n"
     ]
    }
   ],
   "source": [
    "\n",
    "print(\"color deeppurple, all\")\n",
    "print_sele(output_pose.scores, \"interface_by_vec\", \"orange\")\n",
    "print_sele(output_pose.scores, \"core_and_interface_by_vec\", \"red\")"
   ]
  },
  {
   "cell_type": "code",
   "execution_count": 19,
   "metadata": {},
   "outputs": [
    {
     "name": "stdout",
     "output_type": "stream",
     "text": [
      "color deeppurple, all\n",
      "select AB_interface, (chain A and resid 1,2,3,5,6,7,8,9,10,12,13,15,16,17,19,20,21,22,23,24,26,27,28) or (chain B and resid 35,56,58,60,61,63,64,67,68,70,71,74,75,77,78,81,82,85,88,92,95,96,99,100,102,103,106,107,109,110,113,114,116,117)\n",
      "color orange, AB_interface\n",
      "select core_and_interface, (chain A and resid 5,6,9,12,13,16,19,20,23,26,27) or (chain B and resid 35,60,61,64,67,68,71,74,75,78,81,82,85,88,96,99,100,103,106,107,110,113,114,117)\n",
      "color red, core_and_interface\n"
     ]
    }
   ],
   "source": [
    "print(\"color deeppurple, all\")\n",
    "print_sele(output_pose.scores, \"AB_interface\", \"orange\")\n",
    "print_sele(output_pose.scores, \"core_and_interface\", \"red\")"
   ]
  },
  {
   "cell_type": "code",
   "execution_count": 20,
   "metadata": {},
   "outputs": [],
   "source": [
    "u.write_file(\"test.pdb\", io.to_pdbstring(output_pose))\n"
   ]
  },
  {
   "cell_type": "code",
   "execution_count": 14,
   "metadata": {},
   "outputs": [
    {
     "data": {
      "text/plain": [
       "'/home/ajasja/projects/truncator'"
      ]
     },
     "execution_count": 14,
     "metadata": {},
     "output_type": "execute_result"
    }
   ],
   "source": [
    "pwd"
   ]
  },
  {
   "cell_type": "code",
   "execution_count": 15,
   "metadata": {},
   "outputs": [],
   "source": [
    "score_file = \"test.sc\" \n",
    "struct_name = \"data/ZCON_37_N3_C1_2.pdb\"\n",
    "!/software/rosetta/latest/bin/rosetta_scripts -parser:protocol truncator/xml/80_test_selectors.xml -s {struct_name} \\\n",
    "    -out:file:scorefile  {score_file} \\\n",
    "    -print_pymol_selection 0 \\\n",
    "    -beta \\\n",
    "    -in:file:fullatom \\\n",
    "    -renumber_pdb 1 \\\n",
    "    -overwrite \\\n",
    "    -out:no_nstruct_label \\\n",
    "    -out:file:scorefile_format json > /dev/null\n",
    "      "
   ]
  },
  {
   "cell_type": "code",
   "execution_count": 37,
   "metadata": {},
   "outputs": [],
   "source": [
    "                          \n",
    "scores = pd.read_json(score_file, lines=True).iloc[-1].to_dict()"
   ]
  },
  {
   "cell_type": "code",
   "execution_count": 47,
   "metadata": {},
   "outputs": [
    {
     "name": "stdout",
     "output_type": "stream",
     "text": [
      "color deeppurple, all\n",
      "select chainA, ( resid 92,93,94,95,96,97,98,99,100,101,102,103,104,105,106,107,108,109,110,111,112,113,114,115,116,117,118,119)\n",
      "color orange, chainA\n",
      "select chainB, ( resid 1,2,3,4,5,6,7,8,9,10,11,12,13,14,15,16,17,18,19,20,21,22,23,24,25,26,27,28,29,30,31,32,33,34,35,36,37,38,39,40,41,42,43,44,45,46,47,48,49,50,51,52,53,54,55,56,57,58,59,60,61,62,63,64,65,66,67,68,69,70,71,72,73,74,75,76,77,78,79,80,81,82,83,84,85,86,87,88,89,90,91)\n",
      "color red, chainB\n"
     ]
    }
   ],
   "source": [
    "print(\"color deeppurple, all\")\n",
    "print_sele(scores, \"chainA\", \"orange\")\n",
    "print_sele(scores, \"chainB\", \"red\")"
   ]
  },
  {
   "cell_type": "code",
   "execution_count": 48,
   "metadata": {},
   "outputs": [
    {
     "name": "stdout",
     "output_type": "stream",
     "text": [
      "color deeppurple, all\n",
      "select interface_by_vec, ( resid 92,93,94,96,97,98,99,100,101,103,104,106,107,108,110,111,112,113,114,115,117,118,119) or ( resid 3,7,10,14,17,21,28,30,32,33,35,36,39,40,42,43,46,47,49,50,53,54,57,60,64,67,68,71,72,74,75,78,79,81,82,85,86,88,89)\n",
      "color orange, interface_by_vec\n",
      "select core_and_interface_by_vec, ( resid 96,97,100,103,104,107,110,111,114,117,118) or ( resid 3,7,10,14,17,21,32,33,36,39,40,43,46,47,50,53,54,57,60,68,71,72,75,78,79,82,85,86,89)\n",
      "color red, core_and_interface_by_vec\n"
     ]
    }
   ],
   "source": [
    "print(\"color deeppurple, all\")\n",
    "print_sele(scores, \"interface_by_vec\", \"orange\")\n",
    "print_sele(scores, \"core_and_interface_by_vec\", \"red\")"
   ]
  },
  {
   "cell_type": "code",
   "execution_count": null,
   "metadata": {},
   "outputs": [],
   "source": []
  }
 ],
 "metadata": {
  "kernelspec": {
   "display_name": "Python [conda env:pyro_scripts]",
   "language": "python",
   "name": "conda-env-pyro_scripts-py"
  },
  "language_info": {
   "codemirror_mode": {
    "name": "ipython",
    "version": 3
   },
   "file_extension": ".py",
   "mimetype": "text/x-python",
   "name": "python",
   "nbconvert_exporter": "python",
   "pygments_lexer": "ipython3",
   "version": "3.6.6"
  }
 },
 "nbformat": 4,
 "nbformat_minor": 2
}
